{
 "cells": [
  {
   "cell_type": "code",
   "execution_count": null,
   "id": "650003ad",
   "metadata": {},
   "outputs": [
    {
     "ename": "",
     "evalue": "",
     "output_type": "error",
     "traceback": [
      "\u001b[1;31mRunning cells with 'Python 3.12.9' requires the ipykernel package.\n",
      "\u001b[1;31m<a href='command:jupyter.createPythonEnvAndSelectController'>Create a Python Environment</a> with the required packages.\n",
      "\u001b[1;31mOr install 'ipykernel' using the command: '/opt/homebrew/bin/python3.12 -m pip install ipykernel -U --user --force-reinstall'"
     ]
    }
   ],
   "source": [
    "import seaborn as sns\n",
    "import pandas as pd\n",
    "import matplotlib.pyplot as plt\n",
    "\n",
    "df = sns.load_dataset(\"tips\")\n",
    "df.plot.scatter(x=\"total_bill\", y=\"tip\")\n"
   ]
  },
  {
   "cell_type": "code",
   "execution_count": null,
   "id": "5a08d429",
   "metadata": {},
   "outputs": [
    {
     "ename": "",
     "evalue": "",
     "output_type": "error",
     "traceback": [
      "\u001b[1;31mRunning cells with 'Python 3.12.9' requires the ipykernel package.\n",
      "\u001b[1;31m<a href='command:jupyter.createPythonEnvAndSelectController'>Create a Python Environment</a> with the required packages.\n",
      "\u001b[1;31mOr install 'ipykernel' using the command: '/opt/homebrew/bin/python3.12 -m pip install ipykernel -U --user --force-reinstall'"
     ]
    }
   ],
   "source": [
    "!pip install ipykernel -U --user --force-reinstall"
   ]
  },
  {
   "cell_type": "code",
   "execution_count": null,
   "id": "62186f02",
   "metadata": {},
   "outputs": [
    {
     "ename": "",
     "evalue": "",
     "output_type": "error",
     "traceback": [
      "\u001b[1;31mRunning cells with 'Python 3.12.9' requires the ipykernel package.\n",
      "\u001b[1;31m<a href='command:jupyter.createPythonEnvAndSelectController'>Create a Python Environment</a> with the required packages.\n",
      "\u001b[1;31mOr install 'ipykernel' using the command: '/opt/homebrew/bin/python3.12 -m pip install ipykernel -U --user --force-reinstall'"
     ]
    }
   ],
   "source": [
    "# Correlation between total bill and tip\n",
    "import seaborn as sns\n",
    "import pandas as pd\n",
    "import matplotlib.pyplot as plt\n",
    "\n",
    "df = sns.load_dataset(\"tips\")\n",
    "\n",
    "# Create a scatter plot of total bill vs tip\n",
    "df.plot.scatter(x=\"total_bill\", y=\"tip\")\n",
    "# Create a scatter plot of total bill vs tip using matplotlib\n",
    "plt.figure(figsize=(10, 6))\n",
    "plt.scatter(df['total_bill'], df['tip'], marker=\"*\")\n",
    "\n",
    "# Customize the plot\n",
    "plt.figure(figsize=(10, 6))\n",
    "\n",
    "plt.xlabel(\"Total Bill\")\n",
    "plt.ylabel(\"Tip\")\n",
    "plt.title(\"Scatter Plot of Total Bill vs Tip\")\n",
    "plt.show()\n",
    "# Save the plot to a file\n",
    "plt.savefig(\"scatter_plot_total_bill_vs_tip.png\")"
   ]
  },
  {
   "cell_type": "code",
   "execution_count": null,
   "id": "7ccd8916",
   "metadata": {},
   "outputs": [],
   "source": [
    "df_genderwise = df.groupby('sex')['total_bill'].sum()\n",
    "df_genderwise.plot(kind='bar', color=['blue', 'pink'])\n",
    "plt.xlabel(\"Gender\")\n",
    "plt.ylabel(\"Total Bill\")\n",
    "plt.title(\"Total Bill by Gender\")\n",
    "plt.show()"
   ]
  }
 ],
 "metadata": {
  "kernelspec": {
   "display_name": "Python 3",
   "language": "python",
   "name": "python3"
  },
  "language_info": {
   "name": "python",
   "version": "3.12.9"
  }
 },
 "nbformat": 4,
 "nbformat_minor": 5
}
