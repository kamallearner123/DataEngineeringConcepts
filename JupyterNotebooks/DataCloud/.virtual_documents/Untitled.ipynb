import requests
import yaml

url = "https://github.com/APIs-guru/openapi-directory/tree/main/APIs/bbc.com/1.0.0"
headers = {
    "Authorization": "Bearer <your_token>",  # Replace with actual token if needed
}

response = requests.get(url, headers=headers)
#print(response.content)
if response.status_code == 200:
    data = yaml.safe_load(response.text)
    print("✅ API call successful")
else:
    print("❌ Failed:", response.status_code)



import requests
import yaml

url = "https://raw.githubusercontent.com/APIs-guru/openapi-directory/main/APIs/bbc.com/1.0.0/openapi.yaml"

response = requests.get(url)

if response.status_code == 200:
    print("✅ YAML file fetched successfully")
    yaml_data = yaml.safe_load(response.text)
    
    # Print parts of the OpenAPI spec
    print("Title:", yaml_data.get("info", {}).get("title"))
    print("Version:", yaml_data.get("info", {}).get("version"))
    print("Available Paths:")
    for path in yaml_data.get("paths", {}):
        print(" -", path)
else:
    print("❌ Failed to fetch YAML:", response.status_code)




