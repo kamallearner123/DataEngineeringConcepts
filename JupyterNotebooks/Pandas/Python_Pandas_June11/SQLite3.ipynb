{
 "cells": [
  {
   "cell_type": "code",
   "execution_count": 21,
   "id": "c61ea7bb-00e2-40fc-a985-6da5e7759244",
   "metadata": {},
   "outputs": [],
   "source": [
    "# sqlite3\n",
    "\n",
    "import sqlite3\n",
    "conn = sqlite3.connect(\"DB.sqlite\") # If file is not existing , file is created\n",
    "# conn = sqlite3.connect(\":memory:\") #--> Creating DB in memory\n",
    "\n",
    "cursor = conn.cursor()\n",
    "\n",
    "\n",
    "cursor.execute('''\n",
    "CREATE TABLE IF NOT EXISTS users (\n",
    "    id INTEGER PRIMARY KEY,\n",
    "    name TEXT NOT NULL,\n",
    "    email TEXT UNIQUE\n",
    ");\n",
    "''')\n",
    "\n",
    "sample_users = [\n",
    "    (1, 'Alice', 'alice@example.com'),\n",
    "    (2, 'Bob', 'bob@example.com'),\n",
    "    (3, 'Charlie', 'charlie@example.com')\n",
    "]\n",
    "\n",
    "cursor.executemany(\"INSERT OR IGNORE INTO users (id, name, email) VALUES (?, ?, ?);\", sample_users)\n",
    "\n",
    "conn.commit()\n",
    "conn.close()"
   ]
  },
  {
   "cell_type": "code",
   "execution_count": 24,
   "id": "0c33cb8f-1f2d-4111-9d7a-3200c2c1bf83",
   "metadata": {},
   "outputs": [
    {
     "name": "stdout",
     "output_type": "stream",
     "text": [
      "   id     name                email\n",
      "0   1    Alice    alice@example.com\n",
      "1   2      Bob      bob@example.com\n",
      "2   3  Charlie  charlie@example.com\n",
      "   id      name                 email\n",
      "0   4    Alice2    alice@example2.com\n",
      "1   5      Bob2      bob@example2.com\n",
      "2   6  Charlie2  charlie@example2.com\n"
     ]
    },
    {
     "data": {
      "text/plain": [
       "3"
      ]
     },
     "execution_count": 24,
     "metadata": {},
     "output_type": "execute_result"
    }
   ],
   "source": [
    "# Reading the table from SQLITE3 file\n",
    "\n",
    "import pandas as pd\n",
    "conn = sqlite3.connect(\"DB.sqlite\") # If file is not existing , file is created\n",
    "df = pd.read_sql_query(\"SELECT * FROM users;\", conn)\n",
    "print(df)\n",
    "\n",
    "\n",
    "# Append data\n",
    "user2 = [\n",
    "    (4, 'Alice2', 'alice@example2.com'),\n",
    "    (5, 'Bob2', 'bob@example2.com'),\n",
    "    (6, 'Charlie2', 'charlie@example2.com')\n",
    "]\n",
    "\n",
    "df = pd.DataFrame(user2, columns=[\"id\", \"name\", \"email\"])\n",
    "\n",
    "print(df)\n",
    "# tablename, conn, if_exists='append'\n",
    "df.to_sql(\"users\", conn, if_exists='append', index=False)\n",
    "\n"
   ]
  },
  {
   "cell_type": "code",
   "execution_count": 25,
   "id": "2d28a486-33f7-4e1b-a29b-426c6571f189",
   "metadata": {},
   "outputs": [
    {
     "name": "stdout",
     "output_type": "stream",
     "text": [
      "   id      name                 email\n",
      "0   1     Alice     alice@example.com\n",
      "1   2       Bob       bob@example.com\n",
      "2   3   Charlie   charlie@example.com\n",
      "3   4    Alice2    alice@example2.com\n",
      "4   5      Bob2      bob@example2.com\n",
      "5   6  Charlie2  charlie@example2.com\n"
     ]
    }
   ],
   "source": [
    "df = pd.read_sql_query(\"SELECT * FROM users;\", conn)\n",
    "print(df)"
   ]
  },
  {
   "cell_type": "code",
   "execution_count": null,
   "id": "46643df1-330e-4eec-9852-0cea5a635196",
   "metadata": {},
   "outputs": [],
   "source": []
  },
  {
   "cell_type": "code",
   "execution_count": 4,
   "id": "7cf95914-03c3-45f5-b323-97508fe3d9fc",
   "metadata": {},
   "outputs": [],
   "source": []
  },
  {
   "cell_type": "code",
   "execution_count": null,
   "id": "3066b6c6-dda3-452a-88e0-e09e69696a54",
   "metadata": {},
   "outputs": [],
   "source": []
  }
 ],
 "metadata": {
  "kernelspec": {
   "display_name": "Python3 (DeepCode)",
   "language": "python",
   "name": "deepcode"
  },
  "language_info": {
   "codemirror_mode": {
    "name": "ipython",
    "version": 3
   },
   "file_extension": ".py",
   "mimetype": "text/x-python",
   "name": "python",
   "nbconvert_exporter": "python",
   "pygments_lexer": "ipython3",
   "version": "3.13.3"
  }
 },
 "nbformat": 4,
 "nbformat_minor": 5
}
