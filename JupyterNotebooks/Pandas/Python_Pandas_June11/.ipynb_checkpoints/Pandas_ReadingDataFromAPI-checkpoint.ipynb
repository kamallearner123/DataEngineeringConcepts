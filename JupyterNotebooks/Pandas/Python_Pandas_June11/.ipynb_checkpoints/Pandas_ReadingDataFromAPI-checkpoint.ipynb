{
 "cells": [
  {
   "cell_type": "markdown",
   "metadata": {},
   "source": [
    "# Reading Data from API Gateway with Python's `requests`\n",
    "\n",
    "This notebook provides a tutorial on how to interact with an API Gateway endpoint using Python's `requests` library to retrieve data. We will cover making basic GET requests, handling common API Gateway features like headers, and integrating the response with Pandas for data analysis."
   ]
  },
  {
   "cell_type": "markdown",
   "metadata": {},
   "source": [
    "## What is an API Gateway?\n",
    "\n",
    "An API Gateway acts as the single entry point for a group of microservices. It handles common tasks like authentication, authorization, routing, rate limiting, and monitoring, protecting the backend services from direct exposure. When you access data from an API, you're often interacting with an API Gateway."
   ]
  },
  {
   "cell_type": "markdown",
   "metadata": {},
   "source": [
    "## Prerequisites\n",
    "\n",
    "We will be using two primary Python libraries:\n",
    "\n",
    "-   `requests`: For making HTTP requests to web services.\n",
    "-   `pandas`: For data manipulation and analysis, especially after receiving JSON data.\n",
    "\n",
    "If you don't have them installed, run the following command in your terminal or a new notebook cell:"
   ]
  },
  {
   "cell_type": "code",
   "execution_count": null,
   "metadata": {},
   "outputs": [],
   "source": [
    "!pip install requests pandas"
   ]
  },
  {
   "cell_type": "markdown",
   "metadata": {},
   "source": [
    "## 1. Making a Basic GET Request\n",
    "\n",
    "The most common way to retrieve data from an API is via an HTTP GET request. The `requests.get()` function is used for this purpose.\n",
    "\n",
    "For demonstration, we'll use a public API that mimics a simple data endpoint. Imagine this is your API Gateway endpoint."
   ]
  },
  {
   "cell_type": "code",
   "execution_count": null,
   "metadata": {},
   "outputs": [],
   "source": [
    "import requests\n",
    "import pandas as pd\n",
    "\n",
    "# Replace this with your actual API Gateway URL\n",
    "api_gateway_url = \"https://jsonplaceholder.typicode.com/posts\"\n",
    "\n",
    "try:\n",
    "    response = requests.get(api_gateway_url)\n",
    "    response.raise_for_status() # Raise an exception for HTTP errors (4xx or 5xx)\n",
    "    \n",
    "    # Check if the request was successful (status code 200)\n",
    "    if response.status_code == 200:\n",
    "        data = response.json() # Parse the JSON response\n",
    "        print(\"Successfully fetched data!\")\n",
    "        print(\"First 2 items of data:\", data[:2])\n",
    "    else:\n",
    "        print(f\"Failed to fetch data. Status code: {response.status_code}\")\n",
    "        print(\"Response content:\", response.text)\n",
    "        \n",
    "except requests.exceptions.HTTPError as http_err:\n",
    "    print(f\"HTTP error occurred: {http_err}\")\n",
    "except requests.exceptions.ConnectionError as conn_err:\n",
    "    print(f\"Connection error occurred: {conn_err}\")\n",
    "except requests.exceptions.Timeout as timeout_err:\n",
    "    print(f\"Timeout error occurred: {timeout_err}\")\n",
    "except requests.exceptions.RequestException as req_err:\n",
    "    print(f\"An error occurred: {req_err}\")"
   ]
  },
  {
   "cell_type": "markdown",
   "metadata": {},
   "source": [
    "## 2. Handling API Gateway Specifics (Headers & Parameters)\n",
    "\n",
    "API Gateway often requires specific headers (e.g., `x-api-key` for API key authentication) or uses query parameters to filter/control the data. The `requests` library makes it easy to include these."
   ]
  },
  {
   "cell_type": "markdown",
   "metadata": {},
   "source": [
    "### Including Custom Headers (e.g., API Key)\n",
    "\n",
    "If your API Gateway requires an API key, you'll typically pass it in a header named `x-api-key` or `Authorization`."
   ]
  },
  {
   "cell_type": "code",
   "execution_count": null,
   "metadata": {},
   "outputs": [],
   "source": [
    "# Example: API Key (replace 'YOUR_API_KEY' with your actual key)\n",
    "headers = {\n",
    "    \"x-api-key\": \"YOUR_API_KEY\", \n",
    "    \"Content-Type\": \"application/json\"\n",
    "}\n",
    "\n",
    "# For this demo, the placeholder API doesn't use API keys, \n",
    "# so we'll use a different endpoint that accepts query parameters.\n",
    "api_gateway_url_with_params = \"https://jsonplaceholder.typicode.com/comments\"\n",
    "\n",
    "try:\n",
    "    # Make the request with headers\n",
    "    # In a real scenario, this URL would be your API Gateway endpoint requiring the key\n",
    "    response_with_headers = requests.get(api_gateway_url, headers=headers)\n",
    "    response_with_headers.raise_for_status()\n",
    "    print(\"Request with headers successful (if API supported it)!\")\n",
    "    # print(response_with_headers.json()[:1]) # Uncomment to see response\n",
    "\n",
    "except requests.exceptions.RequestException as e:\n",
    "    print(f\"Error making request with headers: {e}\")"
   ]
  },
  {
   "cell_type": "markdown",
   "metadata": {},
   "source": [
    "### Including Query Parameters\n",
    "\n",
    "Query parameters are appended to the URL after a `?` (e.g., `?param1=value1&param2=value2`). `requests` handles this automatically if you provide them as a dictionary to the `params` argument."
   ]
  },
  {
   "cell_type": "code",
   "execution_count": null,
   "metadata": {},
   "outputs": [],
   "source": [
    "# Example: Get comments for a specific post ID\n",
    "params = {\n",
    "    \"postId\": 1 # Get comments belonging to post ID 1\n",
    "}\n",
    "\n",
    "try:\n",
    "    response_with_params = requests.get(api_gateway_url_with_params, params=params)\n",
    "    response_with_params.raise_for_status()\n",
    "    \n",
    "    comments_data = response_with_params.json()\n",
    "    print(f\"Fetched {len(comments_data)} comments for postId=1.\")\n",
    "    print(\"First comment:\", comments_data[0])\n",
    "    \n",
    "except requests.exceptions.RequestException as e:\n",
    "    print(f\"Error making request with parameters: {e}\")"
   ]
  },
  {
   "cell_type": "markdown",
   "metadata": {},
   "source": [
    "## 3. Parsing the Response and Integrating with Pandas\n",
    "\n",
    "Most API Gateway responses are in JSON format. Pandas' `DataFrame` can be directly created from a list of dictionaries (which is what `response.json()` often returns)."
   ]
  },
  {
   "cell_type": "code",
   "execution_count": null,
   "metadata": {},
   "outputs": [],
   "source": [
    "# Re-fetch data from the original posts endpoint for a clean DataFrame example\n",
    "try:\n",
    "    response_posts = requests.get(api_gateway_url)\n",
    "    response_posts.raise_for_status()\n",
    "    \n",
    "    posts_data = response_posts.json()\n",
    "    \n",
    "    # Convert JSON data to Pandas DataFrame\n",
    "    df_posts = pd.DataFrame(posts_data)\n",
    "    \n",
    "    print(\"\\n--- Posts DataFrame Head ---\")\n",
    "    print(df_posts.head())\n",
    "    \n",
    "    print(\"\\n--- Posts DataFrame Info ---\")\n",
    "    df_posts.info()\n",
    "    \n",
    "    print(\"\\n--- Posts by User ID (Top 5) ---\")\n",
    "    print(df_posts['userId'].value_counts().head())\n",
    "    \n",
    "except requests.exceptions.RequestException as e:\n",
    "    print(f\"Error fetching posts data: {e}\")"
   ]
  },
  {
   "cell_type": "markdown",
   "metadata": {},
   "source": [
    "## Conclusion\n",
    "\n",
    "You've learned how to make HTTP GET requests to an API Gateway (or any REST API) using Python's `requests` library. We covered including headers and query parameters, robust error handling, and seamlessly converting the JSON response into a Pandas DataFrame for further analysis. This forms the foundation for building data pipelines that consume data from web services."
   ]
  }
 ],
 "metadata": {
  "kernelspec": {
   "display_name": "Python 3",
   "language": "python",
   "name": "python3"
  },
  "language_info": {
   "codemirror_mode": {
    "name": "ipython",
    "version": 3
   },
   "file_extension": ".py",
   "mimetype": "text/x-python",
   "name": "python",
   "nbconvert_exporter": "python",
   "pygments_lexer": "ipython3",
   "version": "3.9.18"
  }
 },
 "nbformat": 4,
 "nbformat_minor": 4
}

