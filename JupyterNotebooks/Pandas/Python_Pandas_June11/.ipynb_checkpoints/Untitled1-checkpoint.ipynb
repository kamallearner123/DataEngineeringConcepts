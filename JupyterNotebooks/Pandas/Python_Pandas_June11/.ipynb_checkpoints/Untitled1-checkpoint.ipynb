{
 "cells": [
  {
   "cell_type": "code",
   "execution_count": 18,
   "id": "2a81e357-5196-4911-b9b4-79fda29a4e27",
   "metadata": {},
   "outputs": [
    {
     "name": "stdout",
     "output_type": "stream",
     "text": [
      "     Customer_ID  Order_Date  Quantity  Unit_Price        Category Region\n",
      "P101        C001  2023-01-05       2.0         0.0     Electronics   East\n",
      "P102        C002  2023-01-05       1.0        50.0           Books   West\n",
      "P103        C003  2023-01-06       3.0        15.0  Home & Kitchen  North\n",
      "P101        C001  2023-01-07       1.0        25.0     Electronics   East\n",
      "P104        C004  2023-01-08       2.0       100.0         Apparel  South\n",
      "P102        C002  2023-02-10       4.0        50.0           Books   West\n",
      "P105        C005  2023-02-11       1.0        75.0     Electronics  North\n",
      "P103        C003  2023-02-12       2.0        15.0  Home & Kitchen   East\n",
      "P101        C006  2023-03-15       3.0        25.0     Electronics  South\n",
      "P106        C007  2023-03-16       0.0        30.0           Books   West\n",
      "P107        C008  2023-04-20       2.0        60.0         Apparel  North\n",
      "P101        C001  2023-04-21       1.0        25.0     Electronics   East\n",
      "P102        C002  2023-05-01       3.0        50.0           Books   West\n",
      "P104        C004  2023-05-02       2.0       100.0         Apparel  South\n",
      "P105        C005  2023-06-05       1.0        75.0     Electronics  North\n",
      "P103        C003  2023-06-06       2.0        15.0  Home & Kitchen   East\n",
      "P106        C007         NaN       1.0        30.0           Books  South\n",
      "P107        C008  2023-07-11       3.0        60.0         Apparel   West\n",
      "P101        C006  2023-08-15       2.0        25.0     Electronics  North\n"
     ]
    }
   ],
   "source": [
    "import pandas as pd\n",
    "import numpy as np\n",
    "\n",
    "data = {\n",
    "    'ProductID': ['P101', 'P102', 'P103', 'P101', 'P104', 'P102', 'P105', 'P103', 'P101', 'P106',\n",
    "                  'P107', 'P101', 'P102', 'P104', 'P105', 'P103', 'P106', 'P107', 'P101', 'P102'],\n",
    "    'Customer_ID': ['C001', 'C002', 'C003', 'C001', 'C004', 'C002', 'C005', 'C003', 'C006', 'C007',\n",
    "                    'C008', 'C001', 'C002', 'C004', 'C005', 'C003', 'C007', 'C008', 'C006', 'C002'],\n",
    "    'Order_Date': ['2023-01-05', '2023-01-05', '2023-01-06', '2023-01-07', '2023-01-08',\n",
    "                   '2023-02-10', '2023-02-11', '2023-02-12', '2023-03-15', '2023-03-16',\n",
    "                   '2023-04-20', '2023-04-21', '2023-05-01', '2023-05-02', '2023-06-05',\n",
    "                   '2023-06-06', \"NaN\", '2023-07-11', '2023-08-15', '2023-08-16'],\n",
    "    'Quantity': [2, 1, 3, 1, 2, 4, 1, 2, 3, 0,\n",
    "                 2, 1, 3, 2, 1, 2, 1, 3, 2, np.NaN],\n",
    "    'Unit_Price': [0, 50.00, 15.00, 25.00, 100.00, 50.00, 75.00, 15.00, 25.00, 30.00,\n",
    "                   60.00, 25.00, 50.00, 100.00, 75.00, 15.00, 30.00, 60.00, 25.00, np.NaN],\n",
    "    'Category': ['Electronics', 'Books', 'Home & Kitchen', 'Electronics', 'Apparel',\n",
    "                 'Books', 'Electronics', 'Home & Kitchen', 'Electronics', 'Books',\n",
    "                 'Apparel', 'Electronics', 'Books', 'Apparel', 'Electronics',\n",
    "                 'Home & Kitchen', 'Books', 'Apparel', 'Electronics', 'Books'],\n",
    "    'Region': ['East', 'West', 'North', 'East', 'South',\n",
    "               'West', 'North', 'East', 'South', 'West',\n",
    "               'North', 'East', 'West', 'South', 'North',\n",
    "               'East', 'South', 'West', 'North', 'East']\n",
    "}\n",
    "\n",
    "\n",
    "df1 = pd.DataFrame(data, index=data['ProductID'])\n",
    "df1 = df1.drop(columns=\"ProductID\")\n",
    "df1 = df1.dropna()\n",
    "print(df1)\n",
    "\n",
    "df1.to_excel(\"df1.xlsx\")\n"
   ]
  },
  {
   "cell_type": "code",
   "execution_count": 21,
   "id": "417e043c-47b6-4337-90c8-f6924c70b05d",
   "metadata": {},
   "outputs": [
    {
     "name": "stdout",
     "output_type": "stream",
     "text": [
      "     Customer_ID  Order_Date  Quantity  Unit_Price        Category Region\n",
      "P101        C001  2023-01-05         2           0     Electronics   East\n",
      "P102        C002  2023-01-05         1          50           Books   West\n",
      "P103        C003  2023-01-06         3          15  Home & Kitchen  North\n",
      "P101        C001  2023-01-07         1          25     Electronics   East\n",
      "P104        C004  2023-01-08         2         100         Apparel  South\n",
      "P102        C002  2023-02-10         4          50           Books   West\n",
      "P105        C005  2023-02-11         1          75     Electronics  North\n",
      "P103        C003  2023-02-12         2          15  Home & Kitchen   East\n",
      "P101        C006  2023-03-15         3          25     Electronics  South\n",
      "P106        C007  2023-03-16         0          30           Books   West\n",
      "P107        C008  2023-04-20         2          60         Apparel  North\n",
      "P101        C001  2023-04-21         1          25     Electronics   East\n",
      "P102        C002  2023-05-01         3          50           Books   West\n",
      "P104        C004  2023-05-02         2         100         Apparel  South\n",
      "P105        C005  2023-06-05         1          75     Electronics  North\n",
      "P103        C003  2023-06-06         2          15  Home & Kitchen   East\n",
      "P106        C007         NaN         1          30           Books  South\n",
      "P107        C008  2023-07-11         3          60         Apparel   West\n",
      "P101        C006  2023-08-15         2          25     Electronics  North\n"
     ]
    }
   ],
   "source": [
    "df4 = pd.read_excel(\"df1.xlsx\", index_col=0) # Making first column as idnex\n",
    "print(df4) "
   ]
  },
  {
   "cell_type": "code",
   "execution_count": null,
   "id": "4d9421c6-f95f-42a4-be25-17a531b50616",
   "metadata": {},
   "outputs": [],
   "source": []
  }
 ],
 "metadata": {
  "kernelspec": {
   "display_name": "Python 3 (ipykernel)",
   "language": "python",
   "name": "python3"
  },
  "language_info": {
   "codemirror_mode": {
    "name": "ipython",
    "version": 3
   },
   "file_extension": ".py",
   "mimetype": "text/x-python",
   "name": "python",
   "nbconvert_exporter": "python",
   "pygments_lexer": "ipython3",
   "version": "3.12.7"
  }
 },
 "nbformat": 4,
 "nbformat_minor": 5
}
