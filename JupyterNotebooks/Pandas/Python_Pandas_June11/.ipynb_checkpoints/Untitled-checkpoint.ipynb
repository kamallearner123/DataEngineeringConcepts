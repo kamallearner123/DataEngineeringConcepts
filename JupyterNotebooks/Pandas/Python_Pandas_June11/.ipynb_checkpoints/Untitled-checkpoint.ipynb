{
 "cells": [
  {
   "cell_type": "code",
   "execution_count": 9,
   "id": "c61ea7bb-00e2-40fc-a985-6da5e7759244",
   "metadata": {},
   "outputs": [],
   "source": [
    "# sqlite3\n",
    "\n",
    "import sqlite3\n",
    "conn = sqlite3.connect(\"DB.sqlite\")\n",
    "# conn = sqlite3.connect(\":memory:\") #--> Creating DB in memory\n",
    "\n",
    "cursor = conn.cursor()\n",
    "\n",
    "\n",
    "cursor.execute('''\n",
    "CREATE TABLE IF NOT EXISTS users (\n",
    "    id INTEGER PRIMARY KEY,\n",
    "    name TEXT NOT NULL,\n",
    "    email TEXT UNIQUE\n",
    ");\n",
    "''')\n",
    "\n",
    "sample_users = [\n",
    "    (1, 'Alice', 'alice@example.com'),\n",
    "    (2, 'Bob', 'bob@example.com'),\n",
    "    (3, 'Charlie', 'charlie@example.com')\n",
    "]\n",
    "\n",
    "cursor.executemany(\"INSERT OR IGNORE INTO users (id, name, email) VALUES (?, ?, ?);\", sample_users)\n",
    "\n",
    "\n",
    "conn.commit()"
   ]
  },
  {
   "cell_type": "code",
   "execution_count": null,
   "id": "0c33cb8f-1f2d-4111-9d7a-3200c2c1bf83",
   "metadata": {},
   "outputs": [],
   "source": []
  },
  {
   "cell_type": "code",
   "execution_count": null,
   "id": "2d28a486-33f7-4e1b-a29b-426c6571f189",
   "metadata": {},
   "outputs": [],
   "source": []
  },
  {
   "cell_type": "code",
   "execution_count": null,
   "id": "46643df1-330e-4eec-9852-0cea5a635196",
   "metadata": {},
   "outputs": [],
   "source": []
  },
  {
   "cell_type": "code",
   "execution_count": 4,
   "id": "7cf95914-03c3-45f5-b323-97508fe3d9fc",
   "metadata": {},
   "outputs": [],
   "source": [
    "import sqlite3\n",
    "\n",
    "\n",
    "conn.commit()"
   ]
  },
  {
   "cell_type": "code",
   "execution_count": null,
   "id": "3066b6c6-dda3-452a-88e0-e09e69696a54",
   "metadata": {},
   "outputs": [],
   "source": []
  }
 ],
 "metadata": {
  "kernelspec": {
   "display_name": "Python3 (DeepCode)",
   "language": "python",
   "name": "deepcode"
  },
  "language_info": {
   "codemirror_mode": {
    "name": "ipython",
    "version": 3
   },
   "file_extension": ".py",
   "mimetype": "text/x-python",
   "name": "python",
   "nbconvert_exporter": "python",
   "pygments_lexer": "ipython3",
   "version": "3.13.3"
  }
 },
 "nbformat": 4,
 "nbformat_minor": 5
}
