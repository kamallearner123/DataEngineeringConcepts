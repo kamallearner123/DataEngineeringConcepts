{
 "cells": [
  {
   "cell_type": "code",
   "execution_count": 12,
   "id": "055be7a5-e5c7-40cb-8a65-419fb2386a72",
   "metadata": {},
   "outputs": [
    {
     "name": "stdout",
     "output_type": "stream",
     "text": [
      "Fata type of a is  <class 'numpy.ndarray'>\n",
      "[0 1 2 3 4 5 6 7 8]\n",
      "[10 20 30 40 50 60 70 80 90]\n",
      "[10 21 32 43 54 65 76 87 98]\n",
      "[-10 -19 -28 -37 -46 -55 -64 -73 -82]\n"
     ]
    }
   ],
   "source": [
    "# Numpy\n",
    "import numpy\n",
    "a = numpy.array([0,1,2,3,4,5,6,7,8]) \n",
    "b = numpy.array([10,20,30,40,50,60,70,80,90]) \n",
    "print(\"Fata type of a is \", type(a))\n",
    "print(a)\n",
    "print(b)\n",
    "\n",
    "addition = a+b #a.__add__(b)\n",
    "print(subt)"
   ]
  },
  {
   "cell_type": "code",
   "execution_count": 11,
   "id": "e497ace9-c19f-4442-8837-b6cac1242023",
   "metadata": {},
   "outputs": [
    {
     "name": "stdout",
     "output_type": "stream",
     "text": [
      "[0, 1, 2, 3, 4, 5, 6, 7, 8, 10, 20, 30, 40, 50, 60, 70, 80, 90]\n"
     ]
    }
   ],
   "source": [
    "# Python lists\n",
    "l1 = [0,1,2,3,4,5,6,7,8]\n",
    "l2 = [10,20,30,40,50,60,70,80,90]\n",
    "l3 = l1+l2 # l1.__add__(l2)\n",
    "result = []\n",
    "for i in range(len(l1)):\n",
    "    '''\n",
    "    unpacking\n",
    "    operation\n",
    "    packing\n",
    "    '''\n",
    "print(l3)"
   ]
  },
  {
   "cell_type": "code",
   "execution_count": 19,
   "id": "b87181cd-fa77-44ed-b40a-667d6a456a56",
   "metadata": {},
   "outputs": [
    {
     "name": "stdout",
     "output_type": "stream",
     "text": [
      "Fata type of a is  <class 'numpy.ndarray'>\n",
      "[0. 1. 2. 3. 4. 5. 6. 7. 8. 9.]\n",
      "[ 0 10 20 30 40 50 60 70 80 90]\n",
      "[ 0. 11. 22. 33. 44. 55. 66. 77. 88. 99.]\n"
     ]
    }
   ],
   "source": [
    "# Numpy\n",
    "import numpy\n",
    "a = numpy.array([0,1,2,3,4,5,6,7,8,9.0]) \n",
    "b = numpy.array([0,10,20,30,40,50,60,70,80,90]) \n",
    "print(\"Fata type of a is \", type(a))\n",
    "print(a)\n",
    "print(b)\n",
    "\n",
    "addition = a+b #a.__add__(b)\n",
    "print(addition)"
   ]
  },
  {
   "cell_type": "code",
   "execution_count": 18,
   "id": "c7c1efbe-c479-4828-ba6f-e2f60e2f2247",
   "metadata": {},
   "outputs": [
    {
     "name": "stdout",
     "output_type": "stream",
     "text": [
      "int64\n"
     ]
    }
   ],
   "source": [
    "a = numpy.array([0,1,2,3,4,5,6,7,8,9]) \n",
    "print(a.dtype)"
   ]
  },
  {
   "cell_type": "code",
   "execution_count": 25,
   "id": "d2ee3ef7-33b6-4580-8cfd-a1bd174c7340",
   "metadata": {},
   "outputs": [
    {
     "name": "stdout",
     "output_type": "stream",
     "text": [
      "9\n"
     ]
    },
    {
     "data": {
      "text/plain": [
       "130"
      ]
     },
     "execution_count": 25,
     "metadata": {},
     "output_type": "execute_result"
    }
   ],
   "source": [
    "l1 = [1,2,3,4,5,6,7,8,9] # <=2 power 16\n",
    "A = numpy.array(l1, dtype='int16')\n",
    "print(A.size)\n",
    "\n",
    "import sys\n",
    "sys.getsizeof(A)"
   ]
  },
  {
   "cell_type": "code",
   "execution_count": 28,
   "id": "b5d16916-2b54-4094-89e0-90519419f17e",
   "metadata": {},
   "outputs": [
    {
     "name": "stdout",
     "output_type": "stream",
     "text": [
      "Size of list A = 2112\n",
      "Size of list l1 = 8056\n"
     ]
    }
   ],
   "source": [
    "l1 = list(range(1000)) # <=2 power 16\n",
    "A = numpy.array(l1, dtype='int16') # each element consumes 16 bits\n",
    "# 16*1000/8 : Bytes\n",
    "\n",
    "import sys\n",
    "print(\"Size of list A =\", sys.getsizeof(A)) # 2000 \n",
    "print(\"Size of list l1 =\",sys.getsizeof(l1))"
   ]
  },
  {
   "cell_type": "code",
   "execution_count": 29,
   "id": "476cbfd0-fe05-4fdd-9c60-9fe8e6795c2c",
   "metadata": {},
   "outputs": [
    {
     "name": "stdout",
     "output_type": "stream",
     "text": [
      "2000.0\n"
     ]
    }
   ],
   "source": [
    "print(16*1000/8)"
   ]
  },
  {
   "cell_type": "code",
   "execution_count": 1,
   "id": "42518ab9-0267-4905-beee-cdc03d475636",
   "metadata": {},
   "outputs": [
    {
     "name": "stdout",
     "output_type": "stream",
     "text": [
      "List time taken by list comprehension: 739.56298828125\n",
      "Numpy time: 22.179126739501953\n"
     ]
    }
   ],
   "source": [
    "import time\n",
    "import numpy as np\n",
    "num = 10000000\n",
    "\n",
    "# using python lists to add two lists and create new list\n",
    "count = num\n",
    "l1=list(range(count))\n",
    "l2=list(range(count))\n",
    "\n",
    "start=time.time() # start time\n",
    "list3 = [l1[i]+l2[i] for i in range(num)] # list comprehension\n",
    "end=time.time() # Stop time\n",
    "elapsed = 1000*(end-start)\n",
    "print(\"List time taken by list comprehension:\",elapsed)\n",
    "\n",
    "\n",
    "\n",
    "a1 = np.arange(count)\n",
    "a2 = np.arange(count)\n",
    "start=time.time()\n",
    "a3=a1+a2\n",
    "end=time.time()\n",
    "elapsed = 1000*(end-start)\n",
    "print(\"Numpy time:\",elapsed)"
   ]
  },
  {
   "cell_type": "code",
   "execution_count": 32,
   "id": "e11ff024-17fe-4fb1-8fe0-f105c09763b3",
   "metadata": {},
   "outputs": [
    {
     "name": "stdout",
     "output_type": "stream",
     "text": [
      "[101, 103, 105, 107, 109, 111, 113, 115, 117, 119, 121, 123, 125, 127, 129, 131, 133, 135, 137, 139, 141, 143, 145, 147, 149, 151, 153, 155, 157, 159, 161, 163, 165, 167, 169, 171, 173, 175, 177, 179, 181, 183, 185, 187, 189, 191, 193, 195, 197, 199]\n",
      "[10201, 10609, 11025, 11449, 11881, 12321, 12769, 13225, 13689, 14161, 14641, 15129, 15625, 16129, 16641, 17161, 17689, 18225, 18769, 19321, 19881, 20449, 21025, 21609, 22201, 22801, 23409, 24025, 24649, 25281, 25921, 26569, 27225, 27889, 28561, 29241, 29929, 30625, 31329, 32041, 32761, 33489, 34225, 34969, 35721, 36481, 37249, 38025, 38809, 39601]\n"
     ]
    }
   ],
   "source": [
    "\n",
    "# Generate square of all odd number from 100 to 200\n",
    "l1 = list(range(101,200,2))\n",
    "print(l1)\n",
    "l2 = []\n",
    "for num in l1:\n",
    "    l2.append(num**2)\n",
    "print(l2)\n",
    "\n",
    "# list comprehension\n",
    "#    [operation for i in range(100)]\n",
    "list_comp = [num**2 for num in range(101, 200, 2)]\n",
    "\n",
    "map_op    = list(map(lambda x:x**2, range(101,200,2)))\n",
    "     "
   ]
  },
  {
   "cell_type": "code",
   "execution_count": 37,
   "id": "f79c5b3e-5025-4be6-b344-8a7dcf84b740",
   "metadata": {},
   "outputs": [
    {
     "name": "stdout",
     "output_type": "stream",
     "text": [
      "[11025, 12321, 13689, 15129, 16641, 18225, 19881, 21609, 23409, 25281, 27225, 29241, 31329, 33489, 35721, 38025]\n"
     ]
    }
   ],
   "source": [
    "# Need to call \"filter\" and then \"map\"\n",
    "list_comp = [num**2 for num in range(101, 200, 2) if num%3==0] # list comprehension\n",
    "print(list_comp)"
   ]
  },
  {
   "cell_type": "code",
   "execution_count": null,
   "id": "601977e6-1457-4da8-8e98-2786cf579f61",
   "metadata": {},
   "outputs": [],
   "source": []
  },
  {
   "cell_type": "code",
   "execution_count": null,
   "id": "e305e134-e8c6-48c9-beb3-57f0eeb33bf9",
   "metadata": {},
   "outputs": [],
   "source": []
  },
  {
   "cell_type": "code",
   "execution_count": null,
   "id": "8e00ba34-076a-47ad-8f63-1ce6b60441bd",
   "metadata": {},
   "outputs": [],
   "source": []
  },
  {
   "cell_type": "code",
   "execution_count": null,
   "id": "27723c0e-ab96-4310-a2b2-5c8d84d23f3e",
   "metadata": {},
   "outputs": [],
   "source": []
  },
  {
   "cell_type": "code",
   "execution_count": 4,
   "id": "059c6915-f564-46fe-9e01-044c5197d001",
   "metadata": {},
   "outputs": [],
   "source": [
    "\n",
    "import pandas as pd\n",
    "import numpy as np # Used for random data generation\n",
    "\n",
    "# Create a dummy sales DataFrame\n",
    "sales_data = {\n",
    "    'OrderID': range(101, 116),\n",
    "    'OrderDate': pd.to_datetime(['2024-01-05', '2024-01-07', '2024-01-08', '2024-01-10', '2024-01-12',\n",
    "                                 '2024-02-01', '2024-02-03', '2024-02-05', '2024-02-08', '2024-02-10',\n",
    "                                 '2024-03-01', '2024-03-03', '2024-03-05', '2024-03-07', '2024-03-09']),\n",
    "    'ProductID': ['P001', 'P003', 'P001', 'P002', 'P005', 'P001', 'P004', 'P002', 'P003', 'P001',\n",
    "                  'P006', 'P001', 'P002', 'P005', 'P003'],\n",
    "    'ProductName': ['Laptop', 'Mouse', 'Laptop', 'Keyboard', 'Webcam', 'Laptop', 'Monitor', 'Keyboard', 'Mouse', 'Laptop',\n",
    "                    'Headphones', 'Laptop', 'Keyboard', 'Webcam', 'Mouse'],\n",
    "    'Quantity': [1, 2, 1, 1, 1, 2, 1, 1, 2, 1, 1, 1, 1, 1, 2],\n",
    "    'UnitPrice': [1200.00, 25.00, 1200.00, 75.00, 50.00, 1200.00, 200.00, 75.00, 25.00, 1200.00,\n",
    "                  100.00, 1200.00, 75.00, 50.00, 25.00],\n",
    "    'Region': ['North', 'South', 'East', 'West', 'North', 'South', 'East', 'West', 'North', 'South',\n",
    "               'East', 'West', 'North', 'South', 'East']\n",
    "}\n"
   ]
  },
  {
   "cell_type": "code",
   "execution_count": 43,
   "id": "fdefdee7-9e08-49a3-a5da-58c6b6dd2611",
   "metadata": {},
   "outputs": [
    {
     "data": {
      "text/plain": [
       "[<matplotlib.lines.Line2D at 0x11374efd0>]"
      ]
     },
     "execution_count": 43,
     "metadata": {},
     "output_type": "execute_result"
    },
    {
     "data": {
      "image/png": "[encoded data removed]",
      "text/plain": [
       "<Figure size 640x480 with 1 Axes>"
      ]
     },
     "metadata": {},
     "output_type": "display_data"
    }
   ],
   "source": [
    "from matplotlib.pyplot import plot as plt\n",
    "plt([1,2,5])"
   ]
  },
  {
   "cell_type": "code",
   "execution_count": 10,
   "id": "8d04314e-8714-4214-9f7b-0e95cab33f33",
   "metadata": {},
   "outputs": [
    {
     "name": "stdout",
     "output_type": "stream",
     "text": [
      "[[1 2]\n",
      " [3 4]]\n",
      "[[1 2]\n",
      " [3 4]]\n",
      "c =  [[2 4]\n",
      " [6 8]]\n",
      "c =  [[ 7 10]\n",
      " [15 22]]\n",
      "c =  [[0 0]\n",
      " [0 0]]\n"
     ]
    }
   ],
   "source": [
    "a = np.matrix([1,2,3,4]).reshape((2,2))\n",
    "b = np.matrix([1,2,3,4]).reshape([2,2])\n",
    "print(a)\n",
    "print(b)\n",
    "c = a+b\n",
    "print(\"c = \", c)\n",
    "c = a*b\n",
    "print(\"c = \", c)\n",
    "c = a-b\n",
    "print(\"c = \", c)\n"
   ]
  },
  {
   "cell_type": "code",
   "execution_count": 27,
   "id": "0280c99a-c5dd-4591-89a0-f75531a93d51",
   "metadata": {},
   "outputs": [
    {
     "name": "stdout",
     "output_type": "stream",
     "text": [
      "[2025-05-26 15:28:30] COMPONENT:LoadBalancer STATUS:FAIL ERROR:4002\n",
      "\n",
      "[('2025-05-26 15:28:30', 'LoadBalancer', 'FAIL', '4002')]\n",
      "[2025-05-26 15:32:51] COMPONENT:DatabaseService STATUS:SUCCESS ERROR:0\n",
      "\n",
      "[('2025-05-26 15:32:51', 'DatabaseService', 'SUCCESS', '0')]\n",
      "[2025-05-26 15:36:27] COMPONENT:AuthService STATUS:SUCCESS ERROR:0\n",
      "\n",
      "[('2025-05-26 15:36:27', 'AuthService', 'SUCCESS', '0')]\n",
      "[2025-05-26 15:38:46] COMPONENT:APIGateway STATUS:SUCCESS ERROR:0\n",
      "\n",
      "[('2025-05-26 15:38:46', 'APIGateway', 'SUCCESS', '0')]\n",
      "[2025-05-26 15:43:16] COMPONENT:LoadBalancer STATUS:FAIL ERROR:2002\n",
      "\n",
      "[('2025-05-26 15:43:16', 'LoadBalancer', 'FAIL', '2002')]\n",
      "[2025-05-26 15:46:21] COMPONENT:AuthService STATUS:FAIL ERROR:5002\n",
      "\n",
      "[('2025-05-26 15:46:21', 'AuthService', 'FAIL', '5002')]\n",
      "[2025-05-26 15:48:36] COMPONENT:FileSystem STATUS:FAIL ERROR:4001\n",
      "\n",
      "[('2025-05-26 15:48:36', 'FileSystem', 'FAIL', '4001')]\n",
      "[2025-05-26 15:52:05] COMPONENT:AuthService STATUS:FAIL ERROR:5001\n",
      "\n",
      "[('2025-05-26 15:52:05', 'AuthService', 'FAIL', '5001')]\n",
      "[2025-05-26 15:56:41] COMPONENT:FileSystem STATUS:FAIL ERROR:3002\n",
      "\n",
      "[('2025-05-26 15:56:41', 'FileSystem', 'FAIL', '3002')]\n",
      "[2025-05-26 16:01:17] COMPONENT:LoadBalancer STATUS:FAIL ERROR:4001\n",
      "\n"
     ]
    }
   ],
   "source": [
    "\n",
    "\n",
    "# Statement:\n",
    "'''\n",
    "1) Read huge data from .txt\n",
    "\n",
    "[2025-05-26 15:28:30] COMPONENT:LoadBalancer STATUS:FAIL ERROR:4002\n",
    "[2025-05-26 15:32:51] COMPONENT:DatabaseService STATUS:SUCCESS ERROR:0\n",
    "[2025-05-26 15:36:27] COMPONENT:AuthService STATUS:SUCCESS ERROR:0\n",
    "[2025-05-26 15:38:46] COMPONENT:APIGateway STATUS:SUCCESS ERROR:0\n",
    "[2025-05-26 15:43:16] COMPONENT:LoadBalancer STATUS:FAIL ERROR:2002\n",
    "[2025-05-26 15:46:21] COMPONENT:AuthService STATUS:FAIL ERROR:5002\n",
    "[2025-05-26 15:48:36] COMPONENT:FileSystem STATUS:FAIL ERROR:4001\n",
    "[2025-05-26 15:52:05] COMPONENT:AuthService STATUS:FAIL ERROR:5001\n",
    "[2025-05-26 15:56:41] COMPONENT:FileSystem STATUS:FAIL ERROR:3002\n",
    "[2025-05-26 16:01:17] COMPONENT:LoadBalancer STATUS:FAIL ERROR:4001\n",
    "\n",
    "2) Prase data time, component, status and errno\n",
    "3) Keep data in csv file\n",
    "4) Read data from csv\n",
    "5) Analyse\n",
    "    - What is the error number frequently raised\n",
    "    - Which component is giving more errors\n",
    "    \n",
    "'''\n",
    "\n",
    "# fd = open(\"./data/huge_test_log.txt\")\n",
    "# fd.read(100)\n",
    "# fd.close() # Releasing the resource\n",
    "import re\n",
    "\n",
    "#Context managers in python\n",
    "# 1) Read huge data from .txt\n",
    "# 2) Prase data time, component, status and errno\n",
    "with open(\"./data/huge_test_log.txt\") as fd:\n",
    "    num_lines = 10\n",
    "    result = []\n",
    "    for line in fd:\n",
    "        print(line)\n",
    "        num_lines -= 1\n",
    "        if num_lines == 0:\n",
    "            break\n",
    "        data = re.findall(r'\\[(.*)\\] COMPONENT:(.*) STATUS:(\\w+) ERROR:(\\d+)', line)\n",
    "        print(data)\n",
    "        print(data[0][0])\n",
    "        \n",
    "        \n"
   ]
  },
  {
   "cell_type": "code",
   "execution_count": 39,
   "id": "bc587898-f286-45f4-8393-e023480e8db5",
   "metadata": {},
   "outputs": [
    {
     "data": {
      "text/html": [
       "<div>\n",
       "<style scoped>\n",
       "    .dataframe tbody tr th:only-of-type {\n",
       "        vertical-align: middle;\n",
       "    }\n",
       "\n",
       "    .dataframe tbody tr th {\n",
       "        vertical-align: top;\n",
       "    }\n",
       "\n",
       "    .dataframe thead th {\n",
       "        text-align: right;\n",
       "    }\n",
       "</style>\n",
       "<table border=\"1\" class=\"dataframe\">\n",
       "  <thead>\n",
       "    <tr style=\"text-align: right;\">\n",
       "      <th></th>\n",
       "      <th>Unnamed: 0</th>\n",
       "      <th>errno</th>\n",
       "    </tr>\n",
       "  </thead>\n",
       "  <tbody>\n",
       "    <tr>\n",
       "      <th>count</th>\n",
       "      <td>9.000000</td>\n",
       "      <td>9.000000</td>\n",
       "    </tr>\n",
       "    <tr>\n",
       "      <th>mean</th>\n",
       "      <td>4.000000</td>\n",
       "      <td>2556.666667</td>\n",
       "    </tr>\n",
       "    <tr>\n",
       "      <th>std</th>\n",
       "      <td>2.738613</td>\n",
       "      <td>2128.529950</td>\n",
       "    </tr>\n",
       "    <tr>\n",
       "      <th>min</th>\n",
       "      <td>0.000000</td>\n",
       "      <td>0.000000</td>\n",
       "    </tr>\n",
       "    <tr>\n",
       "      <th>25%</th>\n",
       "      <td>2.000000</td>\n",
       "      <td>0.000000</td>\n",
       "    </tr>\n",
       "    <tr>\n",
       "      <th>50%</th>\n",
       "      <td>4.000000</td>\n",
       "      <td>3002.000000</td>\n",
       "    </tr>\n",
       "    <tr>\n",
       "      <th>75%</th>\n",
       "      <td>6.000000</td>\n",
       "      <td>4002.000000</td>\n",
       "    </tr>\n",
       "    <tr>\n",
       "      <th>max</th>\n",
       "      <td>8.000000</td>\n",
       "      <td>5002.000000</td>\n",
       "    </tr>\n",
       "  </tbody>\n",
       "</table>\n",
       "</div>"
      ],
      "text/plain": [
       "       Unnamed: 0        errno\n",
       "count    9.000000     9.000000\n",
       "mean     4.000000  2556.666667\n",
       "std      2.738613  2128.529950\n",
       "min      0.000000     0.000000\n",
       "25%      2.000000     0.000000\n",
       "50%      4.000000  3002.000000\n",
       "75%      6.000000  4002.000000\n",
       "max      8.000000  5002.000000"
      ]
     },
     "execution_count": 39,
     "metadata": {},
     "output_type": "execute_result"
    }
   ],
   "source": [
    "\n",
    "\n",
    "# Statement:\n",
    "'''\n",
    "1) Read huge data from .txt\n",
    "\n",
    "[2025-05-26 15:28:30] COMPONENT:LoadBalancer STATUS:FAIL ERROR:4002\n",
    "[2025-05-26 15:32:51] COMPONENT:DatabaseService STATUS:SUCCESS ERROR:0\n",
    "[2025-05-26 15:36:27] COMPONENT:AuthService STATUS:SUCCESS ERROR:0\n",
    "[2025-05-26 15:38:46] COMPONENT:APIGateway STATUS:SUCCESS ERROR:0\n",
    "[2025-05-26 15:43:16] COMPONENT:LoadBalancer STATUS:FAIL ERROR:2002\n",
    "[2025-05-26 15:46:21] COMPONENT:AuthService STATUS:FAIL ERROR:5002\n",
    "[2025-05-26 15:48:36] COMPONENT:FileSystem STATUS:FAIL ERROR:4001\n",
    "[2025-05-26 15:52:05] COMPONENT:AuthService STATUS:FAIL ERROR:5001\n",
    "[2025-05-26 15:56:41] COMPONENT:FileSystem STATUS:FAIL ERROR:3002\n",
    "[2025-05-26 16:01:17] COMPONENT:LoadBalancer STATUS:FAIL ERROR:4001\n",
    "\n",
    "2) Prase data time, component, status and errno\n",
    "3) Keep data in csv file\n",
    "4) Read data from csv\n",
    "5) Analyse\n",
    "    - What is the error number frequently raised\n",
    "    - Which component is giving more errors\n",
    "    \n",
    "'''\n",
    "\n",
    "# fd = open(\"./data/huge_test_log.txt\")\n",
    "# fd.read(100)\n",
    "# fd.close() # Releasing the resource\n",
    "import re\n",
    "\n",
    "#Context managers in python\n",
    "# 1) Read huge data from .txt\n",
    "# 2) Prase data time, component, status and errno\n",
    "with open(\"./data/huge_test_log.txt\") as fd:\n",
    "    num_lines = 10\n",
    "    result = []\n",
    "    for line in fd:\n",
    "        num_lines -= 1\n",
    "        if num_lines == 0:\n",
    "            break\n",
    "        data = re.findall(r'\\[(.*)\\] COMPONENT:(.*) STATUS:(\\w+) ERROR:(\\d+)', line)\n",
    "        result.append({\n",
    "            \"time\":data[0][0],\n",
    "            \"component\":data[0][1],\n",
    "            \"status\":data[0][2],\n",
    "            \"errno\":data[0][3],\n",
    "        })\n",
    "\n",
    "# 3) Keep the data in csv file\n",
    "df = pd.DataFrame(result)\n",
    "#print(df)\n",
    "df.to_csv(\"file.csv\")\n",
    "\n",
    "\n",
    "df =pd.read_csv(\"file.csv\")\n",
    "#print(df)\n",
    "\n",
    "#print(df['time'])\n",
    "#print(df[df['component']==\"LoadBalancer\"])\n",
    "\n",
    "#df.info()\n",
    "df.describe()\n",
    "\n"
   ]
  },
  {
   "cell_type": "code",
   "execution_count": 17,
   "id": "764070df-3879-4f6e-935a-74e71893c0cf",
   "metadata": {},
   "outputs": [
    {
     "name": "stdout",
     "output_type": "stream",
     "text": [
      "   RollNo Name  Marks\n",
      "1       1    a   90.0\n",
      "2       2    b    NaN\n",
      "3       3    c    5.0\n",
      "4       4    d    0.0\n",
      "5       5    e   56.0\n",
      "6       6    f  100.0\n",
      "<class 'pandas.core.frame.DataFrame'>\n",
      "RangeIndex: 6 entries, 1 to 6\n",
      "Data columns (total 3 columns):\n",
      " #   Column  Non-Null Count  Dtype  \n",
      "---  ------  --------------  -----  \n",
      " 0   RollNo  6 non-null      int64  \n",
      " 1   Name    6 non-null      object \n",
      " 2   Marks   5 non-null      float64\n",
      "dtypes: float64(1), int64(1), object(1)\n",
      "memory usage: 276.0+ bytes\n"
     ]
    }
   ],
   "source": [
    "import pandas as pd\n",
    "import numpy as np\n",
    "\n",
    "df = pd.DataFrame({\"RollNo\":[1,2,3,4,5,6],\n",
    "                  \"Name\":[\"a\",\"b\",\"c\", \"d\", \"e\", \"f\"],\n",
    "                  \"Marks\":[90, np.nan, 5, 0, 56, 100]}, index=range(1,7))\n",
    "print(df)\n",
    "\n",
    "#df.describe()\n",
    "df.info()\n"
   ]
  },
  {
   "cell_type": "code",
   "execution_count": 18,
   "id": "261002d3-8c97-458a-aa3e-d5708b27c10f",
   "metadata": {},
   "outputs": [
    {
     "name": "stdout",
     "output_type": "stream",
     "text": [
      "   RollNo Name  Marks\n",
      "1       1    a   90.0\n",
      "2       2    b    NaN\n",
      "3       3    c    5.0\n",
      "4       4    d    0.0\n",
      "5       5    e   56.0\n",
      "6       6    f  100.0\n",
      "   RollNo Name  Marks\n",
      "1       1    a   90.0\n",
      "3       3    c    5.0\n",
      "4       4    d    0.0\n",
      "5       5    e   56.0\n",
      "6       6    f  100.0\n"
     ]
    }
   ],
   "source": [
    "import pandas as pd\n",
    "import numpy as np\n",
    "\n",
    "df = pd.DataFrame({\"RollNo\":[1,2,3,4,5,6],\n",
    "                  \"Name\":[\"a\",\"b\",\"c\", \"d\", \"e\", \"f\"],\n",
    "                  \"Marks\":[90, np.nan, 5, 0, 56, 100]}, index=range(1,7))\n",
    "print(df)\n",
    "\n",
    "df2 = df.dropna()\n",
    "print(df2)"
   ]
  },
  {
   "cell_type": "code",
   "execution_count": null,
   "id": "33d56a34-9801-4be7-881b-0cdf70d5cabd",
   "metadata": {},
   "outputs": [],
   "source": []
  },
  {
   "cell_type": "code",
   "execution_count": 19,
   "id": "39045c4d-6a3f-4654-97ea-8a5c22e148fb",
   "metadata": {},
   "outputs": [],
   "source": [
    "#Let's create a dummy weather DataFrame, including some missing values and incorrect data types, to simulate real-world challenges.\n",
    "\n",
    "import pandas as pd\n",
    "import numpy as np\n",
    "\n",
    "# Create a dummy weather DataFrame with some issues\n",
    "weather_data = {\n",
    "    'Date': ['2023-07-01', '2023-07-02', '2023-07-03', '2023-07-04', '2023-07-05',\n",
    "             '2023-07-06', '2023-07-07', '2023-07-08', '2023-07-09', '2023-07-10'],\n",
    "    'City': ['London', 'London', 'Paris', 'London', 'Paris',\n",
    "             'London', 'Paris', 'London', 'Paris', 'London'],\n",
    "    'Temperature_C': [20, 22, np.nan, 25, 23,\n",
    "                      18, 20, 21, np.nan, 24],\n",
    "    'Humidity_%': [75, 78, 80, np.nan, 72,\n",
    "                   85, 82, 79, 70, 76],\n",
    "    'Precipitation_mm': [0.5, 0.0, 1.2, 0.0, 0.0,\n",
    "                         2.1, 0.8, 0.0, 0.0, 0.3],\n",
    "    'WindSpeed_kmh': [10, 12, 8, 'missing', 15,\n",
    "                       9, 11, 13, 10, 'NA']\n",
    "}\n",
    "\n",
    "df = pd.DataFrame(weather_data)"
   ]
  },
  {
   "cell_type": "code",
   "execution_count": 20,
   "id": "a2fcdd80-345b-4241-a703-d9e66f8ed158",
   "metadata": {},
   "outputs": [
    {
     "data": {
      "text/html": [
       "<div>\n",
       "<style scoped>\n",
       "    .dataframe tbody tr th:only-of-type {\n",
       "        vertical-align: middle;\n",
       "    }\n",
       "\n",
       "    .dataframe tbody tr th {\n",
       "        vertical-align: top;\n",
       "    }\n",
       "\n",
       "    .dataframe thead th {\n",
       "        text-align: right;\n",
       "    }\n",
       "</style>\n",
       "<table border=\"1\" class=\"dataframe\">\n",
       "  <thead>\n",
       "    <tr style=\"text-align: right;\">\n",
       "      <th></th>\n",
       "      <th>Temperature_C</th>\n",
       "      <th>Humidity_%</th>\n",
       "      <th>Precipitation_mm</th>\n",
       "    </tr>\n",
       "  </thead>\n",
       "  <tbody>\n",
       "    <tr>\n",
       "      <th>count</th>\n",
       "      <td>8.000000</td>\n",
       "      <td>9.000000</td>\n",
       "      <td>10.000000</td>\n",
       "    </tr>\n",
       "    <tr>\n",
       "      <th>mean</th>\n",
       "      <td>21.625000</td>\n",
       "      <td>77.444444</td>\n",
       "      <td>0.490000</td>\n",
       "    </tr>\n",
       "    <tr>\n",
       "      <th>std</th>\n",
       "      <td>2.326094</td>\n",
       "      <td>4.746344</td>\n",
       "      <td>0.701506</td>\n",
       "    </tr>\n",
       "    <tr>\n",
       "      <th>min</th>\n",
       "      <td>18.000000</td>\n",
       "      <td>70.000000</td>\n",
       "      <td>0.000000</td>\n",
       "    </tr>\n",
       "    <tr>\n",
       "      <th>25%</th>\n",
       "      <td>20.000000</td>\n",
       "      <td>75.000000</td>\n",
       "      <td>0.000000</td>\n",
       "    </tr>\n",
       "    <tr>\n",
       "      <th>50%</th>\n",
       "      <td>21.500000</td>\n",
       "      <td>78.000000</td>\n",
       "      <td>0.150000</td>\n",
       "    </tr>\n",
       "    <tr>\n",
       "      <th>75%</th>\n",
       "      <td>23.250000</td>\n",
       "      <td>80.000000</td>\n",
       "      <td>0.725000</td>\n",
       "    </tr>\n",
       "    <tr>\n",
       "      <th>max</th>\n",
       "      <td>25.000000</td>\n",
       "      <td>85.000000</td>\n",
       "      <td>2.100000</td>\n",
       "    </tr>\n",
       "  </tbody>\n",
       "</table>\n",
       "</div>"
      ],
      "text/plain": [
       "       Temperature_C  Humidity_%  Precipitation_mm\n",
       "count       8.000000    9.000000         10.000000\n",
       "mean       21.625000   77.444444          0.490000\n",
       "std         2.326094    4.746344          0.701506\n",
       "min        18.000000   70.000000          0.000000\n",
       "25%        20.000000   75.000000          0.000000\n",
       "50%        21.500000   78.000000          0.150000\n",
       "75%        23.250000   80.000000          0.725000\n",
       "max        25.000000   85.000000          2.100000"
      ]
     },
     "execution_count": 20,
     "metadata": {},
     "output_type": "execute_result"
    }
   ],
   "source": [
    "df.describe()"
   ]
  },
  {
   "cell_type": "code",
   "execution_count": 22,
   "id": "665e62b4-9853-4843-a70c-dc9c1cc3ff6c",
   "metadata": {},
   "outputs": [
    {
     "name": "stdout",
     "output_type": "stream",
     "text": [
      "<class 'pandas.core.frame.DataFrame'>\n",
      "RangeIndex: 10 entries, 0 to 9\n",
      "Data columns (total 6 columns):\n",
      " #   Column            Non-Null Count  Dtype  \n",
      "---  ------            --------------  -----  \n",
      " 0   Date              10 non-null     object \n",
      " 1   City              10 non-null     object \n",
      " 2   Temperature_C     8 non-null      float64\n",
      " 3   Humidity_%        9 non-null      float64\n",
      " 4   Precipitation_mm  10 non-null     float64\n",
      " 5   WindSpeed_kmh     10 non-null     object \n",
      "dtypes: float64(3), object(3)\n",
      "memory usage: 612.0+ bytes\n",
      "None\n"
     ]
    }
   ],
   "source": [
    "print(df.info())"
   ]
  },
  {
   "cell_type": "code",
   "execution_count": 25,
   "id": "06aa4903-30f3-4fc4-8c73-ebed3dabc201",
   "metadata": {},
   "outputs": [
    {
     "name": "stdout",
     "output_type": "stream",
     "text": [
      "         Date    City  Temperature_C  Humidity_%  Precipitation_mm  \\\n",
      "0  2023-07-01  London           20.0        75.0               0.5   \n",
      "1  2023-07-02  London           22.0        78.0               0.0   \n",
      "4  2023-07-05   Paris           23.0        72.0               0.0   \n",
      "5  2023-07-06  London           18.0        85.0               2.1   \n",
      "6  2023-07-07   Paris           20.0        82.0               0.8   \n",
      "7  2023-07-08  London           21.0        79.0               0.0   \n",
      "9  2023-07-10  London           24.0        76.0               0.3   \n",
      "\n",
      "  WindSpeed_kmh  \n",
      "0            10  \n",
      "1            12  \n",
      "4            15  \n",
      "5             9  \n",
      "6            11  \n",
      "7            13  \n",
      "9            NA  \n"
     ]
    }
   ],
   "source": [
    "df2 = df.dropna()\n",
    "print(df2)"
   ]
  },
  {
   "cell_type": "code",
   "execution_count": 26,
   "id": "aa036968-3634-470b-95ea-e197177362fe",
   "metadata": {},
   "outputs": [
    {
     "name": "stdout",
     "output_type": "stream",
     "text": [
      "         Date    City  Temperature_C  Humidity_%  Precipitation_mm  \\\n",
      "0  2023-07-01  London           20.0        75.0               0.5   \n",
      "1  2023-07-02  London           22.0        78.0               0.0   \n",
      "3  2023-07-04  London           25.0         NaN               0.0   \n",
      "5  2023-07-06  London           18.0        85.0               2.1   \n",
      "7  2023-07-08  London           21.0        79.0               0.0   \n",
      "9  2023-07-10  London           24.0        76.0               0.3   \n",
      "\n",
      "  WindSpeed_kmh  \n",
      "0            10  \n",
      "1            12  \n",
      "3       missing  \n",
      "5             9  \n",
      "7            13  \n",
      "9            NA  \n"
     ]
    }
   ],
   "source": [
    "london_data = df[df[\"City\"]==\"London\"]\n",
    "print(london_data)"
   ]
  },
  {
   "cell_type": "code",
   "execution_count": null,
   "id": "5f7994b0-7f15-409e-9467-9df5047417c9",
   "metadata": {},
   "outputs": [],
   "source": [
    "'''\n",
    "\n",
    "app ====>                                           mySQL\n",
    "req = \"from tb t1 rank>50 *\"    (records: 100)      --->\n",
    "        <-------------------- (table)\n",
    "\n",
    "app (pandas) RAM\n",
    "\n",
    "'''"
   ]
  }
 ],
 "metadata": {
  "kernelspec": {
   "display_name": "Python3 (DeepCode)",
   "language": "python",
   "name": "deepcode"
  },
  "language_info": {
   "codemirror_mode": {
    "name": "ipython",
    "version": 3
   },
   "file_extension": ".py",
   "mimetype": "text/x-python",
   "name": "python",
   "nbconvert_exporter": "python",
   "pygments_lexer": "ipython3",
   "version": "3.13.3"
  }
 },
 "nbformat": 4,
 "nbformat_minor": 5
}
