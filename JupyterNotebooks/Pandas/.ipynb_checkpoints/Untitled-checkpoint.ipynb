{
 "cells": [
  {
   "cell_type": "code",
   "execution_count": 10,
   "id": "30c1b7bd-0121-433a-8f87-7711a0a81416",
   "metadata": {},
   "outputs": [],
   "source": [
    "import pandas\n",
    "import os\n",
    "import urllib\n",
    "import tarfile"
   ]
  },
  {
   "cell_type": "code",
   "execution_count": 15,
   "id": "e77aa946-8c5e-4c58-b37b-adceb5ba70e4",
   "metadata": {},
   "outputs": [
    {
     "name": "stdout",
     "output_type": "stream",
     "text": [
      "https://github.com/ageron/handson-ml2/tree/master/datasets/housing/housing.tgz\n",
      "data/housing.tgz\n",
      "True\n"
     ]
    },
    {
     "ename": "ReadError",
     "evalue": "file could not be opened successfully:\n- method gz: ReadError('not a gzip file')\n- method bz2: ReadError('not a bzip2 file')\n- method xz: ReadError('not an lzma file')\n- method tar: ReadError('invalid header')",
     "output_type": "error",
     "traceback": [
      "\u001b[31m---------------------------------------------------------------------------\u001b[39m",
      "\u001b[31mReadError\u001b[39m                                 Traceback (most recent call last)",
      "\u001b[36mCell\u001b[39m\u001b[36m \u001b[39m\u001b[32mIn[15]\u001b[39m\u001b[32m, line 17\u001b[39m\n\u001b[32m     15\u001b[39m \u001b[38;5;28mprint\u001b[39m(HOUSING_TGZ)\n\u001b[32m     16\u001b[39m \u001b[38;5;28mprint\u001b[39m(os.path.exists(HOUSING_TGZ))\n\u001b[32m---> \u001b[39m\u001b[32m17\u001b[39m tar_file = \u001b[43mtarfile\u001b[49m\u001b[43m.\u001b[49m\u001b[43mopen\u001b[49m\u001b[43m(\u001b[49m\u001b[43mHOUSING_TGZ\u001b[49m\u001b[43m)\u001b[49m\n\u001b[32m     18\u001b[39m tar_file.extractall(path=\u001b[33m\"\u001b[39m\u001b[33mdata/\u001b[39m\u001b[33m\"\u001b[39m)\n\u001b[32m     19\u001b[39m tar_file.close()\n",
      "\u001b[36mFile \u001b[39m\u001b[32m/opt/homebrew/Cellar/python@3.13/3.13.2/Frameworks/Python.framework/Versions/3.13/lib/python3.13/tarfile.py:1865\u001b[39m, in \u001b[36mTarFile.open\u001b[39m\u001b[34m(cls, name, mode, fileobj, bufsize, **kwargs)\u001b[39m\n\u001b[32m   1863\u001b[39m             \u001b[38;5;28;01mcontinue\u001b[39;00m\n\u001b[32m   1864\u001b[39m     error_msgs_summary = \u001b[33m'\u001b[39m\u001b[38;5;130;01m\\n\u001b[39;00m\u001b[33m'\u001b[39m.join(error_msgs)\n\u001b[32m-> \u001b[39m\u001b[32m1865\u001b[39m     \u001b[38;5;28;01mraise\u001b[39;00m ReadError(\u001b[33mf\u001b[39m\u001b[33m\"\u001b[39m\u001b[33mfile could not be opened successfully:\u001b[39m\u001b[38;5;130;01m\\n\u001b[39;00m\u001b[38;5;132;01m{\u001b[39;00merror_msgs_summary\u001b[38;5;132;01m}\u001b[39;00m\u001b[33m\"\u001b[39m)\n\u001b[32m   1867\u001b[39m \u001b[38;5;28;01melif\u001b[39;00m \u001b[33m\"\u001b[39m\u001b[33m:\u001b[39m\u001b[33m\"\u001b[39m \u001b[38;5;129;01min\u001b[39;00m mode:\n\u001b[32m   1868\u001b[39m     filemode, comptype = mode.split(\u001b[33m\"\u001b[39m\u001b[33m:\u001b[39m\u001b[33m\"\u001b[39m, \u001b[32m1\u001b[39m)\n",
      "\u001b[31mReadError\u001b[39m: file could not be opened successfully:\n- method gz: ReadError('not a gzip file')\n- method bz2: ReadError('not a bzip2 file')\n- method xz: ReadError('not an lzma file')\n- method tar: ReadError('invalid header')"
     ]
    }
   ],
   "source": [
    "DOWNLOAD_ROOT = \"https://raw.githubusercontent.com/ageron/handson-ml2/master/datasets/housing\"\n",
    "HOUSING_FILES = \"housing.tgz\"\n",
    "\n",
    "HOUSING_URL = os.path.join(DOWNLOAD_ROOT, HOUSING_FILES)\n",
    "print(HOUSING_URL)\n",
    "\n",
    "DATA_PATH = \"data\"\n",
    "os.makedirs(DATA_PATH, exist_ok=True)\n",
    "HOUSING_TGZ = os.path.join(DATA_PATH, \"housing.tgz\")\n",
    "\n",
    "# Download tgz file\n",
    "urllib.request.urlretrieve(HOUSING_URL, HOUSING_TGZ)\n",
    "\n",
    "# Extract files\n",
    "print(HOUSING_TGZ)\n",
    "print(os.path.exists(HOUSING_TGZ))\n",
    "tar_file = tarfile.open(HOUSING_TGZ)\n",
    "tar_file.extractall(path=\"data/\")\n",
    "tar_file.close()\n",
    "\n"
   ]
  },
  {
   "cell_type": "code",
   "execution_count": null,
   "id": "cda74cc0-5d30-4e92-a4b2-9fa1cbb5c24f",
   "metadata": {},
   "outputs": [],
   "source": []
  }
 ],
 "metadata": {
  "kernelspec": {
   "display_name": "Python3 (DeepCode)",
   "language": "python",
   "name": "deepcode"
  },
  "language_info": {
   "codemirror_mode": {
    "name": "ipython",
    "version": 3
   },
   "file_extension": ".py",
   "mimetype": "text/x-python",
   "name": "python",
   "nbconvert_exporter": "python",
   "pygments_lexer": "ipython3",
   "version": "3.13.2"
  }
 },
 "nbformat": 4,
 "nbformat_minor": 5
}
