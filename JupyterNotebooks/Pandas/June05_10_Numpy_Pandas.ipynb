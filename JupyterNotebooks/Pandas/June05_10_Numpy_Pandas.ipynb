{
 "cells": [
  {
   "cell_type": "code",
   "execution_count": 12,
   "id": "055be7a5-e5c7-40cb-8a65-419fb2386a72",
   "metadata": {},
   "outputs": [
    {
     "name": "stdout",
     "output_type": "stream",
     "text": [
      "Fata type of a is  <class 'numpy.ndarray'>\n",
      "[0 1 2 3 4 5 6 7 8]\n",
      "[10 20 30 40 50 60 70 80 90]\n",
      "[10 21 32 43 54 65 76 87 98]\n",
      "[-10 -19 -28 -37 -46 -55 -64 -73 -82]\n"
     ]
    }
   ],
   "source": [
    "# Numpy\n",
    "import numpy\n",
    "a = numpy.array([0,1,2,3,4,5,6,7,8]) \n",
    "b = numpy.array([10,20,30,40,50,60,70,80,90]) \n",
    "print(\"Fata type of a is \", type(a))\n",
    "print(a)\n",
    "print(b)\n",
    "\n",
    "addition = a+b #a.__add__(b)\n",
    "print(subt)"
   ]
  },
  {
   "cell_type": "code",
   "execution_count": 11,
   "id": "e497ace9-c19f-4442-8837-b6cac1242023",
   "metadata": {},
   "outputs": [
    {
     "name": "stdout",
     "output_type": "stream",
     "text": [
      "[0, 1, 2, 3, 4, 5, 6, 7, 8, 10, 20, 30, 40, 50, 60, 70, 80, 90]\n"
     ]
    }
   ],
   "source": [
    "# Python lists\n",
    "l1 = [0,1,2,3,4,5,6,7,8]\n",
    "l2 = [10,20,30,40,50,60,70,80,90]\n",
    "l3 = l1+l2 # l1.__add__(l2)\n",
    "result = []\n",
    "for i in range(len(l1)):\n",
    "    '''\n",
    "    unpacking\n",
    "    operation\n",
    "    packing\n",
    "    '''\n",
    "print(l3)"
   ]
  },
  {
   "cell_type": "code",
   "execution_count": 19,
   "id": "b87181cd-fa77-44ed-b40a-667d6a456a56",
   "metadata": {},
   "outputs": [
    {
     "name": "stdout",
     "output_type": "stream",
     "text": [
      "Fata type of a is  <class 'numpy.ndarray'>\n",
      "[0. 1. 2. 3. 4. 5. 6. 7. 8. 9.]\n",
      "[ 0 10 20 30 40 50 60 70 80 90]\n",
      "[ 0. 11. 22. 33. 44. 55. 66. 77. 88. 99.]\n"
     ]
    }
   ],
   "source": [
    "# Numpy\n",
    "import numpy\n",
    "a = numpy.array([0,1,2,3,4,5,6,7,8,9.0]) \n",
    "b = numpy.array([0,10,20,30,40,50,60,70,80,90]) \n",
    "print(\"Fata type of a is \", type(a))\n",
    "print(a)\n",
    "print(b)\n",
    "\n",
    "addition = a+b #a.__add__(b)\n",
    "print(addition)"
   ]
  },
  {
   "cell_type": "code",
   "execution_count": 18,
   "id": "c7c1efbe-c479-4828-ba6f-e2f60e2f2247",
   "metadata": {},
   "outputs": [
    {
     "name": "stdout",
     "output_type": "stream",
     "text": [
      "int64\n"
     ]
    }
   ],
   "source": [
    "a = numpy.array([0,1,2,3,4,5,6,7,8,9]) \n",
    "print(a.dtype)"
   ]
  },
  {
   "cell_type": "code",
   "execution_count": 25,
   "id": "d2ee3ef7-33b6-4580-8cfd-a1bd174c7340",
   "metadata": {},
   "outputs": [
    {
     "name": "stdout",
     "output_type": "stream",
     "text": [
      "9\n"
     ]
    },
    {
     "data": {
      "text/plain": [
       "130"
      ]
     },
     "execution_count": 25,
     "metadata": {},
     "output_type": "execute_result"
    }
   ],
   "source": [
    "l1 = [1,2,3,4,5,6,7,8,9] # <=2 power 16\n",
    "A = numpy.array(l1, dtype='int16')\n",
    "print(A.size)\n",
    "\n",
    "import sys\n",
    "sys.getsizeof(A)"
   ]
  },
  {
   "cell_type": "code",
   "execution_count": 28,
   "id": "b5d16916-2b54-4094-89e0-90519419f17e",
   "metadata": {},
   "outputs": [
    {
     "name": "stdout",
     "output_type": "stream",
     "text": [
      "Size of list A = 2112\n",
      "Size of list l1 = 8056\n"
     ]
    }
   ],
   "source": [
    "l1 = list(range(1000)) # <=2 power 16\n",
    "A = numpy.array(l1, dtype='int16') # each element consumes 16 bits\n",
    "# 16*1000/8 : Bytes\n",
    "\n",
    "import sys\n",
    "print(\"Size of list A =\", sys.getsizeof(A)) # 2000 \n",
    "print(\"Size of list l1 =\",sys.getsizeof(l1))"
   ]
  },
  {
   "cell_type": "code",
   "execution_count": 29,
   "id": "476cbfd0-fe05-4fdd-9c60-9fe8e6795c2c",
   "metadata": {},
   "outputs": [
    {
     "name": "stdout",
     "output_type": "stream",
     "text": [
      "2000.0\n"
     ]
    }
   ],
   "source": [
    "print(16*1000/8)"
   ]
  },
  {
   "cell_type": "code",
   "execution_count": 1,
   "id": "42518ab9-0267-4905-beee-cdc03d475636",
   "metadata": {},
   "outputs": [
    {
     "name": "stdout",
     "output_type": "stream",
     "text": [
      "List time taken by list comprehension: 739.56298828125\n",
      "Numpy time: 22.179126739501953\n"
     ]
    }
   ],
   "source": [
    "import time\n",
    "import numpy as np\n",
    "num = 10000000\n",
    "\n",
    "# using python lists to add two lists and create new list\n",
    "count = num\n",
    "l1=list(range(count))\n",
    "l2=list(range(count))\n",
    "\n",
    "start=time.time() # start time\n",
    "list3 = [l1[i]+l2[i] for i in range(num)] # list comprehension\n",
    "end=time.time() # Stop time\n",
    "elapsed = 1000*(end-start)\n",
    "print(\"List time taken by list comprehension:\",elapsed)\n",
    "\n",
    "\n",
    "\n",
    "a1 = np.arange(count)\n",
    "a2 = np.arange(count)\n",
    "start=time.time()\n",
    "a3=a1+a2\n",
    "end=time.time()\n",
    "elapsed = 1000*(end-start)\n",
    "print(\"Numpy time:\",elapsed)"
   ]
  },
  {
   "cell_type": "code",
   "execution_count": 32,
   "id": "e11ff024-17fe-4fb1-8fe0-f105c09763b3",
   "metadata": {},
   "outputs": [
    {
     "name": "stdout",
     "output_type": "stream",
     "text": [
      "[101, 103, 105, 107, 109, 111, 113, 115, 117, 119, 121, 123, 125, 127, 129, 131, 133, 135, 137, 139, 141, 143, 145, 147, 149, 151, 153, 155, 157, 159, 161, 163, 165, 167, 169, 171, 173, 175, 177, 179, 181, 183, 185, 187, 189, 191, 193, 195, 197, 199]\n",
      "[10201, 10609, 11025, 11449, 11881, 12321, 12769, 13225, 13689, 14161, 14641, 15129, 15625, 16129, 16641, 17161, 17689, 18225, 18769, 19321, 19881, 20449, 21025, 21609, 22201, 22801, 23409, 24025, 24649, 25281, 25921, 26569, 27225, 27889, 28561, 29241, 29929, 30625, 31329, 32041, 32761, 33489, 34225, 34969, 35721, 36481, 37249, 38025, 38809, 39601]\n"
     ]
    }
   ],
   "source": [
    "\n",
    "# Generate square of all odd number from 100 to 200\n",
    "l1 = list(range(101,200,2))\n",
    "print(l1)\n",
    "l2 = []\n",
    "for num in l1:\n",
    "    l2.append(num**2)\n",
    "print(l2)\n",
    "\n",
    "# list comprehension\n",
    "#    [operation for i in range(100)]\n",
    "list_comp = [num**2 for num in range(101, 200, 2)]\n",
    "\n",
    "map_op    = list(map(lambda x:x**2, range(101,200,2)))\n",
    "     "
   ]
  },
  {
   "cell_type": "code",
   "execution_count": 37,
   "id": "f79c5b3e-5025-4be6-b344-8a7dcf84b740",
   "metadata": {},
   "outputs": [
    {
     "name": "stdout",
     "output_type": "stream",
     "text": [
      "[11025, 12321, 13689, 15129, 16641, 18225, 19881, 21609, 23409, 25281, 27225, 29241, 31329, 33489, 35721, 38025]\n"
     ]
    }
   ],
   "source": [
    "# Need to call \"filter\" and then \"map\"\n",
    "list_comp = [num**2 for num in range(101, 200, 2) if num%3==0] # list comprehension\n",
    "print(list_comp)"
   ]
  },
  {
   "cell_type": "code",
   "execution_count": null,
   "id": "601977e6-1457-4da8-8e98-2786cf579f61",
   "metadata": {},
   "outputs": [],
   "source": []
  },
  {
   "cell_type": "code",
   "execution_count": null,
   "id": "e305e134-e8c6-48c9-beb3-57f0eeb33bf9",
   "metadata": {},
   "outputs": [],
   "source": []
  },
  {
   "cell_type": "code",
   "execution_count": null,
   "id": "8e00ba34-076a-47ad-8f63-1ce6b60441bd",
   "metadata": {},
   "outputs": [],
   "source": []
  },
  {
   "cell_type": "code",
   "execution_count": 12,
   "id": "27723c0e-ab96-4310-a2b2-5c8d84d23f3e",
   "metadata": {},
   "outputs": [
    {
     "name": "stdout",
     "output_type": "stream",
     "text": [
      "Using dictionary: {'One': 1, 'Two': 2}\n",
      "Pandas Series:\n",
      " One    1\n",
      "Two    2\n",
      "dtype: int64\n",
      "int64\n",
      "One    3\n",
      "Two    4\n",
      "dtype: int64\n",
      "One    2\n",
      "Two    4\n",
      "dtype: int64\n"
     ]
    }
   ],
   "source": [
    "# Pandas Series\n",
    "dict1 = {\"One\":1, \"Two\":2} # 1,2 : int64\n",
    "print(\"Using dictionary:\", dict1)\n",
    "\n",
    "# Converting to pandas series\n",
    "import pandas as pd\n",
    "s1 = pd.Series(dict1)# 1,2 : int64\n",
    "print(\"Pandas Series:\\n\", s1)\n",
    "\n",
    "s1.describe()\n",
    "print(s1.dtype)\n",
    "\n",
    "print(s1+2) # Adding 2 to all the values\n",
    "print(s1*2) # Adding 2 to all the values"
   ]
  },
  {
   "cell_type": "code",
   "execution_count": 9,
   "id": "9bf6a664-b73f-413e-adf7-a69c61cfb30f",
   "metadata": {},
   "outputs": [
    {
     "name": "stdout",
     "output_type": "stream",
     "text": [
      "Using dictionary: {'One': 'A', 'Two': 'B', 'Three': 2}\n",
      "Pandas Series:\n",
      " One      A\n",
      "Two      B\n",
      "Three    2\n",
      "dtype: object\n",
      "****************************************************************************************************\n",
      "object\n"
     ]
    }
   ],
   "source": [
    "# Pandas Series\n",
    "dict1 = {\"One\":\"A\", \"Two\":\"B\", \"Three\":2}\n",
    "print(\"Using dictionary:\", dict1)\n",
    "\n",
    "# Converting to pandas series\n",
    "import pandas as pd\n",
    "s1 = pd.Series(dict1)\n",
    "print(\"Pandas Series:\\n\", s1)\n",
    "\n",
    "s1.describe()\n",
    "print(\"*\"*100)\n",
    "print(s1.dtype)"
   ]
  },
  {
   "cell_type": "code",
   "execution_count": 18,
   "id": "0e830805-bbae-4f5b-80d6-db9340298db0",
   "metadata": {},
   "outputs": [
    {
     "name": "stdout",
     "output_type": "stream",
     "text": [
      "Using dictionary: {'One': 1, 'Two': 2}\n",
      "Pandas Series:\n",
      " One    1\n",
      "Two    2\n",
      "dtype: int32\n",
      "int32\n",
      "One    3\n",
      "Two    4\n",
      "dtype: int32\n",
      "One    2\n",
      "Two    4\n",
      "dtype: int32\n"
     ]
    }
   ],
   "source": [
    "# Pandas Series\n",
    "dict1 = {\"One\":1, \"Two\":2} # 1,2 : int64\n",
    "print(\"Using dictionary:\", dict1)\n",
    "\n",
    "# Converting to pandas series\n",
    "import pandas as pd\n",
    "s1 = pd.Series(dict1, dtype='int32')# 1,2 : int64\n",
    "print(\"Pandas Series:\\n\", s1)\n",
    "\n",
    "s1.describe()\n",
    "print(s1.dtype)\n",
    "\n",
    "print(s1+2) # Adding 2 to all the values\n",
    "print(s1*2) # Adding 2 to all the values"
   ]
  },
  {
   "cell_type": "code",
   "execution_count": 23,
   "id": "61118af2-73fd-4edd-9012-31026ea4dbc7",
   "metadata": {},
   "outputs": [],
   "source": [
    "l1 = list(range(1000))\n",
    "s1 = pd.Series(l1) # Converting list -> pandas series\n",
    "s1.tail()\n",
    "s1.to_csv(\"S1.csv\")"
   ]
  },
  {
   "cell_type": "code",
   "execution_count": null,
   "id": "a77d521f-5290-470c-8c94-74d211b3173b",
   "metadata": {},
   "outputs": [],
   "source": []
  },
  {
   "cell_type": "code",
   "execution_count": 27,
   "id": "b1ec3720-ef11-4a68-907b-d09fd9e436c4",
   "metadata": {},
   "outputs": [
    {
     "name": "stdout",
     "output_type": "stream",
     "text": [
      "Using dictionary: {'One': 'A', 'Two': 'B', 'Three': 'D', 'four': 'C'}\n",
      "<class 'pandas.core.series.Series'>\n",
      "Index: 4 entries, One to four\n",
      "Series name: None\n",
      "Non-Null Count  Dtype \n",
      "--------------  ----- \n",
      "4 non-null      object\n",
      "dtypes: object(1)\n",
      "memory usage: 64.0+ bytes\n"
     ]
    }
   ],
   "source": [
    "# Pandas Series\n",
    "dict1 = {\"One\":\"A\", \"Two\":\"B\", \"Three\":\"D\",\"Four\":\"C\"}\n",
    "print(\"Using dictionary:\", dict1)\n",
    "\n",
    "# Converting to pandas series\n",
    "import pandas as pd\n",
    "s1 = pd.Series(dict1)\n",
    "s1.describe()\n",
    "s1.info()\n",
    "\n"
   ]
  },
  {
   "cell_type": "code",
   "execution_count": 34,
   "id": "cf0f19a3-f45b-48a1-aa1d-15fccee96a3f",
   "metadata": {},
   "outputs": [
    {
     "name": "stdout",
     "output_type": "stream",
     "text": [
      "Using dictionary: {'One': 'A', 'Two': 'B', 'Three': 'D', 'Four': 'C'}\n",
      "Four     NaN\n",
      "One      AAA\n",
      "Three    NaN\n",
      "Two      NaN\n",
      "dtype: object\n",
      "Four     ---\n",
      "One      AAA\n",
      "Three    ---\n",
      "Two      ---\n",
      "dtype: object\n",
      "One    AAA\n",
      "dtype: object\n"
     ]
    }
   ],
   "source": [
    "# Pandas Series\n",
    "dict1 = {\"One\":\"A\", \"Two\":\"B\", \"Three\":\"D\",\"Four\":\"C\"}\n",
    "dict2 = {\"One\":\"AA\"}\n",
    "print(\"Using dictionary:\", dict1)\n",
    "\n",
    "# Converting to pandas series\n",
    "import pandas as pd\n",
    "s1 = pd.Series(dict1)\n",
    "s2 = pd.Series(dict2)\n",
    "s3 = s1+s2\n",
    "print(s3)\n",
    "s4 = s3.fillna(\"---\")\n",
    "print(s4)\n",
    "\n",
    "s5 = s3.dropna()\n",
    "print(s5)"
   ]
  },
  {
   "cell_type": "code",
   "execution_count": 35,
   "id": "79a86bdc-3cd2-4f7f-a356-7201b2288406",
   "metadata": {},
   "outputs": [
    {
     "data": {
      "text/plain": [
       "'A'"
      ]
     },
     "execution_count": 35,
     "metadata": {},
     "output_type": "execute_result"
    }
   ],
   "source": [
    "dict1 = {\"One\":\"A\", \"Two\":\"B\", \"Three\":\"D\",\"Four\":\"C\"}\n",
    "s1 = pd.Series(dict1)\n",
    "s1[\"One\"]"
   ]
  },
  {
   "cell_type": "code",
   "execution_count": 57,
   "id": "2c377a81-2ff8-4b52-947e-f4f1e6bc8799",
   "metadata": {},
   "outputs": [
    {
     "name": "stdout",
     "output_type": "stream",
     "text": [
      "count     7.000000\n",
      "mean     22.142857\n",
      "std      19.802597\n",
      "min       0.000000\n",
      "25%       9.500000\n",
      "50%      12.000000\n",
      "75%      34.000000\n",
      "max      56.000000\n",
      "dtype: float64\n"
     ]
    },
    {
     "data": {
      "text/plain": [
       "<Axes: >"
      ]
     },
     "execution_count": 57,
     "metadata": {},
     "output_type": "execute_result"
    },
    {
     "data": {
      "image/png": "[encoded data removed]",
      "text/plain": [
       "<Figure size 640x480 with 1 Axes>"
      ]
     },
     "metadata": {},
     "output_type": "display_data"
    }
   ],
   "source": [
    "sales = [12,34,56,7,0,12,34]\n",
    "s1 = pd.Series(sales)\n",
    "print(s1.describe())\n",
    "\n",
    "s2 = s1.sort_values()\n",
    "s2.plot(kind=\"bar\")\n"
   ]
  },
  {
   "cell_type": "code",
   "execution_count": 51,
   "id": "422c8b44-28e0-442e-9dc5-ae0b16dad318",
   "metadata": {},
   "outputs": [
    {
     "name": "stdout",
     "output_type": "stream",
     "text": [
      "count      6.000000\n",
      "mean      43.500000\n",
      "std       38.774992\n",
      "min        0.000000\n",
      "25%       14.500000\n",
      "50%       37.500000\n",
      "75%       68.750000\n",
      "max      100.000000\n",
      "dtype: float64\n"
     ]
    }
   ],
   "source": [
    "marks = [0,11,25,50,75,100]\n",
    "s1 = pd.Series(marks)\n",
    "print(s1.describe())"
   ]
  },
  {
   "cell_type": "code",
   "execution_count": 52,
   "id": "9e059d85-f560-406a-93de-78a8751a912c",
   "metadata": {},
   "outputs": [
    {
     "name": "stdout",
     "output_type": "stream",
     "text": [
      "count      6.000000\n",
      "mean      65.833333\n",
      "std       19.083151\n",
      "min       50.000000\n",
      "25%       52.500000\n",
      "50%       60.000000\n",
      "75%       71.250000\n",
      "max      100.000000\n",
      "dtype: float64\n"
     ]
    }
   ],
   "source": [
    "marks = [50,60,60,50,75,100]\n",
    "s1 = pd.Series(marks)\n",
    "print(s1.describe())"
   ]
  },
  {
   "cell_type": "code",
   "execution_count": null,
   "id": "d416e910-e7dc-48e4-aabd-da3f19fc2d53",
   "metadata": {},
   "outputs": [],
   "source": []
  },
  {
   "cell_type": "code",
   "execution_count": 62,
   "id": "3465f09d-f19d-42bc-8e1d-cb83da478549",
   "metadata": {},
   "outputs": [
    {
     "name": "stdout",
     "output_type": "stream",
     "text": [
      "count    100.000000\n",
      "mean      50.500000\n",
      "std       29.011492\n",
      "min        1.000000\n",
      "25%       25.750000\n",
      "50%       50.500000\n",
      "75%       75.250000\n",
      "max      100.000000\n",
      "dtype: float64\n"
     ]
    },
    {
     "data": {
      "image/png": "[encoded data removed]",
      "text/plain": [
       "<Figure size 640x480 with 1 Axes>"
      ]
     },
     "metadata": {},
     "output_type": "display_data"
    }
   ],
   "source": [
    "sales = list(range(1,101))\n",
    "s1 = pd.Series(sales)\n",
    "print(s1.describe())\n",
    "\n",
    "s2 = s1.sort_values()\n",
    "s2.plot(kind=\"bar\")\n",
    "s2.to_csv(\"s2.csv\")"
   ]
  },
  {
   "cell_type": "code",
   "execution_count": 63,
   "id": "0e84d5aa-bd5b-46d4-98ca-64cfda1340af",
   "metadata": {},
   "outputs": [
    {
     "name": "stdout",
     "output_type": "stream",
     "text": [
      ",0\n",
      "0,1\n",
      "1,2\n",
      "2,3\n",
      "3,4\n",
      "4,5\n",
      "5,6\n",
      "6,7\n",
      "7,8\n",
      "8,9\n",
      "9,10\n",
      "10,11\n",
      "11,12\n",
      "12,13\n",
      "13,14\n",
      "14,15\n",
      "15,16\n",
      "16,17\n",
      "17,18\n",
      "18,19\n",
      "19,20\n",
      "20,21\n",
      "21,22\n",
      "22,23\n",
      "23,24\n",
      "24,25\n",
      "25,26\n",
      "26,27\n",
      "27,28\n",
      "28,29\n",
      "29,30\n",
      "30,31\n",
      "31,32\n",
      "32,33\n",
      "33,34\n",
      "34,35\n",
      "35,36\n",
      "36,37\n",
      "37,38\n",
      "38,39\n",
      "39,40\n",
      "40,41\n",
      "41,42\n",
      "42,43\n",
      "43,44\n",
      "44,45\n",
      "45,46\n",
      "46,47\n",
      "47,48\n",
      "48,49\n",
      "49,50\n",
      "50,51\n",
      "51,52\n",
      "52,53\n",
      "53,54\n",
      "54,55\n",
      "55,56\n",
      "56,57\n",
      "57,58\n",
      "58,59\n",
      "59,60\n",
      "60,61\n",
      "61,62\n",
      "62,63\n",
      "63,64\n",
      "64,65\n",
      "65,66\n",
      "66,67\n",
      "67,68\n",
      "68,69\n",
      "69,70\n",
      "70,71\n",
      "71,72\n",
      "72,73\n",
      "73,74\n",
      "74,75\n",
      "75,76\n",
      "76,77\n",
      "77,78\n",
      "78,79\n",
      "79,80\n",
      "80,81\n",
      "81,82\n",
      "82,83\n",
      "83,84\n",
      "84,85\n",
      "85,86\n",
      "86,87\n",
      "87,88\n",
      "88,89\n",
      "89,90\n",
      "90,91\n",
      "91,92\n",
      "92,93\n",
      "93,94\n",
      "94,95\n",
      "95,96\n",
      "96,97\n",
      "97,98\n",
      "98,99\n",
      "99,100\n"
     ]
    }
   ],
   "source": [
    "!cat s2.csv"
   ]
  },
  {
   "cell_type": "code",
   "execution_count": null,
   "id": "3f3750ce-0045-448f-9873-5b3ae535c1ea",
   "metadata": {},
   "outputs": [],
   "source": []
  },
  {
   "cell_type": "code",
   "execution_count": null,
   "id": "527bffb9-0f1f-4c74-8d45-d9a7b75b8f64",
   "metadata": {},
   "outputs": [],
   "source": []
  },
  {
   "cell_type": "code",
   "execution_count": null,
   "id": "558f9052-fbfa-4c3b-9828-6c749748a28d",
   "metadata": {},
   "outputs": [],
   "source": []
  },
  {
   "cell_type": "code",
   "execution_count": null,
   "id": "c90fe2ad-c200-4c6b-874c-cf4d57f9c3b9",
   "metadata": {},
   "outputs": [],
   "source": []
  },
  {
   "cell_type": "code",
   "execution_count": 44,
   "id": "059c6915-f564-46fe-9e01-044c5197d001",
   "metadata": {},
   "outputs": [],
   "source": [
    "\n",
    "import pandas as pd\n",
    "import numpy as np # Used for random data generation\n",
    "\n",
    "# Create a dummy sales DataFrame\n",
    "sales_data = {\n",
    "    'OrderID': range(101, 116),\n",
    "    'OrderDate': pd.to_datetime(['2024-01-05', '2024-01-07', '2024-01-08', '2024-01-10', '2024-01-12',\n",
    "                                 '2024-02-01', '2024-02-03', '2024-02-05', '2024-02-08', '2024-02-10',\n",
    "                                 '2024-03-01', '2024-03-03', '2024-03-05', '2024-03-07', '2024-03-09']),\n",
    "    'ProductID': ['P001', 'P003', 'P001', 'P002', 'P005', 'P001', 'P004', 'P002', 'P003', 'P001',\n",
    "                  'P006', 'P001', 'P002', 'P005', 'P003'],\n",
    "    'ProductName': ['Laptop', 'Mouse', 'Laptop', 'Keyboard', 'Webcam', 'Laptop', 'Monitor', 'Keyboard', 'Mouse', 'Laptop',\n",
    "                    'Headphones', 'Laptop', 'Keyboard', 'Webcam', 'Mouse'],\n",
    "    'Quantity': [1, 2, 1, 1, 1, 2, 1, 1, 2, 1, 1, 1, 1, 1, 2],\n",
    "    'UnitPrice': [1200.00, 25.00, 1200.00, 75.00, 50.00, 1200.00, 200.00, 75.00, 25.00, 1200.00,\n",
    "                  100.00, 1200.00, 75.00, 50.00, 25.00],\n",
    "    'Region': ['North', 'South', 'East', 'West', 'North', 'South', 'East', 'West', 'North', 'South',\n",
    "               'East', 'West', 'North', 'South', 'East']\n",
    "}\n",
    "\n",
    "d1 = pd.DataFrame(sales_data)"
   ]
  },
  {
   "cell_type": "code",
   "execution_count": 66,
   "id": "bf6f03ea-a190-46e0-8bc7-bc4fe97b8080",
   "metadata": {},
   "outputs": [
    {
     "name": "stdout",
     "output_type": "stream",
     "text": [
      "    OrderID  OrderDate ProductID ProductName  Quantity  UnitPrice Region\n",
      "0       101 2024-01-05      P001      Laptop         1     1200.0  North\n",
      "1       102 2024-01-07      P003       Mouse         2       25.0  South\n",
      "2       103 2024-01-08      P001      Laptop         1     1200.0   East\n",
      "3       104 2024-01-10      P002    Keyboard         1       75.0   West\n",
      "4       105 2024-01-12      P005      Webcam         1       50.0  North\n",
      "5       106 2024-02-01      P001      Laptop         2     1200.0  South\n",
      "6       107 2024-02-03      P004     Monitor         1      200.0   East\n",
      "7       108 2024-02-05      P002    Keyboard         1       75.0   West\n",
      "8       109 2024-02-08      P003       Mouse         2       25.0  North\n",
      "9       110 2024-02-10      P001      Laptop         1     1200.0  South\n",
      "10      111 2024-03-01      P006  Headphones         1      100.0   East\n",
      "11      112 2024-03-03      P001      Laptop         1     1200.0   West\n",
      "12      113 2024-03-05      P002    Keyboard         1       75.0  North\n",
      "13      114 2024-03-07      P005      Webcam         1       50.0  South\n",
      "14      115 2024-03-09      P003       Mouse         2       25.0   East\n",
      "0     P001\n",
      "1     P003\n",
      "2     P001\n",
      "3     P002\n",
      "4     P005\n",
      "5     P001\n",
      "6     P004\n",
      "7     P002\n",
      "8     P003\n",
      "9     P001\n",
      "10    P006\n",
      "11    P001\n",
      "12    P002\n",
      "13    P005\n",
      "14    P003\n",
      "Name: ProductID, dtype: object\n"
     ]
    },
    {
     "data": {
      "text/plain": [
       "<Axes: >"
      ]
     },
     "execution_count": 66,
     "metadata": {},
     "output_type": "execute_result"
    },
    {
     "data": {
      "image/png": "[encoded data removed]",
      "text/plain": [
       "<Figure size 640x480 with 1 Axes>"
      ]
     },
     "metadata": {},
     "output_type": "display_data"
    }
   ],
   "source": [
    "print(d1)\n",
    "print(d1['ProductID'])\n",
    "\n",
    "d1.describe()\n",
    "d1.plot()"
   ]
  },
  {
   "cell_type": "code",
   "execution_count": 68,
   "id": "b1099888-ca1c-4088-bfe9-2bc524997e2f",
   "metadata": {},
   "outputs": [
    {
     "name": "stdout",
     "output_type": "stream",
     "text": [
      "OrderID                        101\n",
      "OrderDate      2024-01-05 00:00:00\n",
      "ProductID                     P001\n",
      "ProductName                 Laptop\n",
      "Quantity                         1\n",
      "UnitPrice                   1200.0\n",
      "Region                       North\n",
      "Name: 0, dtype: object\n",
      "OrderID                        103\n",
      "OrderDate      2024-01-08 00:00:00\n",
      "ProductID                     P001\n",
      "ProductName                 Laptop\n",
      "Quantity                         1\n",
      "UnitPrice                   1200.0\n",
      "Region                        East\n",
      "Name: 2, dtype: object\n",
      "OrderID                        105\n",
      "OrderDate      2024-01-12 00:00:00\n",
      "ProductID                     P005\n",
      "ProductName                 Webcam\n",
      "Quantity                         1\n",
      "UnitPrice                     50.0\n",
      "Region                       North\n",
      "Name: 4, dtype: object\n",
      "OrderID                        107\n",
      "OrderDate      2024-02-03 00:00:00\n",
      "ProductID                     P004\n",
      "ProductName                Monitor\n",
      "Quantity                         1\n",
      "UnitPrice                    200.0\n",
      "Region                        East\n",
      "Name: 6, dtype: object\n",
      "OrderID                        109\n",
      "OrderDate      2024-02-08 00:00:00\n",
      "ProductID                     P003\n",
      "ProductName                  Mouse\n",
      "Quantity                         2\n",
      "UnitPrice                     25.0\n",
      "Region                       North\n",
      "Name: 8, dtype: object\n",
      "OrderID                        111\n",
      "OrderDate      2024-03-01 00:00:00\n",
      "ProductID                     P006\n",
      "ProductName             Headphones\n",
      "Quantity                         1\n",
      "UnitPrice                    100.0\n",
      "Region                        East\n",
      "Name: 10, dtype: object\n",
      "OrderID                        113\n",
      "OrderDate      2024-03-05 00:00:00\n",
      "ProductID                     P002\n",
      "ProductName               Keyboard\n",
      "Quantity                         1\n",
      "UnitPrice                     75.0\n",
      "Region                       North\n",
      "Name: 12, dtype: object\n",
      "OrderID                        115\n",
      "OrderDate      2024-03-09 00:00:00\n",
      "ProductID                     P003\n",
      "ProductName                  Mouse\n",
      "Quantity                         2\n",
      "UnitPrice                     25.0\n",
      "Region                        East\n",
      "Name: 14, dtype: object\n"
     ]
    }
   ],
   "source": [
    "\n",
    "import pandas as pd\n",
    "import numpy as np # Used for random data generation\n",
    "\n",
    "# Create a dummy sales DataFrame\n",
    "sales_data = {\n",
    "    'OrderID': range(101, 116),\n",
    "    'OrderDate': pd.to_datetime(['2024-01-05', '2024-01-07', '2024-01-08', '2024-01-10', '2024-01-12',\n",
    "                                 '2024-02-01', '2024-02-03', '2024-02-05', '2024-02-08', '2024-02-10',\n",
    "                                 '2024-03-01', '2024-03-03', '2024-03-05', '2024-03-07', '2024-03-09']),\n",
    "    'ProductID': ['P001', 'P003', 'P001', 'P002', 'P005', 'P001', 'P004', 'P002', 'P003', 'P001',\n",
    "                  'P006', 'P001', 'P002', 'P005', 'P003'],\n",
    "    'ProductName': ['Laptop', 'Mouse', 'Laptop', 'Keyboard', 'Webcam', 'Laptop', 'Monitor', 'Keyboard', 'Mouse', 'Laptop',\n",
    "                    'Headphones', 'Laptop', 'Keyboard', 'Webcam', 'Mouse'],\n",
    "    'Quantity': [1, 2, 1, 1, 1, 2, 1, 1, 2, 1, 1, 1, 1, 1, 2],\n",
    "    'UnitPrice': [1200.00, 25.00, 1200.00, 75.00, 50.00, 1200.00, 200.00, 75.00, 25.00, 1200.00,\n",
    "                  100.00, 1200.00, 75.00, 50.00, 25.00],\n",
    "    'Region': ['North', 'South', 'East', 'West', 'North', 'South', 'East', 'West', 'North', 'South',\n",
    "               'East', 'West', 'North', 'South', 'East']\n",
    "}\n",
    "\n",
    "d1 = pd.DataFrame(sales_data)\n",
    "d1.loc[0] # Accesing using name of the row\n",
    "d1.iloc[1] # Accessing using index number\n",
    "\n",
    "for i in range(0, len(d1), 4):\n",
    "    print(d1.iloc[i])\n",
    "\n"
   ]
  },
  {
   "cell_type": "code",
   "execution_count": 71,
   "id": "0f4b34c1-69b8-4141-81eb-a51d41473259",
   "metadata": {},
   "outputs": [
    {
     "name": "stdout",
     "output_type": "stream",
     "text": [
      "    OrderID  OrderDate ProductID  ... UnitPrice  Region  Store ID\n",
      "0       101 2024-01-05      P001  ...    1200.0   North       NaN\n",
      "1       102 2024-01-07      P003  ...      25.0   South       NaN\n",
      "2       103 2024-01-08      P001  ...    1200.0    East       NaN\n",
      "3       104 2024-01-10      P002  ...      75.0    West       NaN\n",
      "4       105 2024-01-12      P005  ...      50.0   North       NaN\n",
      "5       106 2024-02-01      P001  ...    1200.0   South       NaN\n",
      "6       107 2024-02-03      P004  ...     200.0    East       NaN\n",
      "7       108 2024-02-05      P002  ...      75.0    West       NaN\n",
      "8       109 2024-02-08      P003  ...      25.0   North       NaN\n",
      "9       110 2024-02-10      P001  ...    1200.0   South       NaN\n",
      "10      111 2024-03-01      P006  ...     100.0    East       NaN\n",
      "11      112 2024-03-03      P001  ...    1200.0    West       NaN\n",
      "12      113 2024-03-05      P002  ...      75.0   North       NaN\n",
      "13      114 2024-03-07      P005  ...      50.0   South       NaN\n",
      "14      115 2024-03-09      P003  ...      25.0    East       NaN\n",
      "\n",
      "[15 rows x 8 columns]\n"
     ]
    }
   ],
   "source": [
    "# Adding new column\n",
    "# Create a dummy sales DataFrame\n",
    "sales_data = {\n",
    "    'OrderID': range(101, 116),\n",
    "    'OrderDate': pd.to_datetime(['2024-01-05', '2024-01-07', '2024-01-08', '2024-01-10', '2024-01-12',\n",
    "                                 '2024-02-01', '2024-02-03', '2024-02-05', '2024-02-08', '2024-02-10',\n",
    "                                 '2024-03-01', '2024-03-03', '2024-03-05', '2024-03-07', '2024-03-09']),\n",
    "    'ProductID': ['P001', 'P003', 'P001', 'P002', 'P005', 'P001', 'P004', 'P002', 'P003', 'P001',\n",
    "                  'P006', 'P001', 'P002', 'P005', 'P003'],\n",
    "    'ProductName': ['Laptop', 'Mouse', 'Laptop', 'Keyboard', 'Webcam', 'Laptop', 'Monitor', 'Keyboard', 'Mouse', 'Laptop',\n",
    "                    'Headphones', 'Laptop', 'Keyboard', 'Webcam', 'Mouse'],\n",
    "    'Quantity': [1, 2, 1, 1, 1, 2, 1, 1, 2, 1, 1, 1, 1, 1, 2],\n",
    "    'UnitPrice': [1200.00, 25.00, 1200.00, 75.00, 50.00, 1200.00, 200.00, 75.00, 25.00, 1200.00,\n",
    "                  100.00, 1200.00, 75.00, 50.00, 25.00],\n",
    "    'Region': ['North', 'South', 'East', 'West', 'North', 'South', 'East', 'West', 'North', 'South',\n",
    "               'East', 'West', 'North', 'South', 'East']\n",
    "}\n",
    "\n",
    "import numpy as np\n",
    "d1 = pd.DataFrame(sales_data)\n",
    "d1[\"Store ID\"] = np.nan\n",
    "print(d1)"
   ]
  },
  {
   "cell_type": "code",
   "execution_count": 84,
   "id": "28b71d08-20b1-4bef-955e-e8751670456d",
   "metadata": {},
   "outputs": [
    {
     "name": "stdout",
     "output_type": "stream",
     "text": [
      "    OrderID  OrderDate ProductID  ... UnitPrice  Region  Store ID\n",
      "0       101 2024-01-05      P001  ...    1200.0   North    Store1\n",
      "1       102 2024-01-07      P003  ...      25.0   South    Store2\n",
      "2       103 2024-01-08      P001  ...    1200.0    East    Store3\n",
      "3       104 2024-01-10      P002  ...      75.0    West    Store4\n",
      "4       105 2024-01-12      P005  ...      50.0   North    Store5\n",
      "5       106 2024-02-01      P001  ...    1200.0   South    Store6\n",
      "6       107 2024-02-03      P004  ...     200.0    East    Store7\n",
      "7       108 2024-02-05      P002  ...      75.0    West    Store8\n",
      "8       109 2024-02-08      P003  ...      25.0   North    Store9\n",
      "9       110 2024-02-10      P001  ...    1200.0   South   Store10\n",
      "10      111 2024-03-01      P006  ...     100.0    East   Store11\n",
      "11      112 2024-03-03      P001  ...    1200.0    West   Store12\n",
      "12      113 2024-03-05      P002  ...      75.0   North   Store13\n",
      "13      114 2024-03-07      P005  ...      50.0   South   Store14\n",
      "14      115 2024-03-09      P003  ...      25.0    East   Store15\n",
      "\n",
      "[15 rows x 8 columns]\n"
     ]
    }
   ],
   "source": [
    "# Adding new column\n",
    "# Create a dummy sales DataFrame\n",
    "sales_data = {\n",
    "    'OrderID': range(101, 116),\n",
    "    'OrderDate': pd.to_datetime(['2024-01-05', '2024-01-07', '2024-01-08', '2024-01-10', '2024-01-12',\n",
    "                                 '2024-02-01', '2024-02-03', '2024-02-05', '2024-02-08', '2024-02-10',\n",
    "                                 '2024-03-01', '2024-03-03', '2024-03-05', '2024-03-07', '2024-03-09']),\n",
    "    'ProductID': ('P001', 'P003', 'P001', 'P002', 'P005', 'P001', 'P004', 'P002', 'P003', 'P001',\n",
    "                  'P006', 'P001', 'P002', 'P005', 'P003'),\n",
    "    'ProductName': ['Laptop', 'Mouse', 'Laptop', 'Keyboard', 'Webcam', 'Laptop', 'Monitor', 'Keyboard', 'Mouse', 'Laptop',\n",
    "                    'Headphones', 'Laptop', 'Keyboard', 'Webcam', 'Mouse'],\n",
    "    'Quantity': [1, 2, 1, 1, 1, 2, 1, 1, 2, 1, 1, 1, 1, 1, 2],\n",
    "    'UnitPrice': [1200.00, 25.00, 1200.00, 75.00, 50.00, 1200.00, 200.00, 75.00, 25.00, 1200.00,\n",
    "                  100.00, 1200.00, 75.00, 50.00, 25.00],\n",
    "    'Region': ['North', 'South', 'East', 'West', 'North', 'South', 'East', 'West', 'North', 'South',\n",
    "               'East', 'West', 'North', 'South', 'East']\n",
    "}\n",
    "\n",
    "import numpy as np\n",
    "d1 = pd.DataFrame(sales_data)\n",
    "l1 = []\n",
    "for i in range(len(d1)):\n",
    "    l1.append(\"Store\"+str(i+1))\n",
    "d1[\"Store ID\"] = l1\n",
    "print(d1)\n",
    "\n"
   ]
  },
  {
   "cell_type": "code",
   "execution_count": 85,
   "id": "3f95d4fd-1170-4005-88af-46a6b2ed094a",
   "metadata": {},
   "outputs": [
    {
     "name": "stdout",
     "output_type": "stream",
     "text": [
      "Requirement already satisfied: seaborn in /opt/anaconda3/lib/python3.12/site-packages (0.13.2)\n",
      "Requirement already satisfied: numpy!=1.24.0,>=1.20 in /opt/anaconda3/lib/python3.12/site-packages (from seaborn) (1.26.4)\n",
      "Requirement already satisfied: pandas>=1.2 in /opt/anaconda3/lib/python3.12/site-packages (from seaborn) (2.1.4)\n",
      "Requirement already satisfied: matplotlib!=3.6.1,>=3.4 in /opt/anaconda3/lib/python3.12/site-packages (from seaborn) (3.7.5)\n",
      "Requirement already satisfied: contourpy>=1.0.1 in /opt/anaconda3/lib/python3.12/site-packages (from matplotlib!=3.6.1,>=3.4->seaborn) (1.2.0)\n",
      "Requirement already satisfied: cycler>=0.10 in /opt/anaconda3/lib/python3.12/site-packages (from matplotlib!=3.6.1,>=3.4->seaborn) (0.11.0)\n",
      "Requirement already satisfied: fonttools>=4.22.0 in /opt/anaconda3/lib/python3.12/site-packages (from matplotlib!=3.6.1,>=3.4->seaborn) (4.51.0)\n",
      "Requirement already satisfied: kiwisolver>=1.0.1 in /opt/anaconda3/lib/python3.12/site-packages (from matplotlib!=3.6.1,>=3.4->seaborn) (1.4.4)\n",
      "Requirement already satisfied: packaging>=20.0 in /opt/anaconda3/lib/python3.12/site-packages (from matplotlib!=3.6.1,>=3.4->seaborn) (24.1)\n",
      "Requirement already satisfied: pillow>=6.2.0 in /opt/anaconda3/lib/python3.12/site-packages (from matplotlib!=3.6.1,>=3.4->seaborn) (10.4.0)\n",
      "Requirement already satisfied: pyparsing>=2.3.1 in /opt/anaconda3/lib/python3.12/site-packages (from matplotlib!=3.6.1,>=3.4->seaborn) (3.1.2)\n",
      "Requirement already satisfied: python-dateutil>=2.7 in /opt/anaconda3/lib/python3.12/site-packages (from matplotlib!=3.6.1,>=3.4->seaborn) (2.9.0.post0)\n",
      "Requirement already satisfied: pytz>=2020.1 in /opt/anaconda3/lib/python3.12/site-packages (from pandas>=1.2->seaborn) (2024.1)\n",
      "Requirement already satisfied: tzdata>=2022.1 in /opt/anaconda3/lib/python3.12/site-packages (from pandas>=1.2->seaborn) (2023.3)\n",
      "Requirement already satisfied: six>=1.5 in /opt/anaconda3/lib/python3.12/site-packages (from python-dateutil>=2.7->matplotlib!=3.6.1,>=3.4->seaborn) (1.16.0)\n"
     ]
    }
   ],
   "source": [
    "!pip install seaborn"
   ]
  },
  {
   "cell_type": "code",
   "execution_count": 86,
   "id": "6efa0d91-6ab6-4083-8505-7ff487c8d45e",
   "metadata": {},
   "outputs": [
    {
     "name": "stdout",
     "output_type": "stream",
     "text": [
      "   total_bill   tip     sex smoker  day    time  size\n",
      "0       16.99  1.01  Female     No  Sun  Dinner     2\n",
      "1       10.34  1.66    Male     No  Sun  Dinner     3\n",
      "2       21.01  3.50    Male     No  Sun  Dinner     3\n",
      "3       23.68  3.31    Male     No  Sun  Dinner     2\n",
      "4       24.59  3.61  Female     No  Sun  Dinner     4\n"
     ]
    }
   ],
   "source": [
    "import seaborn as sb\n",
    "d1 = sb.load_dataset('tips')\n",
    "print(d1.head())"
   ]
  },
  {
   "cell_type": "code",
   "execution_count": null,
   "id": "730fb940-3055-4c1c-916f-98d10d951923",
   "metadata": {},
   "outputs": [],
   "source": []
  },
  {
   "cell_type": "code",
   "execution_count": null,
   "id": "d2da5654-820e-4d61-9571-46f4004b6753",
   "metadata": {},
   "outputs": [],
   "source": []
  },
  {
   "cell_type": "code",
   "execution_count": null,
   "id": "b9e19a3c-854b-4213-b007-760a3c4440b9",
   "metadata": {},
   "outputs": [],
   "source": []
  },
  {
   "cell_type": "code",
   "execution_count": null,
   "id": "270d5306-8b53-449a-bd2b-59c51a6c6962",
   "metadata": {},
   "outputs": [],
   "source": []
  },
  {
   "cell_type": "code",
   "execution_count": null,
   "id": "4574cc85-b918-4dc8-9085-f3e0bb43eaff",
   "metadata": {},
   "outputs": [],
   "source": []
  },
  {
   "cell_type": "code",
   "execution_count": null,
   "id": "16074f09-ac96-4165-8df9-1ab1d36ab1a8",
   "metadata": {},
   "outputs": [],
   "source": []
  },
  {
   "cell_type": "code",
   "execution_count": null,
   "id": "dfaee3e6-9d55-4a8b-ba99-8173e44d0156",
   "metadata": {},
   "outputs": [],
   "source": []
  },
  {
   "cell_type": "code",
   "execution_count": null,
   "id": "cb273d94-02f8-413b-a80c-c38edb52b8ab",
   "metadata": {},
   "outputs": [],
   "source": []
  },
  {
   "cell_type": "code",
   "execution_count": null,
   "id": "a13fb708-e587-4166-899c-d8b2ff7160b2",
   "metadata": {},
   "outputs": [],
   "source": []
  },
  {
   "cell_type": "code",
   "execution_count": null,
   "id": "9eff59d2-e7b3-462a-918f-38313538e59b",
   "metadata": {},
   "outputs": [],
   "source": []
  },
  {
   "cell_type": "code",
   "execution_count": 43,
   "id": "fdefdee7-9e08-49a3-a5da-58c6b6dd2611",
   "metadata": {},
   "outputs": [
    {
     "data": {
      "text/plain": [
       "[<matplotlib.lines.Line2D at 0x11374efd0>]"
      ]
     },
     "execution_count": 43,
     "metadata": {},
     "output_type": "execute_result"
    },
    {
     "data": {
      "image/png": "[encoded data removed]",
      "text/plain": [
       "<Figure size 640x480 with 1 Axes>"
      ]
     },
     "metadata": {},
     "output_type": "display_data"
    }
   ],
   "source": [
    "from matplotlib.pyplot import plot as plt\n",
    "plt([1,2,5])"
   ]
  },
  {
   "cell_type": "code",
   "execution_count": 10,
   "id": "8d04314e-8714-4214-9f7b-0e95cab33f33",
   "metadata": {},
   "outputs": [
    {
     "name": "stdout",
     "output_type": "stream",
     "text": [
      "[[1 2]\n",
      " [3 4]]\n",
      "[[1 2]\n",
      " [3 4]]\n",
      "c =  [[2 4]\n",
      " [6 8]]\n",
      "c =  [[ 7 10]\n",
      " [15 22]]\n",
      "c =  [[0 0]\n",
      " [0 0]]\n"
     ]
    }
   ],
   "source": [
    "a = np.matrix([1,2,3,4]).reshape((2,2))\n",
    "b = np.matrix([1,2,3,4]).reshape([2,2])\n",
    "print(a)\n",
    "print(b)\n",
    "c = a+b\n",
    "print(\"c = \", c)\n",
    "c = a*b\n",
    "print(\"c = \", c)\n",
    "c = a-b\n",
    "print(\"c = \", c)\n"
   ]
  },
  {
   "cell_type": "code",
   "execution_count": 27,
   "id": "0280c99a-c5dd-4591-89a0-f75531a93d51",
   "metadata": {},
   "outputs": [
    {
     "name": "stdout",
     "output_type": "stream",
     "text": [
      "[2025-05-26 15:28:30] COMPONENT:LoadBalancer STATUS:FAIL ERROR:4002\n",
      "\n",
      "[('2025-05-26 15:28:30', 'LoadBalancer', 'FAIL', '4002')]\n",
      "[2025-05-26 15:32:51] COMPONENT:DatabaseService STATUS:SUCCESS ERROR:0\n",
      "\n",
      "[('2025-05-26 15:32:51', 'DatabaseService', 'SUCCESS', '0')]\n",
      "[2025-05-26 15:36:27] COMPONENT:AuthService STATUS:SUCCESS ERROR:0\n",
      "\n",
      "[('2025-05-26 15:36:27', 'AuthService', 'SUCCESS', '0')]\n",
      "[2025-05-26 15:38:46] COMPONENT:APIGateway STATUS:SUCCESS ERROR:0\n",
      "\n",
      "[('2025-05-26 15:38:46', 'APIGateway', 'SUCCESS', '0')]\n",
      "[2025-05-26 15:43:16] COMPONENT:LoadBalancer STATUS:FAIL ERROR:2002\n",
      "\n",
      "[('2025-05-26 15:43:16', 'LoadBalancer', 'FAIL', '2002')]\n",
      "[2025-05-26 15:46:21] COMPONENT:AuthService STATUS:FAIL ERROR:5002\n",
      "\n",
      "[('2025-05-26 15:46:21', 'AuthService', 'FAIL', '5002')]\n",
      "[2025-05-26 15:48:36] COMPONENT:FileSystem STATUS:FAIL ERROR:4001\n",
      "\n",
      "[('2025-05-26 15:48:36', 'FileSystem', 'FAIL', '4001')]\n",
      "[2025-05-26 15:52:05] COMPONENT:AuthService STATUS:FAIL ERROR:5001\n",
      "\n",
      "[('2025-05-26 15:52:05', 'AuthService', 'FAIL', '5001')]\n",
      "[2025-05-26 15:56:41] COMPONENT:FileSystem STATUS:FAIL ERROR:3002\n",
      "\n",
      "[('2025-05-26 15:56:41', 'FileSystem', 'FAIL', '3002')]\n",
      "[2025-05-26 16:01:17] COMPONENT:LoadBalancer STATUS:FAIL ERROR:4001\n",
      "\n"
     ]
    }
   ],
   "source": [
    "\n",
    "\n",
    "# Statement:\n",
    "'''\n",
    "1) Read huge data from .txt\n",
    "\n",
    "[2025-05-26 15:28:30] COMPONENT:LoadBalancer STATUS:FAIL ERROR:4002\n",
    "[2025-05-26 15:32:51] COMPONENT:DatabaseService STATUS:SUCCESS ERROR:0\n",
    "[2025-05-26 15:36:27] COMPONENT:AuthService STATUS:SUCCESS ERROR:0\n",
    "[2025-05-26 15:38:46] COMPONENT:APIGateway STATUS:SUCCESS ERROR:0\n",
    "[2025-05-26 15:43:16] COMPONENT:LoadBalancer STATUS:FAIL ERROR:2002\n",
    "[2025-05-26 15:46:21] COMPONENT:AuthService STATUS:FAIL ERROR:5002\n",
    "[2025-05-26 15:48:36] COMPONENT:FileSystem STATUS:FAIL ERROR:4001\n",
    "[2025-05-26 15:52:05] COMPONENT:AuthService STATUS:FAIL ERROR:5001\n",
    "[2025-05-26 15:56:41] COMPONENT:FileSystem STATUS:FAIL ERROR:3002\n",
    "[2025-05-26 16:01:17] COMPONENT:LoadBalancer STATUS:FAIL ERROR:4001\n",
    "\n",
    "2) Prase data time, component, status and errno\n",
    "3) Keep data in csv file\n",
    "4) Read data from csv\n",
    "5) Analyse\n",
    "    - What is the error number frequently raised\n",
    "    - Which component is giving more errors\n",
    "    \n",
    "'''\n",
    "\n",
    "# fd = open(\"./data/huge_test_log.txt\")\n",
    "# fd.read(100)\n",
    "# fd.close() # Releasing the resource\n",
    "import re\n",
    "\n",
    "#Context managers in python\n",
    "# 1) Read huge data from .txt\n",
    "# 2) Prase data time, component, status and errno\n",
    "with open(\"./data/huge_test_log.txt\") as fd:\n",
    "    num_lines = 10\n",
    "    result = []\n",
    "    for line in fd:\n",
    "        print(line)\n",
    "        num_lines -= 1\n",
    "        if num_lines == 0:\n",
    "            break\n",
    "        data = re.findall(r'\\[(.*)\\] COMPONENT:(.*) STATUS:(\\w+) ERROR:(\\d+)', line)\n",
    "        print(data)\n",
    "        print(data[0][0])\n",
    "        \n",
    "        \n"
   ]
  },
  {
   "cell_type": "code",
   "execution_count": 39,
   "id": "bc587898-f286-45f4-8393-e023480e8db5",
   "metadata": {},
   "outputs": [
    {
     "data": {
      "text/html": [
       "<div>\n",
       "<style scoped>\n",
       "    .dataframe tbody tr th:only-of-type {\n",
       "        vertical-align: middle;\n",
       "    }\n",
       "\n",
       "    .dataframe tbody tr th {\n",
       "        vertical-align: top;\n",
       "    }\n",
       "\n",
       "    .dataframe thead th {\n",
       "        text-align: right;\n",
       "    }\n",
       "</style>\n",
       "<table border=\"1\" class=\"dataframe\">\n",
       "  <thead>\n",
       "    <tr style=\"text-align: right;\">\n",
       "      <th></th>\n",
       "      <th>Unnamed: 0</th>\n",
       "      <th>errno</th>\n",
       "    </tr>\n",
       "  </thead>\n",
       "  <tbody>\n",
       "    <tr>\n",
       "      <th>count</th>\n",
       "      <td>9.000000</td>\n",
       "      <td>9.000000</td>\n",
       "    </tr>\n",
       "    <tr>\n",
       "      <th>mean</th>\n",
       "      <td>4.000000</td>\n",
       "      <td>2556.666667</td>\n",
       "    </tr>\n",
       "    <tr>\n",
       "      <th>std</th>\n",
       "      <td>2.738613</td>\n",
       "      <td>2128.529950</td>\n",
       "    </tr>\n",
       "    <tr>\n",
       "      <th>min</th>\n",
       "      <td>0.000000</td>\n",
       "      <td>0.000000</td>\n",
       "    </tr>\n",
       "    <tr>\n",
       "      <th>25%</th>\n",
       "      <td>2.000000</td>\n",
       "      <td>0.000000</td>\n",
       "    </tr>\n",
       "    <tr>\n",
       "      <th>50%</th>\n",
       "      <td>4.000000</td>\n",
       "      <td>3002.000000</td>\n",
       "    </tr>\n",
       "    <tr>\n",
       "      <th>75%</th>\n",
       "      <td>6.000000</td>\n",
       "      <td>4002.000000</td>\n",
       "    </tr>\n",
       "    <tr>\n",
       "      <th>max</th>\n",
       "      <td>8.000000</td>\n",
       "      <td>5002.000000</td>\n",
       "    </tr>\n",
       "  </tbody>\n",
       "</table>\n",
       "</div>"
      ],
      "text/plain": [
       "       Unnamed: 0        errno\n",
       "count    9.000000     9.000000\n",
       "mean     4.000000  2556.666667\n",
       "std      2.738613  2128.529950\n",
       "min      0.000000     0.000000\n",
       "25%      2.000000     0.000000\n",
       "50%      4.000000  3002.000000\n",
       "75%      6.000000  4002.000000\n",
       "max      8.000000  5002.000000"
      ]
     },
     "execution_count": 39,
     "metadata": {},
     "output_type": "execute_result"
    }
   ],
   "source": [
    "\n",
    "\n",
    "# Statement:\n",
    "'''\n",
    "1) Read huge data from .txt\n",
    "\n",
    "[2025-05-26 15:28:30] COMPONENT:LoadBalancer STATUS:FAIL ERROR:4002\n",
    "[2025-05-26 15:32:51] COMPONENT:DatabaseService STATUS:SUCCESS ERROR:0\n",
    "[2025-05-26 15:36:27] COMPONENT:AuthService STATUS:SUCCESS ERROR:0\n",
    "[2025-05-26 15:38:46] COMPONENT:APIGateway STATUS:SUCCESS ERROR:0\n",
    "[2025-05-26 15:43:16] COMPONENT:LoadBalancer STATUS:FAIL ERROR:2002\n",
    "[2025-05-26 15:46:21] COMPONENT:AuthService STATUS:FAIL ERROR:5002\n",
    "[2025-05-26 15:48:36] COMPONENT:FileSystem STATUS:FAIL ERROR:4001\n",
    "[2025-05-26 15:52:05] COMPONENT:AuthService STATUS:FAIL ERROR:5001\n",
    "[2025-05-26 15:56:41] COMPONENT:FileSystem STATUS:FAIL ERROR:3002\n",
    "[2025-05-26 16:01:17] COMPONENT:LoadBalancer STATUS:FAIL ERROR:4001\n",
    "\n",
    "2) Prase data time, component, status and errno\n",
    "3) Keep data in csv file\n",
    "4) Read data from csv\n",
    "5) Analyse\n",
    "    - What is the error number frequently raised\n",
    "    - Which component is giving more errors\n",
    "    \n",
    "'''\n",
    "\n",
    "# fd = open(\"./data/huge_test_log.txt\")\n",
    "# fd.read(100)\n",
    "# fd.close() # Releasing the resource\n",
    "import re\n",
    "\n",
    "#Context managers in python\n",
    "# 1) Read huge data from .txt\n",
    "# 2) Prase data time, component, status and errno\n",
    "with open(\"./data/huge_test_log.txt\") as fd:\n",
    "    num_lines = 10\n",
    "    result = []\n",
    "    for line in fd:\n",
    "        num_lines -= 1\n",
    "        if num_lines == 0:\n",
    "            break\n",
    "        data = re.findall(r'\\[(.*)\\] COMPONENT:(.*) STATUS:(\\w+) ERROR:(\\d+)', line)\n",
    "        result.append({\n",
    "            \"time\":data[0][0],\n",
    "            \"component\":data[0][1],\n",
    "            \"status\":data[0][2],\n",
    "            \"errno\":data[0][3],\n",
    "        })\n",
    "\n",
    "# 3) Keep the data in csv file\n",
    "df = pd.DataFrame(result)\n",
    "#print(df)\n",
    "df.to_csv(\"file.csv\")\n",
    "\n",
    "\n",
    "df =pd.read_csv(\"file.csv\")\n",
    "#print(df)\n",
    "\n",
    "#print(df['time'])\n",
    "#print(df[df['component']==\"LoadBalancer\"])\n",
    "\n",
    "#df.info()\n",
    "df.describe()\n",
    "\n"
   ]
  },
  {
   "cell_type": "code",
   "execution_count": 17,
   "id": "764070df-3879-4f6e-935a-74e71893c0cf",
   "metadata": {},
   "outputs": [
    {
     "name": "stdout",
     "output_type": "stream",
     "text": [
      "   RollNo Name  Marks\n",
      "1       1    a   90.0\n",
      "2       2    b    NaN\n",
      "3       3    c    5.0\n",
      "4       4    d    0.0\n",
      "5       5    e   56.0\n",
      "6       6    f  100.0\n",
      "<class 'pandas.core.frame.DataFrame'>\n",
      "RangeIndex: 6 entries, 1 to 6\n",
      "Data columns (total 3 columns):\n",
      " #   Column  Non-Null Count  Dtype  \n",
      "---  ------  --------------  -----  \n",
      " 0   RollNo  6 non-null      int64  \n",
      " 1   Name    6 non-null      object \n",
      " 2   Marks   5 non-null      float64\n",
      "dtypes: float64(1), int64(1), object(1)\n",
      "memory usage: 276.0+ bytes\n"
     ]
    }
   ],
   "source": [
    "import pandas as pd\n",
    "import numpy as np\n",
    "\n",
    "df = pd.DataFrame({\"RollNo\":[1,2,3,4,5,6],\n",
    "                  \"Name\":[\"a\",\"b\",\"c\", \"d\", \"e\", \"f\"],\n",
    "                  \"Marks\":[90, np.nan, 5, 0, 56, 100]}, index=range(1,7))\n",
    "print(df)\n",
    "\n",
    "#df.describe()\n",
    "df.info()\n"
   ]
  },
  {
   "cell_type": "code",
   "execution_count": 18,
   "id": "261002d3-8c97-458a-aa3e-d5708b27c10f",
   "metadata": {},
   "outputs": [
    {
     "name": "stdout",
     "output_type": "stream",
     "text": [
      "   RollNo Name  Marks\n",
      "1       1    a   90.0\n",
      "2       2    b    NaN\n",
      "3       3    c    5.0\n",
      "4       4    d    0.0\n",
      "5       5    e   56.0\n",
      "6       6    f  100.0\n",
      "   RollNo Name  Marks\n",
      "1       1    a   90.0\n",
      "3       3    c    5.0\n",
      "4       4    d    0.0\n",
      "5       5    e   56.0\n",
      "6       6    f  100.0\n"
     ]
    }
   ],
   "source": [
    "import pandas as pd\n",
    "import numpy as np\n",
    "\n",
    "df = pd.DataFrame({\"RollNo\":[1,2,3,4,5,6],\n",
    "                  \"Name\":[\"a\",\"b\",\"c\", \"d\", \"e\", \"f\"],\n",
    "                  \"Marks\":[90, np.nan, 5, 0, 56, 100]}, index=range(1,7))\n",
    "print(df)\n",
    "\n",
    "df2 = df.dropna()\n",
    "print(df2)"
   ]
  },
  {
   "cell_type": "code",
   "execution_count": null,
   "id": "33d56a34-9801-4be7-881b-0cdf70d5cabd",
   "metadata": {},
   "outputs": [],
   "source": []
  },
  {
   "cell_type": "code",
   "execution_count": 19,
   "id": "39045c4d-6a3f-4654-97ea-8a5c22e148fb",
   "metadata": {},
   "outputs": [],
   "source": [
    "#Let's create a dummy weather DataFrame, including some missing values and incorrect data types, to simulate real-world challenges.\n",
    "\n",
    "import pandas as pd\n",
    "import numpy as np\n",
    "\n",
    "# Create a dummy weather DataFrame with some issues\n",
    "weather_data = {\n",
    "    'Date': ['2023-07-01', '2023-07-02', '2023-07-03', '2023-07-04', '2023-07-05',\n",
    "             '2023-07-06', '2023-07-07', '2023-07-08', '2023-07-09', '2023-07-10'],\n",
    "    'City': ['London', 'London', 'Paris', 'London', 'Paris',\n",
    "             'London', 'Paris', 'London', 'Paris', 'London'],\n",
    "    'Temperature_C': [20, 22, np.nan, 25, 23,\n",
    "                      18, 20, 21, np.nan, 24],\n",
    "    'Humidity_%': [75, 78, 80, np.nan, 72,\n",
    "                   85, 82, 79, 70, 76],\n",
    "    'Precipitation_mm': [0.5, 0.0, 1.2, 0.0, 0.0,\n",
    "                         2.1, 0.8, 0.0, 0.0, 0.3],\n",
    "    'WindSpeed_kmh': [10, 12, 8, 'missing', 15,\n",
    "                       9, 11, 13, 10, 'NA']\n",
    "}\n",
    "\n",
    "df = pd.DataFrame(weather_data)"
   ]
  },
  {
   "cell_type": "code",
   "execution_count": 20,
   "id": "a2fcdd80-345b-4241-a703-d9e66f8ed158",
   "metadata": {},
   "outputs": [
    {
     "data": {
      "text/html": [
       "<div>\n",
       "<style scoped>\n",
       "    .dataframe tbody tr th:only-of-type {\n",
       "        vertical-align: middle;\n",
       "    }\n",
       "\n",
       "    .dataframe tbody tr th {\n",
       "        vertical-align: top;\n",
       "    }\n",
       "\n",
       "    .dataframe thead th {\n",
       "        text-align: right;\n",
       "    }\n",
       "</style>\n",
       "<table border=\"1\" class=\"dataframe\">\n",
       "  <thead>\n",
       "    <tr style=\"text-align: right;\">\n",
       "      <th></th>\n",
       "      <th>Temperature_C</th>\n",
       "      <th>Humidity_%</th>\n",
       "      <th>Precipitation_mm</th>\n",
       "    </tr>\n",
       "  </thead>\n",
       "  <tbody>\n",
       "    <tr>\n",
       "      <th>count</th>\n",
       "      <td>8.000000</td>\n",
       "      <td>9.000000</td>\n",
       "      <td>10.000000</td>\n",
       "    </tr>\n",
       "    <tr>\n",
       "      <th>mean</th>\n",
       "      <td>21.625000</td>\n",
       "      <td>77.444444</td>\n",
       "      <td>0.490000</td>\n",
       "    </tr>\n",
       "    <tr>\n",
       "      <th>std</th>\n",
       "      <td>2.326094</td>\n",
       "      <td>4.746344</td>\n",
       "      <td>0.701506</td>\n",
       "    </tr>\n",
       "    <tr>\n",
       "      <th>min</th>\n",
       "      <td>18.000000</td>\n",
       "      <td>70.000000</td>\n",
       "      <td>0.000000</td>\n",
       "    </tr>\n",
       "    <tr>\n",
       "      <th>25%</th>\n",
       "      <td>20.000000</td>\n",
       "      <td>75.000000</td>\n",
       "      <td>0.000000</td>\n",
       "    </tr>\n",
       "    <tr>\n",
       "      <th>50%</th>\n",
       "      <td>21.500000</td>\n",
       "      <td>78.000000</td>\n",
       "      <td>0.150000</td>\n",
       "    </tr>\n",
       "    <tr>\n",
       "      <th>75%</th>\n",
       "      <td>23.250000</td>\n",
       "      <td>80.000000</td>\n",
       "      <td>0.725000</td>\n",
       "    </tr>\n",
       "    <tr>\n",
       "      <th>max</th>\n",
       "      <td>25.000000</td>\n",
       "      <td>85.000000</td>\n",
       "      <td>2.100000</td>\n",
       "    </tr>\n",
       "  </tbody>\n",
       "</table>\n",
       "</div>"
      ],
      "text/plain": [
       "       Temperature_C  Humidity_%  Precipitation_mm\n",
       "count       8.000000    9.000000         10.000000\n",
       "mean       21.625000   77.444444          0.490000\n",
       "std         2.326094    4.746344          0.701506\n",
       "min        18.000000   70.000000          0.000000\n",
       "25%        20.000000   75.000000          0.000000\n",
       "50%        21.500000   78.000000          0.150000\n",
       "75%        23.250000   80.000000          0.725000\n",
       "max        25.000000   85.000000          2.100000"
      ]
     },
     "execution_count": 20,
     "metadata": {},
     "output_type": "execute_result"
    }
   ],
   "source": [
    "df.describe()"
   ]
  },
  {
   "cell_type": "code",
   "execution_count": 22,
   "id": "665e62b4-9853-4843-a70c-dc9c1cc3ff6c",
   "metadata": {},
   "outputs": [
    {
     "name": "stdout",
     "output_type": "stream",
     "text": [
      "<class 'pandas.core.frame.DataFrame'>\n",
      "RangeIndex: 10 entries, 0 to 9\n",
      "Data columns (total 6 columns):\n",
      " #   Column            Non-Null Count  Dtype  \n",
      "---  ------            --------------  -----  \n",
      " 0   Date              10 non-null     object \n",
      " 1   City              10 non-null     object \n",
      " 2   Temperature_C     8 non-null      float64\n",
      " 3   Humidity_%        9 non-null      float64\n",
      " 4   Precipitation_mm  10 non-null     float64\n",
      " 5   WindSpeed_kmh     10 non-null     object \n",
      "dtypes: float64(3), object(3)\n",
      "memory usage: 612.0+ bytes\n",
      "None\n"
     ]
    }
   ],
   "source": [
    "print(df.info())"
   ]
  },
  {
   "cell_type": "code",
   "execution_count": 25,
   "id": "06aa4903-30f3-4fc4-8c73-ebed3dabc201",
   "metadata": {},
   "outputs": [
    {
     "name": "stdout",
     "output_type": "stream",
     "text": [
      "         Date    City  Temperature_C  Humidity_%  Precipitation_mm  \\\n",
      "0  2023-07-01  London           20.0        75.0               0.5   \n",
      "1  2023-07-02  London           22.0        78.0               0.0   \n",
      "4  2023-07-05   Paris           23.0        72.0               0.0   \n",
      "5  2023-07-06  London           18.0        85.0               2.1   \n",
      "6  2023-07-07   Paris           20.0        82.0               0.8   \n",
      "7  2023-07-08  London           21.0        79.0               0.0   \n",
      "9  2023-07-10  London           24.0        76.0               0.3   \n",
      "\n",
      "  WindSpeed_kmh  \n",
      "0            10  \n",
      "1            12  \n",
      "4            15  \n",
      "5             9  \n",
      "6            11  \n",
      "7            13  \n",
      "9            NA  \n"
     ]
    }
   ],
   "source": [
    "df2 = df.dropna()\n",
    "print(df2)"
   ]
  },
  {
   "cell_type": "code",
   "execution_count": 26,
   "id": "aa036968-3634-470b-95ea-e197177362fe",
   "metadata": {},
   "outputs": [
    {
     "name": "stdout",
     "output_type": "stream",
     "text": [
      "         Date    City  Temperature_C  Humidity_%  Precipitation_mm  \\\n",
      "0  2023-07-01  London           20.0        75.0               0.5   \n",
      "1  2023-07-02  London           22.0        78.0               0.0   \n",
      "3  2023-07-04  London           25.0         NaN               0.0   \n",
      "5  2023-07-06  London           18.0        85.0               2.1   \n",
      "7  2023-07-08  London           21.0        79.0               0.0   \n",
      "9  2023-07-10  London           24.0        76.0               0.3   \n",
      "\n",
      "  WindSpeed_kmh  \n",
      "0            10  \n",
      "1            12  \n",
      "3       missing  \n",
      "5             9  \n",
      "7            13  \n",
      "9            NA  \n"
     ]
    }
   ],
   "source": [
    "london_data = df[df[\"City\"]==\"London\"]\n",
    "print(london_data)"
   ]
  },
  {
   "cell_type": "code",
   "execution_count": null,
   "id": "5f7994b0-7f15-409e-9467-9df5047417c9",
   "metadata": {},
   "outputs": [],
   "source": [
    "'''\n",
    "\n",
    "app ====>                                           mySQL\n",
    "req = \"from tb t1 rank>50 *\"    (records: 100)      --->\n",
    "        <-------------------- (table)\n",
    "\n",
    "app (pandas) RAM\n",
    "\n",
    "'''"
   ]
  }
 ],
 "metadata": {
  "kernelspec": {
   "display_name": "Python3 (DeepCode)",
   "language": "python",
   "name": "deepcode"
  },
  "language_info": {
   "codemirror_mode": {
    "name": "ipython",
    "version": 3
   },
   "file_extension": ".py",
   "mimetype": "text/x-python",
   "name": "python",
   "nbconvert_exporter": "python",
   "pygments_lexer": "ipython3",
   "version": "3.13.3"
  }
 },
 "nbformat": 4,
 "nbformat_minor": 5
}
