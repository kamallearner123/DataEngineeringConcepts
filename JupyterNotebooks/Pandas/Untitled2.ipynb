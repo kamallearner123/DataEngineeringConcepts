{
 "cells": [
  {
   "cell_type": "code",
   "execution_count": null,
   "id": "19419ec8-e523-41eb-b614-9649d4cbb092",
   "metadata": {},
   "outputs": [],
   "source": []
  }
 ],
 "metadata": {
  "kernelspec": {
   "display_name": "",
   "name": ""
  },
  "language_info": {
   "name": ""
  }
 },
 "nbformat": 4,
 "nbformat_minor": 5
}
