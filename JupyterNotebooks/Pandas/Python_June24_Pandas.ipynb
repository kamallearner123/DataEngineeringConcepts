{
 "cells": [
  {
   "cell_type": "code",
   "execution_count": 4,
   "id": "472f86d3-ea07-4580-98fc-3f0f6c55f5fa",
   "metadata": {},
   "outputs": [
    {
     "name": "stdout",
     "output_type": "stream",
     "text": [
      "   survived  pclass     sex   age  sibsp  parch     fare embarked  class  \\\n",
      "0         0       3    male  22.0      1      0   7.2500        S  Third   \n",
      "1         1       1  female  38.0      1      0  71.2833        C  First   \n",
      "2         1       3  female  26.0      0      0   7.9250        S  Third   \n",
      "3         1       1  female  35.0      1      0  53.1000        S  First   \n",
      "4         0       3    male  35.0      0      0   8.0500        S  Third   \n",
      "\n",
      "     who  adult_male deck  embark_town alive  alone  \n",
      "0    man        True  NaN  Southampton    no  False  \n",
      "1  woman       False    C    Cherbourg   yes  False  \n",
      "2  woman       False  NaN  Southampton   yes   True  \n",
      "3  woman       False    C  Southampton   yes  False  \n",
      "4    man        True  NaN  Southampton    no   True  \n"
     ]
    }
   ],
   "source": [
    "import seaborn as sb\n",
    "d1 = sb.load_dataset('titanic')\n",
    "print(d1.head())"
   ]
  },
  {
   "cell_type": "code",
   "execution_count": 6,
   "id": "93d7320d-0f77-4e9c-97be-081136880576",
   "metadata": {},
   "outputs": [
    {
     "name": "stdout",
     "output_type": "stream",
     "text": [
      "<class 'pandas.core.frame.DataFrame'>\n",
      "RangeIndex: 891 entries, 0 to 890\n",
      "Data columns (total 15 columns):\n",
      " #   Column       Non-Null Count  Dtype   \n",
      "---  ------       --------------  -----   \n",
      " 0   survived     891 non-null    int64   \n",
      " 1   pclass       891 non-null    int64   \n",
      " 2   sex          891 non-null    object  \n",
      " 3   age          714 non-null    float64 \n",
      " 4   sibsp        891 non-null    int64   \n",
      " 5   parch        891 non-null    int64   \n",
      " 6   fare         891 non-null    float64 \n",
      " 7   embarked     889 non-null    object  \n",
      " 8   class        891 non-null    category\n",
      " 9   who          891 non-null    object  \n",
      " 10  adult_male   891 non-null    bool    \n",
      " 11  deck         203 non-null    category\n",
      " 12  embark_town  889 non-null    object  \n",
      " 13  alive        891 non-null    object  \n",
      " 14  alone        891 non-null    bool    \n",
      "dtypes: bool(2), category(2), float64(2), int64(4), object(5)\n",
      "memory usage: 80.7+ KB\n"
     ]
    }
   ],
   "source": [
    "d1.info()"
   ]
  },
  {
   "cell_type": "code",
   "execution_count": 7,
   "id": "378498d6-e532-448c-b781-6108b929ab9f",
   "metadata": {},
   "outputs": [
    {
     "data": {
      "text/html": [
       "<div>\n",
       "<style scoped>\n",
       "    .dataframe tbody tr th:only-of-type {\n",
       "        vertical-align: middle;\n",
       "    }\n",
       "\n",
       "    .dataframe tbody tr th {\n",
       "        vertical-align: top;\n",
       "    }\n",
       "\n",
       "    .dataframe thead th {\n",
       "        text-align: right;\n",
       "    }\n",
       "</style>\n",
       "<table border=\"1\" class=\"dataframe\">\n",
       "  <thead>\n",
       "    <tr style=\"text-align: right;\">\n",
       "      <th></th>\n",
       "      <th>survived</th>\n",
       "      <th>pclass</th>\n",
       "      <th>age</th>\n",
       "      <th>sibsp</th>\n",
       "      <th>parch</th>\n",
       "      <th>fare</th>\n",
       "    </tr>\n",
       "  </thead>\n",
       "  <tbody>\n",
       "    <tr>\n",
       "      <th>count</th>\n",
       "      <td>891.000000</td>\n",
       "      <td>891.000000</td>\n",
       "      <td>714.000000</td>\n",
       "      <td>891.000000</td>\n",
       "      <td>891.000000</td>\n",
       "      <td>891.000000</td>\n",
       "    </tr>\n",
       "    <tr>\n",
       "      <th>mean</th>\n",
       "      <td>0.383838</td>\n",
       "      <td>2.308642</td>\n",
       "      <td>29.699118</td>\n",
       "      <td>0.523008</td>\n",
       "      <td>0.381594</td>\n",
       "      <td>32.204208</td>\n",
       "    </tr>\n",
       "    <tr>\n",
       "      <th>std</th>\n",
       "      <td>0.486592</td>\n",
       "      <td>0.836071</td>\n",
       "      <td>14.526497</td>\n",
       "      <td>1.102743</td>\n",
       "      <td>0.806057</td>\n",
       "      <td>49.693429</td>\n",
       "    </tr>\n",
       "    <tr>\n",
       "      <th>min</th>\n",
       "      <td>0.000000</td>\n",
       "      <td>1.000000</td>\n",
       "      <td>0.420000</td>\n",
       "      <td>0.000000</td>\n",
       "      <td>0.000000</td>\n",
       "      <td>0.000000</td>\n",
       "    </tr>\n",
       "    <tr>\n",
       "      <th>25%</th>\n",
       "      <td>0.000000</td>\n",
       "      <td>2.000000</td>\n",
       "      <td>20.125000</td>\n",
       "      <td>0.000000</td>\n",
       "      <td>0.000000</td>\n",
       "      <td>7.910400</td>\n",
       "    </tr>\n",
       "    <tr>\n",
       "      <th>50%</th>\n",
       "      <td>0.000000</td>\n",
       "      <td>3.000000</td>\n",
       "      <td>28.000000</td>\n",
       "      <td>0.000000</td>\n",
       "      <td>0.000000</td>\n",
       "      <td>14.454200</td>\n",
       "    </tr>\n",
       "    <tr>\n",
       "      <th>75%</th>\n",
       "      <td>1.000000</td>\n",
       "      <td>3.000000</td>\n",
       "      <td>38.000000</td>\n",
       "      <td>1.000000</td>\n",
       "      <td>0.000000</td>\n",
       "      <td>31.000000</td>\n",
       "    </tr>\n",
       "    <tr>\n",
       "      <th>max</th>\n",
       "      <td>1.000000</td>\n",
       "      <td>3.000000</td>\n",
       "      <td>80.000000</td>\n",
       "      <td>8.000000</td>\n",
       "      <td>6.000000</td>\n",
       "      <td>512.329200</td>\n",
       "    </tr>\n",
       "  </tbody>\n",
       "</table>\n",
       "</div>"
      ],
      "text/plain": [
       "         survived      pclass         age       sibsp       parch        fare\n",
       "count  891.000000  891.000000  714.000000  891.000000  891.000000  891.000000\n",
       "mean     0.383838    2.308642   29.699118    0.523008    0.381594   32.204208\n",
       "std      0.486592    0.836071   14.526497    1.102743    0.806057   49.693429\n",
       "min      0.000000    1.000000    0.420000    0.000000    0.000000    0.000000\n",
       "25%      0.000000    2.000000   20.125000    0.000000    0.000000    7.910400\n",
       "50%      0.000000    3.000000   28.000000    0.000000    0.000000   14.454200\n",
       "75%      1.000000    3.000000   38.000000    1.000000    0.000000   31.000000\n",
       "max      1.000000    3.000000   80.000000    8.000000    6.000000  512.329200"
      ]
     },
     "execution_count": 7,
     "metadata": {},
     "output_type": "execute_result"
    }
   ],
   "source": [
    "d1.describe()"
   ]
  },
  {
   "cell_type": "code",
   "execution_count": 6,
   "id": "0d213781-9932-4332-a5f6-207d3ad91250",
   "metadata": {},
   "outputs": [],
   "source": [
    "dic1 = {1:[\"one\"], 2:[\"two\"]}\n",
    "import pandas as pd \n",
    "f1 = pd.DataFrame.from_dict(dic1)\n",
    "f2 = pd.DataFrame(dic1)"
   ]
  },
  {
   "cell_type": "code",
   "execution_count": 7,
   "id": "4683072c-2700-4632-add3-9b7a8582b248",
   "metadata": {},
   "outputs": [
    {
     "name": "stdout",
     "output_type": "stream",
     "text": [
      "     1    2\n",
      "0  one  two\n",
      "     1    2\n",
      "0  one  two\n"
     ]
    }
   ],
   "source": [
    "print(f1)\n",
    "print(f2)"
   ]
  },
  {
   "cell_type": "code",
   "execution_count": 17,
   "id": "c4b095f2-b4fe-47b7-95de-2bb5c775b033",
   "metadata": {},
   "outputs": [
    {
     "name": "stdout",
     "output_type": "stream",
     "text": [
      "    Name   Age City\n",
      "0  Alice  25.0     \n",
      "1    Bob   NaN   LA\n",
      "    Name   Age City\n",
      "0  Alice  25.0     \n"
     ]
    }
   ],
   "source": [
    "import pandas as pd\n",
    "import numpy as np\n",
    "df = pd.DataFrame({\n",
    "    'Name': ['Alice', 'Bob'],\n",
    "    'Age': [25, np.nan],\n",
    "    'City': ['', 'LA']\n",
    "})\n",
    "\n",
    "print(df)\n",
    "df2 = df.dropna()\n",
    "print(df2)"
   ]
  },
  {
   "cell_type": "code",
   "execution_count": 93,
   "id": "2664a9c8-1207-44ae-8285-4712d86619ec",
   "metadata": {},
   "outputs": [
    {
     "name": "stdout",
     "output_type": "stream",
     "text": [
      "   Math  Science   Name\n",
      "0    80       85  kamal\n",
      "1    90       95   anil\n",
      "   Math  Science   Name\n",
      "0    60       65  kamal\n",
      "1    90       95   anil\n",
      "concatinated \n",
      "    Math  Science   Name  Math  Science   Name\n",
      "0    80       85  kamal    60       65  kamal\n",
      "1    90       95   anil    90       95   anil\n",
      "Dropped duplicates\n",
      "    Math  Science   Name  Math  Science   Name\n",
      "0    80       85  kamal    60       65  kamal\n",
      "1    90       95   anil    90       95   anil\n"
     ]
    }
   ],
   "source": [
    "df2 = pd.DataFrame({\n",
    "    'Math': [80, 90],\n",
    "    'Science': [85, 95],\n",
    "    \"Name\":[\"kamal\",\"anil\"]\n",
    "})\n",
    "\n",
    "\n",
    "df3 = pd.DataFrame({\n",
    "    'Math': [60, 90],\n",
    "    'Science': [65, 95],\n",
    "    \"Name\":[\"kamal\",\"anil\"]\n",
    "})\n",
    "print(df2)\n",
    "print(df3)\n",
    "#print(pd.merge(df2, df3, on=\"Name\", how=\"inner\"))\n",
    "df4 = pd.concat([df2,df3], axis=1)\n",
    "print(\"concatinated \\n\", df4)\n",
    "df5 = df4.drop_duplicates()\n",
    "print(\"Dropped duplicates\\n\", df5)\n"
   ]
  },
  {
   "cell_type": "code",
   "execution_count": 102,
   "id": "6afe3cc7-faa6-4eac-97c5-0ea5b9d524f7",
   "metadata": {},
   "outputs": [
    {
     "name": "stdout",
     "output_type": "stream",
     "text": [
      "0    False\n",
      "1     True\n",
      "2    False\n",
      "dtype: bool\n"
     ]
    },
    {
     "data": {
      "text/html": [
       "<div>\n",
       "<style scoped>\n",
       "    .dataframe tbody tr th:only-of-type {\n",
       "        vertical-align: middle;\n",
       "    }\n",
       "\n",
       "    .dataframe tbody tr th {\n",
       "        vertical-align: top;\n",
       "    }\n",
       "\n",
       "    .dataframe thead th {\n",
       "        text-align: right;\n",
       "    }\n",
       "</style>\n",
       "<table border=\"1\" class=\"dataframe\">\n",
       "  <thead>\n",
       "    <tr style=\"text-align: right;\">\n",
       "      <th></th>\n",
       "      <th>Name</th>\n",
       "      <th>Rank</th>\n",
       "    </tr>\n",
       "  </thead>\n",
       "  <tbody>\n",
       "    <tr>\n",
       "      <th>0</th>\n",
       "      <td>a</td>\n",
       "      <td>1</td>\n",
       "    </tr>\n",
       "    <tr>\n",
       "      <th>2</th>\n",
       "      <td>b</td>\n",
       "      <td>2</td>\n",
       "    </tr>\n",
       "  </tbody>\n",
       "</table>\n",
       "</div>"
      ],
      "text/plain": [
       "  Name  Rank\n",
       "0    a     1\n",
       "2    b     2"
      ]
     },
     "execution_count": 102,
     "metadata": {},
     "output_type": "execute_result"
    }
   ],
   "source": [
    "d1 = {\"Name\":[\"a\",\"a\",\"b\"], \"Rank\":[1,1,2]}\n",
    "df = pd.DataFrame(d1)\n",
    "print(df.duplicated())\n",
    "df.drop_duplicates()\n"
   ]
  },
  {
   "cell_type": "code",
   "execution_count": 112,
   "id": "56723274-e296-445f-9a32-4145b9b53683",
   "metadata": {},
   "outputs": [
    {
     "name": "stdout",
     "output_type": "stream",
     "text": [
      "     id  rank\n",
      "0     a     1\n",
      "1     a     1\n",
      "2  None     2\n",
      "  id  rank\n",
      "0  a     1\n",
      "1  a     1\n"
     ]
    }
   ],
   "source": [
    "d1 = {\"Name\":[\"a\",\"a\",None], \"Rank\":[1,1,2]}\n",
    "df1 = pd.DataFrame(d1)\n",
    "df1.columns = [\"id\", \"rank\"]\n",
    "df1.rename(columns={\"rank\":\"Tank\"})\n",
    "print(df1)\n",
    "df2 = df1.dropna()\n",
    "print(df2)\n"
   ]
  },
  {
   "cell_type": "code",
   "execution_count": 106,
   "id": "49dc10e7-dc1a-4ed0-ac6c-e796d8130e70",
   "metadata": {},
   "outputs": [
    {
     "data": {
      "text/html": [
       "<div>\n",
       "<style scoped>\n",
       "    .dataframe tbody tr th:only-of-type {\n",
       "        vertical-align: middle;\n",
       "    }\n",
       "\n",
       "    .dataframe tbody tr th {\n",
       "        vertical-align: top;\n",
       "    }\n",
       "\n",
       "    .dataframe thead th {\n",
       "        text-align: right;\n",
       "    }\n",
       "</style>\n",
       "<table border=\"1\" class=\"dataframe\">\n",
       "  <thead>\n",
       "    <tr style=\"text-align: right;\">\n",
       "      <th></th>\n",
       "      <th>id</th>\n",
       "      <th>rank</th>\n",
       "    </tr>\n",
       "  </thead>\n",
       "  <tbody>\n",
       "    <tr>\n",
       "      <th>0</th>\n",
       "      <td>a</td>\n",
       "      <td>100</td>\n",
       "    </tr>\n",
       "    <tr>\n",
       "      <th>1</th>\n",
       "      <td>a</td>\n",
       "      <td>100</td>\n",
       "    </tr>\n",
       "    <tr>\n",
       "      <th>2</th>\n",
       "      <td>b</td>\n",
       "      <td>2</td>\n",
       "    </tr>\n",
       "  </tbody>\n",
       "</table>\n",
       "</div>"
      ],
      "text/plain": [
       "  id  rank\n",
       "0  a   100\n",
       "1  a   100\n",
       "2  b     2"
      ]
     },
     "execution_count": 106,
     "metadata": {},
     "output_type": "execute_result"
    }
   ],
   "source": [
    "df1.replace(1,100)"
   ]
  },
  {
   "cell_type": "code",
   "execution_count": 115,
   "id": "748ccb0b-eed7-417b-9c35-1a0064c17358",
   "metadata": {},
   "outputs": [
    {
     "data": {
      "text/plain": [
       "Name    1\n",
       "Rank    0\n",
       "dtype: int64"
      ]
     },
     "execution_count": 115,
     "metadata": {},
     "output_type": "execute_result"
    }
   ],
   "source": [
    "d1 = {\"Name\":[\"a\",\"a\",None], \"Rank\":[1,1,2]}\n",
    "df1 = pd.DataFrame(d1)\n",
    "df1.isnull().sum()"
   ]
  },
  {
   "cell_type": "code",
   "execution_count": 130,
   "id": "a8c9d59d-68be-4ccf-bd3b-4617823ddfe4",
   "metadata": {},
   "outputs": [
    {
     "name": "stdout",
     "output_type": "stream",
     "text": [
      "   index  Math  Science   Name\n",
      "0      0    80       85  kamal\n",
      "1      1    90       95   anil\n",
      "2      0    60       65  kamal\n",
      "3      1    90       95   anil\n",
      "4      0    60       65  kamal\n",
      "5      1    90       95   anil\n"
     ]
    },
    {
     "data": {
      "text/html": [
       "<div>\n",
       "<style scoped>\n",
       "    .dataframe tbody tr th:only-of-type {\n",
       "        vertical-align: middle;\n",
       "    }\n",
       "\n",
       "    .dataframe tbody tr th {\n",
       "        vertical-align: top;\n",
       "    }\n",
       "\n",
       "    .dataframe thead th {\n",
       "        text-align: right;\n",
       "    }\n",
       "</style>\n",
       "<table border=\"1\" class=\"dataframe\">\n",
       "  <thead>\n",
       "    <tr style=\"text-align: right;\">\n",
       "      <th></th>\n",
       "      <th>Math</th>\n",
       "      <th>Science</th>\n",
       "      <th>Name</th>\n",
       "    </tr>\n",
       "  </thead>\n",
       "  <tbody>\n",
       "    <tr>\n",
       "      <th>0</th>\n",
       "      <td>80</td>\n",
       "      <td>85</td>\n",
       "      <td>kamal</td>\n",
       "    </tr>\n",
       "    <tr>\n",
       "      <th>1</th>\n",
       "      <td>90</td>\n",
       "      <td>95</td>\n",
       "      <td>anil</td>\n",
       "    </tr>\n",
       "    <tr>\n",
       "      <th>2</th>\n",
       "      <td>60</td>\n",
       "      <td>65</td>\n",
       "      <td>kamal</td>\n",
       "    </tr>\n",
       "    <tr>\n",
       "      <th>3</th>\n",
       "      <td>90</td>\n",
       "      <td>95</td>\n",
       "      <td>anil</td>\n",
       "    </tr>\n",
       "    <tr>\n",
       "      <th>4</th>\n",
       "      <td>60</td>\n",
       "      <td>65</td>\n",
       "      <td>kamal</td>\n",
       "    </tr>\n",
       "    <tr>\n",
       "      <th>5</th>\n",
       "      <td>90</td>\n",
       "      <td>95</td>\n",
       "      <td>anil</td>\n",
       "    </tr>\n",
       "  </tbody>\n",
       "</table>\n",
       "</div>"
      ],
      "text/plain": [
       "   Math  Science   Name\n",
       "0    80       85  kamal\n",
       "1    90       95   anil\n",
       "2    60       65  kamal\n",
       "3    90       95   anil\n",
       "4    60       65  kamal\n",
       "5    90       95   anil"
      ]
     },
     "execution_count": 130,
     "metadata": {},
     "output_type": "execute_result"
    }
   ],
   "source": [
    "df2 = pd.DataFrame({\n",
    "    'Math': [80, 90],\n",
    "    'Science': [85, 95],\n",
    "    \"Name\":[\"kamal\",\"anil\"]\n",
    "})\n",
    "\n",
    "\n",
    "df3 = pd.DataFrame({\n",
    "    'Math': [60, 90],\n",
    "    'Science': [65, 95],\n",
    "    \"Name\":[\"kamal\",\"anil\"]\n",
    "})\n",
    "\n",
    "df1 = pd.DataFrame({\n",
    "    'Math': [60, 90],\n",
    "    'Science': [65, 95],\n",
    "    \"Name\":[\"kamal\",\"anil\"]\n",
    "})\n",
    "\n",
    "df4 = pd.concat([df2, df3, df1]).reset_index()\n",
    "print(df4)\n",
    "\n",
    "df4.drop(columns=['index'])"
   ]
  },
  {
   "cell_type": "code",
   "execution_count": 132,
   "id": "79cbaecf-2d32-4a7b-ae41-63cf62f17e9b",
   "metadata": {},
   "outputs": [
    {
     "ename": "TypeError",
     "evalue": "DataFrame.apply() missing 1 required positional argument: 'func'",
     "output_type": "error",
     "traceback": [
      "\u001b[31m---------------------------------------------------------------------------\u001b[39m",
      "\u001b[31mTypeError\u001b[39m                                 Traceback (most recent call last)",
      "\u001b[36mCell\u001b[39m\u001b[36m \u001b[39m\u001b[32mIn[132]\u001b[39m\u001b[32m, line 1\u001b[39m\n\u001b[32m----> \u001b[39m\u001b[32m1\u001b[39m \u001b[43mdf2\u001b[49m\u001b[43m.\u001b[49m\u001b[43mapply\u001b[49m\u001b[43m(\u001b[49m\u001b[43m)\u001b[49m\n",
      "\u001b[31mTypeError\u001b[39m: DataFrame.apply() missing 1 required positional argument: 'func'"
     ]
    }
   ],
   "source": [
    "df2.apply()"
   ]
  },
  {
   "cell_type": "code",
   "execution_count": 137,
   "id": "0736a251-56f0-40bd-84f5-a27dea72a549",
   "metadata": {},
   "outputs": [
    {
     "name": "stdout",
     "output_type": "stream",
     "text": [
      "Math       80\n",
      "Science    85\n",
      "dtype: int64\n"
     ]
    }
   ],
   "source": [
    "val = df2.min(numeric_only=True)\n",
    "print(val)"
   ]
  },
  {
   "cell_type": "code",
   "execution_count": 152,
   "id": "b45fdfcf-8334-408c-96ba-1ec7d0ca3fc3",
   "metadata": {},
   "outputs": [
    {
     "name": "stdout",
     "output_type": "stream",
     "text": [
      "       Math   Science   Name\n",
      "0  1.729363  9.219544  kamal\n",
      "1  1.755013  9.746794   anil\n"
     ]
    }
   ],
   "source": [
    "import numpy as np\n",
    "#df2 = df2.apply(lambda col: np.sqrt(col) if np.issubdtype(col.dtype, np.number) else col)\n",
    "df2 = df2.apply(lambda col: np.sqrt(col) if np.issubdtype(col.dtype, np.number) else col)\n",
    "\n",
    "print(df2)"
   ]
  },
  {
   "cell_type": "code",
   "execution_count": null,
   "id": "291425e5-317d-445b-9fe3-50fead28b15c",
   "metadata": {},
   "outputs": [],
   "source": [
    "import pandas as pd\n",
    "\n",
    "data = {\n",
    "    'Department': ['HR', 'HR', 'IT', 'IT', 'Finance', 'Finance'],\n",
    "    'Employee': ['Alice', 'Bob', 'Charlie', 'David', 'Eva', 'Frank'],\n",
    "    'Month': ['Jan', 'Feb', 'Jan', 'Feb', 'Jan', 'Feb'],\n",
    "    'Salary': [3000, 3200, 4000, 4100, 5000, 5100]\n",
    "}\n",
    "\n",
    "\n",
    "pd.pivot(data, "
   ]
  },
  {
   "cell_type": "code",
   "execution_count": 154,
   "id": "d417b563-cdd2-4cf2-b3f3-6694f84d7e57",
   "metadata": {},
   "outputs": [
    {
     "name": "stdout",
     "output_type": "stream",
     "text": [
      "                 Price\n",
      "Category Item         \n",
      "Fruit    Apple     100\n",
      "         Banana     80\n",
      "Veg      Carrot     60\n"
     ]
    }
   ],
   "source": [
    "import pandas as pd\n",
    "\n",
    "arrays = [['Fruit', 'Fruit', 'Veg'], ['Apple', 'Banana', 'Carrot']]\n",
    "index = pd.MultiIndex.from_arrays(arrays, names=('Category', 'Item'))\n",
    "df = pd.DataFrame({'Price': [100, 80, 60]}, index=index)\n",
    "\n",
    "print(df)\n"
   ]
  },
  {
   "cell_type": "code",
   "execution_count": 159,
   "id": "fbf13fe6-3ac1-4d8b-b2d6-aa19f53f8652",
   "metadata": {},
   "outputs": [
    {
     "name": "stdout",
     "output_type": "stream",
     "text": [
      "  Region  Sales\n",
      "0   East    100\n",
      "1   East    200\n",
      "2   West    150\n",
      "3  South    300\n",
      "4   West    250\n",
      "5  South    100\n",
      "6   East     50\n",
      "        sum        mean\n",
      "Region                 \n",
      "East    350  116.666667\n",
      "South   400  200.000000\n",
      "West    400  200.000000\n"
     ]
    }
   ],
   "source": [
    "import pandas as pd\n",
    "\n",
    "# Sample data\n",
    "data = {\n",
    "    'Region': ['East', 'East', 'West', 'South', 'West', 'South', 'East'],\n",
    "    'Sales': [100, 200, 150, 300, 250, 100, 50]\n",
    "}\n",
    "\n",
    "# Create DataFrame\n",
    "df = pd.DataFrame(data)\n",
    "print(df)\n",
    "\n",
    "print(df.groupby(\"Region\")[\"Sales\"].agg(['sum', 'mean']))\n"
   ]
  },
  {
   "cell_type": "code",
   "execution_count": null,
   "id": "37bbd421-4745-4ff1-9da0-9efb4289c71a",
   "metadata": {},
   "outputs": [],
   "source": [
    "import pandas as pd\n",
    "\n",
    "# Sample data\n",
    "data = {\n",
    "    'Region': ['East', 'East', 'West', 'South', 'West', 'South', 'East'],\n",
    "    'Sales': [100, 200, 150, 300, 250, 100, 50]\n",
    "}\n",
    "\n",
    "# Create DataFrame\n",
    "df = pd.DataFrame(data)"
   ]
  },
  {
   "cell_type": "code",
   "execution_count": 172,
   "id": "15819ab2-c24b-4637-b4f1-ee877c9fef80",
   "metadata": {},
   "outputs": [
    {
     "name": "stdout",
     "output_type": "stream",
     "text": [
      "   CustomerID  Purchase  rank\n",
      "0         101       400     0\n",
      "1         102       600     1\n",
      "2         101       300     2\n",
      "3         103       200     3\n",
      "4         102       500     4\n",
      "5         104       800     5\n",
      "6         101       400     6\n",
      "7         104       300     7\n",
      "8         105       100     8\n"
     ]
    }
   ],
   "source": [
    "import pandas as pd\n",
    "\n",
    "# Sample data\n",
    "data = {\n",
    "    'CustomerID': [101, 102, 101, 103, 102, 104, 101, 104, 105],\n",
    "    'Purchase': [400, 600, 300, 200, 500, 800, 400, 300, 100],\n",
    "    'rank': range(9)\n",
    "}\n",
    "\n",
    "# Create DataFrame\n",
    "df = pd.DataFrame(data)\n",
    "print(df)"
   ]
  },
  {
   "cell_type": "code",
   "execution_count": 175,
   "id": "c885140f-5aea-4080-b5ec-8e98806b145e",
   "metadata": {},
   "outputs": [
    {
     "name": "stdout",
     "output_type": "stream",
     "text": [
      "  Department Month  Expense\n",
      "0         HR   Jan     2000\n",
      "1         HR   Feb     2500\n",
      "2         IT   Jan     3000\n",
      "3         IT   Feb     3500\n",
      "4    Finance   Jan     4000\n",
      "5    Finance   Feb     3000\n",
      "6         HR   Mar     1500\n",
      "7         IT   Mar     2000\n",
      "8    Finance   Mar     3500\n"
     ]
    }
   ],
   "source": [
    "import pandas as pd\n",
    "\n",
    "# Sample data\n",
    "data = {\n",
    "    'Department': ['HR', 'HR', 'IT', 'IT', 'Finance', 'Finance', 'HR', 'IT', 'Finance'],\n",
    "    'Month': ['Jan', 'Feb', 'Jan', 'Feb', 'Jan', 'Feb', 'Mar', 'Mar', 'Mar'],\n",
    "    'Expense': [2000, 2500, 3000, 3500, 4000, 3000, 1500, 2000, 3500]\n",
    "}\n",
    "\n",
    "# Create DataFrame\n",
    "df = pd.DataFrame(data)\n",
    "print(df)\n",
    "# Pivot table\n",
    "pivot_df = df.pivot_table(index='Department', columns='Month', values='Expense', aggfunc='sum')\n"
   ]
  },
  {
   "cell_type": "code",
   "execution_count": 181,
   "id": "a14a6a8f-f8de-47b7-b786-353f291d73d6",
   "metadata": {},
   "outputs": [
    {
     "name": "stdout",
     "output_type": "stream",
     "text": [
      "   Math  Science   Name\n",
      "0    80       85  kamal\n",
      "1    90       95   anil\n",
      "   Math  Science   Name\n",
      "0    60       65  kamal\n",
      "1    90       95   anil\n",
      "   Math  Science   Name\n",
      "0    60       65  kamal\n",
      "1    80       85  kamal\n",
      "2    90       95   anil\n"
     ]
    }
   ],
   "source": [
    "df2 = pd.DataFrame({\n",
    "    'Math': [80, 90],\n",
    "    'Science': [85, 95],\n",
    "    \"Name\":[\"kamal\",\"anil\"]\n",
    "})\n",
    "\n",
    "\n",
    "df3 = pd.DataFrame({\n",
    "    'Math': [60, 90],\n",
    "    'Science': [65, 95],\n",
    "    \"Name\":[\"kamal\",\"anil\"]\n",
    "})\n",
    "\n",
    "print(df2)\n",
    "print(df3)\n",
    "\n",
    "final = pd.merge(df2, df3, how=\"outer\") # how = \"inner\", \"outer\", on=ColunmName\n",
    "print(final)"
   ]
  },
  {
   "cell_type": "code",
   "execution_count": 182,
   "id": "a21997cf-3c65-4c60-9865-e93a1a294235",
   "metadata": {},
   "outputs": [
    {
     "name": "stdout",
     "output_type": "stream",
     "text": [
      "   Math  Science        Name\n",
      "0   140      150  kamalkamal\n",
      "1   180      190    anilanil\n"
     ]
    }
   ],
   "source": [
    "df4 = df2+df3\n",
    "print(df4)"
   ]
  },
  {
   "cell_type": "code",
   "execution_count": 183,
   "id": "390f0433-5564-4344-b99c-be3d0352aa94",
   "metadata": {},
   "outputs": [
    {
     "name": "stdout",
     "output_type": "stream",
     "text": [
      "[1, 2, 3, 5, 6, 7]\n"
     ]
    }
   ],
   "source": [
    "l1 = [1,2,3]\n",
    "l2 = [5,6,7]\n",
    "l3 = l1+l2\n",
    "print(l3)"
   ]
  },
  {
   "cell_type": "code",
   "execution_count": 185,
   "id": "294947f6-b954-43ad-bca8-eeab5e3de57c",
   "metadata": {},
   "outputs": [
    {
     "name": "stdout",
     "output_type": "stream",
     "text": [
      "   Math  Science   Name\n",
      "0    80       85  kamal\n",
      "1    90       95   anil\n",
      "   Math  Science   Name\n",
      "0    60       65  kamal\n",
      "1    90       95   anil\n",
      "   Math_x  Science  Name  Math_y\n",
      "0      90       95  anil      90\n"
     ]
    }
   ],
   "source": [
    "df2 = pd.DataFrame({\n",
    "    'Math': [80, 90],\n",
    "    'Science': [85, 95],\n",
    "    \"Name\":[\"kamal\",\"anil\"]\n",
    "})\n",
    "\n",
    "\n",
    "df3 = pd.DataFrame({\n",
    "    'Math': [60, 90],\n",
    "    'Science': [65, 95],\n",
    "    \"Name\":[\"kamal\",\"anil\"]\n",
    "})\n",
    "\n",
    "print(df2)\n",
    "print(df3)\n",
    "\n",
    "final = pd.merge(df2, df3, how=\"inner\", on=[\"Science\", \"Name\"]) # how = \"inner\", \"outer\", on=ColunmName\n",
    "print(final)"
   ]
  },
  {
   "cell_type": "code",
   "execution_count": 187,
   "id": "d292bb97-fed7-48e9-9bdd-d221b2028fc0",
   "metadata": {},
   "outputs": [
    {
     "name": "stdout",
     "output_type": "stream",
     "text": [
      "   Math  Science   Name\n",
      "0    80       85  kamal\n",
      "1    90       95   anil\n",
      "0    60       65  kamal\n",
      "1    90       95   anil\n",
      "   Math  Science   Name  Math  Science   Name\n",
      "0    80       85  kamal    60       65  kamal\n",
      "1    90       95   anil    90       95   anil\n"
     ]
    }
   ],
   "source": [
    "df1 = pd.DataFrame({\n",
    "    'Math': [80, 90],\n",
    "    'Science': [85, 95],\n",
    "    \"Name\":[\"kamal\",\"anil\"]\n",
    "})\n",
    "\n",
    "\n",
    "df2 = pd.DataFrame({\n",
    "    'Math': [60, 90],\n",
    "    'Science': [65, 95],\n",
    "    \"Name\":[\"kamal\",\"anil\"]\n",
    "})\n",
    "\n",
    "\n",
    "df3 = pd.concat([df1,df2]) # axis = 0 Row\n",
    "print(df3)\n",
    "\n",
    "df4 = pd.concat([df1,df2], axis = 1) # Column\n",
    "print(df4)\n"
   ]
  },
  {
   "cell_type": "code",
   "execution_count": 193,
   "id": "6b53ddda-88d6-4232-a0ce-7bb0f4d86efd",
   "metadata": {},
   "outputs": [
    {
     "name": "stdout",
     "output_type": "stream",
     "text": [
      "   Math  Science  Name\n",
      "0  80.0       85  None\n",
      "1   NaN       95  anil\n",
      "Empty DataFrame\n",
      "Columns: [Math, Science, Name]\n",
      "Index: []\n"
     ]
    }
   ],
   "source": [
    "import numpy as np\n",
    "df1 = pd.DataFrame({\n",
    "    'Math': [80, np.nan],\n",
    "    'Science': [85, 95],\n",
    "    \"Name\":[None,\"anil\"]\n",
    "})\n",
    "# nan: not \n",
    "\n",
    "print(df1)\n",
    "df2 = df1.dropna()\n",
    "print(df2)"
   ]
  },
  {
   "cell_type": "code",
   "execution_count": 197,
   "id": "38cb8e57-4459-4766-b358-ef92dc0c6dac",
   "metadata": {},
   "outputs": [
    {
     "name": "stdout",
     "output_type": "stream",
     "text": [
      "   Math  Science     Name\n",
      "0  80.0       85  kaml123\n",
      "1   NaN       95  anil234\n",
      "   Math  Science       ID\n",
      "0  80.0       85  kaml123\n",
      "1   NaN       95  anil234\n"
     ]
    },
    {
     "ename": "ValueError",
     "evalue": "Length mismatch: Expected axis has 3 elements, new values have 2 elements",
     "output_type": "error",
     "traceback": [
      "\u001b[31m---------------------------------------------------------------------------\u001b[39m",
      "\u001b[31mValueError\u001b[39m                                Traceback (most recent call last)",
      "\u001b[36mCell\u001b[39m\u001b[36m \u001b[39m\u001b[32mIn[197]\u001b[39m\u001b[32m, line 13\u001b[39m\n\u001b[32m      9\u001b[39m df2 = df1.rename(columns={\u001b[33m\"\u001b[39m\u001b[33mName\u001b[39m\u001b[33m\"\u001b[39m:\u001b[33m\"\u001b[39m\u001b[33mID\u001b[39m\u001b[33m\"\u001b[39m})\n\u001b[32m     10\u001b[39m \u001b[38;5;28mprint\u001b[39m(df2)\n\u001b[32m---> \u001b[39m\u001b[32m13\u001b[39m \u001b[43mdf1\u001b[49m\u001b[43m.\u001b[49m\u001b[43mcolumns\u001b[49m = [\u001b[33m\"\u001b[39m\u001b[33mMath\u001b[39m\u001b[33m\"\u001b[39m,  \u001b[33m\"\u001b[39m\u001b[33mScience\u001b[39m\u001b[33m\"\u001b[39m]\n\u001b[32m     14\u001b[39m \u001b[38;5;28mprint\u001b[39m(df1)\n",
      "\u001b[36mFile \u001b[39m\u001b[32m~/Documents/virtualEnvs/DeepCode/lib/python3.13/site-packages/pandas/core/generic.py:6313\u001b[39m, in \u001b[36mNDFrame.__setattr__\u001b[39m\u001b[34m(self, name, value)\u001b[39m\n\u001b[32m   6311\u001b[39m \u001b[38;5;28;01mtry\u001b[39;00m:\n\u001b[32m   6312\u001b[39m     \u001b[38;5;28mobject\u001b[39m.\u001b[34m__getattribute__\u001b[39m(\u001b[38;5;28mself\u001b[39m, name)\n\u001b[32m-> \u001b[39m\u001b[32m6313\u001b[39m     \u001b[38;5;28;01mreturn\u001b[39;00m \u001b[38;5;28;43mobject\u001b[39;49m\u001b[43m.\u001b[49m\u001b[34;43m__setattr__\u001b[39;49m\u001b[43m(\u001b[49m\u001b[38;5;28;43mself\u001b[39;49m\u001b[43m,\u001b[49m\u001b[43m \u001b[49m\u001b[43mname\u001b[49m\u001b[43m,\u001b[49m\u001b[43m \u001b[49m\u001b[43mvalue\u001b[49m\u001b[43m)\u001b[49m\n\u001b[32m   6314\u001b[39m \u001b[38;5;28;01mexcept\u001b[39;00m \u001b[38;5;167;01mAttributeError\u001b[39;00m:\n\u001b[32m   6315\u001b[39m     \u001b[38;5;28;01mpass\u001b[39;00m\n",
      "\u001b[36mFile \u001b[39m\u001b[32mproperties.pyx:69\u001b[39m, in \u001b[36mpandas._libs.properties.AxisProperty.__set__\u001b[39m\u001b[34m()\u001b[39m\n",
      "\u001b[36mFile \u001b[39m\u001b[32m~/Documents/virtualEnvs/DeepCode/lib/python3.13/site-packages/pandas/core/generic.py:814\u001b[39m, in \u001b[36mNDFrame._set_axis\u001b[39m\u001b[34m(self, axis, labels)\u001b[39m\n\u001b[32m    809\u001b[39m \u001b[38;5;250m\u001b[39m\u001b[33;03m\"\"\"\u001b[39;00m\n\u001b[32m    810\u001b[39m \u001b[33;03mThis is called from the cython code when we set the `index` attribute\u001b[39;00m\n\u001b[32m    811\u001b[39m \u001b[33;03mdirectly, e.g. `series.index = [1, 2, 3]`.\u001b[39;00m\n\u001b[32m    812\u001b[39m \u001b[33;03m\"\"\"\u001b[39;00m\n\u001b[32m    813\u001b[39m labels = ensure_index(labels)\n\u001b[32m--> \u001b[39m\u001b[32m814\u001b[39m \u001b[38;5;28;43mself\u001b[39;49m\u001b[43m.\u001b[49m\u001b[43m_mgr\u001b[49m\u001b[43m.\u001b[49m\u001b[43mset_axis\u001b[49m\u001b[43m(\u001b[49m\u001b[43maxis\u001b[49m\u001b[43m,\u001b[49m\u001b[43m \u001b[49m\u001b[43mlabels\u001b[49m\u001b[43m)\u001b[49m\n\u001b[32m    815\u001b[39m \u001b[38;5;28mself\u001b[39m._clear_item_cache()\n",
      "\u001b[36mFile \u001b[39m\u001b[32m~/Documents/virtualEnvs/DeepCode/lib/python3.13/site-packages/pandas/core/internals/managers.py:238\u001b[39m, in \u001b[36mBaseBlockManager.set_axis\u001b[39m\u001b[34m(self, axis, new_labels)\u001b[39m\n\u001b[32m    236\u001b[39m \u001b[38;5;28;01mdef\u001b[39;00m\u001b[38;5;250m \u001b[39m\u001b[34mset_axis\u001b[39m(\u001b[38;5;28mself\u001b[39m, axis: AxisInt, new_labels: Index) -> \u001b[38;5;28;01mNone\u001b[39;00m:\n\u001b[32m    237\u001b[39m     \u001b[38;5;66;03m# Caller is responsible for ensuring we have an Index object.\u001b[39;00m\n\u001b[32m--> \u001b[39m\u001b[32m238\u001b[39m     \u001b[38;5;28;43mself\u001b[39;49m\u001b[43m.\u001b[49m\u001b[43m_validate_set_axis\u001b[49m\u001b[43m(\u001b[49m\u001b[43maxis\u001b[49m\u001b[43m,\u001b[49m\u001b[43m \u001b[49m\u001b[43mnew_labels\u001b[49m\u001b[43m)\u001b[49m\n\u001b[32m    239\u001b[39m     \u001b[38;5;28mself\u001b[39m.axes[axis] = new_labels\n",
      "\u001b[36mFile \u001b[39m\u001b[32m~/Documents/virtualEnvs/DeepCode/lib/python3.13/site-packages/pandas/core/internals/base.py:98\u001b[39m, in \u001b[36mDataManager._validate_set_axis\u001b[39m\u001b[34m(self, axis, new_labels)\u001b[39m\n\u001b[32m     95\u001b[39m     \u001b[38;5;28;01mpass\u001b[39;00m\n\u001b[32m     97\u001b[39m \u001b[38;5;28;01melif\u001b[39;00m new_len != old_len:\n\u001b[32m---> \u001b[39m\u001b[32m98\u001b[39m     \u001b[38;5;28;01mraise\u001b[39;00m \u001b[38;5;167;01mValueError\u001b[39;00m(\n\u001b[32m     99\u001b[39m         \u001b[33mf\u001b[39m\u001b[33m\"\u001b[39m\u001b[33mLength mismatch: Expected axis has \u001b[39m\u001b[38;5;132;01m{\u001b[39;00mold_len\u001b[38;5;132;01m}\u001b[39;00m\u001b[33m elements, new \u001b[39m\u001b[33m\"\u001b[39m\n\u001b[32m    100\u001b[39m         \u001b[33mf\u001b[39m\u001b[33m\"\u001b[39m\u001b[33mvalues have \u001b[39m\u001b[38;5;132;01m{\u001b[39;00mnew_len\u001b[38;5;132;01m}\u001b[39;00m\u001b[33m elements\u001b[39m\u001b[33m\"\u001b[39m\n\u001b[32m    101\u001b[39m     )\n",
      "\u001b[31mValueError\u001b[39m: Length mismatch: Expected axis has 3 elements, new values have 2 elements"
     ]
    }
   ],
   "source": [
    "import numpy as np\n",
    "df1 = pd.DataFrame({\n",
    "    'Math': [80, np.nan],\n",
    "    'Science': [85, 95],\n",
    "    \"Name\":[\"kaml123\",\"anil234\"]\n",
    "})\n",
    "print(df1)\n",
    "\n",
    "df2 = df1.rename(columns={\"Name\":\"ID\"})\n",
    "print(df2)\n",
    "\n",
    "df1.columns = [\"Math\",  \"Science\",    \"ID\"]\n",
    "print(df1)"
   ]
  },
  {
   "cell_type": "code",
   "execution_count": 198,
   "id": "93bb0d20-45ab-415c-aef1-14902a349713",
   "metadata": {},
   "outputs": [
    {
     "name": "stdout",
     "output_type": "stream",
     "text": [
      "   Math  Science     Name\n",
      "0    80       85  kaml123\n",
      "1    90       95  anil234\n",
      "   Math  Science     Name\n",
      "1    90       95  anil234\n"
     ]
    }
   ],
   "source": [
    "import numpy as np\n",
    "df1 = pd.DataFrame({\n",
    "    'Math': [80, 90],\n",
    "    'Science': [85, 95],\n",
    "    \"Name\":[\"kaml123\",\"anil234\"]\n",
    "})\n",
    "print(df1)\n",
    "\n",
    "df2 = df1[df1[\"Math\"]>80]\n",
    "print(df2)"
   ]
  },
  {
   "cell_type": "code",
   "execution_count": 205,
   "id": "573bd1f6-a7ac-405d-898a-7c035cac4b46",
   "metadata": {},
   "outputs": [
    {
     "name": "stdout",
     "output_type": "stream",
     "text": [
      "Math       1\n",
      "Science    0\n",
      "Name       1\n",
      "dtype: int64\n",
      "<class 'pandas.core.frame.DataFrame'>\n",
      "RangeIndex: 2 entries, 0 to 1\n",
      "Data columns (total 3 columns):\n",
      " #   Column   Non-Null Count  Dtype  \n",
      "---  ------   --------------  -----  \n",
      " 0   Math     1 non-null      float64\n",
      " 1   Science  2 non-null      int64  \n",
      " 2   Name     1 non-null      object \n",
      "dtypes: float64(1), int64(1), object(1)\n",
      "memory usage: 180.0+ bytes\n"
     ]
    }
   ],
   "source": [
    "import numpy as np\n",
    "df1 = pd.DataFrame({\n",
    "    'Math': [np.nan, 90],\n",
    "    'Science': [85, 95],\n",
    "    \"Name\":[\"kaml123\",None]\n",
    "})\n",
    "\n",
    "print(df1.isnull().sum())\n",
    "df1.info()"
   ]
  },
  {
   "cell_type": "code",
   "execution_count": 206,
   "id": "57f345ac-8172-4a3b-804d-db0fe07f5adf",
   "metadata": {},
   "outputs": [],
   "source": [
    "df1 = pd.DataFrame({\n",
    "    'Math': [80, 90],\n",
    "    'Science': [85, 95],\n",
    "    \"Name\":[\"kamal\",\"anil\"]\n",
    "})\n",
    "\n",
    "\n",
    "df2 = pd.DataFrame({\n",
    "    'Math': [60, 90],\n",
    "    'Science': [65, 95],\n",
    "    \"Name\":[\"kamal\",\"anil\"]\n",
    "})\n",
    "\n"
   ]
  },
  {
   "cell_type": "code",
   "execution_count": null,
   "id": "5829ad5f-bdd7-4f83-8193-0d045fe52e30",
   "metadata": {},
   "outputs": [],
   "source": []
  }
 ],
 "metadata": {
  "kernelspec": {
   "display_name": "Python3 (DeepCode)",
   "language": "python",
   "name": "deepcode"
  },
  "language_info": {
   "codemirror_mode": {
    "name": "ipython",
    "version": 3
   },
   "file_extension": ".py",
   "mimetype": "text/x-python",
   "name": "python",
   "nbconvert_exporter": "python",
   "pygments_lexer": "ipython3",
   "version": "3.13.3"
  }
 },
 "nbformat": 4,
 "nbformat_minor": 5
}
