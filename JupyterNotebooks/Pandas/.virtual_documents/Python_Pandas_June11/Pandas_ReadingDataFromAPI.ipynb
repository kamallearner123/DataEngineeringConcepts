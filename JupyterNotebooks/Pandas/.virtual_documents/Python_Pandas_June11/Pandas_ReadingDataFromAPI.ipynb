








!pip install requests pandas





import requests
import pandas as pd

# Replace this with your actual API Gateway URL
api_gateway_url = "https://jsonplaceholder.typicode.com/posts"

try:
    response = requests.get(api_gateway_url)
    response.raise_for_status() # Raise an exception for HTTP errors (4xx or 5xx)
    
    # Check if the request was successful (status code 200)
    if response.status_code == 200:
        data = response.json() # Parse the JSON response
        print("Successfully fetched data!")
        for i in data:
            print(i)
    else:
        print(f"Failed to fetch data. Status code: {response.status_code}")
        print("Response content:", response.text)
        
except requests.exceptions.HTTPError as http_err:
    print(f"HTTP error occurred: {http_err}")
except requests.exceptions.ConnectionError as conn_err:
    print(f"Connection error occurred: {conn_err}")
except requests.exceptions.Timeout as timeout_err:
    print(f"Timeout error occurred: {timeout_err}")
except requests.exceptions.RequestException as req_err:
    print(f"An error occurred: {req_err}")








# Example: API Key (replace 'YOUR_API_KEY' with your actual key)
headers = {
    "x-api-key": "YOUR_API_KEY", 
    "Content-Type": "application/json"
}

# For this demo, the placeholder API doesn't use API keys, 
# so we'll use a different endpoint that accepts query parameters.
api_gateway_url_with_params = "https://jsonplaceholder.typicode.com/comments"

try:
    # Make the request with headers
    # In a real scenario, this URL would be your API Gateway endpoint requiring the key
    response_with_headers = requests.get(api_gateway_url_with_params, headers=headers)
    response_with_headers.raise_for_status()
    print("Request with headers successful (if API supported it)!")
    print(response_with_headers.json()[:1]) # Uncomment to see response

except requests.exceptions.RequestException as e:
    print(f"Error making request with headers: {e}")





# Example: Get comments for a specific post ID
params = {
    "postId": 1 # Get comments belonging to post ID 1
}

try:
    response_with_params = requests.get(api_gateway_url_with_params, params=params)
    response_with_params.raise_for_status()
    
    comments_data = response_with_params.json()
    print(f"Fetched {len(comments_data)} comments for postId=1.")
    print("First comment:", comments_data[0])
    
except requests.exceptions.RequestException as e:
    print(f"Error making request with parameters: {e}")





# Re-fetch data from the original posts endpoint for a clean DataFrame example
import requests
import pandas as pd
api_gateway_url = "https://jsonplaceholder.typicode.com/posts"

try:
    response_posts = requests.get(api_gateway_url)
    response_posts.raise_for_status()
    
    posts_data = response_posts.json()
    
    # Convert JSON data to Pandas DataFrame
    df_posts = pd.DataFrame(posts_data)
    
    print("\n--- Posts DataFrame Head ---")
    print(df_posts.head())
    
    print("\n--- Posts DataFrame Info ---")
    df_posts.info()
    
    print("\n--- Posts by User ID (Top 5) ---")
    print(df_posts['userId'].value_counts().head())


    df_posts['userId'].value_counts().plot(kind='bar')
    
except requests.exceptions.RequestException as e:
    print(f"Error fetching posts data: {e}")





import numpy as np

l1 = np.array([12,23,45,6,7,8,9,0,1,2,3,44,3,5,6,77,88,0,4,33,2,2,2,2,2])
price = l1*100
dates = ["Day"+str(num) for num in range(1, len(l1)+1)]
df1 = pd.DataFrame({"sales":l1, "price":price}, index=["Item"+str(num) for num in range(1, len(l1)+1)])
df1['dates'] = dates
#print(df1.head())
# print("df1.iloc[1,0] = ", df1.iloc[1,0])
# print("df1.loc[\"Item1\"] = ", df1.loc["Item2"]["sales"])

# Group by sales and sum all prices 
df2 = df1.groupby('dates')['price'].sum().sort_values(ascending=False)
df_posts = df2[:10]
print(df_posts)


%matplotlib inline
import matplotlib.pyplot as plt


import numpy as np

l1 = np.array([12,23,45,6,7,8,9,0,1,2,3,44,3,5,6,77,88,0,4,33,2,2,2,2,2])
price = l1*100
dates = ["Day"+str(num) for num in range(1, len(l1)+1)]
df1 = pd.DataFrame({"sales":l1, "price":price}, index=["Item"+str(num) for num in range(1, len(l1)+1)])
df1['dates'] = dates
#print(df1.head())
# print("df1.iloc[1,0] = ", df1.iloc[1,0])
# print("df1.loc[\"Item1\"] = ", df1.loc["Item2"]["sales"])

# Group by sales and sum all prices 
df2 = df1.groupby('dates')['price'].sum().sort_values(ascending=False)
df_posts = df2[:10]
print(df_posts)
plt.figure(figsize=(9, 6))
plt.scatter(df_posts['dates'], df_posts['price'], alpha=0.7, color='teal', s=100) # s for size of markers
plt.title('Post ID vs. User ID')
plt.xlabel('User ID')
plt.ylabel('Post ID')
plt.xticks(df_posts['userId'].unique())
plt.grid(True, linestyle='--', alpha=0.6)
plt.show()



