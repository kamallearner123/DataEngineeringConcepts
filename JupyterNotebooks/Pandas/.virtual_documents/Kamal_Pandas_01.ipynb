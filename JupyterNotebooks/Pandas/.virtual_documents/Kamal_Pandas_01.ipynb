import pandas as pd
import numpy as np


l1 = list(range(1001, 1014))
l1.append(np.nan)

customer_orders_data = {
    'CustomerID': ['CUST001', 'CUST002', 'CUST001', 'CUST003', 
                   'CUST001', 'CUST002', 'CUST004', 'CUST003', 'CUST005', 
                   'CUST001', 'CUST002', 'CUST006', 'CUST001', pd.NA],
    'OrderID': l1,
    'OrderValue': np.random.randint(20, 500, size=14)
}
df = pd.DataFrame(data=customer_orders_data)
df.info()

print(df["OrderValue"].sum())



# Group by
l1 = list(range(1001, 1014))
l1.append(np.nan)

customer_orders_data = {
    'CustomerID': ['CUST001', 'CUST002', 'CUST001', 'CUST003', 
                   'CUST001', 'CUST002', 'CUST004', 'CUST003', 'CUST005', 
                   'CUST001', 'CUST002', 'CUST006', 'CUST001', pd.NA],
    'OrderID': l1,
    'OrderValue': np.random.randint(20, 500, size=14)
}
df = pd.DataFrame(data=customer_orders_data)
df.info()

print(df["OrderValue"].sum())

df2 = df.groupby('CustomerID').agg(
    OrderCount = ('OrderID', 'count'),
    TotalOrderValue = ('OrderValue', 'sum'),
    AverageOrderValue = ('OrderValue', 'mean')
)
print("--- df2 -----"*5)
print(df2)

df2.to_csv("Sample.csv")
df2.to_excel("Sample.xlsx")

import matplotlib.pyplot as plt
df2["TotalOrderValue"].hist()
plt.xlabel("CustomerID")
plt.ylabel("Value")
plt.show()
df2["OrderCount"].plot()
plt.show()


l1 = list(range(100,114))
customer_orders_data = {
    'CustomerID': ['CUST001', 'CUST002', 'CUST001', 'CUST003', 
                   'CUST001', 'CUST002', 'CUST004', 'CUST003', 'CUST005', 
                   'CUST001', 'CUST002', 'CUST006', 'CUST001', pd.NA],
    'OrderID': l1,
    'OrderValue': np.random.randint(20, 500, size=14)
}

df1 = pd.DataFrame(customer_orders_data)
print(f"df1 = {df1}")

df2 = pd.DataFrame( {"CustomerID":["CUST001"],
          "OrderID":[100],
          "OrderValue":[200]})
print(f"df2 = {df2}")
df3 = pd.merge(df1, df2, how='outer', on=["CustomerID","OrderID","OrderValue"])
print(df3)



