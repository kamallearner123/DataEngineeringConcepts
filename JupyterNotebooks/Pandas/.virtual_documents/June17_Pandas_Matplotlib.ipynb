






%matplotlib inline
import matplotlib.pyplot as plt

x = [0,1,2,3,4,5]
y = [i**2 for i in x]
z = [i**3 for i in x]

fig, (graph1, graph2) = plt.subplots(1,2) 
graph1.plot(x,y)
graph1.set_xlabel("x")
graph1.set_ylabel("Square")
graph1.set_title("x vs Square")
graph2.plot(x,z)
graph2.set_xlabel("x")
graph2.set_ylabel("Cube")
graph2.set_title("x vs Cube")




%matplotlib inline
import matplotlib.pyplot as plt

x = [0,1,2,3,4,5]
y = [i**2 for i in x]
z = [i**3 for i in x]

fig, (graph1, graph2) = plt.subplots(1,2) 
graph1.scatter(x,y)
graph1.set_xlabel("x")
graph1.set_ylabel("Square")
graph1.set_title("x vs Square")
graph2.scatter(x,z)
graph2.set_xlabel("x")
graph2.set_ylabel("Cube")
graph2.set_title("x vs Cube")



%matplotlib inline
import matplotlib.pyplot as plt

x = [0,1,2,3,4,5]
y = [i**2 for i in x]
z = [i**3 for i in x]

print(plt.style.available)

plt.style.use('Solarize_Light2')
fig, (graph1, graph2) = plt.subplots(1,2) 
graph1.scatter(x,y)
graph1.set_xlabel("x")
graph1.set_ylabel("Square")
graph1.set_title("x vs Square")
graph2.scatter(x,z)
graph2.set_xlabel("x")
graph2.set_ylabel("Cube")
graph2.set_title("x vs Cube")
fig.savefig("MatplotLibPractices.jpeg")





import seaborn as sns
import pandas as pd
%matplotlib inline
import matplotlib.pyplot as plt

df = sns.load_dataset("tips")
print(df.info())
df = df.dropna()









import seaborn as sns
import pandas as pd
import matplotlib.pyplot as plt

df = sns.load_dataset("titanic")













import pandas as pd
import seaborn as sns

# Load the car_crashes dataset
df_crashes = sns.load_dataset('car_crashes')












import pandas as pd
import seaborn as sns

# Load the flights dataset
df_flights = sns.load_dataset('flights')
