# Numpy
import numpy
a = numpy.array([0,1,2,3,4,5,6,7,8]) 
b = numpy.array([10,20,30,40,50,60,70,80,90]) 
print("Fata type of a is ", type(a))
print(a)
print(b)

addition = a+b #a.__add__(b)
print(subt)


# Python lists
l1 = [0,1,2,3,4,5,6,7,8]
l2 = [10,20,30,40,50,60,70,80,90]
l3 = l1+l2 # l1.__add__(l2)
result = []
for i in range(len(l1)):
    '''
    unpacking
    operation
    packing
    '''
print(l3)


# Numpy
import numpy
a = numpy.array([0,1,2,3,4,5,6,7,8,9.0]) 
b = numpy.array([0,10,20,30,40,50,60,70,80,90]) 
print("Fata type of a is ", type(a))
print(a)
print(b)

addition = a+b #a.__add__(b)
print(addition)


a = numpy.array([0,1,2,3,4,5,6,7,8,9]) 
print(a.dtype)


l1 = [1,2,3,4,5,6,7,8,9] # <=2 power 16
A = numpy.array(l1, dtype='int16')
print(A.size)

import sys
sys.getsizeof(A)


l1 = list(range(1000)) # <=2 power 16
A = numpy.array(l1, dtype='int16') # each element consumes 16 bits
# 16*1000/8 : Bytes

import sys
print("Size of list A =", sys.getsizeof(A)) # 2000 
print("Size of list l1 =",sys.getsizeof(l1))


print(16*1000/8)


import time
import numpy as np
num = 10000000

# using python lists to add two lists and create new list
count = num
l1=list(range(count))
l2=list(range(count))

start=time.time() # start time
list3 = [l1[i]+l2[i] for i in range(num)] # list comprehension
end=time.time() # Stop time
elapsed = 1000*(end-start)
print("List time taken by list comprehension:",elapsed)



a1 = np.arange(count)
a2 = np.arange(count)
start=time.time()
a3=a1+a2
end=time.time()
elapsed = 1000*(end-start)
print("Numpy time:",elapsed)



# Generate square of all odd number from 100 to 200
l1 = list(range(101,200,2))
print(l1)
l2 = []
for num in l1:
    l2.append(num**2)
print(l2)

# list comprehension
#    [operation for i in range(100)]
list_comp = [num**2 for num in range(101, 200, 2)]

map_op    = list(map(lambda x:x**2, range(101,200,2)))
     


# Need to call "filter" and then "map"
list_comp = [num**2 for num in range(101, 200, 2) if num%3==0] # list comprehension
print(list_comp)











# Pandas Series
dict1 = {"One":1, "Two":2} # 1,2 : int64
print("Using dictionary:", dict1)

# Converting to pandas series
import pandas as pd
s1 = pd.Series(dict1)# 1,2 : int64
print("Pandas Series:\n", s1)

s1.describe()
print(s1.dtype)

print(s1+2) # Adding 2 to all the values
print(s1*2) # Adding 2 to all the values


# Pandas Series
dict1 = {"One":"A", "Two":"B", "Three":2}
print("Using dictionary:", dict1)

# Converting to pandas series
import pandas as pd
s1 = pd.Series(dict1)
print("Pandas Series:\n", s1)

s1.describe()
print("*"*100)
print(s1.dtype)


# Pandas Series
dict1 = {"One":1, "Two":2} # 1,2 : int64
print("Using dictionary:", dict1)

# Converting to pandas series
import pandas as pd
s1 = pd.Series(dict1, dtype='int32')# 1,2 : int64
print("Pandas Series:\n", s1)

s1.describe()
print(s1.dtype)

print(s1+2) # Adding 2 to all the values
print(s1*2) # Adding 2 to all the values


l1 = list(range(1000))
s1 = pd.Series(l1) # Converting list -> pandas series
s1.tail()
s1.to_csv("S1.csv")





# Pandas Series
dict1 = {"One":"A", "Two":"B", "Three":"D","Four":"C"}
print("Using dictionary:", dict1)

# Converting to pandas series
import pandas as pd
s1 = pd.Series(dict1)
s1.describe()
s1.info()




# Pandas Series
dict1 = {"One":"A", "Two":"B", "Three":"D","Four":"C"}
dict2 = {"One":"AA"}
print("Using dictionary:", dict1)

# Converting to pandas series
import pandas as pd
s1 = pd.Series(dict1)
s2 = pd.Series(dict2)
s3 = s1+s2
print(s3)
s4 = s3.fillna("---")
print(s4)

s5 = s3.dropna()
print(s5)


dict1 = {"One":"A", "Two":"B", "Three":"D","Four":"C"}
s1 = pd.Series(dict1)
s1["One"]


sales = [12,34,56,7,0,12,34]
s1 = pd.Series(sales)
print(s1.describe())

s2 = s1.sort_values()
s2.plot(kind="bar")



marks = [0,11,25,50,75,100]
s1 = pd.Series(marks)
print(s1.describe())


marks = [50,60,60,50,75,100]
s1 = pd.Series(marks)
print(s1.describe())





sales = list(range(1,101))
s1 = pd.Series(sales)
print(s1.describe())

s2 = s1.sort_values()
s2.plot(kind="bar")
s2.to_csv("s2.csv")


!cat s2.csv















import pandas as pd
import numpy as np # Used for random data generation

# Create a dummy sales DataFrame
sales_data = {
    'OrderID': range(101, 116),
    'OrderDate': pd.to_datetime(['2024-01-05', '2024-01-07', '2024-01-08', '2024-01-10', '2024-01-12',
                                 '2024-02-01', '2024-02-03', '2024-02-05', '2024-02-08', '2024-02-10',
                                 '2024-03-01', '2024-03-03', '2024-03-05', '2024-03-07', '2024-03-09']),
    'ProductID': ['P001', 'P003', 'P001', 'P002', 'P005', 'P001', 'P004', 'P002', 'P003', 'P001',
                  'P006', 'P001', 'P002', 'P005', 'P003'],
    'ProductName': ['Laptop', 'Mouse', 'Laptop', 'Keyboard', 'Webcam', 'Laptop', 'Monitor', 'Keyboard', 'Mouse', 'Laptop',
                    'Headphones', 'Laptop', 'Keyboard', 'Webcam', 'Mouse'],
    'Quantity': [1, 2, 1, 1, 1, 2, 1, 1, 2, 1, 1, 1, 1, 1, 2],
    'UnitPrice': [1200.00, 25.00, 1200.00, 75.00, 50.00, 1200.00, 200.00, 75.00, 25.00, 1200.00,
                  100.00, 1200.00, 75.00, 50.00, 25.00],
    'Region': ['North', 'South', 'East', 'West', 'North', 'South', 'East', 'West', 'North', 'South',
               'East', 'West', 'North', 'South', 'East']
}

d1 = pd.DataFrame(sales_data)


print(d1)
print(d1['ProductID'])

d1.describe()
d1.plot()



import pandas as pd
import numpy as np # Used for random data generation

# Create a dummy sales DataFrame
sales_data = {
    'OrderID': range(101, 116),
    'OrderDate': pd.to_datetime(['2024-01-05', '2024-01-07', '2024-01-08', '2024-01-10', '2024-01-12',
                                 '2024-02-01', '2024-02-03', '2024-02-05', '2024-02-08', '2024-02-10',
                                 '2024-03-01', '2024-03-03', '2024-03-05', '2024-03-07', '2024-03-09']),
    'ProductID': ['P001', 'P003', 'P001', 'P002', 'P005', 'P001', 'P004', 'P002', 'P003', 'P001',
                  'P006', 'P001', 'P002', 'P005', 'P003'],
    'ProductName': ['Laptop', 'Mouse', 'Laptop', 'Keyboard', 'Webcam', 'Laptop', 'Monitor', 'Keyboard', 'Mouse', 'Laptop',
                    'Headphones', 'Laptop', 'Keyboard', 'Webcam', 'Mouse'],
    'Quantity': [1, 2, 1, 1, 1, 2, 1, 1, 2, 1, 1, 1, 1, 1, 2],
    'UnitPrice': [1200.00, 25.00, 1200.00, 75.00, 50.00, 1200.00, 200.00, 75.00, 25.00, 1200.00,
                  100.00, 1200.00, 75.00, 50.00, 25.00],
    'Region': ['North', 'South', 'East', 'West', 'North', 'South', 'East', 'West', 'North', 'South',
               'East', 'West', 'North', 'South', 'East']
}

d1 = pd.DataFrame(sales_data)
d1.loc[0] # Accesing using name of the row
d1.iloc[1] # Accessing using index number

for i in range(0, len(d1), 4):
    print(d1.iloc[i])




# Adding new column
# Create a dummy sales DataFrame
sales_data = {
    'OrderID': range(101, 116),
    'OrderDate': pd.to_datetime(['2024-01-05', '2024-01-07', '2024-01-08', '2024-01-10', '2024-01-12',
                                 '2024-02-01', '2024-02-03', '2024-02-05', '2024-02-08', '2024-02-10',
                                 '2024-03-01', '2024-03-03', '2024-03-05', '2024-03-07', '2024-03-09']),
    'ProductID': ['P001', 'P003', 'P001', 'P002', 'P005', 'P001', 'P004', 'P002', 'P003', 'P001',
                  'P006', 'P001', 'P002', 'P005', 'P003'],
    'ProductName': ['Laptop', 'Mouse', 'Laptop', 'Keyboard', 'Webcam', 'Laptop', 'Monitor', 'Keyboard', 'Mouse', 'Laptop',
                    'Headphones', 'Laptop', 'Keyboard', 'Webcam', 'Mouse'],
    'Quantity': [1, 2, 1, 1, 1, 2, 1, 1, 2, 1, 1, 1, 1, 1, 2],
    'UnitPrice': [1200.00, 25.00, 1200.00, 75.00, 50.00, 1200.00, 200.00, 75.00, 25.00, 1200.00,
                  100.00, 1200.00, 75.00, 50.00, 25.00],
    'Region': ['North', 'South', 'East', 'West', 'North', 'South', 'East', 'West', 'North', 'South',
               'East', 'West', 'North', 'South', 'East']
}

import numpy as np
d1 = pd.DataFrame(sales_data)
d1["Store ID"] = np.nan
print(d1)


# Adding new column
# Create a dummy sales DataFrame
sales_data = {
    'OrderID': range(101, 116),
    'OrderDate': pd.to_datetime(['2024-01-05', '2024-01-07', '2024-01-08', '2024-01-10', '2024-01-12',
                                 '2024-02-01', '2024-02-03', '2024-02-05', '2024-02-08', '2024-02-10',
                                 '2024-03-01', '2024-03-03', '2024-03-05', '2024-03-07', '2024-03-09']),
    'ProductID': ('P001', 'P003', 'P001', 'P002', 'P005', 'P001', 'P004', 'P002', 'P003', 'P001',
                  'P006', 'P001', 'P002', 'P005', 'P003'),
    'ProductName': ['Laptop', 'Mouse', 'Laptop', 'Keyboard', 'Webcam', 'Laptop', 'Monitor', 'Keyboard', 'Mouse', 'Laptop',
                    'Headphones', 'Laptop', 'Keyboard', 'Webcam', 'Mouse'],
    'Quantity': [1, 2, 1, 1, 1, 2, 1, 1, 2, 1, 1, 1, 1, 1, 2],
    'UnitPrice': [1200.00, 25.00, 1200.00, 75.00, 50.00, 1200.00, 200.00, 75.00, 25.00, 1200.00,
                  100.00, 1200.00, 75.00, 50.00, 25.00],
    'Region': ['North', 'South', 'East', 'West', 'North', 'South', 'East', 'West', 'North', 'South',
               'East', 'West', 'North', 'South', 'East']
}

import numpy as np
d1 = pd.DataFrame(sales_data)
l1 = []
for i in range(len(d1)):
    l1.append("Store"+str(i+1))
d1["Store ID"] = l1
print(d1)




!pip install seaborn


import seaborn as sb
d1 = sb.load_dataset('tips')
print(d1.head())
































from matplotlib.pyplot import plot as plt
plt([1,2,5])


a = np.matrix([1,2,3,4]).reshape((2,2))
b = np.matrix([1,2,3,4]).reshape([2,2])
print(a)
print(b)
c = a+b
print("c = ", c)
c = a*b
print("c = ", c)
c = a-b
print("c = ", c)





# Statement:
'''
1) Read huge data from .txt

[2025-05-26 15:28:30] COMPONENT:LoadBalancer STATUS:FAIL ERROR:4002
[2025-05-26 15:32:51] COMPONENT:DatabaseService STATUS:SUCCESS ERROR:0
[2025-05-26 15:36:27] COMPONENT:AuthService STATUS:SUCCESS ERROR:0
[2025-05-26 15:38:46] COMPONENT:APIGateway STATUS:SUCCESS ERROR:0
[2025-05-26 15:43:16] COMPONENT:LoadBalancer STATUS:FAIL ERROR:2002
[2025-05-26 15:46:21] COMPONENT:AuthService STATUS:FAIL ERROR:5002
[2025-05-26 15:48:36] COMPONENT:FileSystem STATUS:FAIL ERROR:4001
[2025-05-26 15:52:05] COMPONENT:AuthService STATUS:FAIL ERROR:5001
[2025-05-26 15:56:41] COMPONENT:FileSystem STATUS:FAIL ERROR:3002
[2025-05-26 16:01:17] COMPONENT:LoadBalancer STATUS:FAIL ERROR:4001

2) Prase data time, component, status and errno
3) Keep data in csv file
4) Read data from csv
5) Analyse
    - What is the error number frequently raised
    - Which component is giving more errors
    
'''

# fd = open("./data/huge_test_log.txt")
# fd.read(100)
# fd.close() # Releasing the resource
import re

#Context managers in python
# 1) Read huge data from .txt
# 2) Prase data time, component, status and errno
with open("./data/huge_test_log.txt") as fd:
    num_lines = 10
    result = []
    for line in fd:
        print(line)
        num_lines -= 1
        if num_lines == 0:
            break
        data = re.findall(r'\[(.*)\] COMPONENT:(.*) STATUS:(\w+) ERROR:(\d+)', line)
        print(data)
        print(data[0][0])
        
        





# Statement:
'''
1) Read huge data from .txt

[2025-05-26 15:28:30] COMPONENT:LoadBalancer STATUS:FAIL ERROR:4002
[2025-05-26 15:32:51] COMPONENT:DatabaseService STATUS:SUCCESS ERROR:0
[2025-05-26 15:36:27] COMPONENT:AuthService STATUS:SUCCESS ERROR:0
[2025-05-26 15:38:46] COMPONENT:APIGateway STATUS:SUCCESS ERROR:0
[2025-05-26 15:43:16] COMPONENT:LoadBalancer STATUS:FAIL ERROR:2002
[2025-05-26 15:46:21] COMPONENT:AuthService STATUS:FAIL ERROR:5002
[2025-05-26 15:48:36] COMPONENT:FileSystem STATUS:FAIL ERROR:4001
[2025-05-26 15:52:05] COMPONENT:AuthService STATUS:FAIL ERROR:5001
[2025-05-26 15:56:41] COMPONENT:FileSystem STATUS:FAIL ERROR:3002
[2025-05-26 16:01:17] COMPONENT:LoadBalancer STATUS:FAIL ERROR:4001

2) Prase data time, component, status and errno
3) Keep data in csv file
4) Read data from csv
5) Analyse
    - What is the error number frequently raised
    - Which component is giving more errors
    
'''

# fd = open("./data/huge_test_log.txt")
# fd.read(100)
# fd.close() # Releasing the resource
import re

#Context managers in python
# 1) Read huge data from .txt
# 2) Prase data time, component, status and errno
with open("./data/huge_test_log.txt") as fd:
    num_lines = 10
    result = []
    for line in fd:
        num_lines -= 1
        if num_lines == 0:
            break
        data = re.findall(r'\[(.*)\] COMPONENT:(.*) STATUS:(\w+) ERROR:(\d+)', line)
        result.append({
            "time":data[0][0],
            "component":data[0][1],
            "status":data[0][2],
            "errno":data[0][3],
        })

# 3) Keep the data in csv file
df = pd.DataFrame(result)
#print(df)
df.to_csv("file.csv")


df =pd.read_csv("file.csv")
#print(df)

#print(df['time'])
#print(df[df['component']=="LoadBalancer"])

#df.info()
df.describe()




import pandas as pd
import numpy as np

df = pd.DataFrame({"RollNo":[1,2,3,4,5,6],
                  "Name":["a","b","c", "d", "e", "f"],
                  "Marks":[90, np.nan, 5, 0, 56, 100]}, index=range(1,7))
print(df)

#df.describe()
df.info()



import pandas as pd
import numpy as np

df = pd.DataFrame({"RollNo":[1,2,3,4,5,6],
                  "Name":["a","b","c", "d", "e", "f"],
                  "Marks":[90, np.nan, 5, 0, 56, 100]}, index=range(1,7))
print(df)

df2 = df.dropna()
print(df2)





#Let's create a dummy weather DataFrame, including some missing values and incorrect data types, to simulate real-world challenges.

import pandas as pd
import numpy as np

# Create a dummy weather DataFrame with some issues
weather_data = {
    'Date': ['2023-07-01', '2023-07-02', '2023-07-03', '2023-07-04', '2023-07-05',
             '2023-07-06', '2023-07-07', '2023-07-08', '2023-07-09', '2023-07-10'],
    'City': ['London', 'London', 'Paris', 'London', 'Paris',
             'London', 'Paris', 'London', 'Paris', 'London'],
    'Temperature_C': [20, 22, np.nan, 25, 23,
                      18, 20, 21, np.nan, 24],
    'Humidity_%': [75, 78, 80, np.nan, 72,
                   85, 82, 79, 70, 76],
    'Precipitation_mm': [0.5, 0.0, 1.2, 0.0, 0.0,
                         2.1, 0.8, 0.0, 0.0, 0.3],
    'WindSpeed_kmh': [10, 12, 8, 'missing', 15,
                       9, 11, 13, 10, 'NA']
}

df = pd.DataFrame(weather_data)


df.describe()


print(df.info())


df2 = df.dropna()
print(df2)


london_data = df[df["City"]=="London"]
print(london_data)


'''

app ====>                                           mySQL
req = "from tb t1 rank>50 *"    (records: 100)      --->
        <-------------------- (table)

app (pandas) RAM

'''
