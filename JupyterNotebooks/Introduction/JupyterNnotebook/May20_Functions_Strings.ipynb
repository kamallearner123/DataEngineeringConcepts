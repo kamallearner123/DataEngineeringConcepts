{
 "cells": [
  {
   "cell_type": "code",
   "execution_count": 1,
   "id": "a57245b4-3c3f-403a-9d61-931b336128c6",
   "metadata": {},
   "outputs": [
    {
     "name": "stdout",
     "output_type": "stream",
     "text": [
      "c =  None\n"
     ]
    }
   ],
   "source": [
    "'''\n",
    "1) Formal positioning\n",
    "2) *args\n",
    "3) Keyword argument\n",
    "4) **keyword\n",
    "\n",
    "'''\n",
    "\n",
    "# Definging a function\n",
    "def add(num1, num2):\n",
    "    '''\n",
    "    Function: add\n",
    "    Arguets: num1, num2\n",
    "    Return : Addition of num1 and num2\n",
    "    '''\n",
    "    result = num1+num2\n",
    "    \n",
    "\n",
    "# Calling function\n",
    "c = add(10, 20)\n",
    "print(\"c = \", c) # 30, Error: Answer : None"
   ]
  },
  {
   "cell_type": "code",
   "execution_count": 2,
   "id": "680d68bf-0e5d-4507-b4ad-5fe558943068",
   "metadata": {},
   "outputs": [
    {
     "name": "stdout",
     "output_type": "stream",
     "text": [
      "c =  30\n"
     ]
    }
   ],
   "source": [
    "# Definging a function\n",
    "def add(num1, num2):\n",
    "    '''\n",
    "    Function: add\n",
    "    Arguets: num1, num2\n",
    "    Return : Addition of num1 and num2\n",
    "    '''\n",
    "    result = num1+num2\n",
    "    return result\n",
    "\n",
    "# Calling function\n",
    "c = add(10, 20)\n",
    "print(\"c = \", c) # 30, Error: Answer : 30"
   ]
  },
  {
   "cell_type": "code",
   "execution_count": 3,
   "id": "66cf3526-b314-467a-8cb0-c5f66e76a70c",
   "metadata": {},
   "outputs": [
    {
     "name": "stdout",
     "output_type": "stream",
     "text": [
      "c = 200\n"
     ]
    }
   ],
   "source": [
    "# Definging a function\n",
    "def op(num1, num2, operation):\n",
    "    '''\n",
    "    Function: add\n",
    "    Arguets: num1, num2\n",
    "    Return : Addition of num1 and num2\n",
    "    '''\n",
    "    if operation == \"add\":\n",
    "        result = num1+num2\n",
    "    elif operation == \"mul\":\n",
    "        result = num1*num2\n",
    "    else:\n",
    "        print(\"Operation is not supported\")\n",
    "        result = None\n",
    "    return result\n",
    "\n",
    "# Calling function\n",
    "c = op(10, 20, \"mul\")\n",
    "print(f\"c = {c}\")"
   ]
  },
  {
   "cell_type": "code",
   "execution_count": null,
   "id": "75296ac2-9ed0-4373-9fd9-e04ab2e8b7de",
   "metadata": {},
   "outputs": [],
   "source": [
    "def op(num1, num2, operation):\n",
    "    '''\n",
    "    Function: add\n",
    "    Arguets: num1, num2\n",
    "    Return : Addition of num1 and num2\n",
    "    '''\n",
    "    result = num1 + num2 # 10 + 20\n",
    "\n",
    "\n",
    "# Calling function\n",
    "c = op(10, 20, \"hello\")\n",
    "print(f\"c = {c}\")"
   ]
  },
  {
   "cell_type": "code",
   "execution_count": null,
   "id": "7aca9171-461e-4d6d-8da2-874dfb70eff0",
   "metadata": {},
   "outputs": [],
   "source": [
    "# Definging a function\n",
    "def op(num1, num2, operation):\n",
    "    '''\n",
    "    Function: add\n",
    "    Arguets: num1, num2\n",
    "    Return : Addition of num1 and num2\n",
    "    '''\n",
    "    if operation == \"add\":\n",
    "        return num1+num2\n",
    "    elif operation == \"mul\":\n",
    "        return num1*num2\n",
    "    else:\n",
    "        print(\"Operation is not supported\")\n",
    "        return None\n",
    "\n",
    "# Calling function\n",
    "c = op(10, 20, \"mul\")\n",
    "print(f\"c = {c}\")"
   ]
  },
  {
   "cell_type": "code",
   "execution_count": 7,
   "id": "93c80779-b745-4a17-9c64-00fe2120ddff",
   "metadata": {},
   "outputs": [
    {
     "name": "stdout",
     "output_type": "stream",
     "text": [
      "nums = (10, 20)\n",
      "c = 30\n",
      "nums = (10, 20, 30)\n",
      "c = 60\n"
     ]
    }
   ],
   "source": [
    "# 2. *args\n",
    "def add(*nums):#(num1, num2):\n",
    "    print(f\"nums = {nums}\")\n",
    "    total = 0 # Local variable\n",
    "    for num in nums: # Get each element from nums\n",
    "        total = total + num # total = 0 + 10\n",
    "                            # total = 10 + 20\n",
    "    return total\n",
    "\n",
    "# Calling function\n",
    "c = add(10, 20) # total = 30\n",
    "print(f\"c = {c}\")\n",
    "c = add(10, 20, 30)\n",
    "print(f\"c = {c}\")"
   ]
  },
  {
   "cell_type": "code",
   "execution_count": 9,
   "id": "5bf8be5f-b46d-4232-9a0f-704d5ce2b62e",
   "metadata": {},
   "outputs": [
    {
     "name": "stdout",
     "output_type": "stream",
     "text": [
      "nums = (10, 20)\n",
      "c = 20\n",
      "nums = (10, 20, 30)\n",
      "c = 30\n"
     ]
    }
   ],
   "source": [
    "# 2. *args\n",
    "def add(*nums):#(num1, num2):\n",
    "    print(f\"nums = {nums}\")\n",
    "    total = 0 # Local variable\n",
    "    for num in nums: # Get each element from nums\n",
    "        total = total + num # total = 0 + 10\n",
    "                            # total = 10 + 20\n",
    "    return total\n",
    "\n",
    "# Calling function\n",
    "c = add(10, 20) # total = 30\n",
    "print(f\"c = {c}\")\n",
    "c = add(10, 20, 30)\n",
    "print(f\"c = {c}\")"
   ]
  },
  {
   "cell_type": "code",
   "execution_count": null,
   "id": "a2bc9a08-7c0d-4009-8b2b-0de2e676e5e9",
   "metadata": {},
   "outputs": [],
   "source": [
    "# 2. *args: Variable number of arguments\n",
    "def add(*nums):#(num1, num2):\n",
    "    print(f\"nums = {nums}\")\n",
    "    #total = 0 # Local variable\n",
    "    for num in nums: # Get each element from nums\n",
    "        total = num # total = 0 + 10\n",
    "                            # total = 10 + 20\n",
    "    return total\n",
    "\n",
    "# Calling function\n",
    "c = add(10, 20) # total = 30\n",
    "print(f\"c = {c}\")\n",
    "c = add(10, 20, 30)\n",
    "print(f\"c = {c}\")"
   ]
  },
  {
   "cell_type": "code",
   "execution_count": 16,
   "id": "d8382739-3c70-4947-96aa-c7ce4e53e800",
   "metadata": {},
   "outputs": [
    {
     "name": "stdout",
     "output_type": "stream",
     "text": [
      "nums = (10, 20)\n",
      "c = 30\n",
      "nums = (10, 20, 30)\n",
      "c = 60\n"
     ]
    }
   ],
   "source": [
    "# 2. Passing tuple\n",
    "def add(nums):\n",
    "    print(f\"nums = {nums}\")\n",
    "    total = 0 # Local variable\n",
    "    for num in nums: # Get each element from nums\n",
    "        total = total + num # 0 + (10,20)\n",
    "    return total\n",
    "\n",
    "# Calling function\n",
    "t1 = (10, 20)\n",
    "c = add(t1) # total = 30\n",
    "print(f\"c = {c}\")\n",
    "t2 = (10, 20, 30)\n",
    "c = add(t2)\n",
    "print(f\"c = {c}\")"
   ]
  },
  {
   "cell_type": "code",
   "execution_count": 11,
   "id": "d883b69f-a029-437a-9942-ad8c7f40ae9f",
   "metadata": {},
   "outputs": [
    {
     "name": "stdout",
     "output_type": "stream",
     "text": [
      "20\n",
      "10\n"
     ]
    }
   ],
   "source": [
    "def double(num):\n",
    "    return num*2\n",
    "a = 10\n",
    "result = double(a) # double(10)\n",
    "print(result)\n",
    "print(a)\n"
   ]
  },
  {
   "cell_type": "code",
   "execution_count": 12,
   "id": "f0570c35-012c-4789-84b9-7ef38ca59664",
   "metadata": {},
   "outputs": [
    {
     "name": "stdout",
     "output_type": "stream",
     "text": [
      "10\n"
     ]
    }
   ],
   "source": [
    "# Passing the value\n",
    "def double(num):\n",
    "    num*2\n",
    "a = 10\n",
    "result = double(a) # double(10)\n",
    "print(a)"
   ]
  },
  {
   "cell_type": "code",
   "execution_count": 13,
   "id": "f409ca9c-6fcd-4c3b-8905-7fa9769b0587",
   "metadata": {},
   "outputs": [
    {
     "name": "stdout",
     "output_type": "stream",
     "text": [
      "[20]\n"
     ]
    }
   ],
   "source": [
    "# Passing the reference to lisst\n",
    "def double(list1):\n",
    "    list1[0] = list1[0]*2 # offset 0\n",
    "    \n",
    "list1 = [10]\n",
    "result = double(list1) # double(10)\n",
    "print(list1)"
   ]
  },
  {
   "cell_type": "code",
   "execution_count": null,
   "id": "e3ab1997-9ff1-4d8c-a597-5e2f7dfbb46a",
   "metadata": {},
   "outputs": [],
   "source": [
    "\n",
    "tup1 = (10,) # Tuple, immutable (can not be changed)\n",
    "list1 = [10] # list, mutable\n"
   ]
  },
  {
   "cell_type": "code",
   "execution_count": 18,
   "id": "a082f729-818c-4b80-9d4e-a310dc7ef7a7",
   "metadata": {},
   "outputs": [
    {
     "name": "stdout",
     "output_type": "stream",
     "text": [
      "c = 60\n",
      "c = 30\n",
      "c = 6000\n",
      "c = 200\n"
     ]
    }
   ],
   "source": [
    "# Mix of positional and variable arguments\n",
    "# 2. *args: Variable number of arguments\n",
    "def op(operation, *nums):#(num1, num2):\n",
    "    if operation == \"add\":\n",
    "        total = 0\n",
    "        for num in nums:\n",
    "            total += num \n",
    "        return total\n",
    "    elif operation == \"mul\":\n",
    "        final = 1\n",
    "        for num in nums:\n",
    "            final *= num \n",
    "        return final\n",
    "    else:\n",
    "        print(\"Invalid op\")\n",
    "\n",
    "# Calling function\n",
    "c = op(\"add\", 10, 20, 30) \n",
    "print(f\"c = {c}\")\n",
    "c = op(\"add\", 10, 20) \n",
    "print(f\"c = {c}\")\n",
    "\n",
    "c = op(\"mul\", 10, 20, 30) \n",
    "print(f\"c = {c}\")\n",
    "c = op(\"mul\", 10, 20) \n",
    "print(f\"c = {c}\")"
   ]
  },
  {
   "cell_type": "code",
   "execution_count": null,
   "id": "a86b22c5-0c2a-4161-8c58-9c9841f3bf88",
   "metadata": {},
   "outputs": [],
   "source": [
    "'''\n",
    "op(operation1, opeation2, *args) : Yes/No: Yes\n",
    "op(\"add\",\"mul\", 1,2,3)\n",
    "\n",
    "op(operation1, opeation2, *args1, *args2) : Yes/No: No\n",
    "op(\"add\",\"mul\", 1,2,3,4)\n",
    "\n",
    "op(*operations, *args2) : Yes/No: No\n",
    "op(\"add\",\"mul\", 1,2,3,4)\n",
    "'''"
   ]
  },
  {
   "cell_type": "markdown",
   "id": "f0a6d107-7b7f-4cba-956f-6cf80f110331",
   "metadata": {},
   "source": [
    "# Strings:\n",
    "## Defining Strings:\n",
    "- String = “Python”\n",
    "- String = ‘Python’\n",
    "- String = ‘’’Python \\n\n",
    "Is a interpreted language’’’\n",
    "\n",
    "- String = “Hello”*10\n",
    "- String = “Value of a = %d”%(a)"
   ]
  },
  {
   "cell_type": "raw",
   "id": "6270c667-215b-475a-a400-cbc31aa30179",
   "metadata": {},
   "source": [
    "➢ String = “Python”\n",
    "➢ String = ‘Python’\n",
    "➢ String = ‘’’Python\n",
    "Is a interpreted language’’’\n",
    "➢ String = “Hello”*10\n",
    "➢ String = “Value of a = %d”%(a)"
   ]
  },
  {
   "cell_type": "code",
   "execution_count": 23,
   "id": "3baf34d4-c9ab-41a2-89fa-a677bb0add43",
   "metadata": {},
   "outputs": [
    {
     "name": "stdout",
     "output_type": "stream",
     "text": [
      "##########\n"
     ]
    }
   ],
   "source": [
    "String1 = \"#\"\n",
    "var1 = String1*10\n",
    "print(var1)\n"
   ]
  },
  {
   "cell_type": "code",
   "execution_count": 25,
   "id": "df92e0c8-be60-4db5-b403-9d55a784e975",
   "metadata": {},
   "outputs": [
    {
     "name": "stdout",
     "output_type": "stream",
     "text": [
      "10101010101010101010\n",
      "100\n"
     ]
    }
   ],
   "source": [
    "String1 = \"10\"\n",
    "var1 = String1*10\n",
    "print(var1)\n",
    "var1 = int(String1)*10\n",
    "print(var1)"
   ]
  },
  {
   "cell_type": "code",
   "execution_count": 30,
   "id": "afde1060-0372-468d-8222-5ea38c4a1d15",
   "metadata": {},
   "outputs": [
    {
     "name": "stdout",
     "output_type": "stream",
     "text": [
      "Present temperature is 30\n",
      "Present humidity is 50.100000\n"
     ]
    }
   ],
   "source": [
    "temp = 30\n",
    "hum = 50.1\n",
    "place = \"Palce1\"\n",
    "Statement1 = \"Present temperature is %d\"%(temp)\n",
    "Statement2 = \"Present humidity is %f\"%(hum)\n",
    "Statement3 = f\"Present temperature is {temp}\"\n",
    "Statement4 = f\"Present humidity is {hum}\"\n",
    "\n",
    "\n",
    "print(Statement1)\n",
    "print(Statement2)"
   ]
  },
  {
   "cell_type": "code",
   "execution_count": 32,
   "id": "a568716e-4fb4-43be-876b-c4fbe1fafdd4",
   "metadata": {},
   "outputs": [
    {
     "name": "stdout",
     "output_type": "stream",
     "text": [
      "In place:Palce1, temperature is recorded as 30 and humidy is relatively high 50.1.\n"
     ]
    }
   ],
   "source": [
    "temp = 30\n",
    "hum = 50.1\n",
    "place = \"Palce1\"\n",
    "Statement = f\"In place:{place}, temperature is recorded as {temp} and humidy is relatively high {hum}.\"\n",
    "print(Statement)"
   ]
  },
  {
   "cell_type": "code",
   "execution_count": 34,
   "id": "5c59c603-d0d6-444a-95bb-0f3f24a7591e",
   "metadata": {},
   "outputs": [
    {
     "name": "stdout",
     "output_type": "stream",
     "text": [
      "In place:Palce1, \n",
      "temperature is recorded as 30 and humidy is relatively high 50.1.\n"
     ]
    }
   ],
   "source": [
    "temp = 30\n",
    "hum = 50.1\n",
    "place = \"Palce1\"\n",
    "Statement = f'''In place:{place}, \n",
    "temperature is recorded as {temp} and humidy is relatively high {hum}.'''\n",
    "print(Statement)"
   ]
  },
  {
   "cell_type": "code",
   "execution_count": 36,
   "id": "a5c1ed37-9a9b-43fb-8d4f-bd6a07514f0c",
   "metadata": {},
   "outputs": [
    {
     "name": "stdout",
     "output_type": "stream",
     "text": [
      "t\n",
      "e\n"
     ]
    }
   ],
   "source": [
    "# Indexing.\n",
    "s1 = \"temperature\"\n",
    "print(s1[0]) # Accessing each char in string in offset 0\n",
    "print(s1[1]) # Accessing each char in string in offset 1"
   ]
  },
  {
   "cell_type": "code",
   "execution_count": 43,
   "id": "59a5351b-5a51-421a-9d97-e7c5b79987a3",
   "metadata": {},
   "outputs": [
    {
     "name": "stdout",
     "output_type": "stream",
     "text": [
      "345\n",
      "35\n"
     ]
    }
   ],
   "source": [
    "s1 = \"0123456789\"\n",
    "# Print the string from offset 3 to 5\n",
    "print(s1[3:6]) # s1[start offset: end osset+1]\n",
    "print(s1[3:6:2]) # s1[start offset: end osset+1]\n",
    "# 3 : Start offset\n",
    "# 6 : End offset\n",
    "# 2 : Increment"
   ]
  },
  {
   "cell_type": "code",
   "execution_count": 48,
   "id": "98219083-91f4-4693-b7e0-5b46e04b4961",
   "metadata": {},
   "outputs": [
    {
     "name": "stdout",
     "output_type": "stream",
     "text": [
      "Length of string =  10\n",
      "s1[0:len(s1)] 0123456789\n",
      "s1[0:len(s1):2] 02468\n",
      "s1[0:len(s1):5] 05\n"
     ]
    }
   ],
   "source": [
    "s1 = \"0123456789\"\n",
    "# Print alternative nums\n",
    "print(\"Length of string = \", len(s1))\n",
    "\n",
    "# Printing chars without increment\n",
    "print(\"s1[0:len(s1)]\", s1[0:len(s1)]) # By default increment is 1\n",
    "\n",
    "# Printing alternative numbers (chars)\n",
    "print(\"s1[0:len(s1):2]\", s1[0:len(s1):2]) # 0,2,4,6,8\n",
    "\n",
    "# Printing one char in every 5 chars\n",
    "print(\"s1[0:len(s1):5]\", s1[0:len(s1):5]) "
   ]
  },
  {
   "cell_type": "code",
   "execution_count": 42,
   "id": "4625faf7-bd31-432c-8019-e26b5215e219",
   "metadata": {},
   "outputs": [
    {
     "name": "stdout",
     "output_type": "stream",
     "text": [
      "9\n",
      "8\n",
      "7\n",
      "98765432\n"
     ]
    }
   ],
   "source": [
    "s1 = \"0123456789\"\n",
    "# Print the string from offset 3 to 5\n",
    "print(s1[-1]) # s1[start offset: end osset+1]\n",
    "print(s1[-2])\n",
    "print(s1[-3])\n",
    "print(s1[-1:-9: -1]) # [start: end: incr]"
   ]
  },
  {
   "cell_type": "code",
   "execution_count": 55,
   "id": "75b6a319-70d7-4fed-a332-aa294f862881",
   "metadata": {},
   "outputs": [
    {
     "name": "stdout",
     "output_type": "stream",
     "text": [
      "s1[-1:-len(s1):-1]:  9876543210\n",
      "s1[::-1]:  9876543210\n",
      "s1[::-2]:  97531\n"
     ]
    }
   ],
   "source": [
    "s1 = \"0123456789\"\n",
    "# Print the string from offset 3 to 5\n",
    "print(\"s1[-1:-len(s1):-1]: \", s1[-1:-(len(s1)+1):-1]) # -1:-11:-1 (-1,-2.....-10)\n",
    "print(\"s1[::-1]: \", s1[::-1]) # -1:-11:-1 (-1,-2.....-10)\n",
    "print(\"s1[::-2]: \", s1[::-2]) # -1:-11:-2 (-1,-3.....-9)"
   ]
  },
  {
   "cell_type": "code",
   "execution_count": null,
   "id": "b0e5136b-d27e-490f-887b-35b251b1cbb8",
   "metadata": {},
   "outputs": [],
   "source": []
  }
 ],
 "metadata": {
  "kernelspec": {
   "display_name": "Python 3 (ipykernel)",
   "language": "python",
   "name": "python3"
  },
  "language_info": {
   "codemirror_mode": {
    "name": "ipython",
    "version": 3
   },
   "file_extension": ".py",
   "mimetype": "text/x-python",
   "name": "python",
   "nbconvert_exporter": "python",
   "pygments_lexer": "ipython3",
   "version": "3.12.7"
  }
 },
 "nbformat": 4,
 "nbformat_minor": 5
}
