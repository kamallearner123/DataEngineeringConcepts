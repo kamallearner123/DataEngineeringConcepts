{
 "cells": [
  {
   "cell_type": "code",
   "execution_count": 3,
   "id": "4443b12e-0a05-4446-b0c1-1c493f2f6909",
   "metadata": {},
   "outputs": [
    {
     "name": "stdout",
     "output_type": "stream",
     "text": [
      "Speed is 33.333333333333336 meters per sec\n"
     ]
    }
   ],
   "source": [
    "# Exception hanlding\n",
    "distance  = 100 #meter\n",
    "time = 3 #sec\n",
    "speed = distance/time\n",
    "print(f\"Speed is {speed} meters per sec\")"
   ]
  },
  {
   "cell_type": "code",
   "execution_count": 4,
   "id": "e8c7148f-9365-4c2e-9047-7504b9cfca07",
   "metadata": {},
   "outputs": [
    {
     "ename": "ZeroDivisionError",
     "evalue": "division by zero",
     "output_type": "error",
     "traceback": [
      "\u001b[31m---------------------------------------------------------------------------\u001b[39m",
      "\u001b[31mZeroDivisionError\u001b[39m                         Traceback (most recent call last)",
      "\u001b[36mCell\u001b[39m\u001b[36m \u001b[39m\u001b[32mIn[4]\u001b[39m\u001b[32m, line 4\u001b[39m\n\u001b[32m      2\u001b[39m distance  = \u001b[32m100\u001b[39m \u001b[38;5;66;03m#meter\u001b[39;00m\n\u001b[32m      3\u001b[39m time = \u001b[32m0\u001b[39m \u001b[38;5;66;03m#sec\u001b[39;00m\n\u001b[32m----> \u001b[39m\u001b[32m4\u001b[39m speed = \u001b[43mdistance\u001b[49m\u001b[43m/\u001b[49m\u001b[43mtime\u001b[49m\n\u001b[32m      5\u001b[39m \u001b[38;5;28mprint\u001b[39m(\u001b[33mf\u001b[39m\u001b[33m\"\u001b[39m\u001b[33mSpeed is \u001b[39m\u001b[38;5;132;01m{\u001b[39;00mspeed\u001b[38;5;132;01m}\u001b[39;00m\u001b[33m meters per sec\u001b[39m\u001b[33m\"\u001b[39m)\n",
      "\u001b[31mZeroDivisionError\u001b[39m: division by zero"
     ]
    }
   ],
   "source": [
    "# Bad parameter\n",
    "distance  = 100 #meter\n",
    "time = 0 #sec\n",
    "speed = distance/time\n",
    "print(f\"Speed is {speed} meters per sec\")"
   ]
  },
  {
   "cell_type": "code",
   "execution_count": 9,
   "id": "f0440ea2-999b-43cb-be46-618efc9cfcaa",
   "metadata": {},
   "outputs": [
    {
     "name": "stdout",
     "output_type": "stream",
     "text": [
      "Take corrective actions!!!\n",
      "Program is being continued\n"
     ]
    }
   ],
   "source": [
    "try:\n",
    "    distance  = 100 #meter\n",
    "    time = 0 #sec\n",
    "    speed = distance/time\n",
    "    print(f\"Speed is {speed} meters per sec\")\n",
    "except ZeroDivisionError:\n",
    "    print(\"Take corrective actions!!!\")\n",
    "except: # Default\n",
    "    print(\"Else\")\n",
    "print(\"Program is being continued\")"
   ]
  },
  {
   "cell_type": "code",
   "execution_count": 12,
   "id": "b7ba0803-52a2-47a5-98f3-30ed0d86ae0e",
   "metadata": {},
   "outputs": [
    {
     "name": "stdout",
     "output_type": "stream",
     "text": [
      "Speed is 100.0 meters per sec\n",
      "Else...\n"
     ]
    },
    {
     "ename": "SystemExit",
     "evalue": "100",
     "output_type": "error",
     "traceback": [
      "An exception has occurred, use %tb to see the full traceback.\n",
      "\u001b[31mSystemExit\u001b[39m\u001b[31m:\u001b[39m 100\n"
     ]
    }
   ],
   "source": [
    "import sys\n",
    "try:\n",
    "    distance  = 100 #meter\n",
    "    time = 1 #sec\n",
    "    speed = distance/time\n",
    "    print(f\"Speed is {speed} meters per sec\")\n",
    "\n",
    "    fd = open(\"file_not_existing.txt\") # Exception: Fileerror\n",
    "    data = fd.read()\n",
    "    print(data)\n",
    "    fd.close()\n",
    "    \n",
    "except ZeroDivisionError:\n",
    "    print(\"Take corrective actions!!!\")\n",
    "except: # Default\n",
    "    print(\"Else...\")\n",
    "    sys.exit(100)\n",
    "print(\"Program is being continued\")"
   ]
  },
  {
   "cell_type": "code",
   "execution_count": 13,
   "id": "80fa760d-f7da-4724-a31c-fdcd1474e6b4",
   "metadata": {},
   "outputs": [],
   "source": [
    "!touch file_not_existing.txt\n"
   ]
  },
  {
   "cell_type": "code",
   "execution_count": 15,
   "id": "3096c243-b61b-4ed1-848c-df907520fd38",
   "metadata": {},
   "outputs": [
    {
     "name": "stdout",
     "output_type": "stream",
     "text": [
      "Speed is 100.0 meters per sec\n",
      "\n",
      "No exception... Info...\n",
      "Finallyy.... this is going execute\n",
      "Program is being continued\n"
     ]
    }
   ],
   "source": [
    "import sys\n",
    "try:\n",
    "    distance  = 100 #meter\n",
    "    time = 1 #sec\n",
    "    speed = distance/time\n",
    "    print(f\"Speed is {speed} meters per sec\")\n",
    "\n",
    "    fd = open(\"file_not_existing.txt\") # Exception: Fileerror\n",
    "    data = fd.read()\n",
    "    print(data)\n",
    "    fd.close()\n",
    "    \n",
    "except ZeroDivisionError:\n",
    "    print(\"Take corrective actions!!!\")\n",
    "except: # Default\n",
    "    print(\"Else...\")\n",
    "    sys.exit(100)\n",
    "else:\n",
    "    print(\"No exception... Info...\")\n",
    "finally:\n",
    "    print(\"Finallyy.... this is going execute\")\n",
    "    \n",
    "print(\"Program is being continued\")"
   ]
  },
  {
   "cell_type": "code",
   "execution_count": null,
   "id": "ab1ac5b8-9164-4c97-80fc-eb54fe536ec6",
   "metadata": {},
   "outputs": [],
   "source": [
    "'''\n",
    "While dealing with I/O : Sockets, Files, Process, Critical ops, Reading data from sensors.\n",
    "'''"
   ]
  },
  {
   "cell_type": "code",
   "execution_count": 21,
   "id": "d3727369-bed2-4139-b50e-651f0c39b3a9",
   "metadata": {},
   "outputs": [
    {
     "name": "stdout",
     "output_type": "stream",
     "text": [
      "['APPLE', 'ORANGE', 'BANANA']\n",
      "['APPLE', 'ORANGE', 'BANANA']\n"
     ]
    }
   ],
   "source": [
    "names = [\"apple\", \"orange\", \"banana\"]\n",
    "result = []\n",
    "for name in names:\n",
    "    result.append(name.upper())\n",
    "print(result)\n",
    "\n",
    "result = list(map(lambda x: x.upper(), names))\n",
    "print(result)"
   ]
  },
  {
   "cell_type": "code",
   "execution_count": 19,
   "id": "2160a3b3-36ff-4d10-8d65-2fcc492502eb",
   "metadata": {},
   "outputs": [
    {
     "name": "stdout",
     "output_type": "stream",
     "text": [
      "3\n",
      "HELLO\n"
     ]
    }
   ],
   "source": [
    "# Lambda\n",
    "add = lambda x,y: x+y\n",
    "print(add(1,2))\n",
    "\n",
    "cov_upper = lambda x: x.upper()\n",
    "print(cov_upper(\"hello\"))"
   ]
  },
  {
   "cell_type": "code",
   "execution_count": null,
   "id": "d1ce6c39-375a-493d-84cf-5ce74de4a830",
   "metadata": {},
   "outputs": [],
   "source": [
    "# map\n",
    "names = [\"apple\", \"orange\", \"banana\"]\n",
    "result = []\n",
    "for name in names:\n",
    "    result.append(name.upper())\n",
    "print(result)\n",
    "\n",
    "result = list(map(lambda x: x.upper(), names))\n",
    "print(result)"
   ]
  },
  {
   "cell_type": "code",
   "execution_count": 24,
   "id": "25619ca4-bbf3-49f3-8db8-0714f49110e2",
   "metadata": {},
   "outputs": [
    {
     "name": "stdout",
     "output_type": "stream",
     "text": [
      "['orange1', 'orange2']\n",
      "['orange1', 'orange2']\n"
     ]
    }
   ],
   "source": [
    "# filter\n",
    "names = [\"apple1\", \"apple2\", \"orange1\", \"banana\", \"orange2\"]\n",
    "# result = []\n",
    "# for name in names:\n",
    "#     if name.startswith(\"orange\"): # True/False\n",
    "#         result.append(name)\n",
    "# print(result)\n",
    "\n",
    "result = list(filter(lambda x: x.startswith(\"orange\"), names))\n",
    "# x.startswith(\"orange\"): True: name is collected\n",
    "# x.startswith(\"orange\"): Flase: name is dropped\n",
    "print(result)"
   ]
  },
  {
   "cell_type": "code",
   "execution_count": 26,
   "id": "ee49065a-8ba4-4431-8d09-f23b962b70fb",
   "metadata": {},
   "outputs": [
    {
     "name": "stdout",
     "output_type": "stream",
     "text": [
      "117\n",
      "117\n"
     ]
    }
   ],
   "source": [
    "from functools import reduce\n",
    "# Reduce \n",
    "nums = [2,3,4,11,10,40,7,40]\n",
    "total = 0\n",
    "for num in nums:\n",
    "    total += num\n",
    "print(total)\n",
    "\n",
    "total = reduce(lambda x,y: x+y, nums)\n",
    "'''\n",
    "x: 2\n",
    "y: 3 \n",
    "result = 5\n",
    "\n",
    "x: 5\n",
    "y: 11\n",
    "result = 16\n",
    "\n",
    "x: 16\n",
    "y: 10\n",
    "result = 26\n",
    "\n",
    "'''\n",
    "print(total)"
   ]
  },
  {
   "cell_type": "code",
   "execution_count": null,
   "id": "c5ce9c23-043f-40ea-8aae-c54916aad8a0",
   "metadata": {},
   "outputs": [],
   "source": []
  }
 ],
 "metadata": {
  "kernelspec": {
   "display_name": "Python3 (DeepCode)",
   "language": "python",
   "name": "deepcode"
  },
  "language_info": {
   "codemirror_mode": {
    "name": "ipython",
    "version": 3
   },
   "file_extension": ".py",
   "mimetype": "text/x-python",
   "name": "python",
   "nbconvert_exporter": "python",
   "pygments_lexer": "ipython3",
   "version": "3.13.3"
  }
 },
 "nbformat": 4,
 "nbformat_minor": 5
}
