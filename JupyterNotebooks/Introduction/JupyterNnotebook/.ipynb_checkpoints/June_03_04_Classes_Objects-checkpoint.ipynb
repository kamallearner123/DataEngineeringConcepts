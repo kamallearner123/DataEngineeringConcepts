{
 "cells": [
  {
   "cell_type": "code",
   "execution_count": null,
   "id": "9a247748-4d87-4611-abe4-22096c62e2b5",
   "metadata": {},
   "outputs": [],
   "source": [
    "# What is a class?\n",
    "# Blue print of our own data types\n",
    "# Member functions (Actions): Run, Kill, Create\n",
    "# Attributes (Properties): Color, Shape, Powers\n"
   ]
  },
  {
   "cell_type": "code",
   "execution_count": null,
   "id": "187593a5-0fc9-4b0f-872b-9965f8e652e8",
   "metadata": {},
   "outputs": [],
   "source": [
    "# What is an object ?\n",
    "# Instance/Object of class"
   ]
  },
  {
   "cell_type": "code",
   "execution_count": 6,
   "id": "791e504c-03d8-493d-8b0f-4c8f91761e0c",
   "metadata": {},
   "outputs": [
    {
     "name": "stdout",
     "output_type": "stream",
     "text": [
      "[-50.1, 1.0, 8, 9]\n"
     ]
    }
   ],
   "source": [
    "# Functions, Loops, if/else, dicts, lists...\n",
    "# Video games\n",
    "l1 = [1.0,-50.1, 8, 9] # Creating an object of class list.\n",
    "l1.sort() # Calling a member function of class list.\n",
    "print(l1) # Calling a member function of class list.\n"
   ]
  },
  {
   "cell_type": "code",
   "execution_count": 8,
   "id": "71c7fede-22f6-43cd-b12a-7272644249f7",
   "metadata": {},
   "outputs": [
    {
     "name": "stdout",
     "output_type": "stream",
     "text": [
      "<class '__main__.Complex'>\n"
     ]
    }
   ],
   "source": [
    "# Create class Complex\n",
    "# class Class_name\n",
    "class Complex: # Creating class\n",
    "    pass\n",
    "\n",
    "c1 = Complex() # Creating instance of class Complex\n",
    "c2 = Complex()\n",
    "\n",
    "print(type(c1))"
   ]
  },
  {
   "cell_type": "code",
   "execution_count": null,
   "id": "ebfcea7c-07cc-4873-977b-f2ce21601bc6",
   "metadata": {},
   "outputs": [],
   "source": [
    "# Create class Complex\n",
    "# class Class_name\n",
    "class Complex: # Creating class\n",
    "    def add(self): # self is address of newly created instance\n",
    "        print(\"CAlling add function!!!\")\n",
    "\n",
    "c1 = Complex() # Creating instance of class Complex\n",
    "c2 = Complex()\n",
    "\n",
    "print(type(c1))"
   ]
  },
  {
   "cell_type": "code",
   "execution_count": null,
   "id": "62b84368-c253-4593-b3be-73857c7aa40b",
   "metadata": {},
   "outputs": [],
   "source": [
    "'''\n",
    "class Complex{\n",
    "int real;\n",
    "int im;\n",
    "    int Complex(int real, int im) {\n",
    "        real = real; //this->real = real\n",
    "        im = im; //\n",
    "    }\n",
    "}\n",
    "'''"
   ]
  },
  {
   "cell_type": "code",
   "execution_count": 12,
   "id": "2a70e088-ceba-4e77-a63e-dc0f74327bb1",
   "metadata": {},
   "outputs": [
    {
     "name": "stdout",
     "output_type": "stream",
     "text": [
      "Constructor is called!!!\n",
      "Real = 1, Im = 2\n",
      "Constructor is called!!!\n",
      "Real = 10, Im = 20\n",
      "CAlling add function!!!\n"
     ]
    }
   ],
   "source": [
    "# Create class Complex\n",
    "# class Class_name\n",
    "class Complex: # Creating class\n",
    "    \n",
    "    def __init__(self, real_in, im_in): # Constructor\n",
    "        print(\"Constructor is called!!!\")\n",
    "        print(f'Real = {real_in}, Im = {im_in}')\n",
    "        self.real = real_in # Creating attributes of the object\n",
    "        self.im = im_in # Creating attributes of the object\n",
    "\n",
    "    def add(self): # self is address of newly created instance\n",
    "        print(\"CAlling add function!!!\")\n",
    "\n",
    "    def print_details(obj): # obj is assigned with address of c1 (c2.print_details())\n",
    "        pass\n",
    "        \n",
    "\n",
    "    # Static member fucntion\n",
    "    @staticmethod\n",
    "    def print_comment(comment1):\n",
    "        print(f'This is comment in class Complex {comment1}')\n",
    "\n",
    "# Creating an object using class Complex\n",
    "c1 = Complex(1,2) # Allocate memory for c1: 0x1000\n",
    "                  # c1.__init__(0x1000, 1, 2)\n",
    "\n",
    "# Creating an object using class Complex\n",
    "c2 = Complex(10,20) # Complex.__init__(1,2)\n",
    "\n",
    "# Calling member function on object c1\n",
    "c1.add()\n"
   ]
  },
  {
   "cell_type": "code",
   "execution_count": 19,
   "id": "5339747e-323c-4f52-82d1-843ebe3f76a7",
   "metadata": {},
   "outputs": [
    {
     "name": "stdout",
     "output_type": "stream",
     "text": [
      "Constructor is called!!!\n",
      "Real = 1, Im = 2\n",
      "This is comment in class Complex hello\n",
      "Real 1, Imaginary 2\n",
      "Product is : 5\n",
      "Constructor is called!!!\n",
      "Real = 10, Im = 20\n",
      "Product is : 500\n",
      "This is comment in class Complex calling.......\n"
     ]
    }
   ],
   "source": [
    "# Create class Complex\n",
    "# class Class_name\n",
    "class Complex: # Creating class\n",
    "    \n",
    "    def __init__(self, real_in, im_in): # Constructor\n",
    "        print(\"Constructor is called!!!\")\n",
    "        print(f'Real = {real_in}, Im = {im_in}')\n",
    "        self.real = real_in # Creating attributes of the object\n",
    "        self.im = im_in # Creating attributes of the object\n",
    "\n",
    "    # Object method\n",
    "    def add(self): # self is address of newly created instance\n",
    "        print(\"CAlling add function!!!\")\n",
    "        \n",
    "    # Object method\n",
    "    def print_details(self): # obj is assigned with address of c1 (c2.print_details())\n",
    "        print(f\"Real {self.real}, Imaginary {self.im}\")\n",
    "        \n",
    "    # Object method to print real**2+im**2\n",
    "    # Method name: product\n",
    "    def product(self):\n",
    "        print(f\"Product is : {self.real**2 + self.im**2}\")\n",
    "    \n",
    "    # Static member fucntion\n",
    "    @staticmethod\n",
    "    def print_comment(comment1):\n",
    "        print(f'This is comment in class Complex {comment1}')\n",
    "\n",
    "# Creating an object using class Complex\n",
    "c1 = Complex(1,2) # Allocate memory for c1: 0x1000\n",
    "c1.print_comment(\"hello\")\n",
    "c1.print_details()\n",
    "c1.product()\n",
    "\n",
    "c2 = Complex(10,20)\n",
    "c2.product()\n",
    "c1.print_comment(\"calling.......\")"
   ]
  },
  {
   "cell_type": "code",
   "execution_count": 20,
   "id": "660fffab-1a62-4f07-af58-776eafa084bb",
   "metadata": {},
   "outputs": [
    {
     "name": "stdout",
     "output_type": "stream",
     "text": [
      "This is comment in class Complex Testing.... calling from Class\n"
     ]
    }
   ],
   "source": [
    "Complex.print_comment(\"Testing.... calling from Class\")"
   ]
  },
  {
   "cell_type": "code",
   "execution_count": 22,
   "id": "a834cc1b-8ce4-4443-af36-7fa5046d25b7",
   "metadata": {},
   "outputs": [
    {
     "name": "stdout",
     "output_type": "stream",
     "text": [
      "Constructor is called!!!\n",
      "Real = 1, Im = 2\n",
      "Constructor is called!!!\n",
      "Real = 10, Im = 20\n",
      "Calling add function!!!\n",
      "Constructor is called!!!\n",
      "Real = 11, Im = 22\n",
      "Real 11, Imaginary 22\n"
     ]
    }
   ],
   "source": [
    "# Create class Complex\n",
    "# class Class_name\n",
    "class Complex: # Creating class\n",
    "    \n",
    "    def __init__(self, real_in, im_in): # Constructor\n",
    "        print(\"Constructor is called!!!\")\n",
    "        print(f'Real = {real_in}, Im = {im_in}')\n",
    "        self.real = real_in # Creating attributes of the object\n",
    "        self.im = im_in # Creating attributes of the object\n",
    "\n",
    "    # Object method\n",
    "    def add(self, other): # self is address of newly created instance\n",
    "        print(\"Calling add function!!!\")\n",
    "        real = self.real + other.real\n",
    "        im = self.im + other.im\n",
    "        # Create new object of class Complex\n",
    "        result = Complex(real, im)\n",
    "        return result\n",
    "        \n",
    "    # Object method\n",
    "    def add_udate(self, other): # self is address of newly created instance\n",
    "        self.real += other.real\n",
    "        self.im += other.im\n",
    "        \n",
    "    # Object method\n",
    "    def print_details(self): # obj is assigned with address of c1 (c2.print_details())\n",
    "        print(f\"Real {self.real}, Imaginary {self.im}\")\n",
    "        \n",
    "    # Object method to print real**2+im**2\n",
    "    # Method name: product\n",
    "    def product(self):\n",
    "        print(f\"Product is : {self.real**2 + self.im**2}\")\n",
    "\n",
    "    # @staticmethod\n",
    "    # def add(arg1, arg2):\n",
    "    #     real = arg1.real + arg2.real\n",
    "    #     im = arg1.im + arg2.im\n",
    "    #     result = Complex(real, im)\n",
    "    #     return result\n",
    "    \n",
    "c1 = Complex(1,2)\n",
    "c2 = Complex(10,20)\n",
    "c3 = c1.add(c2) # c1.add(address, c2)\n",
    "c3.print_details() # Real: 11, Imaginary: 22"
   ]
  },
  {
   "cell_type": "code",
   "execution_count": 23,
   "id": "f0aba56e-9a43-48e9-8b07-d8240a01e145",
   "metadata": {},
   "outputs": [
    {
     "name": "stdout",
     "output_type": "stream",
     "text": [
      "Constructor is called!!!\n",
      "Real = 1, Im = 2\n",
      "Constructor is called!!!\n",
      "Real = 10, Im = 20\n",
      "Real 11, Imaginary 22\n"
     ]
    }
   ],
   "source": [
    "# Create class Complex\n",
    "# class Class_name\n",
    "class Complex: # Creating class\n",
    "    \n",
    "    def __init__(self, real_in, im_in): # Constructor\n",
    "        print(\"Constructor is called!!!\")\n",
    "        print(f'Real = {real_in}, Im = {im_in}')\n",
    "        self.real = real_in # Creating attributes of the object\n",
    "        self.im = im_in # Creating attributes of the object\n",
    "\n",
    "    # Object method\n",
    "    def add(self, other): # self is address of newly created instance\n",
    "        print(\"Calling add function!!!\")\n",
    "        real = self.real + other.real\n",
    "        im = self.im + other.im\n",
    "        # Create new object of class Complex\n",
    "        result = Complex(real, im)\n",
    "        return result\n",
    "        \n",
    "    # Object method\n",
    "    def add_udate(self, other): # self is address of newly created instance\n",
    "        self.real += other.real\n",
    "        self.im += other.im\n",
    "        \n",
    "    # Object method\n",
    "    def print_details(self): # obj is assigned with address of c1 (c2.print_details())\n",
    "        print(f\"Real {self.real}, Imaginary {self.im}\")\n",
    "        \n",
    "    # Object method to print real**2+im**2\n",
    "    # Method name: product\n",
    "    def product(self):\n",
    "        print(f\"Product is : {self.real**2 + self.im**2}\")\n",
    "\n",
    "    # @staticmethod\n",
    "    # def add(arg1, arg2):\n",
    "    #     real = arg1.real + arg2.real\n",
    "    #     im = arg1.im + arg2.im\n",
    "    #     result = Complex(real, im)\n",
    "    #     return result\n",
    "    \n",
    "c1 = Complex(1,2)\n",
    "c2 = Complex(10,20)\n",
    "c1.add_udate(c2) # l1.sort(), l1.append(l2)\n",
    "c1.print_details()"
   ]
  },
  {
   "cell_type": "code",
   "execution_count": 24,
   "id": "d2494a2e-afee-453a-bbfb-d78e5de4e612",
   "metadata": {},
   "outputs": [
    {
     "name": "stdout",
     "output_type": "stream",
     "text": [
      "Constructor is called!!!\n",
      "Real = 1, Im = 2\n",
      "Constructor is called!!!\n",
      "Real = 10, Im = 20\n",
      "Constructor is called!!!\n",
      "Real = 11, Im = 22\n",
      "Real 11, Imaginary 22\n"
     ]
    }
   ],
   "source": [
    "# Using Static methods\n",
    "# Create class Complex\n",
    "# class Class_name\n",
    "class Complex: # Creating class\n",
    "    \n",
    "    def __init__(self, real_in, im_in): # Constructor\n",
    "        print(\"Constructor is called!!!\")\n",
    "        print(f'Real = {real_in}, Im = {im_in}')\n",
    "        self.real = real_in # Creating attributes of the object\n",
    "        self.im = im_in # Creating attributes of the object\n",
    "\n",
    "       \n",
    "    # Object method\n",
    "    def add_udate(self, other): # self is address of newly created instance\n",
    "        self.real += other.real\n",
    "        self.im += other.im\n",
    "        \n",
    "    # Object method\n",
    "    def print_details(self): # obj is assigned with address of c1 (c2.print_details())\n",
    "        print(f\"Real {self.real}, Imaginary {self.im}\")\n",
    "        \n",
    "    # Object method to print real**2+im**2\n",
    "    # Method name: product\n",
    "    def product(self):\n",
    "        print(f\"Product is : {self.real**2 + self.im**2}\")\n",
    "\n",
    "    @staticmethod\n",
    "    def add(arg1, arg2):\n",
    "        real = arg1.real + arg2.real\n",
    "        im = arg1.im + arg2.im\n",
    "        result = Complex(real, im)\n",
    "        return result\n",
    "    \n",
    "c1 = Complex(1,2)\n",
    "c2 = Complex(10,20)\n",
    "c3 = Complex.add(c1, c2)\n",
    "c3.print_details()"
   ]
  },
  {
   "cell_type": "code",
   "execution_count": 25,
   "id": "d60d99e0-003f-46b4-8e44-8518e47d9107",
   "metadata": {},
   "outputs": [
    {
     "name": "stdout",
     "output_type": "stream",
     "text": [
      "Constructor is called!!!\n",
      "Real = 1, Im = 2\n",
      "1\n",
      "2\n"
     ]
    }
   ],
   "source": [
    "# Accessing attributes from outside\n",
    "\n",
    "# Create class Complex\n",
    "# class Class_name\n",
    "class Complex: # Creating class\n",
    "    \n",
    "    def __init__(self, real_in, im_in): # Constructor\n",
    "        print(\"Constructor is called!!!\")\n",
    "        print(f'Real = {real_in}, Im = {im_in}')\n",
    "        self.real = real_in # Creating attributes of the object\n",
    "        self.im = im_in # Creating attributes of the object\n",
    "\n",
    "    # Object method\n",
    "    def add(self, other): # self is address of newly created instance\n",
    "        print(\"Calling add function!!!\")\n",
    "        real = self.real + other.real\n",
    "        im = self.im + other.im\n",
    "        # Create new object of class Complex\n",
    "        result = Complex(real, im)\n",
    "        return result\n",
    "        \n",
    "    # Object method\n",
    "    def add_udate(self, other): # self is address of newly created instance\n",
    "        self.real += other.real\n",
    "        self.im += other.im\n",
    "        \n",
    "    # Object method\n",
    "    def print_details(self): # obj is assigned with address of c1 (c2.print_details())\n",
    "        print(f\"Real {self.real}, Imaginary {self.im}\")\n",
    "        \n",
    "    # Object method to print real**2+im**2\n",
    "    # Method name: product\n",
    "    def product(self):\n",
    "        print(f\"Product is : {self.real**2 + self.im**2}\")\n",
    "\n",
    "# User code \n",
    "c1 = Complex(1,2)\n",
    "print(c1.real)\n",
    "print(c1.im)"
   ]
  },
  {
   "cell_type": "code",
   "execution_count": 32,
   "id": "c777a7dd-14c1-4806-8288-df35ff78271c",
   "metadata": {},
   "outputs": [
    {
     "ename": "AttributeError",
     "evalue": "'BankAccount' object has no attribute '__passwd'",
     "output_type": "error",
     "traceback": [
      "\u001b[31m---------------------------------------------------------------------------\u001b[39m",
      "\u001b[31mAttributeError\u001b[39m                            Traceback (most recent call last)",
      "\u001b[36mCell\u001b[39m\u001b[36m \u001b[39m\u001b[32mIn[32]\u001b[39m\u001b[32m, line 27\u001b[39m\n\u001b[32m     23\u001b[39m b1 = BankAccount(\u001b[33m\"\u001b[39m\u001b[33mDavid\u001b[39m\u001b[33m\"\u001b[39m, \u001b[33m\"\u001b[39m\u001b[33md_123\u001b[39m\u001b[33m\"\u001b[39m)\n\u001b[32m     24\u001b[39m \u001b[38;5;66;03m# b1.set_password() # inappropriate\u001b[39;00m\n\u001b[32m     25\u001b[39m \u001b[38;5;66;03m# print(b1.passwd) # inappropriate\u001b[39;00m\n\u001b[32m     26\u001b[39m \u001b[38;5;66;03m# b1.passwd = \"123\"  # inappropriate\u001b[39;00m\n\u001b[32m---> \u001b[39m\u001b[32m27\u001b[39m \u001b[38;5;28mprint\u001b[39m(\u001b[43mb1\u001b[49m\u001b[43m.\u001b[49m\u001b[43m__passwd\u001b[49m) \u001b[38;5;66;03m# Error ? Yes: AttributeError\u001b[39;00m\n",
      "\u001b[31mAttributeError\u001b[39m: 'BankAccount' object has no attribute '__passwd'"
     ]
    }
   ],
   "source": [
    "# Private attributes\n",
    "class BankAccount:\n",
    "    def __init__(self, name, user_name):\n",
    "        self.name  = name\n",
    "        self.user = user_name\n",
    "\n",
    "    def set_password(self):\n",
    "        print(\"Passw word length should be >= 8\")\n",
    "        passwd = input(\"Please enter the password\")\n",
    "        if len(passwd)>= 8:\n",
    "            #self.passwd = passwd\n",
    "            self.__passwd = passwd # Private attribute\n",
    "        else:\n",
    "            print(\"Entered pass word does not meet standards\")\n",
    "\n",
    "    def withdraw(self, amount):\n",
    "        pass\n",
    "\n",
    "    def deposit(self, amount):\n",
    "        pass\n",
    "\n",
    "# User's code\n",
    "b1 = BankAccount(\"David\", \"d_123\")\n",
    "# b1.set_password() # inappropriate\n",
    "# print(b1.passwd) # inappropriate\n",
    "# b1.passwd = \"123\"  # inappropriate\n",
    "print(b1.__passwd) # Error ? Yes: AttributeError"
   ]
  },
  {
   "cell_type": "code",
   "execution_count": 34,
   "id": "f35f619a-1bcb-4234-bbf0-2b8eac16c13f",
   "metadata": {},
   "outputs": [
    {
     "name": "stdout",
     "output_type": "stream",
     "text": [
      "Passw word length should be >= 8\n"
     ]
    },
    {
     "name": "stdin",
     "output_type": "stream",
     "text": [
      "Please enter the password 12345678\n",
      "Please enter your pass word 12345678\n"
     ]
    }
   ],
   "source": [
    "\n",
    "# Private attributes\n",
    "class BankAccount:\n",
    "    def __init__(self, name, user_name):\n",
    "        self.name  = name\n",
    "        self.user = user_name\n",
    "        self.__amount = 0\n",
    "\n",
    "    def set_password(self):\n",
    "        print(\"Passw word length should be >= 8\")\n",
    "        passwd = input(\"Please enter the password\")\n",
    "        if len(passwd)>= 8:\n",
    "            #self.passwd = passwd\n",
    "            self.__passwd = passwd # Private attribute\n",
    "        else:\n",
    "            print(\"Entered pass word does not meet standards\")\n",
    "\n",
    "    def withdraw(self, amount):\n",
    "        pass\n",
    "\n",
    "    def deposit(self, amount):\n",
    "        entered = input(\"Please enter your pass word\")\n",
    "        if entered == self.__passwd:\n",
    "            self.__amount += amount\n",
    "        else:\n",
    "            print(\"Password incorrect!!!\")\n",
    "\n",
    "    def print_statement(self):\n",
    "        print(f\"Name : {self.name}\\nAmount: {self.__amount}\")\n",
    "\n",
    "# User's code\n",
    "b1 = BankAccount(\"David\", \"d_123\")\n",
    "# b1.set_password() # inappropriate\n",
    "# print(b1.passwd) # inappropriate\n",
    "# b1.passwd = \"123\"  # inappropriate\n",
    "# print(b1.__passwd) # Error ? Yes: AttributeError\n",
    "b1.set_password()\n",
    "b1.deposit(100)\n"
   ]
  },
  {
   "cell_type": "code",
   "execution_count": 35,
   "id": "b1ada77a-0a63-49ff-8aa4-ab360893c2d2",
   "metadata": {},
   "outputs": [
    {
     "name": "stdout",
     "output_type": "stream",
     "text": [
      "Name : David\n",
      "Amount: 100\n"
     ]
    }
   ],
   "source": [
    "b1.print_statement()"
   ]
  },
  {
   "cell_type": "code",
   "execution_count": 38,
   "id": "a44193fd-28c5-4f27-b951-b6274dd9208c",
   "metadata": {},
   "outputs": [
    {
     "name": "stdout",
     "output_type": "stream",
     "text": [
      "Passw word length should be >= 8\n"
     ]
    },
    {
     "name": "stdin",
     "output_type": "stream",
     "text": [
      "Please enter the password 12345678\n"
     ]
    }
   ],
   "source": [
    "\n",
    "# Private Member function\n",
    "class BankAccount:\n",
    "    def __init__(self, name, user_name):\n",
    "        self.name  = name\n",
    "        self.user = user_name\n",
    "        self.__amount = 0\n",
    "\n",
    "    # Private method..\n",
    "    def __verify_passwd(self, passwd):\n",
    "        if len(passwd) >= 8:\n",
    "            return True\n",
    "        else:\n",
    "            return False\n",
    "        \n",
    "    def set_password(self):\n",
    "        print(\"Passw word length should be >= 8\")\n",
    "        passwd = input(\"Please enter the password\")\n",
    "        if self.__verify_passwd(passwd):\n",
    "            #self.passwd = passwd\n",
    "            self.__passwd = passwd # Private attribute\n",
    "        else:\n",
    "            print(\"Entered pass word does not meet standards\")\n",
    "\n",
    "    def deposit(self, amount):\n",
    "        entered = input(\"Please enter your pass word\")\n",
    "        if entered == self.__passwd:\n",
    "            self.__amount += amount\n",
    "        else:\n",
    "            print(\"Password incorrect!!!\")\n",
    "\n",
    "    def print_statement(self):\n",
    "        print(f\"Name : {self.name}\\nAmount: {self.__amount}\")\n",
    "\n",
    "# User's code\n",
    "b1 = BankAccount(\"David\", \"d_123\")\n",
    "#b1.__verify_passwd(\"1234\") # Logicless\n",
    "b1.set_password()"
   ]
  },
  {
   "cell_type": "code",
   "execution_count": null,
   "id": "c5701041-26b4-43a4-aab5-9cc843d1fbc2",
   "metadata": {},
   "outputs": [],
   "source": []
  }
 ],
 "metadata": {
  "kernelspec": {
   "display_name": "Python3 (DeepCode)",
   "language": "python",
   "name": "deepcode"
  },
  "language_info": {
   "codemirror_mode": {
    "name": "ipython",
    "version": 3
   },
   "file_extension": ".py",
   "mimetype": "text/x-python",
   "name": "python",
   "nbconvert_exporter": "python",
   "pygments_lexer": "ipython3",
   "version": "3.13.3"
  }
 },
 "nbformat": 4,
 "nbformat_minor": 5
}
