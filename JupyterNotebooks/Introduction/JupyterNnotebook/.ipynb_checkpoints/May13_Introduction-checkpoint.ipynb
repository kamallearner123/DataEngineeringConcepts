{
 "cells": [
  {
   "cell_type": "code",
   "execution_count": 2,
   "id": "bbe48cf8-ef03-479b-94cc-20cc38699a88",
   "metadata": {},
   "outputs": [
    {
     "name": "stdout",
     "output_type": "stream",
     "text": [
      "Kamal\n"
     ]
    }
   ],
   "source": [
    "Name = \"Kamal\"\n",
    "print(Name)"
   ]
  },
  {
   "cell_type": "markdown",
   "id": "ec63e5e7-f358-4971-a33e-efdae5e92379",
   "metadata": {},
   "source": [
    "# This is about introduction to Python Programming"
   ]
  },
  {
   "cell_type": "code",
   "execution_count": 4,
   "id": "9ac3cb20-3480-49ac-be2e-57f428b07598",
   "metadata": {},
   "outputs": [
    {
     "name": "stdout",
     "output_type": "stream",
     "text": [
      "53057\n"
     ]
    }
   ],
   "source": [
    "import os\n",
    "print(os.getpid())"
   ]
  },
  {
   "cell_type": "code",
   "execution_count": null,
   "id": "804bc640-778a-46c5-a6aa-90ee029bc98a",
   "metadata": {},
   "outputs": [],
   "source": []
  }
 ],
 "metadata": {
  "kernelspec": {
   "display_name": "Python3 (DeepCode)",
   "language": "python",
   "name": "deepcode"
  },
  "language_info": {
   "codemirror_mode": {
    "name": "ipython",
    "version": 3
   },
   "file_extension": ".py",
   "mimetype": "text/x-python",
   "name": "python",
   "nbconvert_exporter": "python",
   "pygments_lexer": "ipython3",
   "version": "3.13.2"
  }
 },
 "nbformat": 4,
 "nbformat_minor": 5
}
