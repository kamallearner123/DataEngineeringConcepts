{
 "cells": [
  {
   "cell_type": "markdown",
   "metadata": {},
   "source": [
    "# Python: Strings\n",
    "\n",
    "This notebook covers **strings** in Python, including all built-in string methods, their usage, and practical problems to reinforce learning. Strings are immutable sequences of characters used to represent text.\n",
    "\n",
    "## Topics Covered\n",
    "1. Introduction to Strings\n",
    "2. Creating and Accessing Strings\n",
    "3. String Methods (Comprehensive List)\n",
    "4. String Formatting and Concatenation\n",
    "5. Common String Operations\n",
    "6. Practical Problems and Solutions\n",
    "7. Connection to `handson-ml2` Repository"
   ]
  },
  {
   "cell_type": "markdown",
   "metadata": {},
   "source": [
    "## 1. Introduction to Strings\n",
    "\n",
    "- A **string** is a sequence of characters enclosed in single quotes (`'`), double quotes (`\"`), or triple quotes (`'''` or `\"\"\"`).\n",
    "- Strings are **immutable**, meaning they cannot be changed after creation.\n",
    "- Strings support various methods for manipulation and are widely used for text processing."
   ]
  },
  {
   "cell_type": "markdown",
   "metadata": {},
   "source": [
    "## 2. Creating and Accessing Strings\n",
    "\n",
    "- Create strings using quotes.\n",
    "- Access characters using **indexing** (0-based) or **slicing** (`[start:end:step]`).\n",
    "- Use `len()` to get the length of a string."
   ]
  },
  {
   "cell_type": "code",
   "execution_count": 1,
   "metadata": {},
   "outputs": [
    {
     "name": "stdout",
     "output_type": "stream",
     "text": [
      "12\n"
     ]
    }
   ],
   "source": [
    "s1 = \"Hello Python\"\n",
    "print(len(s1))"
   ]
  },
  {
   "cell_type": "raw",
   "metadata": {},
   "source": [
    "1. 🧠 Decode a Secret Message\n",
    "Question:\n",
    "You receive a message where every second letter is meaningful. Extract only the characters at even indices to decode it.\n",
    "Input: \"xHyXeXlXlXoX XWXoXrXlXdX\"\n",
    "Output: \"Hello World\""
   ]
  },
  {
   "cell_type": "code",
   "execution_count": 4,
   "metadata": {},
   "outputs": [
    {
     "name": "stdout",
     "output_type": "stream",
     "text": [
      "x\n",
      "Actual message : Hello World\n"
     ]
    }
   ],
   "source": [
    "msg = \"xHXeXlXlXoX XWXoXrXlXdX\" # Stegnography\n",
    "print(msg[0])\n",
    "print(\"Actual message :\", msg[1:len(msg):2]) # [start:end:increment]"
   ]
  },
  {
   "cell_type": "code",
   "execution_count": 5,
   "metadata": {},
   "outputs": [
    {
     "name": "stdout",
     "output_type": "stream",
     "text": [
      "Actual message : Hello World\n"
     ]
    }
   ],
   "source": [
    "msg = \"XdXlXrXoXWX XoXlXlXeXH\" # Stegnography\n",
    "print(\"Actual message :\", msg[-1:-(len(msg)+1):-2]) # [-1:-(len(msg)+1):-2] # msg[-1], msg[-3], msg[-5]..."
   ]
  },
  {
   "cell_type": "code",
   "execution_count": 6,
   "metadata": {},
   "outputs": [
    {
     "name": "stdout",
     "output_type": "stream",
     "text": [
      "<class 'str'>\n"
     ]
    }
   ],
   "source": [
    "print(type(msg))"
   ]
  },
  {
   "cell_type": "markdown",
   "metadata": {},
   "source": [
    "## 3. String Methods\n",
    "\n",
    "Python provides a rich set of built-in string methods. Below is a comprehensive list with examples. All methods return a new string since strings are immutable.\n",
    "\n",
    "### Case Conversion Methods\n",
    "- `capitalize()`: Capitalizes the first character.\n",
    "- `casefold()`: Converts to lowercase for case-insensitive comparisons (stronger than `lower()`).\n",
    "- `lower()`: Converts all characters to lowercase.\n",
    "- `upper()`: Converts all characters to uppercase.\n",
    "- `swapcase()`: Swaps case of all characters.\n",
    "- `title()`: Capitalizes the first letter of each word."
   ]
  },
  {
   "cell_type": "code",
   "execution_count": 13,
   "metadata": {},
   "outputs": [
    {
     "name": "stdout",
     "output_type": "stream",
     "text": [
      "0x10783a6b0\n",
      "0x10783dc70\n",
      "Hello world!!!\n"
     ]
    }
   ],
   "source": [
    "text = \"hello world!!!\" # 0x10783a6b0 \n",
    "print(hex(id(text)))\n",
    "text = text.capitalize() # 0x10783dc70 (Hello world!!), free 0x10783a6b0\n",
    "print(hex(id(text)))\n",
    "print(text)"
   ]
  },
  {
   "cell_type": "code",
   "execution_count": null,
   "metadata": {},
   "outputs": [],
   "source": [
    "text = \"hello world!!!\" # 0x10783a6b0 \n",
    "print(hex(id(text)))\n",
    "result = text.capitalize() # Memory consumption is more!!!\n",
    "print(hex(id(result)))\n",
    "print(result)"
   ]
  },
  {
   "cell_type": "code",
   "execution_count": null,
   "metadata": {},
   "outputs": [],
   "source": [
    "list1 = [\"hello world\", 1,2,3]\n",
    "# [0x10783a6b0, 1,2,3 ]\n",
    "list1[0] = \"Hello world\"\n",
    "# [0x10783dc70, 1,2,3 ]\n",
    "\n",
    "# Tuple : Perf (Good), can not be modified\n",
    "# List  : Perf (average), can be modified"
   ]
  },
  {
   "cell_type": "code",
   "execution_count": 16,
   "metadata": {},
   "outputs": [
    {
     "name": "stdin",
     "output_type": "stream",
     "text": [
      "Please enter area name us\n"
     ]
    },
    {
     "name": "stdout",
     "output_type": "stream",
     "text": [
      "Validated!!!\n"
     ]
    }
   ],
   "source": [
    "s1 = input(\"Please enter area name\")\n",
    "if s1.upper() == \"US\":\n",
    "    print(\"Validated!!!\")\n",
    "else:\n",
    "    print(\"Invalid\")"
   ]
  },
  {
   "cell_type": "code",
   "execution_count": 17,
   "metadata": {},
   "outputs": [
    {
     "name": "stdin",
     "output_type": "stream",
     "text": [
      "Please enter area name US\n"
     ]
    },
    {
     "name": "stdout",
     "output_type": "stream",
     "text": [
      "Validated!!!\n"
     ]
    }
   ],
   "source": [
    "s1 = input(\"Please enter area name\")\n",
    "if s1.lower() == \"us\":\n",
    "    print(\"Validated!!!\")\n",
    "else:\n",
    "    print(\"Invalid\")"
   ]
  },
  {
   "cell_type": "code",
   "execution_count": 24,
   "metadata": {},
   "outputs": [
    {
     "name": "stdout",
     "output_type": "stream",
     "text": [
      "hello world!!!\n",
      "hello world!!!\n"
     ]
    }
   ],
   "source": [
    "s1 = \"Hello World!!!\"\n",
    "print(s1.casefold())\n",
    "print(s1.lower())"
   ]
  },
  {
   "cell_type": "code",
   "execution_count": 25,
   "metadata": {},
   "outputs": [
    {
     "name": "stdout",
     "output_type": "stream",
     "text": [
      "The News\n"
     ]
    }
   ],
   "source": [
    "s1 = \"the news\"\n",
    "print(s1.title())"
   ]
  },
  {
   "cell_type": "code",
   "execution_count": 26,
   "metadata": {},
   "outputs": [
    {
     "name": "stdout",
     "output_type": "stream",
     "text": [
      "tHE nEWS\n"
     ]
    }
   ],
   "source": [
    "s1 = \"The News\"\n",
    "print(s1.swapcase())"
   ]
  },
  {
   "cell_type": "markdown",
   "metadata": {},
   "source": [
    "### Searching and Counting Methods\n",
    "- `count(sub)`: Counts occurrences of a substring.\n",
    "- `find(sub)`: Returns the lowest index of substring (or -1 if not found).\n",
    "- `rfind(sub)`: Returns the highest index of substring.\n",
    "- `index(sub)`: Like `find()`, but raises ValueError if not found.\n",
    "- `rindex(sub)`: Like `rfind()`, but raises ValueError.\n",
    "- `startswith(prefix)`: Checks if string starts with prefix.\n",
    "- `endswith(suffix)`: Checks if string ends with suffix."
   ]
  },
  {
   "cell_type": "code",
   "execution_count": 5,
   "metadata": {},
   "outputs": [],
   "source": [
    "text = \"Python is fun, Python is great!\"\n"
   ]
  },
  {
   "cell_type": "raw",
   "metadata": {},
   "source": [
    "2. 🔍 Detect the Most Frequent Word\n",
    "Question:\n",
    "Given a paragraph, find the word that appears most frequently (ignore case and punctuation).\n",
    "Input:\n",
    "\"Python is great. PYTHON is easy to learn. python is popular!\"\n",
    "Output: \"python\""
   ]
  },
  {
   "cell_type": "code",
   "execution_count": 29,
   "metadata": {},
   "outputs": [
    {
     "name": "stdout",
     "output_type": "stream",
     "text": [
      "None\n"
     ]
    }
   ],
   "source": [
    "s1 = \"Python is great. PYTHON is easy to learn. python is popular!\"\n",
    "# How many times python is repeated in above string\n",
    "def count_substring(main, sub):\n",
    "    pass\n",
    "\n",
    "count = count_substring(s1, \"Python\")\n",
    "print(count)\n",
    "\n",
    "\n"
   ]
  },
  {
   "cell_type": "code",
   "execution_count": 32,
   "metadata": {},
   "outputs": [
    {
     "name": "stdout",
     "output_type": "stream",
     "text": [
      "3\n"
     ]
    }
   ],
   "source": [
    "s1 = \"Python is great. PYTHON is easy to learn. python is popular!\"\n",
    "s1 = s1.lower()\n",
    "print(s1.count(\"python\"))\n"
   ]
  },
  {
   "cell_type": "code",
   "execution_count": 33,
   "metadata": {},
   "outputs": [
    {
     "name": "stdout",
     "output_type": "stream",
     "text": [
      "3\n"
     ]
    }
   ],
   "source": [
    "s1 = \"Python is great. PYTHON is easy to learn. python is popular!\"\n",
    "print(s1.lower().count(\"python\"))\n",
    "# Cython package: c code --> library along with APIs\n",
    "# Standard example: pandas (written using c/c++)"
   ]
  },
  {
   "cell_type": "code",
   "execution_count": 38,
   "metadata": {},
   "outputs": [
    {
     "name": "stdout",
     "output_type": "stream",
     "text": [
      "Apple string found at position: 0\n",
      "Apple string found at position: 37\n",
      "Apple string found at position: -1\n"
     ]
    }
   ],
   "source": [
    "news = '''Apple has released new iphone, itab.\n",
    "MS release product 01.\n",
    "'''\n",
    "print(f\"Apple string found at position: {news.find(\"Apple\")}\")\n",
    "print(f\"Apple string found at position: {news.find(\"MS\")}\")\n",
    "print(f\"Apple string found at position: {news.find(\"Google\")}\")\n"
   ]
  },
  {
   "cell_type": "code",
   "execution_count": 41,
   "metadata": {},
   "outputs": [
    {
     "name": "stdout",
     "output_type": "stream",
     "text": [
      "Apple string found at position: 67\n"
     ]
    }
   ],
   "source": [
    "news = '''Apple has released new iphone, itab. 20-May\n",
    "MS release product 01.\n",
    "Apple announced new MAC. 21-May\n",
    "'''\n",
    "print(f\"Apple string found at position: {news.rfind(\"Apple\")}\")\n"
   ]
  },
  {
   "cell_type": "code",
   "execution_count": 43,
   "metadata": {},
   "outputs": [
    {
     "name": "stdout",
     "output_type": "stream",
     "text": [
      "Apple announced new MAC. 21-May\n",
      "\n"
     ]
    }
   ],
   "source": [
    "news = '''Apple has released new iphone, itab. 20-May\n",
    "MS release product 01.\n",
    "Apple announced new MAC. 21-May\n",
    "'''\n",
    "offset = news.rfind(\"Apple\")\n",
    "print(news[offset:]) # s1[offset:] => s1[offset:end:1]\n"
   ]
  },
  {
   "cell_type": "code",
   "execution_count": 47,
   "metadata": {},
   "outputs": [
    {
     "name": "stdout",
     "output_type": "stream",
     "text": [
      "File: abc.txt Should be opened with NOTEPAD\n",
      "File: abc.xls Should be opened with PANDAS\n",
      "File: abc.pdf Should be opened with PDF reader\n"
     ]
    }
   ],
   "source": [
    "files = [\"abc.txt\", \"abc.xls\", \"abc.pdf\"]\n",
    "for file in files:\n",
    "    if file.endswith(\".txt\"):\n",
    "        print(f\"File: {file} Should be opened with NOTEPAD\")\n",
    "    elif file.endswith(\".xls\"):\n",
    "        print(f\"File: {file} Should be opened with PANDAS\")\n",
    "    elif file.endswith(\".pdf\"):\n",
    "        print(f\"File: {file} Should be opened with PDF reader\")\n",
    "    else:\n",
    "        print(f\"#### There is no application to handled this file: {file}\")\n",
    "    "
   ]
  },
  {
   "cell_type": "code",
   "execution_count": 49,
   "metadata": {},
   "outputs": [
    {
     "name": "stdout",
     "output_type": "stream",
     "text": [
      "File: abc.txt Should be opened with NOTEPAD\n",
      "File: abc.xls Should be opened with PANDAS\n",
      "File: abc.pdf Should be opened with PDF reader\n"
     ]
    }
   ],
   "source": [
    "files = [\"abc.txt\", \"abc.xls\", \"abc.pdf\"]\n",
    "for file in files:\n",
    "    if file.endswith(\"xt\"):\n",
    "        print(f\"File: {file} Should be opened with NOTEPAD\")\n",
    "    elif file.endswith(\"ls\"):\n",
    "        print(f\"File: {file} Should be opened with PANDAS\")\n",
    "    elif file.endswith(\"df\"):\n",
    "        print(f\"File: {file} Should be opened with PDF reader\")\n",
    "    else:\n",
    "        print(f\"#### There is no application to handled this file: {file}\")\n",
    "    "
   ]
  },
  {
   "cell_type": "code",
   "execution_count": 51,
   "metadata": {},
   "outputs": [
    {
     "name": "stdout",
     "output_type": "stream",
     "text": [
      "Paying music:  MJ song.mp3\n",
      "Paying music:  MJ song2.mp3\n"
     ]
    }
   ],
   "source": [
    "files = [\"MJ song.mp3\", \"DJ song.mp3\", \"SJ song.mp3\", \"MJ song2.mp3\"]\n",
    "interesting_song = \"MJ\"\n",
    "for file in files:\n",
    "    if file.startswith(\"MJ\"):\n",
    "        print(\"Paying music: \", file)\n"
   ]
  },
  {
   "cell_type": "code",
   "execution_count": 52,
   "metadata": {},
   "outputs": [
    {
     "name": "stdout",
     "output_type": "stream",
     "text": [
      "Paying music:  MJ song.mp3\n",
      "Paying music:  123 MJ song2.mp3\n"
     ]
    }
   ],
   "source": [
    "files = [\"MJ song.mp3\", \"DJ song.mp3\", \"SJ song.mp3\", \"123 MJ song2.mp3\"]\n",
    "interesting_song = \"MJ\"\n",
    "for file in files:\n",
    "    if file.find(\"MJ\") != -1:\n",
    "        print(\"Paying music: \", file)\n"
   ]
  },
  {
   "cell_type": "raw",
   "metadata": {},
   "source": [
    "3. 🧪 Compress a String Using Run-Length Encoding\n",
    "Question:\n",
    "Implement run-length encoding (RLE). Compress the string by replacing repeated characters with the character followed by the count.\n",
    "Input: \"aaabbccccd\"\n",
    "Output: \"a3b2c4d1\""
   ]
  },
  {
   "cell_type": "markdown",
   "metadata": {},
   "source": [
    "### Modification Methods\n",
    "- `replace(old, new)`: Replaces occurrences of old substring with new.\n",
    "- `strip(chars)`: Removes leading/trailing characters (default: whitespace).\n",
    "- `lstrip(chars)`: Removes leading characters.\n",
    "- `rstrip(chars)`: Removes trailing characters.\n",
    "- `expandtabs(tabsize)`: Expands tabs to spaces.\n",
    "- `center(width)`: Centers string with padding.\n",
    "- `ljust(width)`: Left-justifies string.\n",
    "- `rjust(width)`: Right-justifies string.\n",
    "- `zfill(width)`: Pads with zeros on the left."
   ]
  },
  {
   "cell_type": "code",
   "execution_count": 53,
   "metadata": {},
   "outputs": [
    {
     "name": "stdin",
     "output_type": "stream",
     "text": [
      "Please enter password abc@123\n"
     ]
    },
    {
     "name": "stdout",
     "output_type": "stream",
     "text": [
      "abc@123\n"
     ]
    }
   ],
   "source": [
    "passwd = input(\"Please enter password\")\n",
    "print(passwd)\n"
   ]
  },
  {
   "cell_type": "code",
   "execution_count": 55,
   "metadata": {},
   "outputs": [
    {
     "name": "stdout",
     "output_type": "stream",
     "text": [
      "abc@xxxxxx\n"
     ]
    }
   ],
   "source": [
    "mailid = \"abc@gmail.com\"\n",
    "# Replace gmail.com with XXXXXX\n",
    "mailid = mailid.replace(\"gmail.com\", \"xxxxxx\")# (old string, new string)\n",
    "print(mailid)"
   ]
  },
  {
   "cell_type": "code",
   "execution_count": 56,
   "metadata": {},
   "outputs": [
    {
     "name": "stdout",
     "output_type": "stream",
     "text": [
      "abc@gmail.com\n",
      "xxx@gmail.com\n",
      "xxx@gmail.com\n"
     ]
    }
   ],
   "source": [
    "mailid = '''abc@gmail.com\n",
    "123@gmail.com\n",
    "123@gmail.com'''\n",
    "accent_letters = [\"1\", \"2\", \"3\"]\n",
    "for letter in accent_letters:\n",
    "    mailid = mailid.replace(letter, \"x\")\n",
    "print(mailid)\n",
    "# using re"
   ]
  },
  {
   "cell_type": "code",
   "execution_count": 60,
   "metadata": {},
   "outputs": [
    {
     "name": "stdout",
     "output_type": "stream",
     "text": [
      "THE NEWS\n",
      "                THE NEWS                \n"
     ]
    }
   ],
   "source": [
    "title = \"the news\"\n",
    "title = title.upper()\n",
    "print(title)\n",
    "title = title.center(40) #             THE NEW               \n",
    "print(title)"
   ]
  },
  {
   "cell_type": "code",
   "execution_count": 66,
   "metadata": {},
   "outputs": [
    {
     "name": "stdout",
     "output_type": "stream",
     "text": [
      "THE NEWS\n",
      "++++++++++++++++THE NEWS++++++++++++++++\n"
     ]
    }
   ],
   "source": [
    "title = \"the news\"\n",
    "title = title.upper()\n",
    "print(title)\n",
    "title = title.center(40, \"+\") #             THE NEW               \n",
    "print(title)"
   ]
  },
  {
   "cell_type": "code",
   "execution_count": 64,
   "metadata": {},
   "outputs": [
    {
     "name": "stdout",
     "output_type": "stream",
     "text": [
      "THE NEWS\n",
      "THE NEWS--------------------------------\n"
     ]
    }
   ],
   "source": [
    "title = \"the news\"\n",
    "title = title.upper()\n",
    "print(title)\n",
    "title = title.ljust(40,\"-\")\n",
    "print(title)"
   ]
  },
  {
   "cell_type": "code",
   "execution_count": 65,
   "metadata": {},
   "outputs": [
    {
     "name": "stdout",
     "output_type": "stream",
     "text": [
      "THE NEWS\n",
      "--------------------------------THE NEWS\n"
     ]
    }
   ],
   "source": [
    "title = \"the news\"\n",
    "title = title.upper()\n",
    "print(title)\n",
    "title = title.rjust(40,\"-\")\n",
    "print(title)"
   ]
  },
  {
   "cell_type": "code",
   "execution_count": 69,
   "metadata": {},
   "outputs": [
    {
     "name": "stdout",
     "output_type": "stream",
     "text": [
      "THE NEWS\n",
      "00000000000000000000000000000000THE NEWS\n"
     ]
    }
   ],
   "source": [
    "title = \"the news\"\n",
    "title = title.upper()\n",
    "print(title)\n",
    "title = title.zfill(40)\n",
    "print(title)"
   ]
  },
  {
   "cell_type": "raw",
   "metadata": {},
   "source": [
    "4. 💬 Emoji Translator\n",
    "Question:\n",
    "Create a basic emoji translator. Replace words like “happy”, “sad”, “love” with emojis.\n",
    "Input: \"I am so happy and full of love\"\n",
    "Output: \"I am so 😊 and full of ❤️\""
   ]
  },
  {
   "cell_type": "code",
   "execution_count": null,
   "metadata": {},
   "outputs": [],
   "source": [
    "text = \"  Hello, World!  \"\n"
   ]
  },
  {
   "cell_type": "markdown",
   "metadata": {},
   "source": [
    "### Testing Methods\n",
    "- `isalnum()`: Checks if all characters are alphanumeric.\n",
    "- `isalpha()`: Checks if all characters are alphabetic.\n",
    "- `isdigit()`: Checks if all characters are digits.\n",
    "- `isdecimal()`: Checks if all characters are decimal digits.\n",
    "- `isnumeric()`: Checks if all characters are numeric.\n",
    "- `isspace()`: Checks if all characters are whitespace.\n",
    "- `islower()`: Checks if all cased characters are lowercase.\n",
    "- `isupper()`: Checks if all cased characters are uppercase.\n",
    "- `istitle()`: Checks if string is title-cased.\n",
    "- `isidentifier()`: Checks if string is a valid identifier."
   ]
  },
  {
   "cell_type": "code",
   "execution_count": 71,
   "metadata": {},
   "outputs": [
    {
     "name": "stdout",
     "output_type": "stream",
     "text": [
      "Is it alphanumeric True\n",
      "Is it num False\n"
     ]
    }
   ],
   "source": [
    "text = \"Python3\"\n",
    "print(\"Is it alphanumeric\", text.isalnum())\n",
    "print(\"Is it num\", text.isdigit())"
   ]
  },
  {
   "cell_type": "raw",
   "metadata": {},
   "source": []
  },
  {
   "cell_type": "markdown",
   "metadata": {},
   "source": [
    "### Splitting and Joining Methods\n",
    "- `split(sep)`: Splits string into a list using separator.\n",
    "- `rsplit(sep)`: Splits from the right.\n",
    "- `splitlines()`: Splits string at line breaks.\n",
    "- `join(iterable)`: Joins elements of iterable with string as separator.\n",
    "- `partition(sep)`: Splits at first occurrence of separator, returns tuple.\n",
    "- `rpartition(sep)`: Splits at last occurrence."
   ]
  },
  {
   "cell_type": "code",
   "execution_count": 73,
   "metadata": {},
   "outputs": [
    {
     "name": "stdout",
     "output_type": "stream",
     "text": [
      "apple,banana,orange\n",
      "['apple', 'banana', 'orange']\n"
     ]
    }
   ],
   "source": [
    "text = \"apple,banana,orange\"\n",
    "print(text)\n",
    "fruits = text.split(\",\") # list of substrings \n",
    "print(fruits)"
   ]
  },
  {
   "cell_type": "code",
   "execution_count": 75,
   "metadata": {},
   "outputs": [
    {
     "name": "stdout",
     "output_type": "stream",
     "text": [
      "apple:banana:orange\n",
      "['apple', 'banana', 'orange']\n"
     ]
    }
   ],
   "source": [
    "text = \"apple:banana:orange\"\n",
    "print(text)\n",
    "fruits = text.split(\":\") # list of substrings \n",
    "print(fruits)"
   ]
  },
  {
   "cell_type": "code",
   "execution_count": 79,
   "metadata": {},
   "outputs": [
    {
     "name": "stdout",
     "output_type": "stream",
     "text": [
      "apple:banana:orange:grapes\n",
      "['apple', 'banana:orange:grapes']\n"
     ]
    }
   ],
   "source": [
    "text = \"apple:banana:orange:grapes\"\n",
    "print(text)\n",
    "fruits = text.split(\":\",1) # 1: how many splits \n",
    "print(fruits)"
   ]
  },
  {
   "cell_type": "code",
   "execution_count": 80,
   "metadata": {},
   "outputs": [
    {
     "name": "stdout",
     "output_type": "stream",
     "text": [
      "apple:banana:orange:grapes\n",
      "['apple', 'banana', 'orange:grapes']\n"
     ]
    }
   ],
   "source": [
    "text = \"apple:banana:orange:grapes\"\n",
    "print(text)\n",
    "fruits = text.split(\":\",2) # 2: how many splits \n",
    "print(fruits)"
   ]
  },
  {
   "cell_type": "code",
   "execution_count": 81,
   "metadata": {},
   "outputs": [
    {
     "name": "stdout",
     "output_type": "stream",
     "text": [
      "apple:banana:orange:grapes\n",
      "['apple:banana', 'orange', 'grapes']\n"
     ]
    }
   ],
   "source": [
    "text = \"apple:banana:orange:grapes\"\n",
    "print(text)\n",
    "fruits = text.rsplit(\":\",2) # 2: how many splits \n",
    "print(fruits)"
   ]
  },
  {
   "cell_type": "code",
   "execution_count": 82,
   "metadata": {},
   "outputs": [
    {
     "name": "stdout",
     "output_type": "stream",
     "text": [
      "apple\n",
      "banana:orange:grapes\n",
      "['apple', 'banana:orange:grapes']\n"
     ]
    }
   ],
   "source": [
    "text = '''apple\n",
    "banana:orange:grapes'''\n",
    "print(text)\n",
    "fruits = text.splitlines()\n",
    "print(fruits)"
   ]
  },
  {
   "cell_type": "code",
   "execution_count": 85,
   "metadata": {},
   "outputs": [
    {
     "name": "stdout",
     "output_type": "stream",
     "text": [
      "apple:banana:orange\n",
      "['Apple', 'Banana', 'Orange']\n",
      "Apple-Banana-Orange\n"
     ]
    }
   ],
   "source": [
    "text = \"apple:banana:orange\"\n",
    "print(text)\n",
    "fruits = text.split(\":\") # list of substrings \n",
    "result = [] # empty list\n",
    "for fruit in fruits:\n",
    "    result.append(fruit.title()) # [\"Apple\", \"Banana\", \"Orange\"]\n",
    "print(result)\n",
    "statement = \"-\".join(result)\n",
    "print(statement)"
   ]
  },
  {
   "cell_type": "code",
   "execution_count": 86,
   "metadata": {},
   "outputs": [
    {
     "name": "stdout",
     "output_type": "stream",
     "text": [
      "('apple', ':', 'banana:orange')\n"
     ]
    }
   ],
   "source": [
    "text = \"apple:banana:orange\"\n",
    "result = text.partition(\":\")\n",
    "print(result)"
   ]
  },
  {
   "cell_type": "code",
   "execution_count": 87,
   "metadata": {},
   "outputs": [
    {
     "name": "stdout",
     "output_type": "stream",
     "text": [
      "('apple:banana', ':', 'orange')\n"
     ]
    }
   ],
   "source": [
    "text = \"apple:banana:orange\"\n",
    "result = text.rpartition(\":\")\n",
    "print(result)"
   ]
  },
  {
   "cell_type": "markdown",
   "metadata": {},
   "source": [
    "### Encoding and Decoding\n",
    "- `encode(encoding)`: Encodes string to bytes.\n",
    "- `decode(encoding)`: Decodes bytes to string (used with bytes objects)."
   ]
  },
  {
   "cell_type": "code",
   "execution_count": 95,
   "metadata": {},
   "outputs": [
    {
     "name": "stdout",
     "output_type": "stream",
     "text": [
      "<class 'bytes'>\n",
      "encode('utf-8'): b'Hello'\n"
     ]
    }
   ],
   "source": [
    "text = \"Hello\"\n",
    "encoded = text.encode('utf-8')\n",
    "print(type(encoded))\n",
    "print(\"encode('utf-8'):\", encoded)  # b'Hello'\n",
    "# print(\"decode('utf-8'):\", encoded.decode('utf-8'))  # Hello"
   ]
  },
  {
   "cell_type": "markdown",
   "metadata": {},
   "source": [
    "## 4. String Formatting and Concatenation\n",
    "\n",
    "- **Concatenation**: Use `+` to combine strings.\n",
    "- **Formatting**: Use f-strings, `.format()`, or `%` (f-strings preferred).\n",
    "- **Repetition**: Use `*` to repeat strings."
   ]
  },
  {
   "cell_type": "code",
   "execution_count": 90,
   "metadata": {},
   "outputs": [
    {
     "name": "stdout",
     "output_type": "stream",
     "text": [
      "HelloWorld\n"
     ]
    }
   ],
   "source": [
    "s1 = \"Hello\"\n",
    "s2 = \"World\"\n",
    "s3 = s1+s2 # classes: Operator overloading: s1.__add__(s2)\n",
    "print(s3)"
   ]
  },
  {
   "cell_type": "code",
   "execution_count": 92,
   "metadata": {},
   "outputs": [
    {
     "ename": "TypeError",
     "evalue": "can only concatenate str (not \"int\") to str",
     "output_type": "error",
     "traceback": [
      "\u001b[0;31m---------------------------------------------------------------------------\u001b[0m",
      "\u001b[0;31mTypeError\u001b[0m                                 Traceback (most recent call last)",
      "Cell \u001b[0;32mIn[92], line 3\u001b[0m\n\u001b[1;32m      1\u001b[0m s1 \u001b[38;5;241m=\u001b[39m \u001b[38;5;124m\"\u001b[39m\u001b[38;5;124mHello\u001b[39m\u001b[38;5;124m\"\u001b[39m\n\u001b[1;32m      2\u001b[0m s2 \u001b[38;5;241m=\u001b[39m \u001b[38;5;241m10\u001b[39m\n\u001b[0;32m----> 3\u001b[0m s3 \u001b[38;5;241m=\u001b[39m s1\u001b[38;5;241m+\u001b[39ms2\n\u001b[1;32m      4\u001b[0m \u001b[38;5;28mprint\u001b[39m(s3)\n",
      "\u001b[0;31mTypeError\u001b[0m: can only concatenate str (not \"int\") to str"
     ]
    }
   ],
   "source": [
    "s1 = \"Hello\"\n",
    "num = 10\n",
    "s3 = s1+num # There is no operator overloading function for __add__(int)\n",
    "print(s3)"
   ]
  },
  {
   "cell_type": "code",
   "execution_count": 91,
   "metadata": {},
   "outputs": [
    {
     "name": "stdout",
     "output_type": "stream",
     "text": [
      "HelloHelloHelloHelloHelloHelloHelloHelloHelloHelloHelloHelloHelloHelloHelloHelloHelloHelloHelloHelloHelloHelloHelloHelloHelloHelloHelloHelloHelloHelloHelloHelloHelloHelloHelloHelloHelloHelloHelloHelloHelloHelloHelloHelloHelloHelloHelloHelloHelloHelloHelloHelloHelloHelloHelloHelloHelloHelloHelloHelloHelloHelloHelloHelloHelloHelloHelloHelloHelloHelloHelloHelloHelloHelloHelloHelloHelloHelloHelloHelloHelloHelloHelloHelloHelloHelloHelloHelloHelloHelloHelloHelloHelloHelloHelloHelloHelloHelloHelloHello\n"
     ]
    }
   ],
   "source": [
    "s1 = \"Hello\"\n",
    "msg = s1*100\n",
    "print(msg)"
   ]
  },
  {
   "cell_type": "markdown",
   "metadata": {},
   "source": [
    "## 5. Common String Operations\n",
    "\n",
    "- **Slicing**: Extract parts of a string.\n",
    "- **Membership**: Check if a substring exists using `in`.\n",
    "- **Iteration**: Loop through characters.\n",
    "- **Escape Sequences**: Use `\\n`, `\\t`, etc., for special characters."
   ]
  },
  {
   "cell_type": "code",
   "execution_count": null,
   "metadata": {},
   "outputs": [],
   "source": []
  },
  {
   "cell_type": "markdown",
   "metadata": {},
   "source": [
    "## 6. Practical Problems and Solutions\n",
    "\n",
    "Below are practical problems to apply string methods, with solutions provided."
   ]
  },
  {
   "cell_type": "markdown",
   "metadata": {},
   "source": [
    "### Problem 1: Reverse a String\n",
    "Write a program to reverse a given string."
   ]
  },
  {
   "cell_type": "code",
   "execution_count": 100,
   "metadata": {},
   "outputs": [],
   "source": [
    "def reverse_string(s1):\n",
    "    return s1[::-1]\n",
    "\n",
    "\n",
    "assert reverse_string(\"hello\") == \"olleh\"\n",
    "assert reverse_string(\"\") == \"\"\n",
    "assert reverse_string(\"a\") == \"a\"\n",
    "assert reverse_string(\"12345\") == \"54321\"\n",
    "assert reverse_string(\"Able was I ere I saw Elba\") == \"ablE was I ere I saw elbA\""
   ]
  },
  {
   "cell_type": "markdown",
   "metadata": {},
   "source": [
    "### Problem 2: Check if a String is a Palindrome\n",
    "Write a program to check if a string is a palindrome (reads the same forward and backward)."
   ]
  },
  {
   "cell_type": "code",
   "execution_count": null,
   "metadata": {},
   "outputs": [],
   "source": [
    "def is_palindrome(s):\n",
    "    pass\n",
    "assert is_palindrome(\"Racecar\") == True              # Simple palindrome with case difference\n",
    "assert is_palindrome(\"A man a plan a canal Panama\") == True  # Palindrome with spaces\n",
    "assert is_palindrome(\"Hello\") == False               # Not a palindrome\n",
    "assert is_palindrome(\"\") == True                     # Empty string is a palindrome\n",
    "assert is_palindrome(\"Was it a car or a cat I saw?\") == True  # Palindrome with punctuation\n"
   ]
  },
  {
   "cell_type": "markdown",
   "metadata": {},
   "source": [
    "### Problem 3: Count Vowels in a String\n",
    "Write a program to count the number of vowels (a, e, i, o, u) in a string."
   ]
  },
  {
   "cell_type": "code",
   "execution_count": null,
   "metadata": {},
   "outputs": [],
   "source": [
    "def count_vowels(s):\n",
    "    pass\n",
    "assert count_vowels(\"Hello World\") == 3          # e, o, o\n",
    "assert count_vowels(\"PYTHON\") == 1               # o\n",
    "assert count_vowels(\"aeiouAEIOU\") == 10          # All vowels, both cases\n",
    "assert count_vowels(\"xyz\") == 0                  # No vowels\n",
    "assert count_vowels(\"\") == 0                     # Empty string\n"
   ]
  },
  {
   "cell_type": "markdown",
   "metadata": {},
   "source": [
    "### Problem 4: Capitalize First Letter of Each Word\n",
    "Write a program to capitalize the first letter of each word in a sentence without using `title()`."
   ]
  },
  {
   "cell_type": "code",
   "execution_count": null,
   "metadata": {},
   "outputs": [],
   "source": [
    "def capitalize_words(sentence):\n",
    "    pass\n",
    "assert capitalize_words(\"hello world\") == \"Hello World\"              # Basic lowercase\n",
    "assert capitalize_words(\"python is fun\") == \"Python Is Fun\"          # Multiple words\n",
    "assert capitalize_words(\"  multiple   spaces  \") == \"Multiple Spaces\"  # Extra spaces ignored\n",
    "assert capitalize_words(\"123abc test\") == \"123abc Test\"              # Word starting with digit\n",
    "assert capitalize_words(\"\") == \"\"                                    # Empty string\n"
   ]
  },
  {
   "cell_type": "markdown",
   "metadata": {},
   "source": [
    "### Problem 5: Remove Duplicate Characters\n",
    "Write a program to remove duplicate characters from a string while preserving order."
   ]
  },
  {
   "cell_type": "code",
   "execution_count": null,
   "metadata": {},
   "outputs": [],
   "source": [
    "def remove_duplicates(s):\n",
    "    pass\n",
    "\n",
    "assert remove_duplicates(\"banana\") == \"ban\"                # 'b', 'a', 'n'\n",
    "assert remove_duplicates(\"abcabcabc\") == \"abc\"             # First 'a', 'b', 'c' kept\n",
    "assert remove_duplicates(\"aaaaa\") == \"a\"                   # All same characters\n",
    "assert remove_duplicates(\"123123\") == \"123\"                # Digits preserved in order\n",
    "assert remove_duplicates(\"\") == \"\"                         # Empty string\n"
   ]
  },
  {
   "cell_type": "markdown",
   "metadata": {},
   "source": [
    "## Exercises\n",
    "\n",
    "1. Write a program to check if two strings are anagrams (contain the same characters with the same frequency).\n",
    "2. Create a program that takes a string and replaces all vowels with '*'.\n",
    "3. Write a program to find the longest word in a sentence.\n",
    "4. Implement a program that converts a string to title case, handling edge cases like extra spaces.\n",
    "5. Write a program to count the frequency of each character in a string and store it in a dictionary.\n",
    "\n",
    "Try these in a new code cell below!"
   ]
  },
  {
   "cell_type": "code",
   "execution_count": null,
   "metadata": {},
   "outputs": [],
   "source": [
    "# Your code here\n"
   ]
  },
  {
   "cell_type": "markdown",
   "metadata": {},
   "source": [
    "## Summary\n",
    "\n",
    "- Strings are immutable sequences of characters with a rich set of methods.\n",
    "- Methods include case conversion, searching, modification, testing, splitting/joining, and encoding.\n",
    "- Common operations include slicing, concatenation, formatting, and iteration.\n",
    "- Practical problems like reversing strings or counting vowels reinforce method usage.\n",
    "- Strings are crucial in data processing tasks, such as those in the `handson-ml2` repository.\n",
    "\n",
    "For more practice, try the exercises, explore Python's [official string documentation](https://docs.python.org/3/library/stdtypes.html#string-methods), or apply these methods to text data in `handson-ml2` notebooks!"
   ]
  }
 ],
 "metadata": {
  "kernelspec": {
   "display_name": "Python 3 (ipykernel)",
   "language": "python",
   "name": "python3"
  },
  "language_info": {
   "codemirror_mode": {
    "name": "ipython",
    "version": 3
   },
   "file_extension": ".py",
   "mimetype": "text/x-python",
   "name": "python",
   "nbconvert_exporter": "python",
   "pygments_lexer": "ipython3",
   "version": "3.12.7"
  }
 },
 "nbformat": 4,
 "nbformat_minor": 4
}
