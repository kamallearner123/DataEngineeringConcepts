{
 "cells": [
  {
   "cell_type": "code",
   "execution_count": 1,
   "id": "fc2abefb-a1bb-4f63-b38d-d6048d4971d8",
   "metadata": {},
   "outputs": [
    {
     "name": "stdout",
     "output_type": "stream",
     "text": [
      " r = -3\n"
     ]
    }
   ],
   "source": [
    "# Scope of Variables\n",
    "\n",
    "\n",
    "\n",
    "def sum_all(*nums):\n",
    "    '''\n",
    "    sum__all takes variable number of arguments\n",
    "    Returns sum all the numbers\n",
    "    '''\n",
    "    result = 0 # Local variable of function sum_all()\n",
    "    for num in nums:\n",
    "        result += num\n",
    "    return result\n",
    "\n",
    "# calling function\n",
    "r = sum_all(1,2,3,-9)\n",
    "print(f\" r = {r}\")\n"
   ]
  },
  {
   "cell_type": "code",
   "execution_count": 7,
   "id": "d5032bb6-a923-4ea1-9be4-5ba4f834c91f",
   "metadata": {},
   "outputs": [
    {
     "ename": "UnboundLocalError",
     "evalue": "cannot access local variable 'num_of_cars' where it is not associated with a value",
     "output_type": "error",
     "traceback": [
      "\u001b[0;31m---------------------------------------------------------------------------\u001b[0m",
      "\u001b[0;31mUnboundLocalError\u001b[0m                         Traceback (most recent call last)",
      "Cell \u001b[0;32mIn[7], line 8\u001b[0m\n\u001b[1;32m      5\u001b[0m     \u001b[38;5;28mprint\u001b[39m(\u001b[38;5;124m\"\u001b[39m\u001b[38;5;124mDoing car service, car number :\u001b[39m\u001b[38;5;124m\"\u001b[39m, car_num)\n\u001b[1;32m      6\u001b[0m     \u001b[38;5;28;01mreturn\u001b[39;00m\n\u001b[0;32m----> 8\u001b[0m handle_car_service(\u001b[38;5;124m\"\u001b[39m\u001b[38;5;124mcar1\u001b[39m\u001b[38;5;124m\"\u001b[39m)\n\u001b[1;32m      9\u001b[0m \u001b[38;5;28mprint\u001b[39m(\u001b[38;5;124mf\u001b[39m\u001b[38;5;124m\"\u001b[39m\u001b[38;5;124m Number of cars got serviced is \u001b[39m\u001b[38;5;132;01m{\u001b[39;00mnum_of_cars\u001b[38;5;132;01m}\u001b[39;00m\u001b[38;5;124m\"\u001b[39m)\n",
      "Cell \u001b[0;32mIn[7], line 4\u001b[0m, in \u001b[0;36mhandle_car_service\u001b[0;34m(car_num)\u001b[0m\n\u001b[1;32m      3\u001b[0m \u001b[38;5;28;01mdef\u001b[39;00m \u001b[38;5;21mhandle_car_service\u001b[39m(car_num):\n\u001b[0;32m----> 4\u001b[0m     num_of_cars \u001b[38;5;241m=\u001b[39m num_of_cars\u001b[38;5;241m+\u001b[39m\u001b[38;5;241m1\u001b[39m\n\u001b[1;32m      5\u001b[0m     \u001b[38;5;28mprint\u001b[39m(\u001b[38;5;124m\"\u001b[39m\u001b[38;5;124mDoing car service, car number :\u001b[39m\u001b[38;5;124m\"\u001b[39m, car_num)\n\u001b[1;32m      6\u001b[0m     \u001b[38;5;28;01mreturn\u001b[39;00m\n",
      "\u001b[0;31mUnboundLocalError\u001b[0m: cannot access local variable 'num_of_cars' where it is not associated with a value"
     ]
    }
   ],
   "source": [
    "\n",
    "num_of_cars = 0\n",
    "\n",
    "def handle_car_service(car_num):\n",
    "    num_of_cars = num_of_cars+1\n",
    "    print(\"Doing car service, car number :\", car_num)\n",
    "    return\n",
    "\n",
    "handle_car_service(\"car1\")\n",
    "print(f\" Number of cars got serviced is {num_of_cars}\")"
   ]
  },
  {
   "cell_type": "code",
   "execution_count": 6,
   "id": "70fa7d70-6a20-435c-b643-339be24f7572",
   "metadata": {},
   "outputs": [
    {
     "name": "stdout",
     "output_type": "stream",
     "text": [
      "abc@gmail.com\n"
     ]
    }
   ],
   "source": [
    "name = \"abc\"\n",
    "mail_id = name + \"@gmail.com\"\n",
    "print(mail_id)"
   ]
  },
  {
   "cell_type": "code",
   "execution_count": 9,
   "id": "5fc442f3-3b5f-4886-895b-ce4bebc4d166",
   "metadata": {},
   "outputs": [
    {
     "name": "stdout",
     "output_type": "stream",
     "text": [
      "Doing car service, car number : car1\n",
      " Number of cars got serviced is 1\n"
     ]
    }
   ],
   "source": [
    "num_of_cars = 0\n",
    "\n",
    "def handle_car_service(car_num):\n",
    "    global num_of_cars\n",
    "    num_of_cars = num_of_cars+1\n",
    "    print(\"Doing car service, car number :\", car_num)\n",
    "    return\n",
    "\n",
    "handle_car_service(\"car1\")\n",
    "print(f\" Number of cars got serviced is {num_of_cars}\")"
   ]
  },
  {
   "cell_type": "code",
   "execution_count": 10,
   "id": "48ae7163-8c86-470b-8afd-c10a6e0d691a",
   "metadata": {},
   "outputs": [
    {
     "name": "stdout",
     "output_type": "stream",
     "text": [
      "Doing car service, car number : car1\n",
      " Number of cars got serviced is 1\n",
      "Doing car service, car number : car2\n",
      " Number of cars got serviced is 2\n",
      "Doing car service, car number : car3\n",
      " Number of cars got serviced is 3\n",
      "Doing car service, car number : car4\n",
      " Number of cars got serviced is 4\n"
     ]
    }
   ],
   "source": [
    "num_of_cars = 0\n",
    "\n",
    "def handle_car_service(car_num):\n",
    "    global num_of_cars # \n",
    "    num_of_cars = num_of_cars+1\n",
    "    print(\"Doing car service, car number :\", car_num)\n",
    "    return\n",
    "\n",
    "handle_car_service(\"car1\")\n",
    "print(f\" Number of cars got serviced is {num_of_cars}\")\n",
    "\n",
    "handle_car_service(\"car2\")\n",
    "print(f\" Number of cars got serviced is {num_of_cars}\")\n",
    "\n",
    "handle_car_service(\"car3\")\n",
    "print(f\" Number of cars got serviced is {num_of_cars}\")\n",
    "\n",
    "handle_car_service(\"car4\")\n",
    "print(f\" Number of cars got serviced is {num_of_cars}\")"
   ]
  },
  {
   "cell_type": "code",
   "execution_count": null,
   "id": "fd90f26f-515f-4343-924a-9bfda10f507d",
   "metadata": {},
   "outputs": [],
   "source": [
    "num_of_cars = 0 # main scope\n",
    "\n",
    "def handle_car_service(car_num):\n",
    "    num_of_cars = 0  # local to handle_car_service\n",
    "    num_of_cars = num_of_cars+1\n",
    "    print(\"Doing car service, car number :\", car_num)\n",
    "    return\n",
    "\n",
    "handle_car_service(\"car1\")\n",
    "print(f\" Number of cars got serviced is {num_of_cars}\")\n",
    "\n",
    "handle_car_service(\"car1\")\n",
    "print(f\" Number of cars got serviced is {num_of_cars}\")"
   ]
  },
  {
   "cell_type": "code",
   "execution_count": 14,
   "id": "aea7e4d2-7270-45e9-871d-c177c558aeb6",
   "metadata": {},
   "outputs": [
    {
     "name": "stdout",
     "output_type": "stream",
     "text": [
      "No Python documentation found for 'This is dummy'.\n",
      "Use help() to get the interactive help utility.\n",
      "Use help(str) for help on the str class.\n",
      "\n",
      "None\n"
     ]
    }
   ],
   "source": [
    "from pandas import DataFrame\n",
    "#print(help(DataFrame))\n",
    "\n",
    "DataFrame = \"This is dummy\"\n",
    "print(help(DataFrame))"
   ]
  },
  {
   "cell_type": "code",
   "execution_count": 16,
   "id": "5bf6c1ed-d6b9-4027-a083-e5db879d0dee",
   "metadata": {},
   "outputs": [
    {
     "ename": "TypeError",
     "evalue": "'int' object is not callable",
     "output_type": "error",
     "traceback": [
      "\u001b[0;31m---------------------------------------------------------------------------\u001b[0m",
      "\u001b[0;31mTypeError\u001b[0m                                 Traceback (most recent call last)",
      "Cell \u001b[0;32mIn[16], line 4\u001b[0m\n\u001b[1;32m      1\u001b[0m \u001b[38;5;28;01mimport\u001b[39;00m \u001b[38;5;21;01mmath\u001b[39;00m\n\u001b[1;32m      2\u001b[0m math \u001b[38;5;241m=\u001b[39m \u001b[38;5;241m10\u001b[39m\u001b[38;5;241m+\u001b[39m\u001b[38;5;241m20\u001b[39m\n\u001b[0;32m----> 4\u001b[0m math\u001b[38;5;241m.\u001b[39mimag(\u001b[38;5;241m10\u001b[39m)\n",
      "\u001b[0;31mTypeError\u001b[0m: 'int' object is not callable"
     ]
    }
   ],
   "source": [
    "import math\n",
    "math = 10+20\n",
    "\n",
    "math.imag(10)"
   ]
  },
  {
   "cell_type": "code",
   "execution_count": null,
   "id": "e8f68ef1-e8db-499f-b5f8-c48a71ed8247",
   "metadata": {},
   "outputs": [],
   "source": [
    "'''\n",
    "1. Should start [A-Z][a-z]_\n",
    "2. Name should not be any other module name / function name\n",
    "'''"
   ]
  },
  {
   "cell_type": "code",
   "execution_count": null,
   "id": "8558f1f1-4671-4767-9ed1-ea31d4712969",
   "metadata": {},
   "outputs": [],
   "source": [
    "# Functions\n",
    "# 1. Positional arguments fun(a,b): fun(10,20)\n",
    "# 2. variable number of args: fun(*args)\n",
    "# 3. Named args\n",
    "# 4. Keyword args"
   ]
  },
  {
   "cell_type": "code",
   "execution_count": 18,
   "id": "0fb54cc8-b7a8-432d-9127-6b2652c60163",
   "metadata": {},
   "outputs": [
    {
     "name": "stdout",
     "output_type": "stream",
     "text": [
      "Sugar 20 100\n"
     ]
    }
   ],
   "source": [
    "# 4. Keyword args\n",
    "def get_items_details(name, price, quantity):\n",
    "    print(name, price, quantity)\n",
    "\n",
    "get_items_details(name=\"Sugar\", price=20, quantity=100)"
   ]
  },
  {
   "cell_type": "code",
   "execution_count": 19,
   "id": "2e5e89e5-fbb6-4fab-a384-b47ab7ccac5d",
   "metadata": {},
   "outputs": [
    {
     "name": "stdout",
     "output_type": "stream",
     "text": [
      "{'name': 'Sugar', 'price': 20, 'quantity': 100}\n"
     ]
    }
   ],
   "source": [
    "# 4. Keyword args\n",
    "def get_items_details(**item_details): # Accepting keyword arguments\n",
    "    print(item_details)\n",
    "\n",
    "get_items_details(name=\"Sugar\", price=20, quantity=100)"
   ]
  },
  {
   "cell_type": "code",
   "execution_count": 20,
   "id": "a10680c3-fe2a-4920-a6c5-2e84bf085f71",
   "metadata": {},
   "outputs": [
    {
     "name": "stdout",
     "output_type": "stream",
     "text": [
      "{'price': 20, 'quantity': 100, 'name': 'Sugar'}\n"
     ]
    }
   ],
   "source": [
    "# 4. Keyword args\n",
    "# Changing position of argument\n",
    "def get_items_details(**item_details): # Accepting keyword arguments\n",
    "    print(item_details)\n",
    "\n",
    "get_items_details(price=20, quantity=100, name=\"Sugar\")"
   ]
  },
  {
   "cell_type": "code",
   "execution_count": 22,
   "id": "ae67c5e3-686c-41ee-b072-dd93216cab7d",
   "metadata": {},
   "outputs": [
    {
     "name": "stdout",
     "output_type": "stream",
     "text": [
      "Help on built-in function print in module builtins:\n",
      "\n",
      "print(*args, sep=' ', end='\\n', file=None, flush=False)\n",
      "    Prints the values to a stream, or to sys.stdout by default.\n",
      "\n",
      "    sep\n",
      "      string inserted between values, default a space.\n",
      "    end\n",
      "      string appended after the last value, default a newline.\n",
      "    file\n",
      "      a file-like object (stream); defaults to the current sys.stdout.\n",
      "    flush\n",
      "      whether to forcibly flush the stream.\n",
      "\n",
      "None\n",
      "hello world 10\n"
     ]
    }
   ],
   "source": [
    "print(help(print))\n",
    "var1 = 10\n",
    "print(\"hello\", \"world\", 10)"
   ]
  },
  {
   "cell_type": "code",
   "execution_count": 30,
   "id": "7b9a32da-95a8-4f03-b84d-ec845072fd57",
   "metadata": {},
   "outputs": [],
   "source": [
    "import pandas\n",
    "#print(help(pandas.DataFrame))"
   ]
  },
  {
   "cell_type": "code",
   "execution_count": 25,
   "id": "faa6a4d2-7d53-44c2-9b27-a39681bc663f",
   "metadata": {},
   "outputs": [
    {
     "name": "stdout",
     "output_type": "stream",
     "text": [
      "30\n"
     ]
    }
   ],
   "source": [
    "# 3. Named args\n",
    "def calc(num1, num2, op):\n",
    "    if op == \"add\":\n",
    "        return num1+num2\n",
    "    elif op == \"sub\":\n",
    "        return num1-num2\n",
    "    else:\n",
    "        print(\"Operation is not valid\")\n",
    "\n",
    "result = calc(num2=10,num1=20,op=\"add\")\n",
    "print(result)"
   ]
  },
  {
   "cell_type": "code",
   "execution_count": 27,
   "id": "97964ad4-bcb4-41c7-837e-108f526a5b46",
   "metadata": {},
   "outputs": [
    {
     "name": "stdout",
     "output_type": "stream",
     "text": [
      "30\n"
     ]
    }
   ],
   "source": [
    "# 3. Named args\n",
    "def calc(num1, num2, op):\n",
    "    if op == \"add\":\n",
    "        return num1+num2\n",
    "    elif op == \"sub\":\n",
    "        return num1-num2\n",
    "    else:\n",
    "        print(\"Operation is not valid\")\n",
    "\n",
    "result = calc(num2=10,num1=20,op=\"add\")\n",
    "print(result)"
   ]
  },
  {
   "cell_type": "code",
   "execution_count": 28,
   "id": "8d8a363f-b5d0-4809-88ac-364cbb3e48c3",
   "metadata": {},
   "outputs": [
    {
     "name": "stdout",
     "output_type": "stream",
     "text": [
      "Going to connect to mysql using the details\n"
     ]
    }
   ],
   "source": [
    "# 4. Keyword args in case of DBs\n",
    "def get_db_details(**item_details): # Accepting keyword arguments\n",
    "    if \"db_mysql\" in item_details:\n",
    "        print(\"Going to connect to mysql using the details\")\n",
    "    else:\n",
    "        print(\"No DB handler\")\n",
    "\n",
    "get_db_details(db_mysql={\"user_name\":\"user1\",\"port\":1010})"
   ]
  },
  {
   "cell_type": "code",
   "execution_count": 31,
   "id": "2cd11957-a4d7-495f-b544-0707a513952f",
   "metadata": {},
   "outputs": [
    {
     "name": "stdout",
     "output_type": "stream",
     "text": [
      "{'db_sqlite': {'user_name': 'user1', 'port': 1010}}\n",
      "No DB handler\n"
     ]
    }
   ],
   "source": [
    "# 4. Keyword args in case of DBs\n",
    "def get_db_details(**item_details): # Accepting keyword arguments\n",
    "    print(item_details)\n",
    "    if \"db_mysql\" in item_details:\n",
    "        print(\"Going to connect to mysql using the details\")\n",
    "    else:\n",
    "        print(\"No DB handler\")\n",
    "\n",
    "get_db_details(db_sqlite={\"user_name\":\"user1\",\"port\":1010})"
   ]
  },
  {
   "cell_type": "code",
   "execution_count": null,
   "id": "ed621786-468c-4194-bffa-429d9c1537b3",
   "metadata": {},
   "outputs": [],
   "source": []
  }
 ],
 "metadata": {
  "kernelspec": {
   "display_name": "Python 3 (ipykernel)",
   "language": "python",
   "name": "python3"
  },
  "language_info": {
   "codemirror_mode": {
    "name": "ipython",
    "version": 3
   },
   "file_extension": ".py",
   "mimetype": "text/x-python",
   "name": "python",
   "nbconvert_exporter": "python",
   "pygments_lexer": "ipython3",
   "version": "3.12.7"
  }
 },
 "nbformat": 4,
 "nbformat_minor": 5
}
