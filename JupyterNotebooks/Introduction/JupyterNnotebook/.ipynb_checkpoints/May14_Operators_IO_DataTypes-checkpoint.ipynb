{
 "cells": [
  {
   "cell_type": "code",
   "execution_count": 1,
   "id": "405c84cc-df8d-4363-8145-2bab6cd51515",
   "metadata": {},
   "outputs": [
    {
     "data": {
      "text/plain": [
       "'\\n Representing Numbers:\\n➢ Decimal, Hexadecimal, Octal, Binary\\n➢ Operators:\\n➢ Arithmetic : +, -, *, /, %, **, // (divide as integer explicitly)\\n----\\nBinary : |, &, ^, ~, <<, >>\\n➢ Logical : ==, !=, <, <=, >, >=, <>, and, or, not\\n➢ Assignment : =, +=, -=, *=, /=, %=, **=, //=\\n\\n'"
      ]
     },
     "execution_count": 1,
     "metadata": {},
     "output_type": "execute_result"
    }
   ],
   "source": [
    "'''\n",
    " Representing Numbers:\n",
    "➢ Decimal, Hexadecimal, Octal, Binary\n",
    "➢ Operators:\n",
    "➢ Arithmetic : +, -, *, /, %, **, // (divide as integer explicitly)\n",
    "----\n",
    "Binary : |, &, ^, ~, <<, >>\n",
    "➢ Logical : ==, !=, <, <=, >, >=, <>, and, or, not\n",
    "➢ Assignment : =, +=, -=, *=, /=, %=, **=, //=\n",
    "\n",
    "'''"
   ]
  },
  {
   "cell_type": "code",
   "execution_count": 5,
   "id": "4e06f2cb-f50b-43f2-8787-88580650b140",
   "metadata": {},
   "outputs": [
    {
     "name": "stdout",
     "output_type": "stream",
     "text": [
      "0b1111\n",
      "0b0\n",
      "0b1100\n",
      "0b0\n"
     ]
    }
   ],
   "source": [
    "# Binary Operations:  |, &, ^, ~, <<, >>\n",
    "a = 0b0011\n",
    "b = 0b1100\n",
    "\n",
    "c = a|b # Bitwise OR\n",
    "\n",
    "print(bin(c))\n",
    "\n",
    "d = a&b # Bitwise AND\n",
    "\n",
    "print(bin(d))\n",
    "\n",
    "e = a<<2 # Left shit by 2\n",
    "print(bin(e))\n",
    "\n",
    "f = a>>2 # Right shit by 2\n",
    "print(bin(f))"
   ]
  },
  {
   "cell_type": "code",
   "execution_count": 9,
   "id": "9ec4f3c7-9870-4e49-b1b0-65a6354f4d88",
   "metadata": {},
   "outputs": [
    {
     "name": "stdout",
     "output_type": "stream",
     "text": [
      "Encrypted message : 0xbb\n",
      "Decrypted message:  0x10\n"
     ]
    }
   ],
   "source": [
    "# Symmetric Encryption\n",
    "# At Sender\n",
    "data = 0x10\n",
    "key = 0xAB\n",
    "Message = data ^ key\n",
    "print(\"Encrypted message :\", hex(Message))\n",
    "\n",
    "\n",
    "# At Receiver\n",
    "Actual_message = Message ^ key\n",
    "print(\"Decrypted message: \", hex(Actual_message))"
   ]
  },
  {
   "cell_type": "code",
   "execution_count": 12,
   "id": "65ea3dd7-2d82-46f2-96ac-97915267f92c",
   "metadata": {},
   "outputs": [
    {
     "name": "stdout",
     "output_type": "stream",
     "text": [
      "1200\n"
     ]
    }
   ],
   "source": [
    "# Assignment : =, +=, -=, *=, /=, %=, **=, //=\n",
    "Salary = 1000\n",
    "Bonus = 100\n",
    "#Final_sal = Final_Sal + Bonus\n",
    "Final_sal += Bonus\n",
    "print(Final_sal)\n"
   ]
  },
  {
   "cell_type": "code",
   "execution_count": 16,
   "id": "0b97f23a-5cde-4ba6-b5eb-9d0313e556b2",
   "metadata": {},
   "outputs": [
    {
     "name": "stdout",
     "output_type": "stream",
     "text": [
      "1\n"
     ]
    }
   ],
   "source": [
    "Year = 2001\n",
    "Year %= 4 # Year = Year % 4\n",
    "print(Year)"
   ]
  },
  {
   "cell_type": "code",
   "execution_count": 17,
   "id": "d889c46a-de8b-4fd2-a178-f9b6943178f2",
   "metadata": {},
   "outputs": [
    {
     "name": "stdout",
     "output_type": "stream",
     "text": [
      "256\n"
     ]
    }
   ],
   "source": [
    "num = 2\n",
    "power = 8\n",
    "num **= power \n",
    "print(num)"
   ]
  },
  {
   "cell_type": "code",
   "execution_count": 18,
   "id": "3a59956a-009c-4efd-9256-bdec8070777f",
   "metadata": {},
   "outputs": [
    {
     "name": "stdout",
     "output_type": "stream",
     "text": [
      "210\n"
     ]
    }
   ],
   "source": [
    "a = 10\n",
    "a += a*20\n",
    "print(a)"
   ]
  },
  {
   "cell_type": "code",
   "execution_count": 8,
   "id": "898bdee6-8e3e-4d40-8b5b-e71e1e264376",
   "metadata": {},
   "outputs": [
    {
     "ename": "IndentationError",
     "evalue": "unexpected indent (3610990367.py, line 7)",
     "output_type": "error",
     "traceback": [
      "  \u001b[36mCell\u001b[39m\u001b[36m \u001b[39m\u001b[32mIn[8]\u001b[39m\u001b[32m, line 7\u001b[39m\n\u001b[31m    \u001b[39m\u001b[31mprint(\"He is less than 18 years\")\u001b[39m\n    ^\n\u001b[31mIndentationError\u001b[39m\u001b[31m:\u001b[39m unexpected indent\n"
     ]
    }
   ],
   "source": [
    "# Logical : ==, !=, <, <=, >, >=, <>, and, or, not\n",
    "age = 8\n",
    "Check = age<18 # Flase\n",
    "\n",
    "if Check: # True or False\n",
    "    print(\"Child\")\n",
    "    print(\"He is less than 18 years\")\n",
    "else:\n",
    "    print(\"Adult\")\n"
   ]
  },
  {
   "cell_type": "code",
   "execution_count": 17,
   "id": "29c8ab43-45fd-4694-9950-018540cbe4aa",
   "metadata": {},
   "outputs": [
    {
     "name": "stdout",
     "output_type": "stream",
     "text": [
      "Teanage\n"
     ]
    }
   ],
   "source": [
    "age = 15\n",
    "# Kid 0-12, Teenage 13-19, Adult 20-60 and Senior Citizen > 60 \n",
    "if (0<=age<=12):\n",
    "    print(\"Kid\")\n",
    "elif 13<=age<=19:\n",
    "    print(\"Teanage\")\n",
    "elif 20<=age<=60:\n",
    "    print(\"Adult\")\n",
    "else:\n",
    "    print(\"Senior Citizen\")"
   ]
  },
  {
   "cell_type": "code",
   "execution_count": 19,
   "id": "f6fce3d3-b607-4970-b684-2c3cab9c5634",
   "metadata": {},
   "outputs": [
    {
     "name": "stdout",
     "output_type": "stream",
     "text": [
      "Adult\n"
     ]
    }
   ],
   "source": [
    "age = 25\n",
    "# Kid 0-12, Teenage 13-19, Adult 20-60 and Senior Citizen > 60 \n",
    "if (age>=20) and (age<=60):\n",
    "    print(\"Adult\")\n",
    "else:\n",
    "    print(\"...\")"
   ]
  },
  {
   "cell_type": "code",
   "execution_count": 20,
   "id": "336fd9be-7620-4181-842c-3988e68d9432",
   "metadata": {},
   "outputs": [
    {
     "name": "stdout",
     "output_type": "stream",
     "text": [
      "Leap year\n"
     ]
    }
   ],
   "source": [
    "year = 2020\n",
    "if year%4 != 0:\n",
    "    print(\"Not leap year\")\n",
    "else:\n",
    "    print(\"Leap year\")"
   ]
  },
  {
   "cell_type": "code",
   "execution_count": 25,
   "id": "c91ffade-1877-4980-b3b3-725481babcf9",
   "metadata": {},
   "outputs": [
    {
     "name": "stdout",
     "output_type": "stream",
     "text": [
      "Congratulations!!!!\n"
     ]
    }
   ],
   "source": [
    "l1 = [\"a\", \"b\", \"c\"] # List: []\n",
    "\n",
    "if \"a\" in l1:\n",
    "    print(\"Congratulations!!!!\")\n",
    "else:\n",
    "    print(\"Sorry... your name is not there\")\n",
    "\n"
   ]
  },
  {
   "cell_type": "code",
   "execution_count": 29,
   "id": "a5dbe44e-bef8-4eed-b928-9c05e0ff99e6",
   "metadata": {},
   "outputs": [
    {
     "name": "stdout",
     "output_type": "stream",
     "text": [
      "Teanage\n"
     ]
    }
   ],
   "source": [
    "'''\n",
    "Write a program to categorise people as per the age\n",
    "0-12: kid\n",
    "13-19: teenage\n",
    "'''\n",
    "age = 15\n",
    "# Kid 0-12, Teenage 13-19, Adult 20-60 and Senior Citizen > 60 \n",
    "if (0<=age<=12):\n",
    "    print(\"Kid\") \n",
    "    '''Hello\n",
    "        hi\n",
    "    '''\n",
    "elif 13<=age<=19:\n",
    "    print(\"Teanage\")\n",
    "elif 20<=age<=60:\n",
    "    print(\"Adult\")\n",
    "else:\n",
    "    print(\"Senior Citizen\")"
   ]
  },
  {
   "cell_type": "code",
   "execution_count": 30,
   "id": "ee1c0d95-96a8-4a02-b47d-3ab4bb456cae",
   "metadata": {},
   "outputs": [
    {
     "name": "stdout",
     "output_type": "stream",
     "text": [
      "Help on function add in module __main__:\n",
      "\n",
      "add(a, b)\n",
      "    function name: add\n",
      "    arguments: a,b\n",
      "    describe: Function returns sum of a and b\n",
      "\n",
      "None\n"
     ]
    }
   ],
   "source": [
    "def add(a,b):\n",
    "    '''\n",
    "    Function name: add\n",
    "    Arguments: a,b\n",
    "    Describe: Function returns sum of a and b\n",
    "    History: \n",
    "        v1.0: Features\n",
    "        v1.1: \n",
    "    '''\n",
    "    return a+b\n",
    "\n",
    "print(help(add))\n"
   ]
  },
  {
   "cell_type": "code",
   "execution_count": 31,
   "id": "b208e7f3-d368-40d3-8b88-8c424e4dc2f3",
   "metadata": {},
   "outputs": [
    {
     "name": "stdout",
     "output_type": "stream",
     "text": [
      "Help on built-in function print in module builtins:\n",
      "\n",
      "print(*args, sep=' ', end='\\n', file=None, flush=False)\n",
      "    Prints the values to a stream, or to sys.stdout by default.\n",
      "\n",
      "    sep\n",
      "      string inserted between values, default a space.\n",
      "    end\n",
      "      string appended after the last value, default a newline.\n",
      "    file\n",
      "      a file-like object (stream); defaults to the current sys.stdout.\n",
      "    flush\n",
      "      whether to forcibly flush the stream.\n",
      "\n",
      "None\n"
     ]
    }
   ],
   "source": [
    "print(help(print))"
   ]
  },
  {
   "cell_type": "code",
   "execution_count": 35,
   "id": "e8dd218f-32ac-4cd7-b7f2-9b25d319cfe2",
   "metadata": {},
   "outputs": [
    {
     "name": "stdout",
     "output_type": "stream",
     "text": [
      "Help on class Vehicle in module __main__:\n",
      "\n",
      "class Vehicle(builtins.object)\n",
      " |  Class name: Vehicle\n",
      " |  Methods   : start(), stop()\n",
      " |  Description: ......\n",
      " |  Example:\n",
      " |  v1 = Vehicle()\n",
      " |  v1.start()\n",
      " |\n",
      " |  Data descriptors defined here:\n",
      " |\n",
      " |  __dict__\n",
      " |      dictionary for instance variables\n",
      " |\n",
      " |  __weakref__\n",
      " |      list of weak references to the object\n",
      "\n",
      "None\n"
     ]
    }
   ],
   "source": [
    "class Vehicle:\n",
    "    '''\n",
    "    Class name: Vehicle\n",
    "    Methods   : start(), stop()\n",
    "    Description: ......\n",
    "    Example:\n",
    "    v1 = Vehicle()\n",
    "    v1.start()\n",
    "    \n",
    "    '''\n",
    "    pass\n",
    "\n",
    "print(help(Vehicle))"
   ]
  },
  {
   "cell_type": "code",
   "execution_count": 40,
   "id": "ca0d2986-6d10-40dc-ba76-d4682bde668f",
   "metadata": {},
   "outputs": [
    {
     "name": "stdout",
     "output_type": "stream",
     "text": [
      "Type of age :  <class 'int'>\n",
      "77.5\n",
      "Type of percentage :  <class 'float'>\n",
      "77\n"
     ]
    }
   ],
   "source": [
    "'''\n",
    "List of basic data Types:\n",
    "➢ Integer, Floating point, Complex , None, Boolean (True/False)\n",
    "➢ Callable data types:\n",
    "➢ int(), float(), complex(), bool(), None is not callable\n",
    "➢ Assigning the variables\n",
    "➢ Operations\n",
    "'''\n",
    "\n",
    "age = 12 # int\n",
    "print(\"Type of age : \", type(age))\n",
    "\n",
    "total_marks = 310\n",
    "max_marks = 400\n",
    "percentage = (total_marks/max_marks)*100 # Floating point\n",
    "print(percentage)\n",
    "print(\"Type of percentage : \", type(percentage))\n",
    "round_off = int(percentage)\n",
    "print(round_off)\n",
    "'''\n",
    "int -> float\n",
    "float -> int\n",
    "string -> float: Pure floating point number\n",
    "string -> int : under condition : String should be having pure number\n",
    "int -> string\n",
    "float->string\n",
    "'''\n"
   ]
  },
  {
   "cell_type": "code",
   "execution_count": 46,
   "id": "b192dd8a-c49d-4686-882f-7d0004595d53",
   "metadata": {},
   "outputs": [
    {
     "name": "stdin",
     "output_type": "stream",
     "text": [
      "Please enter total marks: 310\n",
      "Please enter max marks: 400\n"
     ]
    },
    {
     "name": "stdout",
     "output_type": "stream",
     "text": [
      "77.5\n",
      "Type of percentage :  <class 'float'>\n",
      "77\n"
     ]
    }
   ],
   "source": [
    "total_marks = int(input(\"Please enter total marks:\"))\n",
    "max_marks = int(input(\"Please enter max marks:\"))\n",
    "percentage = (total_marks/max_marks)*100 # Floating point\n",
    "print(percentage)\n",
    "print(\"Type of percentage : \", type(percentage))\n",
    "round_off = int(percentage)\n",
    "print(round_off)"
   ]
  },
  {
   "cell_type": "code",
   "execution_count": 53,
   "id": "59e7ea82-0ec1-4a6d-9988-a5d41e1c4220",
   "metadata": {},
   "outputs": [
    {
     "name": "stdout",
     "output_type": "stream",
     "text": [
      "Type of c1 :  <class 'complex'>\n",
      "Value of c3 =  (11+23j)\n"
     ]
    },
    {
     "ename": "ValueError",
     "evalue": "complex() arg is a malformed string",
     "output_type": "error",
     "traceback": [
      "\u001b[31m---------------------------------------------------------------------------\u001b[39m",
      "\u001b[31mValueError\u001b[39m                                Traceback (most recent call last)",
      "\u001b[36mCell\u001b[39m\u001b[36m \u001b[39m\u001b[32mIn[53]\u001b[39m\u001b[32m, line 9\u001b[39m\n\u001b[32m      6\u001b[39m \u001b[38;5;28mprint\u001b[39m(\u001b[33m\"\u001b[39m\u001b[33mValue of c3 = \u001b[39m\u001b[33m\"\u001b[39m, c3)\n\u001b[32m      8\u001b[39m s1 = \u001b[33m\"\u001b[39m\u001b[33m1+2j+1\u001b[39m\u001b[33m\"\u001b[39m\n\u001b[32m----> \u001b[39m\u001b[32m9\u001b[39m c1 = \u001b[38;5;28;43mcomplex\u001b[39;49m\u001b[43m(\u001b[49m\u001b[43ms1\u001b[49m\u001b[43m)\u001b[49m\n\u001b[32m     10\u001b[39m \u001b[38;5;28mprint\u001b[39m(\u001b[33m\"\u001b[39m\u001b[33mc1 = \u001b[39m\u001b[33m\"\u001b[39m, c1)\n",
      "\u001b[31mValueError\u001b[39m: complex() arg is a malformed string"
     ]
    }
   ],
   "source": [
    "# Complex numbers\n",
    "c1 = 1+3j # 1+j3 : invalid\n",
    "c2 = 10+20j\n",
    "print(\"Type of c1 : \", type(c1))\n",
    "c3 = c1+c2\n",
    "print(\"Value of c3 = \", c3)\n",
    "\n",
    "s1 = \"1+2j\"\n",
    "c1 = complex(s1)\n",
    "print(\"c1 = \", c1)"
   ]
  },
  {
   "cell_type": "code",
   "execution_count": 58,
   "id": "2b07962c-9e1e-405c-9dbf-60bb0f5cfaef",
   "metadata": {},
   "outputs": [
    {
     "name": "stdout",
     "output_type": "stream",
     "text": [
      "Type of cond1 :  <class 'bool'>\n",
      "True\n",
      "False\n"
     ]
    }
   ],
   "source": [
    "# Boolean True or False\n",
    "cond1 = True\n",
    "cond2 = False\n",
    "print(\"Type of cond1 : \", type(cond1))\n",
    "\n",
    "n1 = 1.5\n",
    "print(bool(n1))\n",
    "n2 = 0\n",
    "print(bool(n2))"
   ]
  },
  {
   "cell_type": "code",
   "execution_count": 59,
   "id": "32fed61b-b142-4bae-9618-ae596cdb52ee",
   "metadata": {},
   "outputs": [],
   "source": [
    "Var1 = None\n"
   ]
  },
  {
   "cell_type": "code",
   "execution_count": 64,
   "id": "d59f4b86-a8dd-40d3-b371-f704dc997704",
   "metadata": {},
   "outputs": [
    {
     "name": "stdout",
     "output_type": "stream",
     "text": [
      "Thre is no support \n"
     ]
    }
   ],
   "source": [
    "def convert(val, output_dt):\n",
    "    if output_dt==\"int\":\n",
    "        return int(val)\n",
    "    else:\n",
    "        pass\n",
    "\n",
    "result = convert(\"10\", \"float\")\n",
    "if result == None:\n",
    "    print(\"Thre is no support \")\n"
   ]
  },
  {
   "cell_type": "code",
   "execution_count": 66,
   "id": "4b49eded-7c90-4834-b69f-095a4b5f9a2d",
   "metadata": {},
   "outputs": [
    {
     "name": "stdout",
     "output_type": "stream",
     "text": [
      "Kamal's score is 90\n",
      "World is \"BEAUTIFUL\"\n",
      "\n",
      "    Line1\n",
      "    Line2\n",
      "\n"
     ]
    },
    {
     "name": "stderr",
     "output_type": "stream",
     "text": [
      "<>:14: SyntaxWarning: 'NoneType' object is not callable; perhaps you missed a comma?\n",
      "<>:14: SyntaxWarning: 'NoneType' object is not callable; perhaps you missed a comma?\n",
      "/var/folders/wy/4n8v6qt16cn423509rq3fx2w0000gn/T/ipykernel_38180/14618925.py:14: SyntaxWarning: 'NoneType' object is not callable; perhaps you missed a comma?\n",
      "  n1 = None(s1)\n"
     ]
    },
    {
     "ename": "TypeError",
     "evalue": "'NoneType' object is not callable",
     "output_type": "error",
     "traceback": [
      "\u001b[31m---------------------------------------------------------------------------\u001b[39m",
      "\u001b[31mTypeError\u001b[39m                                 Traceback (most recent call last)",
      "\u001b[36mCell\u001b[39m\u001b[36m \u001b[39m\u001b[32mIn[66]\u001b[39m\u001b[32m, line 14\u001b[39m\n\u001b[32m     11\u001b[39m \u001b[38;5;28mprint\u001b[39m(s2)\n\u001b[32m     12\u001b[39m \u001b[38;5;28mprint\u001b[39m(s3)\n\u001b[32m---> \u001b[39m\u001b[32m14\u001b[39m n1 = \u001b[38;5;28;43;01mNone\u001b[39;49;00m\u001b[43m(\u001b[49m\u001b[43ms1\u001b[49m\u001b[43m)\u001b[49m\n",
      "\u001b[31mTypeError\u001b[39m: 'NoneType' object is not callable"
     ]
    }
   ],
   "source": [
    "# String:\n",
    "s1 = \"Kamal's score is 90\"\n",
    "s2 = 'World is \"BEAUTIFUL\"'\n",
    "s3 = '''\n",
    "    Line1\n",
    "    Line2\n",
    "'''\n",
    "s4 = 'a'\n",
    "\n",
    "print(s1)\n",
    "print(s2)\n",
    "print(s3)\n",
    "\n",
    "n1 = None(s1)"
   ]
  },
  {
   "cell_type": "code",
   "execution_count": 68,
   "id": "8cadc7b1-2914-4bb5-a2f8-9f9a676949bb",
   "metadata": {},
   "outputs": [
    {
     "name": "stdout",
     "output_type": "stream",
     "text": [
      "None\n"
     ]
    }
   ],
   "source": [
    "s1 = \"a10\"\n",
    "n1 = None\n",
    "if s1.isdigit() == True:\n",
    "    n1 = int(s1)\n",
    "print(n1)\n"
   ]
  },
  {
   "cell_type": "code",
   "execution_count": null,
   "id": "dbe2f40a-7e7f-4553-a972-40219eaa95b2",
   "metadata": {},
   "outputs": [],
   "source": []
  }
 ],
 "metadata": {
  "kernelspec": {
   "display_name": "Python3 (DeepCode)",
   "language": "python",
   "name": "deepcode"
  },
  "language_info": {
   "codemirror_mode": {
    "name": "ipython",
    "version": 3
   },
   "file_extension": ".py",
   "mimetype": "text/x-python",
   "name": "python",
   "nbconvert_exporter": "python",
   "pygments_lexer": "ipython3",
   "version": "3.13.2"
  }
 },
 "nbformat": 4,
 "nbformat_minor": 5
}
