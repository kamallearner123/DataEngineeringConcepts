{
 "cells": [
  {
   "cell_type": "markdown",
   "id": "c38a7555-c40d-4ce6-b191-c39b0d47cddc",
   "metadata": {},
   "source": [
    "# Python Dictionaries: Key Topics\n",
    "\n",
    "Python dictionaries are mutable data structures that store key-value pairs, where keys are unique and immutable (e.g., strings, numbers, tuples), and values can be any type. This guide covers essential dictionary topics with examples, ideal for learners and developers.\n",
    "\n",
    "**Security Note**: Avoid storing sensitive data (e.g., API keys) in dictionaries to prevent exposure (CWE-256). Use environment variables instead.\n",
    "\n",
    "## 1. Dictionary Basics\n",
    "\n",
    "### Creation\n",
    "Create dictionaries using curly braces `{}` or the `dict()` constructor."
   ]
  },
  {
   "cell_type": "code",
   "execution_count": 14,
   "id": "2b4efff6-ce23-474d-b63c-d6f552722a15",
   "metadata": {},
   "outputs": [
    {
     "name": "stdout",
     "output_type": "stream",
     "text": [
      "{'RAM': 32, 'CPU': 'Intel 7th Gen', 'HD': 512}\n"
     ]
    }
   ],
   "source": [
    "#l1 = [1,2,3]\n",
    "#l1[0] : Using index\n",
    "\n",
    "# Hash Table\n",
    "# key -> HashFunction() {0 - 256}\n",
    "\n",
    "laptop_configuration = {\n",
    "    \"RAM\": 32,\n",
    "    \"CPU\": \"Intel 7th Gen\",\n",
    "    \"HD\" : 512\n",
    "}\n",
    "\n",
    "print(laptop_configuration)\n",
    "# Complexity of searching for an entry: 0(1)"
   ]
  },
  {
   "cell_type": "code",
   "execution_count": 1,
   "id": "cae7da5c-0264-4d0e-85c7-4a28c48a593b",
   "metadata": {},
   "outputs": [
    {
     "name": "stdout",
     "output_type": "stream",
     "text": [
      "name2's marks 50\n"
     ]
    }
   ],
   "source": [
    "l1 = [\"david\", 90,90,80,70, \"name2\", 50,80,90,65]\n",
    "index = l1.index(\"name2\")\n",
    "print(f\"name2's marks {l1[index+1]}\")\n",
    "# list 1,000,000 : o(1,000,000)"
   ]
  },
  {
   "cell_type": "code",
   "execution_count": 18,
   "id": "29ecd631-fcb9-4312-83ca-8a1976bfec64",
   "metadata": {},
   "outputs": [
    {
     "name": "stdout",
     "output_type": "stream",
     "text": [
      "32\n",
      "Intel 7th Gen\n",
      "512\n"
     ]
    }
   ],
   "source": [
    "laptop_configuration = {\n",
    "    \"RAM\": 32,\n",
    "    \"CPU\": \"Intel 7th Gen\",\n",
    "    \"HD\" : 512\n",
    "}\n",
    "print(laptop_configuration[\"RAM\"]) # Not like index laptop_conf[0]\n",
    "print(laptop_configuration[\"CPU\"])\n",
    "print(laptop_configuration[\"HD\"])\n",
    "\n"
   ]
  },
  {
   "cell_type": "code",
   "execution_count": null,
   "id": "69e6619e-8b87-4bef-859e-64e71cde4ac1",
   "metadata": {},
   "outputs": [],
   "source": []
  },
  {
   "cell_type": "code",
   "execution_count": 19,
   "id": "595fe904-2fdd-4e34-9e4a-81b41ef418e4",
   "metadata": {},
   "outputs": [
    {
     "ename": "KeyError",
     "evalue": "0",
     "output_type": "error",
     "traceback": [
      "\u001b[0;31m---------------------------------------------------------------------------\u001b[0m",
      "\u001b[0;31mKeyError\u001b[0m                                  Traceback (most recent call last)",
      "Cell \u001b[0;32mIn[19], line 1\u001b[0m\n\u001b[0;32m----> 1\u001b[0m laptop_configuration[\u001b[38;5;241m0\u001b[39m]\n",
      "\u001b[0;31mKeyError\u001b[0m: 0"
     ]
    }
   ],
   "source": [
    "laptop_configuration[0] # Searching for value associated to key: 0"
   ]
  },
  {
   "cell_type": "code",
   "execution_count": 2,
   "id": "a791c78d-828a-40a5-a7fc-d1a397c5881f",
   "metadata": {},
   "outputs": [
    {
     "name": "stdout",
     "output_type": "stream",
     "text": [
      "{'RAM': 64, 'CPU': 'Intel 7th Gen', 'HD': 512}\n"
     ]
    }
   ],
   "source": [
    "laptop_configuration = {\n",
    "    \"RAM\": 32,\n",
    "    \"CPU\": \"Intel 7th Gen\",\n",
    "    \"HD\" : 512,\n",
    "    \"RAM\": 64\n",
    "}\n",
    "print(laptop_configuration)\n",
    "# Python 3.7 onwards : Ordered"
   ]
  },
  {
   "cell_type": "code",
   "execution_count": 21,
   "id": "d99780d9-6a59-45c6-a0cd-f3f72e228f3b",
   "metadata": {},
   "outputs": [
    {
     "ename": "TypeError",
     "evalue": "unhashable type: 'list'",
     "output_type": "error",
     "traceback": [
      "\u001b[0;31m---------------------------------------------------------------------------\u001b[0m",
      "\u001b[0;31mTypeError\u001b[0m                                 Traceback (most recent call last)",
      "Cell \u001b[0;32mIn[21], line 1\u001b[0m\n\u001b[0;32m----> 1\u001b[0m laptop_configuration \u001b[38;5;241m=\u001b[39m {\n\u001b[1;32m      2\u001b[0m     \u001b[38;5;124m\"\u001b[39m\u001b[38;5;124mRAM\u001b[39m\u001b[38;5;124m\"\u001b[39m: \u001b[38;5;241m32\u001b[39m,\n\u001b[1;32m      3\u001b[0m     \u001b[38;5;124m\"\u001b[39m\u001b[38;5;124mCPU\u001b[39m\u001b[38;5;124m\"\u001b[39m: \u001b[38;5;124m\"\u001b[39m\u001b[38;5;124mIntel 7th Gen\u001b[39m\u001b[38;5;124m\"\u001b[39m,\n\u001b[1;32m      4\u001b[0m     \u001b[38;5;124m\"\u001b[39m\u001b[38;5;124mHD\u001b[39m\u001b[38;5;124m\"\u001b[39m : \u001b[38;5;241m512\u001b[39m,\n\u001b[1;32m      5\u001b[0m     [\u001b[38;5;124m\"\u001b[39m\u001b[38;5;124mpart1\u001b[39m\u001b[38;5;124m\"\u001b[39m, \u001b[38;5;124m\"\u001b[39m\u001b[38;5;124mpart2\u001b[39m\u001b[38;5;124m\"\u001b[39m]: [\u001b[38;5;241m256\u001b[39m, \u001b[38;5;241m256\u001b[39m]\n\u001b[1;32m      6\u001b[0m }\n\u001b[1;32m      7\u001b[0m \u001b[38;5;28mprint\u001b[39m(laptop_configuration)\n",
      "\u001b[0;31mTypeError\u001b[0m: unhashable type: 'list'"
     ]
    }
   ],
   "source": [
    "laptop_configuration = {\n",
    "    \"RAM\": 32,\n",
    "    \"CPU\": \"Intel 7th Gen\",\n",
    "    \"HD\" : 512,\n",
    "    [\"part1\", \"part2\"]: [256, 256] # ERROR: Key is mutable data type\n",
    "}\n",
    "print(laptop_configuration)"
   ]
  },
  {
   "cell_type": "code",
   "execution_count": 22,
   "id": "e303fcf1-2cc2-43b2-8748-ed0a13c72c9b",
   "metadata": {},
   "outputs": [
    {
     "name": "stdout",
     "output_type": "stream",
     "text": [
      "{'RAM': 32, 'CPU': 'Intel 7th Gen', 'HD': 512, 'part1': 256, 'part2': 256}\n"
     ]
    }
   ],
   "source": [
    "laptop_configuration = {\n",
    "    \"RAM\": 32,\n",
    "    \"CPU\": \"Intel 7th Gen\",\n",
    "    \"HD\" : 512,\n",
    "    \"part1\": 256,\n",
    "    \"part2\": 256\n",
    "}\n",
    "print(laptop_configuration)"
   ]
  },
  {
   "cell_type": "code",
   "execution_count": 26,
   "id": "823661d8-2f0c-4f75-8907-a0818a7bdfad",
   "metadata": {},
   "outputs": [
    {
     "name": "stdout",
     "output_type": "stream",
     "text": [
      "{'RAM': 32, 'CPU': 'Intel 7th Gen', 'HD': 512, ('part1', 'part2'): [256, 256]}\n"
     ]
    }
   ],
   "source": [
    "laptop_configuration = {\n",
    "    \"RAM\": 32,\n",
    "    \"CPU\": \"Intel 7th Gen\",\n",
    "    \"HD\" : 512,\n",
    "    (\"part1\", \"part2\"): [256, 256] \n",
    "}\n",
    "print(laptop_configuration)"
   ]
  },
  {
   "cell_type": "code",
   "execution_count": null,
   "id": "2fafd98b-7826-4ae6-a9b8-7afe60e0f970",
   "metadata": {},
   "outputs": [],
   "source": [
    "# Application reads configuration from a file.\n",
    "# DB details:\n",
    "'''\n",
    "# db_details.json \n",
    "{\n",
    "    \"Host\": \"127.0.0.1\",\n",
    "    \"Port\": 102,\n",
    "    \"Db_name\": \"python_trainings\",\n",
    "    \"pass\": \"1234\"\n",
    "}\n",
    "'''"
   ]
  },
  {
   "cell_type": "code",
   "execution_count": 30,
   "id": "b2825699-439a-4ca1-a54a-74050acea389",
   "metadata": {},
   "outputs": [
    {
     "name": "stdout",
     "output_type": "stream",
     "text": [
      "May13_Introduction.ipynb\n",
      "May14_Operators_IO_DataTypes.ipynb\n",
      "May14_Python_Input_Output.ipynb\n",
      "May14_Python_Variables_and_DataTypes.ipynb\n",
      "May15_Print_Loops_String.ipynb\n",
      "May20_Functions_Strings.ipynb\n",
      "May21-Python-Lsits.ipynb\n",
      "May21_Python_Lists.ipynb.txt\n",
      "May21_Python_Strings.ipynb\n",
      "May22_Python-Lists.ipynb\n",
      "May22_Python_Tuples.ipynb\n",
      "Untitled.ipynb\n",
      "Untitled1.ipynb\n",
      "Untitled2.ipynb\n",
      "db_details.json\n",
      "vert_tab.py\n"
     ]
    }
   ],
   "source": [
    "!ls\n"
   ]
  },
  {
   "cell_type": "code",
   "execution_count": 27,
   "id": "f964ab9e-6a64-4f94-abec-5303296c7684",
   "metadata": {},
   "outputs": [
    {
     "name": "stdout",
     "output_type": "stream",
     "text": [
      "{\n",
      "    \"Host\": \"127.0.0.1\",\n",
      "    \"Port\": 102,\n",
      "    \"Db_name\": \"python_trainings\",\n",
      "    \"pass\": \"1234\"\n",
      "}\n"
     ]
    }
   ],
   "source": [
    "# Create file name \"db_details.json\" \n",
    "# Displaying data of \"db_details.json\" using Shell command \"cat\"\n",
    "!cat db_details.json"
   ]
  },
  {
   "cell_type": "code",
   "execution_count": 29,
   "id": "99c1e571-1528-4d09-9b3c-9795c15d864b",
   "metadata": {},
   "outputs": [
    {
     "name": "stdout",
     "output_type": "stream",
     "text": [
      "{\n",
      "    \"Host\": \"127.0.0.1\",\n",
      "    \"Port\": 102,\n",
      "    \"Db_name\": \"python_trainings\",\n",
      "    \"pass\": \"1234\"\n",
      "}\n",
      "\n"
     ]
    }
   ],
   "source": [
    "\n",
    "# Opening a file in Python\n",
    "fd = open(\"db_details.json\")\n",
    "data = fd.read() # Reading all the data fron file\n",
    "print(data)\n",
    "fd.close() # Closing the file\n",
    "\n",
    "\n"
   ]
  },
  {
   "cell_type": "code",
   "execution_count": 35,
   "id": "d985f78f-1043-49fb-a132-ee1a0161ca10",
   "metadata": {},
   "outputs": [
    {
     "name": "stdout",
     "output_type": "stream",
     "text": [
      "Current working directory: /Users/kamalmukiri/Documents/1.GitHub/AptTutorials/DataEngineeringConcepts/JupyterNotebooks/Introduction/JupyterNnotebook\n",
      "May20_Functions_Strings.ipynb\n",
      "Untitled1.ipynb\n",
      "May21-Python-Lsits.ipynb\n",
      "May22_Python_Tuples.ipynb\n",
      "vert_tab.py\n",
      "May22_Python-Lists.ipynb\n",
      "May15_Print_Loops_String.ipynb\n",
      "Untitled.ipynb\n",
      "May14_Operators_IO_DataTypes.ipynb\n",
      "Untitled2.ipynb\n",
      "May21_Python_Strings.ipynb\n",
      "db_details.json\n",
      "May13_Introduction.ipynb\n",
      ".ipynb_checkpoints\n",
      "May14_Python_Variables_and_DataTypes.ipynb\n",
      "May14_Python_Input_Output.ipynb\n",
      "May21_Python_Lists.ipynb.txt\n"
     ]
    }
   ],
   "source": [
    "import os\n",
    "print(f\"Current working directory: {os.getcwd()}\")\n",
    "files = os.listdir() # Collecting the list of files in a list (files)\n",
    "for file in files:\n",
    "    print(file)"
   ]
  },
  {
   "cell_type": "code",
   "execution_count": 37,
   "id": "0a2b8b2c-573f-491a-8876-df0e996bde32",
   "metadata": {},
   "outputs": [
    {
     "name": "stdout",
     "output_type": "stream",
     "text": [
      "db_details.json\n"
     ]
    }
   ],
   "source": [
    "import os\n",
    "files = os.listdir() # Collecting the list of files in a list (files)\n",
    "for file in files:\n",
    "    # Print files which are extended with .json\n",
    "    if file.endswith(\".json\"):\n",
    "        print(file)"
   ]
  },
  {
   "cell_type": "code",
   "execution_count": 38,
   "id": "ec20ec3a-0074-4318-ba61-d9fa7a857c1d",
   "metadata": {},
   "outputs": [
    {
     "name": "stdout",
     "output_type": "stream",
     "text": [
      "May20_Functions_Strings.ipynb\n",
      "May21-Python-Lsits.ipynb\n",
      "May22_Python_Tuples.ipynb\n",
      "May22_Python-Lists.ipynb\n",
      "May15_Print_Loops_String.ipynb\n",
      "May14_Operators_IO_DataTypes.ipynb\n",
      "May21_Python_Strings.ipynb\n",
      "May13_Introduction.ipynb\n",
      "May14_Python_Variables_and_DataTypes.ipynb\n",
      "May14_Python_Input_Output.ipynb\n",
      "May21_Python_Lists.ipynb.txt\n"
     ]
    }
   ],
   "source": [
    "import os\n",
    "files = os.listdir() # Collecting the list of files in a list (files)\n",
    "for file in files:\n",
    "    # Print files which is having prefix \"May\"\n",
    "    if file.startswith(\"May\"):\n",
    "        print(file)"
   ]
  },
  {
   "cell_type": "markdown",
   "id": "fa33152d-e617-4aaa-ac40-5e0807edbb78",
   "metadata": {},
   "source": [
    "- keys(): Returns all keys.\n",
    "\n",
    "- values(): Returns all values.\n",
    "\n",
    "- items(): Returns key-value pairs.\n",
    "\n",
    "- get(key, default): Returns value or default if key is missing.\n",
    "\n",
    "- update(dict): Merges another dictionary.\n",
    "\n",
    "- pop(key): Removes and returns value.\n",
    "\n",
    "- popitem(): Removes and returns last key-value pair.\n",
    "\n",
    "- setdefault(key, default): Returns or sets default value."
   ]
  },
  {
   "cell_type": "code",
   "execution_count": 42,
   "id": "a7c3c3b5-2612-408e-b7c5-c513f2b082c0",
   "metadata": {},
   "outputs": [
    {
     "name": "stdout",
     "output_type": "stream",
     "text": [
      "Not able to open file\n",
      "Program executed\n"
     ]
    }
   ],
   "source": [
    "try:\n",
    "    # Opening a file in Python\n",
    "    fd = open(\"db_details_100.json\") # Absolute path\n",
    "    data = fd.read() # Reading all the data fron file\n",
    "    print(data)\n",
    "    fd.close() # Closing the file\n",
    "except:\n",
    "    print(\"Not able to open file\")\n",
    "print(\"Program executed\")"
   ]
  },
  {
   "cell_type": "code",
   "execution_count": 51,
   "id": "2e0cbd66-8a3e-453c-9331-82cbea46ee9c",
   "metadata": {},
   "outputs": [
    {
     "name": "stdout",
     "output_type": "stream",
     "text": [
      "<class 'str'>\n",
      "{\n",
      "    \"Host\": \"127.0.0.1\",\n",
      "    \"Port\": 102,\n",
      "    \"Db_name\": \"python_trainings\",\n",
      "    \"pass\": \"1234\"\n",
      "}\n",
      "\n",
      "{'Host': '127.0.0.1', 'Port': 102, 'Db_name': 'python_trainings', 'pass': '1234'}\n",
      " Type of config is <class 'dict'>\n",
      "Going to connect to DB using IP address : 127.0.0.1\n",
      "Port number : 102\n"
     ]
    }
   ],
   "source": [
    "# Reading configuration from json\n",
    "fd = open(\"db_details.json\") \n",
    "data = fd.read() # Read all the data \n",
    "print(type(data))\n",
    "print(data)\n",
    "\n",
    "# Converting string to dictionary\n",
    "#json module\n",
    "# importing json module\n",
    "import json\n",
    "# Converting string to dictionary\n",
    "config = json.loads(data)\n",
    "print(config)\n",
    "print(f\" Type of config is {type(config)}\")\n",
    "\n",
    "# Connect to DB using ip, port \n",
    "print(f\"Going to connect to DB using IP address : {config[\"Host\"]}\")\n",
    "print(f\"Port number : {config[\"Port\"]}\")\n",
    "\n",
    "fd.close() "
   ]
  },
  {
   "cell_type": "code",
   "execution_count": 58,
   "id": "4b51bfe9-de1b-4560-9ff4-10a5420ed413",
   "metadata": {},
   "outputs": [
    {
     "name": "stdout",
     "output_type": "stream",
     "text": [
      "{'java': 3, 'c': 1, 'cpp': 1}\n"
     ]
    }
   ],
   "source": [
    "# Writing data to json file\n",
    "person1 = '''Resume: C C++ Python cloud aws pandas rust java scritping, \n",
    "Project1: java in windows\n",
    "Project2: java in linux\n",
    "'''\n",
    "\n",
    "num_java = person1.count(\"java\")\n",
    "num_c = person1.count(\"C \")\n",
    "num_cpp = person1.count(\"C++\")\n",
    "\n",
    "person1_dict = {\n",
    "    \"java\":num_java,\n",
    "    \"c\":num_c,\n",
    "    \"cpp\":num_cpp\n",
    "}\n",
    "print(person1_dict)\n",
    "\n",
    "# Create a new file\n",
    "fd = open(\"Person1_details.json\", \"w\") # Opening a file in Write mode\n",
    "fd.write(\"Sample data\") # Writing data to file\n",
    "fd.close() # Committing and closing file"
   ]
  },
  {
   "cell_type": "code",
   "execution_count": 61,
   "id": "9796b5ec-6eef-4c47-ab87-7934b059795e",
   "metadata": {},
   "outputs": [
    {
     "name": "stdout",
     "output_type": "stream",
     "text": [
      "Sample data"
     ]
    }
   ],
   "source": [
    "# Create a new file\n",
    "fd = open(\"Person1_details.json\", \"w\") # Opening a file in Write mode\n",
    "fd.write(\"Sample data\") # Writing data to file\n",
    "fd.close() # Committing and closing file\n",
    "\n",
    "# Displaying content of file\n",
    "!cat Person1_details.json"
   ]
  },
  {
   "cell_type": "code",
   "execution_count": 62,
   "id": "f62381d7-348b-4726-b9bb-b1dc2c955468",
   "metadata": {},
   "outputs": [
    {
     "name": "stdout",
     "output_type": "stream",
     "text": [
      "{\"java\": 3, \"c\": 1, \"cpp\": 1}\n"
     ]
    }
   ],
   "source": [
    "# Writing data to json file\n",
    "person1 = '''Resume: C C++ Python cloud aws pandas rust java scritping, \n",
    "Project1: java in windows\n",
    "Project2: java in linux\n",
    "'''\n",
    "\n",
    "num_java = person1.count(\"java\")\n",
    "num_c = person1.count(\"C \")\n",
    "num_cpp = person1.count(\"C++\")\n",
    "\n",
    "person1_dict = {\n",
    "    \"java\":num_java,\n",
    "    \"c\":num_c,\n",
    "    \"cpp\":num_cpp\n",
    "}\n",
    "\n",
    "fd = open(\"Person1_details.json\", \"w\") # Opening a file in Write mode\n",
    "# Convert dictionary (data in RAM) to string\n",
    "import json\n",
    "data = json.dumps(person1_dict)\n",
    "print(data)\n",
    "fd.write(data) # writing data to file\n",
    "fd.close() # Committing and closing file\n"
   ]
  },
  {
   "cell_type": "code",
   "execution_count": 63,
   "id": "a3ede2b4-ee1f-4804-a927-f82f06015811",
   "metadata": {},
   "outputs": [
    {
     "name": "stdout",
     "output_type": "stream",
     "text": [
      "{\"java\": 3, \"c\": 1, \"cpp\": 1}"
     ]
    }
   ],
   "source": [
    "!cat Person1_details.json"
   ]
  },
  {
   "cell_type": "code",
   "execution_count": 64,
   "id": "4cab59b7-bcd4-4630-a685-8245ebde5587",
   "metadata": {},
   "outputs": [
    {
     "name": "stdout",
     "output_type": "stream",
     "text": [
      " Windows operating system\n"
     ]
    }
   ],
   "source": [
    "Statement = \" Linux operating system\"\n",
    "result = Statement.replace(\"Linux\", \"Windows\")\n",
    "print(result)"
   ]
  },
  {
   "cell_type": "code",
   "execution_count": 65,
   "id": "695467d9-96c9-4fac-ab00-f9be67ac6a71",
   "metadata": {},
   "outputs": [
    {
     "name": "stdout",
     "output_type": "stream",
     "text": [
      "Key: key, Value: Windows\n",
      "Key: key, Value: AMD\n"
     ]
    }
   ],
   "source": [
    "Converter = {\n",
    "    \"Linux\":\"Windows\",\n",
    "    \"Intel\":\"AMD\"\n",
    "}\n",
    "#Accessing each pair from dictionary\n",
    "\n",
    "for key, val in Converter.items():\n",
    "    print(f\"Key: key, Value: {val}\")\n",
    "    "
   ]
  },
  {
   "cell_type": "code",
   "execution_count": 69,
   "id": "26202be1-f007-48bf-9890-1275a7f76080",
   "metadata": {},
   "outputs": [
    {
     "name": "stdout",
     "output_type": "stream",
     "text": [
      "result after replacing Linux with Windows =  Windows operating system, Intel\n",
      "result after replacing Intel with AMD =  Windows operating system, AMD\n",
      "File result is   Windows operating system, AMD\n"
     ]
    }
   ],
   "source": [
    "Statement = \" Linux operating system, Intel\"\n",
    "Converter = {\n",
    "    \"Linux\":\"Windows\",\n",
    "    \"Intel\":\"AMD\"\n",
    "}\n",
    "\n",
    "result = Statement\n",
    "for key, val in Converter.items():\n",
    "    if key in result:\n",
    "        result = result.replace(key, val)\n",
    "        print(f\"result after replacing {key} with {val} = {result}\") \n",
    "        \n",
    "print(\"File result is \", result)"
   ]
  },
  {
   "cell_type": "code",
   "execution_count": 70,
   "id": "10a0913f-1876-4ee5-87d7-a8627b0ed3f7",
   "metadata": {},
   "outputs": [
    {
     "name": "stdout",
     "output_type": "stream",
     "text": [
      "result after replacing @company.com with xxx = Information about an employee name abc abcxxx. Stays in area US\n",
      "result after replacing US with yyy = Information about an employee name abc abcxxx. Stays in area yyy\n",
      "File result is  Information about an employee name abc abcxxx. Stays in area yyy\n"
     ]
    }
   ],
   "source": [
    "employee_info = \"Information about an employee name abc abc@company.com. Stays in area US\"\n",
    "Converter = {\n",
    "    \"@company.com\":\"xxx\",\n",
    "    \"US\":\"yyy\"\n",
    "}\n",
    "\n",
    "result = employee_info\n",
    "for key, val in Converter.items():\n",
    "    if key in result:\n",
    "        result = result.replace(key, val)\n",
    "        print(f\"result after replacing {key} with {val} = {result}\") \n",
    "        \n",
    "print(\"File result is \", result)"
   ]
  },
  {
   "cell_type": "code",
   "execution_count": 74,
   "id": "aa533cfa-322c-4b14-bfd0-b4f7385ecdcf",
   "metadata": {},
   "outputs": [
    {
     "name": "stdout",
     "output_type": "stream",
     "text": [
      "{'Host': '127.0.0.1', 'Port': 102, 'Db_name': 'python_trainings', 'pass': '4567'}\n",
      "{'Host': '127.0.0.1', 'Port': 102, 'Db_name': 'python_trainings', 'pass': '4567', 'username': 'user1'}\n",
      "{'Host': '127.0.0.1', 'Port': 102, 'Db_name': 'python_trainings', 'username': 'user1'}\n"
     ]
    }
   ],
   "source": [
    "db_details = {\n",
    "    \"Host\": \"127.0.0.1\",\n",
    "    \"Port\": 102,\n",
    "    \"Db_name\": \"python_trainings\",\n",
    "    \"pass\": \"1234\"\n",
    "}\n",
    "\n",
    "db_details['pass'] = \"4567\"\n",
    "print(db_details)\n",
    "db_details[\"username\"] = \"user1\" #adding new key value\n",
    "print(db_details)\n",
    "\n",
    "# Deleting a key-value pair\n",
    "del db_details[\"pass\"]\n",
    "print(db_details)"
   ]
  },
  {
   "cell_type": "code",
   "execution_count": 73,
   "id": "0775910a-8c70-4346-bd9a-db1367d2ad9c",
   "metadata": {},
   "outputs": [
    {
     "name": "stdout",
     "output_type": "stream",
     "text": [
      "{'Host': '127.0.0.1', 'Port': 102, 'Db_name': 'python_trainings', 'pass': '1234'}\n",
      "{'Host': '192.168.0.1', 'Port': 121, 'Db_name': 'python_trainings', 'pass': '1234'}\n"
     ]
    }
   ],
   "source": [
    "# List of dictioanries\n",
    "dbs_details = [\n",
    "     {\n",
    "    \"Host\": \"127.0.0.1\",\n",
    "    \"Port\": 102,\n",
    "    \"Db_name\": \"python_trainings\",\n",
    "    \"pass\": \"1234\"\n",
    "    },\n",
    "\n",
    "     {\n",
    "    \"Host\": \"192.168.0.1\",\n",
    "    \"Port\": 121,\n",
    "    \"Db_name\": \"python_trainings\",\n",
    "    \"pass\": \"1234\"\n",
    "    }\n",
    "]\n",
    "\n",
    "for db in dbs_details:\n",
    "    print(db)"
   ]
  },
  {
   "cell_type": "code",
   "execution_count": null,
   "id": "b3d1c0ad-a34f-46c9-a281-c13c101ad148",
   "metadata": {},
   "outputs": [],
   "source": [
    "dns_details = [\n",
    "     {\n",
    "    \"Host\": \"8.8.8.8\",\n",
    "    \"Port\": 456,\n",
    "    },\n",
    "    {\n",
    "    \"Host\": \"9.9.9.9\",\n",
    "    \"Port\": 456,\n",
    "    }\n",
    "]\n"
   ]
  },
  {
   "cell_type": "code",
   "execution_count": null,
   "id": "3eabf813-13a9-409d-a03b-c6215dced4ac",
   "metadata": {},
   "outputs": [],
   "source": [
    "# Bad practice\n",
    "dbs_details =  {\n",
    "    \"Hosts\": [\"127.0.0.1\", \"192.168.0.1\"],\n",
    "    \"Ports\": [102, 121],\n",
    "    \"Db_names\": [\"python_trainings\", \"python_trainings\"],\n",
    "    \"passwds\": [\"1234\", \"4567\"]\n",
    "    }"
   ]
  },
  {
   "cell_type": "code",
   "execution_count": null,
   "id": "55c1cfbe-be41-4b4e-a52e-ba037da9ef86",
   "metadata": {},
   "outputs": [],
   "source": [
    "db_details =  {\n",
    "    \"Host\": \"127.0.0.1\",\n",
    "    \"Ports\": [102, 121],\n",
    "    \"Db_name\": \"python_trainings\", \"python_trainings\",\n",
    "    \"passwds\": [\"1234\", \"4567\"]\n",
    "    }"
   ]
  },
  {
   "cell_type": "code",
   "execution_count": 75,
   "id": "6fec405c-c474-400a-a94c-64d6719f9af7",
   "metadata": {},
   "outputs": [
    {
     "name": "stdout",
     "output_type": "stream",
     "text": [
      "{'Host': '192.168.0.1', 'Port': 789, 'Db_name': 'python_trainings', 'pass': '1234'}\n"
     ]
    }
   ],
   "source": [
    "db_details = {\n",
    "    \"Host\": \"127.0.0.1\",\n",
    "    \"Port\": 102,\n",
    "    \"Db_name\": \"python_trainings\",\n",
    "    \"pass\": \"1234\"\n",
    "}\n",
    "\n",
    "new_db_details = {\n",
    "    \"Host\": \"192.168.0.1\",\n",
    "    \"Port\": 789,\n",
    "}\n",
    "\n",
    "# Update db_details with new_db_details\n",
    "db_details.update(new_db_details)\n",
    "print(db_details)\n"
   ]
  },
  {
   "cell_type": "code",
   "execution_count": 76,
   "id": "12180179-c432-4462-bd1d-a3e01b4c22f2",
   "metadata": {},
   "outputs": [
    {
     "name": "stdout",
     "output_type": "stream",
     "text": [
      "{'Host': '192.168.0.1', 'Port': 102, 'Db_name': 'python_trainings', 'pass': '1234', 'user': 'user1'}\n"
     ]
    }
   ],
   "source": [
    "db_details = {\n",
    "    \"Host\": \"127.0.0.1\",\n",
    "    \"Port\": 102,\n",
    "    \"Db_name\": \"python_trainings\",\n",
    "    \"pass\": \"1234\"\n",
    "}\n",
    "\n",
    "new_db_details = {\n",
    "    \"Host\": \"192.168.0.1\",\n",
    "    \"user\": \"user1\",\n",
    "}\n",
    "\n",
    "# Update db_details with new_db_details\n",
    "db_details.update(new_db_details)\n",
    "print(db_details)"
   ]
  },
  {
   "cell_type": "code",
   "execution_count": null,
   "id": "a1c5de64-eae6-409d-a625-148fd2dcfe08",
   "metadata": {},
   "outputs": [],
   "source": []
  }
 ],
 "metadata": {
  "kernelspec": {
   "display_name": "Python 3 (ipykernel)",
   "language": "python",
   "name": "python3"
  },
  "language_info": {
   "codemirror_mode": {
    "name": "ipython",
    "version": 3
   },
   "file_extension": ".py",
   "mimetype": "text/x-python",
   "name": "python",
   "nbconvert_exporter": "python",
   "pygments_lexer": "ipython3",
   "version": "3.12.7"
  }
 },
 "nbformat": 4,
 "nbformat_minor": 5
}
