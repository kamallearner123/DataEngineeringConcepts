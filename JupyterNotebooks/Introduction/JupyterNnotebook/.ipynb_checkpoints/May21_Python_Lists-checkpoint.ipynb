{
 "cells": [
  {
   "cell_type": "markdown",
   "metadata": {},
   "source": [
    "# Python Lists Tutorial\n",
    "\n",
    "This notebook covers the essentials of Python lists, including creation, operations, comprehensions, methods, slicing, indexing, and nested lists. Each section includes examples and explanations for practical understanding."
   ]
  },
  {
   "cell_type": "markdown",
   "metadata": {},
   "source": [
    "## 1. List Creation and Basic Operations\n",
    "\n",
    "Lists are mutable, ordered collections in Python. They can hold mixed data types and are defined using square brackets `[]`.\n",
    "\n",
    "**Key Operations**:\n",
    "- Create lists\n",
    "- Add elements (`+` or `.append()`)\n",
    "- Check length (`len()`)\n",
    "- Access elements by index"
   ]
  },
  {
   "cell_type": "code",
   "execution_count": null,
   "metadata": {},
   "outputs": [],
   "source": []
  },
  {
   "cell_type": "markdown",
   "metadata": {},
   "source": [
    "## 2. List Comprehensions\n",
    "\n",
    "List comprehensions provide a concise way to create lists using a single line of code. They are faster than loops and great for filtering or transforming data."
   ]
  },
  {
   "cell_type": "raw",
   "metadata": {},
   "source": [
    "🎲 Shuffle Without Built-in Function\n",
    "Question:\n",
    "Write a function to randomly shuffle the elements of a list without using random.shuffle().\n",
    "- Input: [1, 2, 3, 4, 5]\n",
    "- Output: [3, 1, 5, 2, 4] (Any random permutation)"
   ]
  },
  {
   "cell_type": "markdown",
   "metadata": {},
   "source": [
    "## 3. Common List Methods\n",
    "\n",
    "Lists have built-in methods for manipulation. Here are the most used ones:\n",
    "- `append()`: Add an element to the end\n",
    "- `extend()`: Add multiple elements\n",
    "- `remove()`: Remove first occurrence\n",
    "- `pop()`: Remove and return element by index\n",
    "- `sort()`: Sort the list in place\n",
    "- `reverse()`: Reverse the list"
   ]
  },
  {
   "cell_type": "markdown",
   "metadata": {},
   "source": [
    "\n",
    ". 🎯 Find the Second Largest Number\n",
    "Question:\n",
    "Write a function to find the second largest unique number in a list.\n",
    "Input: [4, 1, 7, 7, 3, 2]\n",
    "Output: 4\n",
    "\n"
   ]
  },
  {
   "cell_type": "markdown",
   "metadata": {},
   "source": [
    "## 4. Slicing and Indexing\n",
    "\n",
    "Lists support indexing (accessing elements) and slicing (extracting sublists). Indexing starts at 0, and negative indices count from the end.\n",
    "\n",
    "**Syntax**: `list[start:end:step]`\n",
    "- `start`: Starting index (inclusive)\n",
    "- `end`: Ending index (exclusive)\n",
    "- `step`: Increment (optional)"
   ]
  },
  {
   "cell_type": "markdown",
   "metadata": {},
   "source": [
    "## 5. Nested Lists and 2D Lists\n",
    "\n",
    "Lists can contain other lists, creating nested or 2D lists. These are useful for matrices, grids, or hierarchical data."
   ]
  },
  {
   "cell_type": "markdown",
   "metadata": {},
   "source": [
    "## Practical Example: SmartTracker Data\n",
    "\n",
    "Let’s tie this to a real-world use case, like your `SmartTracker` project for expense tracking. Lists can store transactions, filter them, and organize them in a 2D structure."
   ]
  },
  {
   "cell_type": "markdown",
   "metadata": {},
   "source": [
    "Matrix Transpose\n",
    "Question:\n",
    "Transpose a 2D list (matrix) — convert rows to columns and vice versa."
   ]
  },
  {
   "cell_type": "markdown",
   "metadata": {},
   "source": [
    "## Next Steps\n",
    "\n",
    "- **Practice**: Modify the `transactions` list to add a new transaction or filter by date.\n",
    "- **Explore**: Try list methods like `index()` or `count()`.\n",
    "- **Apply**: Use these concepts in your `SmartTracker` project to manage data in your Django/PostgreSQL app."
   ]
  }
 ],
 "metadata": {
  "kernelspec": {
   "display_name": "Python 3 (ipykernel)",
   "language": "python",
   "name": "python3"
  },
  "language_info": {
   "codemirror_mode": {
    "name": "ipython",
    "version": 3
   },
   "file_extension": ".py",
   "mimetype": "text/x-python",
   "name": "python",
   "nbconvert_exporter": "python",
   "pygments_lexer": "ipython3",
   "version": "3.12.7"
  }
 },
 "nbformat": 4,
 "nbformat_minor": 4
}
