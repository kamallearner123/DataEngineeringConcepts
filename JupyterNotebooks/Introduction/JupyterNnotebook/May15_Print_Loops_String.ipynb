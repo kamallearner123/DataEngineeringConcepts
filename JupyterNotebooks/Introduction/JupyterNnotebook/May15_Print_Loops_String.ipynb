{
 "cells": [
  {
   "cell_type": "code",
   "execution_count": 13,
   "id": "cd40101c-8639-471e-a1d9-8a8d98459682",
   "metadata": {},
   "outputs": [
    {
     "name": "stdout",
     "output_type": "stream",
     "text": [
      "Name: David Age: 20 Address: US\n",
      "Person Name:David\u000b",
      "Age:20\n",
      "Current Address:US\n"
     ]
    }
   ],
   "source": [
    "Name = \"David\"\n",
    "Age = 20\n",
    "Address = \"US\"\n",
    "print(\"Name:\", Name, \"Age:\", Age, \"Address:\", Address)\n",
    "print(f\"Person Name:{Name}\\vAge:{Age}\\nCurrent Address:{Address}\") # formatted string\n"
   ]
  },
  {
   "cell_type": "code",
   "execution_count": 20,
   "id": "2898892f-1852-41de-b483-00f3670a6c85",
   "metadata": {},
   "outputs": [
    {
     "name": "stdout",
     "output_type": "stream",
     "text": [
      "15-5-2025\n"
     ]
    }
   ],
   "source": [
    "day = 15\n",
    "month = 5\n",
    "year = 2025\n",
    "print(day,month,year, sep=\"-\")"
   ]
  },
  {
   "cell_type": "code",
   "execution_count": 30,
   "id": "3fc93dae-870c-4017-8672-3bc28e706431",
   "metadata": {},
   "outputs": [
    {
     "name": "stdout",
     "output_type": "stream",
     "text": [
      "15\u000b",
      "5\u000b",
      "2025\n"
     ]
    }
   ],
   "source": [
    "day = 15\n",
    "month = 5\n",
    "year = 2025\n",
    "print(day,month,year, sep=\"\\v\")"
   ]
  },
  {
   "cell_type": "code",
   "execution_count": 25,
   "id": "1c2cf44f-8149-455c-810b-7c7a665a3fcb",
   "metadata": {},
   "outputs": [
    {
     "data": {
      "text/plain": [
       "15"
      ]
     },
     "metadata": {},
     "output_type": "display_data"
    },
    {
     "data": {
      "text/plain": [
       "5"
      ]
     },
     "metadata": {},
     "output_type": "display_data"
    },
    {
     "data": {
      "text/plain": [
       "2025"
      ]
     },
     "metadata": {},
     "output_type": "display_data"
    }
   ],
   "source": [
    "day = 15\n",
    "month = 5\n",
    "year = 2025\n",
    "display(day,month,year)"
   ]
  },
  {
   "cell_type": "code",
   "execution_count": 32,
   "id": "8f1c8040-d8a6-418e-812e-88197cdac31a",
   "metadata": {},
   "outputs": [
    {
     "name": "stdout",
     "output_type": "stream",
     "text": [
      "Day: 5, Month: 15, Year: 2025\n",
      "Person Name:David\u000b",
      "Age:20\n",
      "Current Address:US\n"
     ]
    }
   ],
   "source": [
    "day = 15\n",
    "month = 5\n",
    "year = 2025\n",
    "print(\"Day: {}, Month: {}, Year: {}\".format(month,day, year)) # Outdated\n",
    "print(f\"Person Name:{Name}\\vAge:{Age}\\nCurrent Address:{Address}\") # formatted string\n"
   ]
  },
  {
   "cell_type": "code",
   "execution_count": null,
   "id": "25c861c4-12ad-4726-a3ba-fdfa06d9a3ef",
   "metadata": {},
   "outputs": [],
   "source": []
  },
  {
   "cell_type": "code",
   "execution_count": 33,
   "id": "fdf1fafd-63cd-49aa-a12a-62ff33ed2e3d",
   "metadata": {},
   "outputs": [
    {
     "name": "stdout",
     "output_type": "stream",
     "text": [
      "Hello world\n",
      "Hello world\n",
      "Hello world\n",
      "Hello world\n",
      "Hello world\n",
      "Hello world\n",
      "Hello world\n",
      "Hello world\n",
      "Hello world\n",
      "Hello world\n",
      "Done\n"
     ]
    }
   ],
   "source": [
    "# Loops: for, while\n",
    "max_times = 10\n",
    "while max_times: # while CONDITION\n",
    "    print(\"Hello world\")\n",
    "    max_times -= 1\n",
    "\n",
    "print(\"Done\")"
   ]
  },
  {
   "cell_type": "code",
   "execution_count": 34,
   "id": "c857e775",
   "metadata": {},
   "outputs": [
    {
     "name": "stdout",
     "output_type": "stream",
     "text": [
      "Hello world\n",
      "max_times :10\n",
      "Hello world\n",
      "max_times :9\n",
      "Hello world\n",
      "max_times :8\n",
      "Hello world\n",
      "max_times :7\n",
      "Hello world\n",
      "max_times :6\n",
      "Hello world\n",
      "max_times :5\n",
      "Hello world\n",
      "max_times :4\n",
      "Hello world\n",
      "max_times :3\n",
      "Hello world\n",
      "max_times :2\n",
      "Hello world\n",
      "max_times :1\n",
      "Done\n"
     ]
    }
   ],
   "source": [
    "# Loops: for, while\n",
    "max_times = 10\n",
    "while (max_times != 0): # while CONDITION\n",
    "    print(\"Hello world\")\n",
    "    print(f\"max_times :{max_times}\")\n",
    "    max_times -= 1\n",
    "\n",
    "print(\"Done\")"
   ]
  },
  {
   "cell_type": "code",
   "execution_count": 36,
   "id": "b4ebb96a-ae2e-471e-9d82-0b3584eb9ac8",
   "metadata": {},
   "outputs": [
    {
     "name": "stdout",
     "output_type": "stream",
     "text": [
      "Hello a\n",
      "Hello b\n",
      "Hello c\n",
      "Hello 1\n",
      "Hello 2\n",
      "Hello 3\n"
     ]
    }
   ],
   "source": [
    "# For Loop\n",
    "names = [\"a\", \"b\", \"c\", 1, 2, 3] # List of names\n",
    "for name in names:\n",
    "    print(f\"Hello {name}\")"
   ]
  },
  {
   "cell_type": "code",
   "execution_count": 42,
   "id": "c421932f",
   "metadata": {},
   "outputs": [
    {
     "name": "stdout",
     "output_type": "stream",
     "text": [
      "Hello a\n",
      "Hello b\n",
      "Hello c\n",
      "Hello 1\n",
      "Hello 2\n",
      "Hello 3\n",
      "Hello 1.2\n",
      "Hello True\n",
      "Hello False\n",
      "For loop ends\n"
     ]
    }
   ],
   "source": [
    "# For Loop\n",
    "names = [\"a\", \"b\", \"c\", 1, 2, 3, 1.2, True, False] # List of names\n",
    "for name in names: # a,b,c, 1\n",
    "    if type(name) != str:\n",
    "        continue\n",
    "    print(f\"Hello {name}\")\n",
    "print(\"For loop ends\")"
   ]
  },
  {
   "cell_type": "code",
   "execution_count": 42,
   "id": "baed63aa",
   "metadata": {},
   "outputs": [
    {
     "name": "stdout",
     "output_type": "stream",
     "text": [
      "Hello a\n",
      "Hello b\n",
      "Hello c\n",
      "Hello 1\n",
      "Hello 2\n",
      "Hello 3\n",
      "Hello 1.2\n",
      "Hello True\n",
      "Hello False\n",
      "For loop ends\n"
     ]
    }
   ],
   "source": [
    "# For Loop\n",
    "names = [\"a\", \"b\", \"c\", 1, 2, 3, 1.2, True, False] # List of names\n",
    "for name in names: # a,b,c, 1\n",
    "    if type(name) != str:\n",
    "        continue\n",
    "    print(f\"Hello {name}\")\n",
    "print(\"For loop ends\")"
   ]
  },
  {
   "cell_type": "code",
   "execution_count": 39,
   "id": "ddbe29c4-0cb7-49f3-8bb3-43044d914e7f",
   "metadata": {},
   "outputs": [
    {
     "name": "stdout",
     "output_type": "stream",
     "text": [
      "<class 'int'>\n"
     ]
    }
   ],
   "source": [
    "a = 1\n",
    "print(type(a))"
   ]
  },
  {
   "cell_type": "code",
   "execution_count": 48,
   "id": "8d5b73a6-6993-4986-992e-cce399ecd710",
   "metadata": {},
   "outputs": [
    {
     "name": "stdout",
     "output_type": "stream",
     "text": [
      "Yes!!! Congratulations!!!\n",
      "For loop done\n"
     ]
    }
   ],
   "source": [
    "# For Loop\n",
    "short_listed = [\"david\", \"John\", \"ram\", \"rahim\", \"abc\"] # List of names\n",
    "search_name = \"ram\"\n",
    "\n",
    "for name in short_listed:\n",
    "    if (search_name == name):\n",
    "        print(\"Yes!!! Congratulations!!!\")\n",
    "        break\n",
    "\n",
    "print(\"For loop done\")"
   ]
  },
  {
   "cell_type": "code",
   "execution_count": 56,
   "id": "0e3376d2",
   "metadata": {},
   "outputs": [
    {
     "name": "stdout",
     "output_type": "stream",
     "text": [
      "Sorry you name is not there!!\n",
      "For loop done\n"
     ]
    }
   ],
   "source": [
    "# For Loop\n",
    "short_listed = [\"david\", \"John\", \"ram\", \"rahim\", \"abc\"] # List of names\n",
    "search_name = \"ram123\"\n",
    "\n",
    "flag = False\n",
    "for name in short_listed:\n",
    "    if (search_name == name):\n",
    "        print(\"Yes!!! Congratulations!!!\")\n",
    "        flag = True\n",
    "        break\n",
    "\n",
    "if flag == False:\n",
    "    print(\"Sorry you name is not there!!\")\n",
    "    \n",
    "print(\"For loop done\")"
   ]
  },
  {
   "cell_type": "code",
   "execution_count": 68,
   "id": "327d8cfe-b997-4041-91f9-7d9ea35ab600",
   "metadata": {},
   "outputs": [
    {
     "name": "stdout",
     "output_type": "stream",
     "text": [
      "Name: david did not match, please check with next name\n",
      "Name: John did not match, please check with next name\n",
      "Yes!!! Congratulations!!!\n",
      "For loop done\n"
     ]
    }
   ],
   "source": [
    "# For Loop\n",
    "short_listed = [\"david\", \"John\", \"ram\", \"rahim\", \"abc\"] # List of names\n",
    "search_name = \"RAM\"\n",
    "\n",
    "for name in short_listed: # list/dictionary/range/set/tuple/string\n",
    "    if (search_name.lower() == name.lower()):\n",
    "        print(\"Yes!!! Congratulations!!!\")\n",
    "        break\n",
    "    else:\n",
    "        print(f\"Name: {name} did not match, please check with next name\")\n",
    "else:\n",
    "    print(\"Sorry you name is not there!!\")    \n",
    "    \n",
    "print(\"For loop done\")"
   ]
  },
  {
   "cell_type": "code",
   "execution_count": 66,
   "id": "7697327c",
   "metadata": {},
   "outputs": [
    {
     "name": "stdout",
     "output_type": "stream",
     "text": [
      "RAM\n",
      "ram\n"
     ]
    }
   ],
   "source": [
    "# String:\n",
    "search_name = \"Ram\"\n",
    "print(search_name.upper())\n",
    "print(search_name.lower())\n"
   ]
  },
  {
   "cell_type": "code",
   "execution_count": null,
   "id": "50643396-c2be-4355-868b-8f041fb149d0",
   "metadata": {},
   "outputs": [],
   "source": [
    "'''\n",
    "App: securitycheck\n",
    "\n",
    "1) No Response\n",
    "2) Check process is running:\n",
    "    Yes: \n",
    "        2.1) CPU Usage : \n",
    "        2.3) Memory usage: Stack memory\n",
    "\n",
    "3) Add Logs inside loops\n",
    "'''\n"
   ]
  },
  {
   "cell_type": "code",
   "execution_count": null,
   "id": "dc84b8eb",
   "metadata": {},
   "outputs": [],
   "source": [
    "while True:\n",
    "    print(\"Hello\")\n",
    "    "
   ]
  },
  {
   "cell_type": "code",
   "execution_count": 71,
   "id": "c8112b18-ea01-41f4-8874-188ce4485fc0",
   "metadata": {},
   "outputs": [
    {
     "name": "stdout",
     "output_type": "stream",
     "text": [
      "3\n"
     ]
    }
   ],
   "source": [
    "def add(a,b):\n",
    "    return a+b\n",
    "\n",
    "print(add(1,2))\n"
   ]
  },
  {
   "cell_type": "code",
   "execution_count": 82,
   "id": "46a7e8ce-2abf-4323-9994-812dd8ed014e",
   "metadata": {},
   "outputs": [
    {
     "name": "stdout",
     "output_type": "stream",
     "text": [
      "Name: David\n",
      "Age: 45\n",
      "Address : Bangalore\n",
      "Country: India\n",
      "****************************************\n",
      "Name: David\n",
      "Age: 45\n",
      "Address : Bangalore\n",
      "Country: India\n",
      "****************************************\n",
      "Name: David\n",
      "Age: 45\n",
      "Address : Yelahanka\n",
      "Country: India\n",
      "****************************************\n",
      "Name: 100\n",
      "Age: 40\n",
      "Address : Yelahanka\n",
      "Country: India\n",
      "****************************************\n"
     ]
    }
   ],
   "source": [
    "# country is default argument\n",
    "# positional arguments\n",
    "def print_student_details(name, age, address=\"Yelahanka\", country=\"India\"):\n",
    "    print(f\"Name: {name}\\nAge: {age}\\nAddress : {address}\\nCountry: {country}\")\n",
    "    print(\"****\"*10)\n",
    "\n",
    "print_student_details(\"David\", 45, \"Bangalore\", \"India\")\n",
    "print_student_details(\"David\", 45, \"Bangalore\")\n",
    "print_student_details(\"David\", 45)\n",
    "print_student_details(str(100), 40)"
   ]
  },
  {
   "cell_type": "code",
   "execution_count": 83,
   "id": "c145f6b7-d6f4-4baf-92f5-b9341285d016",
   "metadata": {},
   "outputs": [
    {
     "name": "stdout",
     "output_type": "stream",
     "text": [
      "10\n"
     ]
    },
    {
     "data": {
      "text/plain": [
       "\"\\ngets the value from variable 'a'\\npasses the value to screen\\n\""
      ]
     },
     "execution_count": 83,
     "metadata": {},
     "output_type": "execute_result"
    }
   ],
   "source": [
    "# int a = 10; \n",
    "# a = \"hello\";  # Compilation error: a is not string\n",
    "\n",
    "#Packing\n",
    "a = 10\n",
    "'''\n",
    "creates instance of class 'int'\n",
    "Keep the value 10\n",
    "'''\n",
    "b = 1.1\n",
    "'''\n",
    "creates instance of class 'float'\n",
    "keeps the value 1.1\n",
    "'''\n",
    "\n",
    "#Unpacking\n",
    "print(a)\n",
    "'''\n",
    "gets the value from variable 'a'\n",
    "passes the value to screen\n",
    "'''\n"
   ]
  },
  {
   "cell_type": "code",
   "execution_count": null,
   "id": "4a912c19-430c-4ece-9537-018aabc56306",
   "metadata": {},
   "outputs": [],
   "source": []
  }
 ],
 "metadata": {
  "kernelspec": {
   "display_name": "Python3 (DeepCode)",
   "language": "python",
   "name": "deepcode"
  },
  "language_info": {
   "codemirror_mode": {
    "name": "ipython",
    "version": 3
   },
   "file_extension": ".py",
   "mimetype": "text/x-python",
   "name": "python",
   "nbconvert_exporter": "python",
   "pygments_lexer": "ipython3",
   "version": "3.13.3"
  }
 },
 "nbformat": 4,
 "nbformat_minor": 5
}
