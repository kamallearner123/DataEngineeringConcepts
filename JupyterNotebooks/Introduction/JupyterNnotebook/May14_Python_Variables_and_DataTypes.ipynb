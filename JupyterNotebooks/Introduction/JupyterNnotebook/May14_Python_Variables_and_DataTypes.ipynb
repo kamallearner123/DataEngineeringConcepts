{
 "cells": [
  {
   "cell_type": "markdown",
   "metadata": {},
   "source": [
    "# Python: Variables and Data Types\n",
    "\n",
    "This notebook introduces the basics of **variables** and **data types** in Python. You'll learn how to create variables, understand different data types, and perform basic operations.\n",
    "\n",
    "## Topics Covered\n",
    "1. What is a Variable?\n",
    "2. Rules for Naming Variables\n",
    "3. Basic Data Types in Python\n",
    "4. Type Conversion\n",
    "5. Basic Operations with Data Types"
   ]
  },
  {
   "cell_type": "markdown",
   "metadata": {},
   "source": [
    "## 1. What is a Variable?\n",
    "\n",
    "A **variable** is a named storage location in memory that holds a value. You can think of it as a container that stores data, which can be accessed or modified later.\n",
    "\n",
    "- Variables are created by assigning a value using the `=` operator.\n",
    "- Example: `age = 25` creates a variable named `age` with the value `25`."
   ]
  },
  {
   "cell_type": "code",
   "execution_count": null,
   "metadata": {},
   "outputs": [],
   "source": [
    "# Example: Creating variables\n",
    "name = \"Alice\"\n",
    "age = 25\n",
    "height = 5.6\n",
    "\n",
    "print(\"Name:\", name)\n",
    "print(\"Age:\", age)\n",
    "print(\"Height:\", height)"
   ]
  },
  {
   "cell_type": "markdown",
   "metadata": {},
   "source": [
    "## 2. Rules for Naming Variables\n",
    "\n",
    "When naming variables in Python, follow these rules:\n",
    "- Variable names can contain **letters**, **numbers**, and **underscores** (`_`).\n",
    "- Names **cannot start with a number**.\n",
    "- Names are **case-sensitive** (`age` and `Age` are different).\n",
    "- Avoid using Python **keywords** (e.g., `if`, `for`, `while`) as variable names.\n",
    "- Use descriptive names for clarity (e.g., `student_name` instead of `x`)."
   ]
  },
  {
   "cell_type": "code",
   "execution_count": null,
   "metadata": {},
   "outputs": [],
   "source": [
    "# Valid variable names\n",
    "student_name = \"Bob\"\n",
    "score_1 = 95\n",
    "_temp = 23.5\n",
    "\n",
    "# Invalid variable names (will cause errors)\n",
    "# 1score = 90  # Starts with a number\n",
    "# my-name = \"Charlie\"  # Contains hyphen\n",
    "\n",
    "print(student_name, score_1, _temp)"
   ]
  },
  {
   "cell_type": "markdown",
   "metadata": {},
   "source": [
    "## 3. Basic Data Types in Python\n",
    "\n",
    "Python supports several built-in data types. The most common ones are:\n",
    "\n",
    "| Data Type | Description | Example |\n",
    "|-----------|-------------|---------|\n",
    "| `int`     | Integer numbers | `42`, `-10` |\n",
    "| `float`   | Floating-point numbers | `3.14`, `-0.001` |\n",
    "| `str`     | Strings (text) | `\"Hello\"`, `'Python'` |\n",
    "| `bool`    | Boolean values | `True`, `False` |\n",
    "| `list`    | Ordered, mutable collection | `[1, 2, 3]`, `[\"apple\", \"banana\"]` |\n",
    "| `tuple`   | Ordered, immutable collection | `(1, 2, 3)` |\n",
    "| `dict`    | Key-value pairs | `{\"name\": \"Alice\", \"age\": 25}` |\n",
    "| `set`     | Unordered collection of unique items | `{1, 2, 3}` |\n",
    "\n",
    "You can check the type of a variable using the `type()` function."
   ]
  },
  {
   "cell_type": "code",
   "execution_count": null,
   "metadata": {},
   "outputs": [],
   "source": [
    "# Examples of different data types\n",
    "integer_num = 42\n",
    "float_num = 3.14\n",
    "text = \"Hello, Python!\"\n",
    "is_student = True\n",
    "my_list = [1, 2, 3, 4]\n",
    "my_tuple = (10, 20)\n",
    "my_dict = {\"name\": \"Alice\", \"age\": 25}\n",
    "my_set = {1, 2, 3}\n",
    "\n",
    "# Check types\n",
    "print(\"Type of integer_num:\", type(integer_num))\n",
    "print(\"Type of float_num:\", type(float_num))\n",
    "print(\"Type of text:\", type(text))\n",
    "print(\"Type of is_student:\", type(is_student))\n",
    "print(\"Type of my_list:\", type(my_list))\n",
    "print(\"Type of my_tuple:\", type(my_tuple))\n",
    "print(\"Type of my_dict:\", type(my_dict))\n",
    "print(\"Type of my_set:\", type(my_set))"
   ]
  },
  {
   "cell_type": "markdown",
   "metadata": {},
   "source": [
    "## 4. Type Conversion\n",
    "\n",
    "You can convert between data types using functions like `int()`, `float()`, `str()`, etc. This is useful when you need to change the type of a variable for operations.\n",
    "\n",
    "- **Implicit Conversion**: Python automatically converts types in some cases (e.g., `int` to `float` during arithmetic).\n",
    "- **Explicit Conversion**: You manually convert using type functions."
   ]
  },
  {
   "cell_type": "code",
   "execution_count": null,
   "metadata": {},
   "outputs": [],
   "source": [
    "# Implicit conversion\n",
    "num_int = 10\n",
    "num_float = 5.5\n",
    "result = num_int + num_float  # int is converted to float\n",
    "print(\"Result:\", result, \"Type:\", type(result))\n",
    "\n",
    "# Explicit conversion\n",
    "age = \"25\"  # String\n",
    "age_int = int(age)  # Convert to integer\n",
    "print(\"Age as integer:\", age_int, \"Type:\", type(age_int))\n",
    "\n",
    "height = 5.9\n",
    "height_str = str(height)  # Convert to string\n",
    "print(\"Height as string:\", height_str, \"Type:\", type(height_str))"
   ]
  },
  {
   "cell_type": "markdown",
   "metadata": {},
   "source": [
    "## 5. Basic Operations with Data Types\n",
    "\n",
    "Each data type supports specific operations. Here are some examples:\n",
    "\n",
    "- **Integers and Floats**: Arithmetic operations (`+`, `-`, `*`, `/`, `//`, `%`, `**`).\n",
    "- **Strings**: Concatenation (`+`), repetition (`*`), slicing.\n",
    "- **Lists**: Append, remove, indexing, slicing.\n",
    "- **Dictionaries**: Access values by key, add/remove key-value pairs.\n",
    "- **Sets**: Union, intersection, difference."
   ]
  },
  {
   "cell_type": "code",
   "execution_count": null,
   "metadata": {},
   "outputs": [],
   "source": [
    "# Arithmetic with numbers\n",
    "a = 10\n",
    "b = 3\n",
    "print(\"Addition:\", a + b)\n",
    "print(\"Division:\", a / b)\n",
    "print(\"Floor Division:\", a // b)\n",
    "print(\"Exponentiation:\", a ** 2)\n",
    "\n",
    "# String operations\n",
    "greeting = \"Hello\"\n",
    "name = \"World\"\n",
    "print(\"Concatenation:\", greeting + \" \" + name)\n",
    "print(\"Repetition:\", greeting * 2)\n",
    "print(\"Slicing:\", greeting[0:3])\n",
    "\n",
    "# List operations\n",
    "fruits = [\"apple\", \"banana\"]\n",
    "fruits.append(\"orange\")\n",
    "print(\"List after append:\", fruits)\n",
    "print(\"First fruit:\", fruits[0])\n",
    "\n",
    "# Dictionary operations\n",
    "person = {\"name\": \"Alice\", \"age\": 25}\n",
    "print(\"Name:\", person[\"name\"])\n",
    "person[\"city\"] = \"New York\"\n",
    "print(\"Updated dictionary:\", person)\n",
    "\n",
    "# Set operations\n",
    "set1 = {1, 2, 3}\n",
    "set2 = {2, 3, 4}\n",
    "print(\"Union:\", set1 | set2)\n",
    "print(\"Intersection:\", set1 & set2)"
   ]
  },
  {
   "cell_type": "markdown",
   "metadata": {},
   "source": [
    "## Exercises\n",
    "\n",
    "1. Create a variable `temperature` with the value `23.5` and print its type.\n",
    "2. Convert the string `\"100\"` to an integer and add `50` to it.\n",
    "3. Create a list of your favorite colors and append a new color to it.\n",
    "4. Create a dictionary with keys `item` and `price`, and print the price.\n",
    "\n",
    "Try these in a new code cell below!"
   ]
  },
  {
   "cell_type": "code",
   "execution_count": null,
   "metadata": {},
   "outputs": [],
   "source": [
    "# Your code here\n"
   ]
  },
  {
   "cell_type": "markdown",
   "metadata": {},
   "source": [
    "## Summary\n",
    "\n",
    "- Variables store data and follow specific naming rules.\n",
    "- Python has various data types like `int`, `float`, `str`, `list`, `dict`, etc.\n",
    "- Type conversion allows changing data types when needed.\n",
    "- Each data type supports unique operations for manipulation.\n",
    "\n",
    "For more practice, explore Python's official documentation or try modifying the examples above!"
   ]
  }
 ],
 "metadata": {
  "kernelspec": {
   "display_name": "Python 3 (ipykernel)",
   "language": "python",
   "name": "python3"
  },
  "language_info": {
   "codemirror_mode": {
    "name": "ipython",
    "version": 3
   },
   "file_extension": ".py",
   "mimetype": "text/x-python",
   "name": "python",
   "nbconvert_exporter": "python",
   "pygments_lexer": "ipython3",
   "version": "3.12.7"
  }
 },
 "nbformat": 4,
 "nbformat_minor": 4
}
