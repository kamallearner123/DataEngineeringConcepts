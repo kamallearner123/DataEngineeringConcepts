{
 "cells": [
  {
   "cell_type": "markdown",
   "metadata": {},
   "source": [
    "# Python: Input and Output\n",
    "\n",
    "This notebook covers **input** and **output** operations in Python, essential for interacting with users and handling data. You'll learn how to take user input, display output, and perform file input/output operations.\n",
    "\n",
    "## Topics Covered\n",
    "1. Taking User Input with `input()`\n",
    "2. Displaying Output with `print()`\n",
    "3. String Formatting (f-strings, `.format()`, `%`)\n",
    "4. File Input/Output (Reading and Writing Files)\n",
    "5. Practical Examples and Exercises\n"
   ]
  },
  {
   "cell_type": "markdown",
   "metadata": {},
   "source": [
    "## 1. Taking User Input with `input()`\n",
    "\n",
    "The `input()` function prompts the user to enter data via the console, returning the input as a **string**.\n",
    "\n",
    "- **Syntax**: `variable = input(prompt)`\n",
    "- Use type conversion (e.g., `int()`, `float()`) for non-string inputs.\n",
    "- Handle errors (e.g., invalid input) using `try-except` for robustness."
   ]
  },
  {
   "cell_type": "code",
   "execution_count": null,
   "metadata": {},
   "outputs": [],
   "source": [
    "# Example: Basic input\n",
    "name = input(\"Enter your name: \")\n",
    "print(\"Hello,\", name)"
   ]
  },
  {
   "cell_type": "code",
   "execution_count": null,
   "metadata": {},
   "outputs": [],
   "source": [
    "# Example: Converting input to integer\n",
    "try:\n",
    "    age = int(input(\"Enter your age: \"))\n",
    "    print(f\"Next year, you will be {age + 1} years old.\")\n",
    "except ValueError:\n",
    "    print(\"Please enter a valid number.\")"
   ]
  },
  {
   "cell_type": "markdown",
   "metadata": {},
   "source": [
    "## 2. Displaying Output with `print()`\n",
    "\n",
    "The `print()` function outputs data to the console, supporting multiple objects and customization.\n",
    "\n",
    "- **Syntax**: `print(*objects, sep=' ', end='\\n', file=None)`\n",
    "- `sep`: Separator between objects (default: space).\n",
    "- `end`: String appended after output (default: newline).\n",
    "- Use `print()` for variables, strings, or computation results."
   ]
  },
  {
   "cell_type": "code",
   "execution_count": null,
   "metadata": {},
   "outputs": [],
   "source": [
    "# Example: Customizing sep and end\n",
    "x, y = 10, 20\n",
    "print(x, y, sep=\", \", end=\"!\")\n",
    "print(\" Done\")  # Continues on same line due to end=\"!\""
   ]
  },
  {
   "cell_type": "code",
   "execution_count": null,
   "metadata": {},
   "outputs": [],
   "source": [
    "# Example: Printing multiple data types\n",
    "name = \"Alice\"\n",
    "score = 95.5\n",
    "print(\"Student:\", name, \"Score:\", score)"
   ]
  },
  {
   "cell_type": "markdown",
   "metadata": {},
   "source": [
    "## 3. String Formatting\n",
    "\n",
    "String formatting enhances output readability. Python supports several methods:\n",
    "\n",
    "- **f-strings** (Python 3.6+): Embed expressions in `{}` within string literals (recommended).\n",
    "- **`.format()`**: Use `{}` placeholders with values passed to `.format()`.\n",
    "- **% operator**: Older style using `%` (less common).\n",
    "\n",
    "f-strings are the most concise and modern approach."
   ]
  },
  {
   "cell_type": "code",
   "execution_count": null,
   "metadata": {},
   "outputs": [],
   "source": [
    "# Example: f-strings\n",
    "name = \"Bob\"\n",
    "age = 30\n",
    "print(f\"{name} is {age} years old.\")\n",
    "print(f\"In 5 years, {name} will be {age + 5}.\")"
   ]
  },
  {
   "cell_type": "code",
   "execution_count": null,
   "metadata": {},
   "outputs": [],
   "source": [
    "# Example: .format()\n",
    "city = \"London\"\n",
    "temperature = 15.7\n",
    "print(\"It's {}°C in {}.\".format(temperature, city))"
   ]
  },
  {
   "cell_type": "code",
   "execution_count": null,
   "metadata": {},
   "outputs": [],
   "source": [
    "# Example: % operator\n",
    "item = \"book\"\n",
    "price = 29.99\n",
    "print(\"The %s costs $%.2f.\" % (item, price))"
   ]
  },
  {
   "cell_type": "markdown",
   "metadata": {},
   "source": [
    "## 4. File Input/Output\n",
    "\n",
    "Python supports reading from and writing to files using the `open()` function. Use `with` statements to ensure proper file closure.\n",
    "\n",
    "- **Modes**:\n",
    "  - `'r'`: Read (default).\n",
    "  - `'w'`: Write (overwrites file).\n",
    "  - `'a'`: Append (adds to file).\n",
    "  - `'r+'`: Read and write.\n",
    "- **Methods**:\n",
    "  - `read()`: Reads entire file.\n",
    "  - `readline()`: Reads one line.\n",
    "  - `readlines()`: Reads all lines into a list.\n",
    "  - `write()`: Writes a string.\n",
    "  - `writelines()`: Writes a list of strings."
   ]
  },
  {
   "cell_type": "code",
   "execution_count": null,
   "metadata": {},
   "outputs": [],
   "source": [
    "# Example: Writing to a file\n",
    "with open('output.txt', 'w') as file:\n",
    "    file.write(\"Welcome to Python!\\n\")\n",
    "    file.write(\"This is a sample file.\")\n",
    "\n",
    "print(\"File written successfully.\")"
   ]
  },
  {
   "cell_type": "code",
   "execution_count": null,
   "metadata": {},
   "outputs": [],
   "source": [
    "# Example: Reading from a file\n",
    "try:\n",
    "    with open('output.txt', 'r') as file:\n",
    "        content = file.read()\n",
    "        print(\"File content:\\n\", content)\n",
    "except FileNotFoundError:\n",
    "    print(\"File not found.\")"
   ]
  },
  {
   "cell_type": "code",
   "execution_count": null,
   "metadata": {},
   "outputs": [],
   "source": [
    "# Example: Appending and reading line by line\n",
    "with open('output.txt', 'a') as file:\n",
    "    file.write(\"\\nAppended line.\")\n",
    "\n",
    "with open('output.txt', 'r') as file:\n",
    "    lines = file.readlines()\n",
    "    for i, line in enumerate(lines, 1):\n",
    "        print(f\"Line {i}: {line.strip()}\")  # strip() removes trailing newlines"
   ]
  },
  {
   "cell_type": "markdown",
   "metadata": {},
   "source": [
    "## 5. Practical Examples and Exercises\n",
    "\n",
    "Below are practical examples combining input, output, and file I/O, followed by exercises for practice."
   ]
  },
  {
   "cell_type": "code",
   "execution_count": null,
   "metadata": {},
   "outputs": [],
   "source": [
    "# Example: Create a guest list\n",
    "guests = []\n",
    "\n",
    "# Input guest names\n",
    "while True:\n",
    "    guest = input(\"Enter guest name (or 'done' to finish): \")\n",
    "    if guest.lower() == 'done':\n",
    "        break\n",
    "    guests.append(guest)\n",
    "\n",
    "# Write to file\n",
    "with open('guests.txt', 'w') as file:\n",
    "    for i, guest in enumerate(guests, 1):\n",
    "        file.write(f\"{i}. {guest}\\n\")\n",
    "\n",
    "# Read and display\n",
    "with open('guests.txt', 'r') as file:\n",
    "    print(\"\\nGuest List:\")\n",
    "    print(file.read())"
   ]
  },
  {
   "cell_type": "code",
   "execution_count": null,
   "metadata": {},
   "outputs": [],
   "source": [
    "# Example: Simple calculator\n",
    "try:\n",
    "    num1 = float(input(\"Enter first number: \"))\n",
    "    op = input(\"Enter operation (+, -, *, /): \")\n",
    "    num2 = float(input(\"Enter second number: \"))\n",
    "\n",
    "    if op == '+':\n",
    "        result = num1 + num2\n",
    "    elif op == '-':\n",
    "        result = num1 - num2\n",
    "    elif op == '*':\n",
    "        result = num1 * num2\n",
    "    elif op == '/':\n",
    "        if num2 == 0:\n",
    "            raise ValueError(\"Division by zero is not allowed.\")\n",
    "        result = num1 / num2\n",
    "    else:\n",
    "        raise ValueError(\"Invalid operation.\")\n",
    "\n",
    "    print(f\"Result: {num1} {op} {num2} = {result:.2f}\")\n",
    "\n",
    "except ValueError as e:\n",
    "    print(f\"Error: {e}\")"
   ]
  },
  {
   "cell_type": "markdown",
   "metadata": {},
   "source": [
    "### Exercises\n",
    "\n",
    "1. Write a program that takes a user's name and age, then writes them to a file called `user_info.txt` using f-strings.\n",
    "2. Read `user_info.txt` and print each line with a line number.\n",
    "3. Create a program that takes numbers as input, writes them to a file, and reads the file to print only the even numbers.\n",
    "4. Write a program that prompts the user for a sentence and saves it to a file, then reads and displays the sentence in uppercase.\n",
    "5. Implement a program that logs user inputs (e.g., timestamps and messages) to a file and displays the log."
   ]
  },
  {
   "cell_type": "code",
   "execution_count": null,
   "metadata": {},
   "outputs": [],
   "source": [
    "# Your code here\n"
   ]
  }
 ],
 "metadata": {
  "kernelspec": {
   "display_name": "Python 3 (ipykernel)",
   "language": "python",
   "name": "python3"
  },
  "language_info": {
   "codemirror_mode": {
    "name": "ipython",
    "version": 3
   },
   "file_extension": ".py",
   "mimetype": "text/x-python",
   "name": "python",
   "nbconvert_exporter": "python",
   "pygments_lexer": "ipython3",
   "version": "3.12.7"
  }
 },
 "nbformat": 4,
 "nbformat_minor": 4
}
