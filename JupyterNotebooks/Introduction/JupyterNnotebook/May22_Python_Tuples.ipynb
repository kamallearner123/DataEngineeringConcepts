{
 "cells": [
  {
   "cell_type": "markdown",
   "metadata": {},
   "source": [
    "# Python Tuples Tutorial\n",
    "\n",
    "This notebook explores Python tuples, covering creation, immutability, packing/unpacking, indexing, methods, use as dictionary keys, comparison with lists, and nested tuples. Each section includes examples and explanations, with a practical tie-in to your `SmartTracker` project for expense tracking."
   ]
  },
  {
   "cell_type": "markdown",
   "metadata": {},
   "source": [
    "## 1. Tuple Creation and Basic Syntax\n",
    "\n",
    "Tuples are ordered, immutable collections in Python, defined using parentheses `()` or without delimiters (implicit). They can hold mixed data types.\n",
    "\n",
    "**Syntax**:\n",
    "- `tuple_name = (item1, item2, ...)`\n",
    "- Single-element tuple: `(item,)` (comma is required)\n",
    "- Empty tuple: `()`"
   ]
  },
  {
   "cell_type": "code",
   "execution_count": 1,
   "metadata": {},
   "outputs": [
    {
     "name": "stdout",
     "output_type": "stream",
     "text": [
      "Empty tuple: ()\n",
      "Single-element tuple: (42,)\n",
      "Mixed tuple: (1, 'apple', 3.14, True)\n",
      "Implicit tuple: (1, 2, 3)\n",
      "Length of mixed tuple: 4\n"
     ]
    }
   ],
   "source": [
    "# Create tuples\n",
    "empty_tuple = ()\n",
    "single_tuple = (42,)  # Comma is crucial\n",
    "mixed_tuple = (1, \"apple\", 3.14, True)\n",
    "implicit_tuple = 1, 2, 3  # No parentheses\n",
    "\n",
    "print(f\"Empty tuple: {empty_tuple}\")\n",
    "print(f\"Single-element tuple: {single_tuple}\")\n",
    "print(f\"Mixed tuple: {mixed_tuple}\")\n",
    "print(f\"Implicit tuple: {implicit_tuple}\")\n",
    "print(f\"Length of mixed tuple: {len(mixed_tuple)}\")"
   ]
  },
  {
   "cell_type": "markdown",
   "metadata": {},
   "source": [
    "## 2. Immutability of Tuples\n",
    "\n",
    "Tuples are immutable, meaning their elements cannot be changed after creation. This makes them reliable for fixed data.\n",
    "\n",
    "**Note**: If a tuple contains mutable objects (e.g., lists), those objects can be modified, but the tuple’s structure (references) remains fixed."
   ]
  },
  {
   "cell_type": "code",
   "execution_count": 2,
   "metadata": {},
   "outputs": [
    {
     "name": "stdout",
     "output_type": "stream",
     "text": [
      "Original tuple: (1, 2, 3)\n",
      "Tuple with mutable list: (1, [2, 3], 4)\n",
      "After modifying list inside tuple: (1, [2, 99], 4)\n"
     ]
    },
    {
     "ename": "TypeError",
     "evalue": "'tuple' object does not support item assignment",
     "output_type": "error",
     "traceback": [
      "\u001b[0;31m---------------------------------------------------------------------------\u001b[0m",
      "\u001b[0;31mTypeError\u001b[0m                                 Traceback (most recent call last)",
      "\u001b[0;32m<ipython-input-2-xxxxxxx>\u001b[0m in \u001b[0;36m<module>\u001b[0;34m()\u001b[0m\n",
      "\u001b[0;32m     10\u001b[0m \u001b[0;31m# This will raise an error\u001b[0m\u001b[0;34m\u001b[0m\u001b[0;34m\u001b[0m\u001b[0m\n",
      "\u001b[0;32m     11\u001b[0m \u001b[0;31m# numbers[0] = 99  # Uncomment to see TypeError\u001b[0m\u001b[0;34m\u001b[0m\u001b[0;34m\u001b[0m\u001b[0m\n",
      "\u001b[0;31mTypeError\u001b[0m: 'tuple' object does not support item assignment"
     ]
    }
   ],
   "source": [
    "numbers = (1, 2, 3)\n",
    "print(f\"Original tuple: {numbers}\")\n",
    "\n",
    "# Tuple with a mutable list inside\n",
    "tuple_with_list = (1, [2, 3], 4)\n",
    "print(f\"Tuple with mutable list: {tuple_with_list}\")\n",
    "tuple_with_list[1][1] = 99  # Modify the list inside the tuple\n",
    "print(f\"After modifying list inside tuple: {tuple_with_list}\")\n",
    "\n",
    "# This will raise an error\n",
    "# numbers[0] = 99  # Uncomment to see TypeError"
   ]
  },
  {
   "cell_type": "markdown",
   "metadata": {},
   "source": [
    "## 3. Tuple Packing and Unpacking\n",
    "\n",
    "**Packing**: Assigning multiple values to a tuple implicitly.\n",
    "**Unpacking**: Assigning tuple elements to variables in one line."
   ]
  },
  {
   "cell_type": "code",
   "execution_count": 3,
   "metadata": {},
   "outputs": [
    {
     "name": "stdout",
     "output_type": "stream",
     "text": [
      "Packed tuple: ('Coffee', 5.0, '2025-05-01')\n",
      "Unpacked: desc = Coffee, amount = 5.0, date = 2025-05-01\n",
      "Swapped: b = 1, a = 2\n"
     ]
    }
   ],
   "source": [
    "# Packing\n",
    "transaction = \"Coffee\", 5.0, \"2025-05-01\"\n",
    "print(f\"Packed tuple: {transaction}\")\n",
    "\n",
    "# Unpacking\n",
    "desc, amount, date = transaction\n",
    "print(f\"Unpacked: desc = {desc}, amount = {amount}, date = {date}\")\n",
    "\n",
    "# Unpacking for swapping\n",
    "a, b = 1, 2\n",
    "a, b = b, a  # Swap values\n",
    "print(f\"Swapped: b = {b}, a = {a}\")"
   ]
  },
  {
   "cell_type": "markdown",
   "metadata": {},
   "source": [
    "## 4. Accessing Elements and Indexing\n",
    "\n",
    "Tuples support indexing (0-based) and slicing, similar to lists.\n",
    "\n",
    "**Syntax**:\n",
    "- `tuple[index]` for single elements\n",
    "- `tuple[start:end:step]` for slices"
   ]
  },
  {
   "cell_type": "code",
   "execution_count": 4,
   "metadata": {},
   "outputs": [
    {
     "name": "stdout",
     "output_type": "stream",
     "text": [
      "First element: 1\n",
      "Last element: 5\n",
      "Slice [1:3]: (2, 3)\n",
      "Every second element: (1, 3, 5)\n",
      "Reversed tuple: (5, 4, 3, 2, 1)\n"
     ]
    }
   ],
   "source": [
    "numbers = (1, 2, 3, 4, 5)\n",
    "\n",
    "# Indexing\n",
    "print(f\"First element: {numbers[0]}\")\n",
    "print(f\"Last element: {numbers[-1]}\")\n",
    "\n",
    "# Slicing\n",
    "print(f\"Slice [1:3]: {numbers[1:3]}\")\n",
    "print(f\"Every second element: {numbers[::2]}\")\n",
    "print(f\"Reversed tuple: {numbers[::-1]}\")"
   ]
  },
  {
   "cell_type": "markdown",
   "metadata": {},
   "source": [
    "## 5. Tuple Methods: count() and index()\n",
    "\n",
    "Tuples have only two built-in methods due to immutability:\n",
    "- `count(x)`: Returns the number of occurrences of `x`\n",
    "- `index(x)`: Returns the first index of `x`"
   ]
  },
  {
   "cell_type": "code",
   "execution_count": 5,
   "metadata": {},
   "outputs": [
    {
     "name": "stdout",
     "output_type": "stream",
     "text": [
      "Count of 2: 2\n",
      "Index of 3: 2\n"
     ]
    }
   ],
   "source": [
    "numbers = (1, 2, 2, 3, 4)\n",
    "\n",
    "print(f\"Count of 2: {numbers.count(2)}\")\n",
    "print(f\"Index of 3: {numbers.index(3)}\")"
   ]
  },
  {
   "cell_type": "markdown",
   "metadata": {},
   "source": [
    "## 6. Tuples as Dictionary Keys\n",
    "\n",
    "Tuples are hashable (if all elements are hashable), making them suitable as dictionary keys, unlike lists."
   ]
  },
  {
   "cell_type": "code",
   "execution_count": 6,
   "metadata": {},
   "outputs": [
    {
     "name": "stdout",
     "output_type": "stream",
     "text": [
      "Category for ('Coffee', '2025-05-01'): Food\n"
     ]
    }
   ],
   "source": [
    "# Using tuples as dictionary keys\n",
    "expense_categories = {\n",
    "    (\"Coffee\", \"2025-05-01\"): \"Food\",\n",
    "    (\"Rent\", \"2025-05-02\"): \"Housing\"\n",
    "}\n",
    "\n",
    "key = (\"Coffee\", \"2025-05-01\")\n",
    "print(f\"Category for {key}: {expense_categories[key]}\")"
   ]
  },
  {
   "cell_type": "markdown",
   "metadata": {},
   "source": [
    "## 7. Tuple vs List: Differences and Use Cases\n",
    "\n",
    "**Differences**:\n",
    "- **Mutability**: Lists are mutable (`append`, `remove`), tuples are immutable.\n",
    "- **Performance**: Tuples are slightly faster due to immutability.\n",
    "- **Use Cases**:\n",
    "  - **Tuples**: Fixed data (e.g., coordinates, database records, dictionary keys).\n",
    "  - **Lists**: Dynamic data (e.g., user inputs, data to be modified).\n",
    "- **Syntax**: Tuples use `()`, lists use `[]`.\n",
    "\n",
    "**Example**: In `SmartTracker`, use tuples for fixed transaction records (description, amount, date) and lists for user-editable categories."
   ]
  },
  {
   "cell_type": "code",
   "execution_count": 7,
   "metadata": {},
   "outputs": [
    {
     "name": "stdout",
     "output_type": "stream",
     "text": [
      "Tuple transaction: ('Coffee', 5.0, '2025-05-01')\n",
      "List categories: ['Food', 'Housing']\n",
      "After adding category: ['Food', 'Housing', 'Transport']\n"
     ]
    }
   ],
   "source": [
    "transaction_tuple = (\"Coffee\", 5.0, \"2025-05-01\")  # Fixed record\n",
    "categories_list = [\"Food\", \"Housing\"]  # Editable\n",
    "\n",
    "print(f\"Tuple transaction: {transaction_tuple}\")\n",
    "print(f\"List categories: {categories_list}\")\n",
    "categories_list.append(\"Transport\")  # Lists can be modified\n",
    "print(f\"After adding category: {categories_list}\")"
   ]
  },
  {
   "cell_type": "markdown",
   "metadata": {},
   "source": [
    "## 8. Nested Tuples and Iteration\n",
    "\n",
    "Tuples can contain other tuples, useful for hierarchical data. Iterate using loops or comprehensions."
   ]
  },
  {
   "cell_type": "code",
   "execution_count": 8,
   "metadata": {},
   "outputs": [
    {
     "name": "stdout",
     "output_type": "stream",
     "text": [
      "Nested tuple: ((1, 2), (3, 4), (5, 6))\n",
      "Element at [1][0]: 3\n",
      "Unpacked nested tuple:\n",
      "Row: (1, 2), x=1, y=2\n",
      "Row: (3, 4), x=3, y=4\n",
      "Row: (5, 6), x=5, y=6\n"
     ]
    }
   ],
   "source": [
    "# Nested tuple\n",
    "nested_tuple = ((1, 2), (3, 4), (5, 6))\n",
    "print(f\"Nested tuple: {nested_tuple}\")\n",
    "print(f\"Element at [1][0]: {nested_tuple[1][0]}\")\n",
    "\n",
    "# Iterating over nested tuple\n",
    "print(\"Unpacked nested tuple:\")\n",
    "for row in nested_tuple:\n",
    "    x, y = row  # Unpacking each inner tuple\n",
    "    print(f\"Row: {row}, x={x}, y={y}\")"
   ]
  },
  {
   "cell_type": "markdown",
   "metadata": {},
   "source": [
    "## Practical Example: SmartTracker Data\n",
    "\n",
    "Use tuples to store immutable transaction records in `SmartTracker`. Combine with dictionaries for categorization and iterate for summaries."
   ]
  },
  {
   "cell_type": "code",
   "execution_count": 9,
   "metadata": {},
   "outputs": [
    {
     "name": "stdout",
     "output_type": "stream",
     "text": [
      "Transactions: (('Coffee', 5.0, '2025-05-01'), ('Salary', 2000.0, '2025-05-01'), ('Rent', -800.0, '2025-05-02'))\n",
      "Expense summary:\n",
      "- Coffee: $5.0 (Food)\n",
      "- Rent: $-800.0 (Housing)\n",
      "Total expenses: $-795.0\n"
     ]
    }
   ],
   "source": [
    "# Transaction data as tuples\n",
    "transactions = (\n",
    "    (\"Coffee\", 5.0, \"2025-05-01\"),\n",
    "    (\"Salary\", 2000.0, \"2025-05-01\"),\n",
    "    (\"Rent\", -800.0, \"2025-05-02\")\n",
    ")\n",
    "print(f\"Transactions: {transactions}\")\n",
    "\n",
    "# Dictionary for categories\n",
    "categories = {\n",
    "    \"Coffee\": \"Food\",\n",
    "    \"Rent\": \"Housing\",\n",
    "    \"Salary\": \"Income\"\n",
    "}\n",
    "\n",
    "# Summarize expenses\n",
    "print(\"Expense summary:\")\n",
    "total_expenses = 0\n",
    "for desc, amount, date in transactions:\n",
    "    if amount < 0:\n",
    "        total_expenses += amount\n",
    "        print(f\"- {desc}: ${amount} ({categories[desc]})\")\n",
    "print(f\"Total expenses: ${total_expenses}\")"
   ]
  },
  {
   "cell_type": "markdown",
   "metadata": {},
   "source": [
    "## Next Steps\n",
    "\n",
    "- **Practice**: Add a new transaction tuple or filter by category (e.g., only 'Food').\n",
    "- **Explore**: Try using tuples in your Django models for `SmartTracker` to store fixed data.\n",
    "- **Apply**: Integrate this with your PostgreSQL database by storing tuples as JSON or fixed fields."
   ]
  }
 ],
 "metadata": {
  "kernelspec": {
   "display_name": "Python 3 (ipykernel)",
   "language": "python",
   "name": "python3"
  },
  "language_info": {
   "codemirror_mode": {
    "name": "ipython",
    "version": 3
   },
   "file_extension": ".py",
   "mimetype": "text/x-python",
   "name": "python",
   "nbconvert_exporter": "python",
   "pygments_lexer": "ipython3",
   "version": "3.12.7"
  }
 },
 "nbformat": 4,
 "nbformat_minor": 4
}
