{
 "cells": [
  {
   "cell_type": "code",
   "execution_count": 2,
   "id": "bbe48cf8-ef03-479b-94cc-20cc38699a88",
   "metadata": {},
   "outputs": [
    {
     "name": "stdout",
     "output_type": "stream",
     "text": [
      "Kamal\n"
     ]
    }
   ],
   "source": [
    "Name = \"Kamal\"\n",
    "print(Name)"
   ]
  },
  {
   "cell_type": "markdown",
   "id": "ec63e5e7-f358-4971-a33e-efdae5e92379",
   "metadata": {},
   "source": [
    "# This is about introduction to Python Programming"
   ]
  },
  {
   "cell_type": "code",
   "execution_count": 4,
   "id": "9ac3cb20-3480-49ac-be2e-57f428b07598",
   "metadata": {},
   "outputs": [
    {
     "name": "stdout",
     "output_type": "stream",
     "text": [
      "53057\n"
     ]
    }
   ],
   "source": [
    "import os\n",
    "print(os.getpid())"
   ]
  },
  {
   "cell_type": "code",
   "execution_count": 1,
   "id": "804bc640-778a-46c5-a6aa-90ee029bc98a",
   "metadata": {},
   "outputs": [
    {
     "data": {
      "text/plain": [
       "b'\\n'"
      ]
     },
     "execution_count": 1,
     "metadata": {},
     "output_type": "execute_result"
    }
   ],
   "source": [
    "a = 10 # Creates instance of int class\n",
    "a.to_bytes()"
   ]
  },
  {
   "cell_type": "code",
   "execution_count": 10,
   "id": "8ccfd09a-0db4-4b3b-90b7-6253588ef61e",
   "metadata": {},
   "outputs": [
    {
     "name": "stdout",
     "output_type": "stream",
     "text": [
      "10\n",
      "10\n",
      "10\n",
      "1000000\n"
     ]
    }
   ],
   "source": [
    "# Numbers\n",
    "\n",
    "a = 10\n",
    "a = 0xa\n",
    "print(a)\n",
    "b = 0b1010\n",
    "print(b)\n",
    "c = 0o12\n",
    "print(c)\n",
    "\n",
    "sal = 1_000_000\n",
    "print(sal)"
   ]
  },
  {
   "cell_type": "code",
   "execution_count": 19,
   "id": "afbc0ca3-b074-4dc3-a28b-45fdbc04318b",
   "metadata": {},
   "outputs": [
    {
     "name": "stdout",
     "output_type": "stream",
     "text": [
      "Not\n",
      "Forward the request to CPU 0\n"
     ]
    }
   ],
   "source": [
    "year = 2021\n",
    "if year%4 == 0:\n",
    "    print(\"Leap year\")\n",
    "else:\n",
    "    print(\"Not\")\n",
    "\n",
    "req_id = 20\n",
    "num_cpus = 4 # 0,1,2,3\n",
    "process_id = req_id%num_cpus\n",
    "print(\"Forward the request to CPU\", process_id)"
   ]
  },
  {
   "cell_type": "code",
   "execution_count": 15,
   "id": "23432b90-01e4-4cf1-804f-b01c0178919c",
   "metadata": {},
   "outputs": [
    {
     "name": "stdout",
     "output_type": "stream",
     "text": [
      "2.0\n"
     ]
    }
   ],
   "source": [
    "num = 4**0.5 # to power\n",
    "print(num)"
   ]
  },
  {
   "cell_type": "code",
   "execution_count": 27,
   "id": "54cadfc1-86a7-41b4-aac7-04600a4f0f7f",
   "metadata": {},
   "outputs": [
    {
     "name": "stdout",
     "output_type": "stream",
     "text": [
      "-5\n",
      "1\n"
     ]
    }
   ],
   "source": [
    "num = -9\n",
    "import math\n",
    "print(math.floor(num/2))\n",
    "print(num//-5) # While accessing arrays/dataframes  l1 = [1,2,3], l1[1.5] : -1.1 (-1 or -2): floor(): ciel()"
   ]
  },
  {
   "cell_type": "code",
   "execution_count": null,
   "id": "0fc34574-52a9-478b-835c-33b05cfee1d0",
   "metadata": {},
   "outputs": [],
   "source": []
  }
 ],
 "metadata": {
  "kernelspec": {
   "display_name": "Python3 (DeepCode)",
   "language": "python",
   "name": "deepcode"
  },
  "language_info": {
   "codemirror_mode": {
    "name": "ipython",
    "version": 3
   },
   "file_extension": ".py",
   "mimetype": "text/x-python",
   "name": "python",
   "nbconvert_exporter": "python",
   "pygments_lexer": "ipython3",
   "version": "3.13.2"
  }
 },
 "nbformat": 4,
 "nbformat_minor": 5
}
