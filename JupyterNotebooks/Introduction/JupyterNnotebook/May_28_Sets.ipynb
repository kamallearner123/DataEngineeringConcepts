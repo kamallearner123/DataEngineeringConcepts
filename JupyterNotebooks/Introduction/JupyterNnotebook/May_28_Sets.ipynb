{
 "cells": [
  {
   "cell_type": "code",
   "execution_count": null,
   "id": "fad74912-29b0-4654-a5c3-b544393c2ede",
   "metadata": {},
   "outputs": [],
   "source": [
    "# Sets\n"
   ]
  },
  {
   "cell_type": "code",
   "execution_count": null,
   "id": "3fe40628-77ea-429e-9e7c-9cd6f3352015",
   "metadata": {},
   "outputs": [],
   "source": [
    "a = [\"1\",\"2\",\"3\"]\n",
    "b = [\"3\",\"4\",\"5\"]\n",
    "\n",
    "# Problem statements: Find common friends of \"a\" and \"b\"\n"
   ]
  },
  {
   "cell_type": "code",
   "execution_count": 1,
   "id": "d8742752-ff7f-43f6-86a9-6db895cf6328",
   "metadata": {},
   "outputs": [
    {
     "name": "stdout",
     "output_type": "stream",
     "text": [
      "{'3'}\n"
     ]
    }
   ],
   "source": [
    "a = set([\"1\",\"2\",\"3\"]) # converting : list -> Set\n",
    "b = set([\"3\",\"4\",\"5\"])\n",
    "\n",
    "common_friends = a & b # Intersection of a and b\n",
    "print(common_friends)\n"
   ]
  },
  {
   "cell_type": "code",
   "execution_count": 2,
   "id": "537cf643-96fc-46f2-b36e-f725a7a54b52",
   "metadata": {},
   "outputs": [
    {
     "name": "stdout",
     "output_type": "stream",
     "text": [
      "{'2', '4', '5', '1'}\n"
     ]
    }
   ],
   "source": [
    "a = set([\"1\",\"2\",\"3\"]) # converting : list -> Set\n",
    "b = set([\"3\",\"4\",\"5\"])\n",
    "\n",
    "not_common_friends = (a-b) | (b-a)\n",
    "print(not_common_friends)\n"
   ]
  },
  {
   "cell_type": "code",
   "execution_count": 3,
   "id": "2992b73b-8835-4c13-8465-e02312c86aa5",
   "metadata": {},
   "outputs": [
    {
     "name": "stdout",
     "output_type": "stream",
     "text": [
      "{1, 2, 3, 4, 5, 6, 7, 8}\n"
     ]
    }
   ],
   "source": [
    "#Sets: (un-Ordered collection of unique elements(immutable)) \n",
    "s1 = {1,2,3,4,5,6,7,8}\n",
    "print(s1)"
   ]
  },
  {
   "cell_type": "code",
   "execution_count": 5,
   "id": "634bc5a4-76ef-4903-97ee-ba3d282061fe",
   "metadata": {},
   "outputs": [
    {
     "name": "stdout",
     "output_type": "stream",
     "text": [
      "{1, 2, 3, 4, 5}\n"
     ]
    }
   ],
   "source": [
    "# Maintains unique elements\n",
    "s1 = {1,2,3,4,5,1,2,3,4}\n",
    "print(s1)"
   ]
  },
  {
   "cell_type": "code",
   "execution_count": 6,
   "id": "399adfa0-15ca-41f6-8a61-6492522a0187",
   "metadata": {},
   "outputs": [
    {
     "name": "stdout",
     "output_type": "stream",
     "text": [
      "{1, 2, 3, 4, 5}\n"
     ]
    }
   ],
   "source": [
    "# Un-ordered\n",
    "s1 = {5,1,2,3,4}\n",
    "print(s1)"
   ]
  },
  {
   "cell_type": "code",
   "execution_count": 9,
   "id": "f43ff258-df9a-4c33-8150-dd1d17ed2686",
   "metadata": {},
   "outputs": [
    {
     "name": "stdout",
     "output_type": "stream",
     "text": [
      "{None, 1, 2, 3, 'True', 5}\n"
     ]
    }
   ],
   "source": [
    "# Un-ordered\n",
    "s1 = {5,1,2,3,\"True\",True, None}\n",
    "print(s1)"
   ]
  },
  {
   "cell_type": "code",
   "execution_count": 11,
   "id": "d04b733e-b83f-407b-a4b0-3fd0423f18ef",
   "metadata": {},
   "outputs": [
    {
     "name": "stdout",
     "output_type": "stream",
     "text": [
      "set()\n",
      "{0.1, 0.3, 0.2}\n",
      "{0.1, 0.3, 0.2}\n"
     ]
    }
   ],
   "source": [
    "a = set([0.1,0.2,0.3]) # converting : list -> Set\n",
    "b = set([0.1,0.2,0.3])\n",
    "\n",
    "c = a-b\n",
    "print(c)\n",
    "print(a)\n",
    "print(b)"
   ]
  },
  {
   "cell_type": "code",
   "execution_count": 12,
   "id": "6cd65c83-7d1f-435a-9f7b-0b5b53d7c682",
   "metadata": {},
   "outputs": [
    {
     "name": "stdout",
     "output_type": "stream",
     "text": [
      "{'grapes', 'banana'}\n"
     ]
    }
   ],
   "source": [
    "# Remove duplicate entries from a given list\n",
    "items = [\"banana\", \"grapes\", \"banana\"]\n",
    "unique_items = set(items)\n",
    "print(unique_items)"
   ]
  },
  {
   "cell_type": "code",
   "execution_count": 13,
   "id": "cdf8a14b-5fff-487b-b44c-a931c41ef2f3",
   "metadata": {},
   "outputs": [
    {
     "name": "stdout",
     "output_type": "stream",
     "text": [
      "{'grapes', 'banana'}\n",
      "['grapes', 'banana']\n"
     ]
    }
   ],
   "source": [
    "# Remove duplicate entries from a given list\n",
    "items = [\"banana\", \"grapes\", \"banana\"]\n",
    "unique_items = set(items)\n",
    "print(unique_items)\n",
    "items = list(unique_items)\n",
    "print(items)"
   ]
  },
  {
   "cell_type": "code",
   "execution_count": 14,
   "id": "d82418af-504d-4ada-995d-0e5420e45ae2",
   "metadata": {},
   "outputs": [
    {
     "name": "stdout",
     "output_type": "stream",
     "text": [
      "{'e', ' ', 'l', 'w', 'd', 'o', 'H', 'r'}\n"
     ]
    }
   ],
   "source": [
    "s1 = set(\"Hello world\")\n",
    "print(s1)\n"
   ]
  },
  {
   "cell_type": "code",
   "execution_count": 15,
   "id": "bd624f00-c2f0-4972-94f3-7231ae30c1d4",
   "metadata": {},
   "outputs": [
    {
     "name": "stdout",
     "output_type": "stream",
     "text": [
      "{'grapes', 'banana'}\n"
     ]
    },
    {
     "ename": "TypeError",
     "evalue": "'set' object is not subscriptable",
     "output_type": "error",
     "traceback": [
      "\u001b[31m---------------------------------------------------------------------------\u001b[39m",
      "\u001b[31mTypeError\u001b[39m                                 Traceback (most recent call last)",
      "\u001b[36mCell\u001b[39m\u001b[36m \u001b[39m\u001b[32mIn[15]\u001b[39m\u001b[32m, line 5\u001b[39m\n\u001b[32m      3\u001b[39m unique_items = \u001b[38;5;28mset\u001b[39m(items)\n\u001b[32m      4\u001b[39m \u001b[38;5;28mprint\u001b[39m(unique_items)\n\u001b[32m----> \u001b[39m\u001b[32m5\u001b[39m \u001b[38;5;28mprint\u001b[39m(\u001b[43munique_items\u001b[49m\u001b[43m[\u001b[49m\u001b[32;43m0\u001b[39;49m\u001b[43m]\u001b[49m)\n",
      "\u001b[31mTypeError\u001b[39m: 'set' object is not subscriptable"
     ]
    }
   ],
   "source": [
    "# Remove duplicate entries from a given list\n",
    "items = [\"banana\", \"grapes\", \"banana\"]\n",
    "unique_items = set(items)\n",
    "print(unique_items)\n",
    "print(unique_items[0]) # ERROR"
   ]
  },
  {
   "cell_type": "code",
   "execution_count": 16,
   "id": "11ed57d2-3aa0-4848-a31d-815086eb9cf2",
   "metadata": {},
   "outputs": [
    {
     "name": "stdout",
     "output_type": "stream",
     "text": [
      "{'grapes', 'banana'}\n",
      "grapes\n",
      "banana\n"
     ]
    }
   ],
   "source": [
    "# Remove duplicate entries from a given list\n",
    "items = [\"banana\", \"grapes\", \"banana\"]\n",
    "unique_items = set(items)\n",
    "print(unique_items)\n",
    "for item in unique_items:\n",
    "    print(item)"
   ]
  },
  {
   "cell_type": "code",
   "execution_count": 17,
   "id": "28d32ae8-a890-49a7-bba1-a2998eee4d41",
   "metadata": {},
   "outputs": [
    {
     "name": "stdout",
     "output_type": "stream",
     "text": [
      "set()\n"
     ]
    }
   ],
   "source": [
    "unique_items.clear()\n",
    "print(unique_items)"
   ]
  },
  {
   "cell_type": "code",
   "execution_count": 18,
   "id": "f34f18fa-cf83-4402-9a15-d15387810234",
   "metadata": {},
   "outputs": [
    {
     "name": "stdout",
     "output_type": "stream",
     "text": [
      "Yes...\n"
     ]
    }
   ],
   "source": [
    "items = [\"banana\", \"grapes\", \"banana\"]\n",
    "unique_items = set(items)\n",
    "\n",
    "if 'banana' in unique_items:\n",
    "    print(\"Yes...\")"
   ]
  },
  {
   "cell_type": "code",
   "execution_count": 19,
   "id": "a744804b-90e2-49c3-8c35-c20495977b92",
   "metadata": {},
   "outputs": [
    {
     "name": "stdout",
     "output_type": "stream",
     "text": [
      " Union of a union b: {'3', '1', '2', '4', '5'}\n"
     ]
    }
   ],
   "source": [
    "a = set([\"1\",\"2\",\"3\"])\n",
    "b = set([\"3\",\"4\",\"5\"])\n",
    "\n",
    "print(f\" Union of a union b: {a | b}\")\n"
   ]
  },
  {
   "cell_type": "code",
   "execution_count": 20,
   "id": "8fe895ec-46d9-4f46-8795-a32cdea824fb",
   "metadata": {},
   "outputs": [
    {
     "name": "stdout",
     "output_type": "stream",
     "text": [
      "{'1', '2', '4', '5'}\n"
     ]
    }
   ],
   "source": [
    "a = set([\"1\",\"2\",\"3\"]) # converting : list -> Set\n",
    "b = set([\"3\",\"4\",\"5\"])\n",
    "\n",
    "not_common_friends = a ^ b\n",
    "print(not_common_friends)"
   ]
  },
  {
   "cell_type": "code",
   "execution_count": 22,
   "id": "0b5a6bd0-4bfa-422c-97cd-09b334d1c8f7",
   "metadata": {},
   "outputs": [
    {
     "name": "stdout",
     "output_type": "stream",
     "text": [
      "True\n",
      "True\n"
     ]
    }
   ],
   "source": [
    "a = set([\"1\",\"2\",\"3\"])\n",
    "b = set([\"1\",\"2\",\"3\",\"4\",\"5\"])\n",
    "print(a.issubset(b))\n",
    "print(b.issuperset(a))"
   ]
  },
  {
   "cell_type": "code",
   "execution_count": 24,
   "id": "324b492d-c3f8-4699-8c32-0c25429f378f",
   "metadata": {},
   "outputs": [
    {
     "name": "stdout",
     "output_type": "stream",
     "text": [
      "{'1', '3'}\n",
      "{'4', '1', '3'}\n"
     ]
    }
   ],
   "source": [
    "a = set([\"1\",\"2\",\"3\"])\n",
    "a.pop()\n",
    "print(a)\n",
    "a.add(\"4\")\n",
    "print(a)"
   ]
  },
  {
   "cell_type": "code",
   "execution_count": 28,
   "id": "bbfc35b3-4c68-4b49-ae08-acfc68ab7c5e",
   "metadata": {},
   "outputs": [
    {
     "name": "stdout",
     "output_type": "stream",
     "text": [
      "{'2', '1', '3'}\n",
      "{'1', '2', '4', '3', '5'}\n",
      "{'2', '1', '3'}\n"
     ]
    }
   ],
   "source": [
    "a = set([\"1\",\"2\",\"3\"])\n",
    "b = set([\"1\",\"2\",\"3\",\"4\",\"5\"])\n",
    "result = a.intersection(b) # a & b\n",
    "print(result)\n",
    "result = a.union(b) # a & b\n",
    "print(result)\n",
    "a.intersection_update(b) # Calling member function \"intersection_update\" from \"set\" object (class)\n",
    "print(a)"
   ]
  },
  {
   "cell_type": "code",
   "execution_count": null,
   "id": "60d8d910-518f-451d-9a42-dde666e8fee3",
   "metadata": {},
   "outputs": [],
   "source": []
  }
 ],
 "metadata": {
  "kernelspec": {
   "display_name": "Python3 (DeepCode)",
   "language": "python",
   "name": "deepcode"
  },
  "language_info": {
   "codemirror_mode": {
    "name": "ipython",
    "version": 3
   },
   "file_extension": ".py",
   "mimetype": "text/x-python",
   "name": "python",
   "nbconvert_exporter": "python",
   "pygments_lexer": "ipython3",
   "version": "3.13.3"
  }
 },
 "nbformat": 4,
 "nbformat_minor": 5
}
