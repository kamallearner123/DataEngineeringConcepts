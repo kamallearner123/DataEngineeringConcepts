{
 "cells": [
  {
   "cell_type": "code",
   "execution_count": null,
   "id": "abfc4f13-0ac1-4cd3-814e-a7b3206a757f",
   "metadata": {},
   "outputs": [],
   "source": []
  },
  {
   "cell_type": "code",
   "execution_count": 1,
   "id": "33db82a1-4071-4302-b882-25034ca7d966",
   "metadata": {},
   "outputs": [
    {
     "name": "stdout",
     "output_type": "stream",
     "text": [
      "<class 'list'>\n"
     ]
    }
   ],
   "source": [
    "l1 = []\n",
    "print(type(l1))\n"
   ]
  },
  {
   "cell_type": "code",
   "execution_count": 2,
   "id": "f7d98b23-120b-4c64-99f8-af607c6b13e1",
   "metadata": {},
   "outputs": [
    {
     "name": "stdout",
     "output_type": "stream",
     "text": [
      "<class 'list'>\n"
     ]
    }
   ],
   "source": [
    "l1 = [2]\n",
    "print(type(l1))"
   ]
  },
  {
   "cell_type": "code",
   "execution_count": 7,
   "id": "48ca020c-7f02-4a34-9a0b-12984f0ed04c",
   "metadata": {},
   "outputs": [
    {
     "name": "stdout",
     "output_type": "stream",
     "text": [
      "0\n",
      "5\n"
     ]
    }
   ],
   "source": [
    "# Print all odd numbers 0 - 100\n",
    "for num in range(0,10,5): # range(start,end,inc)\n",
    "    print(num)"
   ]
  },
  {
   "cell_type": "code",
   "execution_count": 9,
   "id": "f64578c0-b03e-414f-bc99-f79cb45b2a00",
   "metadata": {},
   "outputs": [
    {
     "name": "stdout",
     "output_type": "stream",
     "text": [
      "range(0, 10)\n"
     ]
    }
   ],
   "source": [
    "l1 = range(0,10)\n",
    "print(l1)"
   ]
  },
  {
   "cell_type": "code",
   "execution_count": 10,
   "id": "03a88a7f-75d1-4b74-9800-095c27dd8cf9",
   "metadata": {},
   "outputs": [
    {
     "name": "stdout",
     "output_type": "stream",
     "text": [
      "[0, 1, 2, 3, 4, 5, 6, 7, 8, 9]\n"
     ]
    }
   ],
   "source": [
    "l1 = list(range(0,10))\n",
    "print(l1)"
   ]
  },
  {
   "cell_type": "code",
   "execution_count": 13,
   "id": "23061aea-2950-4da9-bd53-f0b8b6ad0e73",
   "metadata": {},
   "outputs": [
    {
     "name": "stdout",
     "output_type": "stream",
     "text": [
      "1\n",
      "2\n",
      "3\n",
      "4\n"
     ]
    }
   ],
   "source": [
    "l1 = [1,2,3,4]\n",
    "for num in l1:\n",
    "    print(num)"
   ]
  },
  {
   "cell_type": "code",
   "execution_count": 14,
   "id": "273f97a5-b28c-46cb-858f-200107d1cf14",
   "metadata": {},
   "outputs": [
    {
     "name": "stdout",
     "output_type": "stream",
     "text": [
      "4\n",
      "3\n",
      "2\n",
      "1\n"
     ]
    }
   ],
   "source": [
    "l1 = [1,2,3,4]\n",
    "for num in l1[::-1]: # Reverse\n",
    "    print(num)"
   ]
  },
  {
   "cell_type": "code",
   "execution_count": 15,
   "id": "198f1839-4619-463f-b9ac-bbda8b3a0fcc",
   "metadata": {},
   "outputs": [
    {
     "name": "stdout",
     "output_type": "stream",
     "text": [
      "4\n",
      "2\n"
     ]
    }
   ],
   "source": [
    "l1 = [1,2,3,4]\n",
    "for num in l1[::-2]: # Reverse+alternative elements\n",
    "    print(num)"
   ]
  },
  {
   "cell_type": "code",
   "execution_count": null,
   "id": "c943b8e3-15e9-4f29-a8ba-6f05535ff6d1",
   "metadata": {},
   "outputs": [],
   "source": [
    "# Methods which manipulates content in the list"
   ]
  },
  {
   "cell_type": "code",
   "execution_count": 17,
   "id": "eaf5654b-4ebc-4843-90b8-dac9e8287d43",
   "metadata": {},
   "outputs": [
    {
     "name": "stdout",
     "output_type": "stream",
     "text": [
      "[-10, 1.7, 5, 7, 12]\n",
      "[-10, 1.7, 5, 7, 12]\n"
     ]
    }
   ],
   "source": [
    "l1 = [12, 5, 7, -10, 1.7]\n",
    "l1.sort()\n",
    "print(l1)\n",
    "print(l1)"
   ]
  },
  {
   "cell_type": "code",
   "execution_count": 19,
   "id": "28155c48-b238-41c3-b523-b39702b8e4f3",
   "metadata": {},
   "outputs": [
    {
     "name": "stdout",
     "output_type": "stream",
     "text": [
      "After sort:  [-10, 1.7, 5, 7, 12]\n",
      "Original content: [12, 5, 7, -10, 1.7]\n"
     ]
    }
   ],
   "source": [
    "l1 = [12, 5, 7, -10, 1.7]\n",
    "original = l1.copy()\n",
    "l1.sort()\n",
    "print(\"After sort: \",l1)\n",
    "print(\"Original content:\", original)\n"
   ]
  },
  {
   "cell_type": "code",
   "execution_count": 20,
   "id": "6df206c0-6afe-4bab-be5d-479a6c53867a",
   "metadata": {},
   "outputs": [
    {
     "name": "stdout",
     "output_type": "stream",
     "text": [
      "After sort:  [-10, 1.7, 5, 7, 12]\n",
      "Original content: [-10, 1.7, 5, 7, 12]\n"
     ]
    }
   ],
   "source": [
    "l1 = [12, 5, 7, -10, 1.7]\n",
    "original = l1 # Not using .copy(). Getting reference to l1\n",
    "l1.sort()\n",
    "print(\"After sort: \",l1)\n",
    "print(\"Original content:\", original)\n"
   ]
  },
  {
   "cell_type": "code",
   "execution_count": 24,
   "id": "643e23be-4364-4852-92b6-d31be3a54dab",
   "metadata": {},
   "outputs": [
    {
     "name": "stdout",
     "output_type": "stream",
     "text": [
      "l1= [1, 2, 3, [40, 50, 60]], id of l1 = 4442360128\n",
      "l2= [1, 2, 3, [40, 50, 60]], id of l2 = 4442362432\n",
      "l1[3] = [40, 50, 60]\n",
      "l1[3][2] = 60\n"
     ]
    }
   ],
   "source": [
    "l1 = [1,2,3, [40,50,60]]\n",
    "l2 = l1.copy()\n",
    "print(f\"l1= {l1}, id of l1 = {id(l1)}\")\n",
    "print(f\"l2= {l2}, id of l2 = {id(l2)}\")\n",
    "\n",
    "print(\"l1[3] =\", l1[3])\n",
    "print(\"l1[3][2] =\", l1[3][2])"
   ]
  },
  {
   "cell_type": "code",
   "execution_count": 31,
   "id": "92c3dc3c-d92a-4d71-a8e6-c2bd7d593881",
   "metadata": {},
   "outputs": [
    {
     "name": "stdout",
     "output_type": "stream",
     "text": [
      "l1 =  [100, 2, 3, [40, 50, 60]]\n",
      "l2 =  [1, 2, 3, [40, 50, 60]]\n",
      "Modifying nested list\n",
      "l1 =  [100, 2, 3, [40, 50, 600]]\n",
      "l2 =  [1, 2, 3, [40, 50, 600]]\n"
     ]
    }
   ],
   "source": [
    "l1 = [1,2,3, [40,50,60]]\n",
    "l2 = l1.copy()\n",
    "\n",
    "l1[0] = 100 # Valid, modifying at location 0\n",
    "print(\"l1 = \", l1)\n",
    "print(\"l2 = \", l2)\n",
    "\n",
    "print(\"Modifying nested list\")\n",
    "l1[3][2] = 600\n",
    "print(\"l1 = \", l1) #[100, 2, 3, [40, 50, 600]]\n",
    "print(\"l2 = \", l2) #[1, 2, 3, [40, 50, 60]]\n"
   ]
  },
  {
   "cell_type": "code",
   "execution_count": 28,
   "id": "1605074c-d9fd-4e4c-b9ee-8f8d0db09710",
   "metadata": {},
   "outputs": [
    {
     "name": "stdout",
     "output_type": "stream",
     "text": [
      "h\n"
     ]
    },
    {
     "ename": "TypeError",
     "evalue": "'str' object does not support item assignment",
     "output_type": "error",
     "traceback": [
      "\u001b[31m---------------------------------------------------------------------------\u001b[39m",
      "\u001b[31mTypeError\u001b[39m                                 Traceback (most recent call last)",
      "\u001b[36mCell\u001b[39m\u001b[36m \u001b[39m\u001b[32mIn[28]\u001b[39m\u001b[32m, line 3\u001b[39m\n\u001b[32m      1\u001b[39m s1=\u001b[33m\"\u001b[39m\u001b[33mhello\u001b[39m\u001b[33m\"\u001b[39m\n\u001b[32m      2\u001b[39m \u001b[38;5;28mprint\u001b[39m(s1[\u001b[32m0\u001b[39m])\n\u001b[32m----> \u001b[39m\u001b[32m3\u001b[39m \u001b[43ms1\u001b[49m\u001b[43m[\u001b[49m\u001b[32;43m0\u001b[39;49m\u001b[43m]\u001b[49m = \u001b[33m'\u001b[39m\u001b[33mH\u001b[39m\u001b[33m'\u001b[39m\n",
      "\u001b[31mTypeError\u001b[39m: 'str' object does not support item assignment"
     ]
    }
   ],
   "source": [
    "s1=\"hello\"\n",
    "print(s1[0])\n",
    "#s1[0] = 'H' : Invalid"
   ]
  },
  {
   "cell_type": "code",
   "execution_count": 32,
   "id": "67bb1e63-dac7-4133-85cc-a053a0f1d628",
   "metadata": {},
   "outputs": [
    {
     "name": "stdout",
     "output_type": "stream",
     "text": [
      "Modifying nested list\n",
      "l1 =  [1, 2, 3, [40, 50, 600]]\n",
      "l2 =  [1, 2, 3, [40, 50, 60]]\n"
     ]
    }
   ],
   "source": [
    "import copy # Importing module name \"copy\"\n",
    "l1 = [1,2,3, [40,50,60]]\n",
    "l2 = copy.deepcopy(l1)\n",
    "\n",
    "\n",
    "print(\"Modifying nested list\")\n",
    "l1[3][2] = 600\n",
    "print(\"l1 = \", l1) #[100, 2, 3, [40, 50, 600]]\n",
    "print(\"l2 = \", l2) #[1, 2, 3, [40, 50, 60]]\n"
   ]
  },
  {
   "cell_type": "code",
   "execution_count": 34,
   "id": "6630d94c-09ed-42f6-a02c-aecee0d4c047",
   "metadata": {},
   "outputs": [
    {
     "name": "stdout",
     "output_type": "stream",
     "text": [
      "[1, 2, 3, 4, 5]\n",
      "[1, 2, 3, 300, 4, 5]\n"
     ]
    }
   ],
   "source": [
    "l1 = [1,2,3,4]\n",
    "l1.append(5) # Adding the new element at tail\n",
    "print(l1)\n",
    "l1.insert(3, 300)\n",
    "print(l1)"
   ]
  },
  {
   "cell_type": "code",
   "execution_count": 37,
   "id": "56a96b66-4ca0-49ba-92d6-bca3f39d2f6d",
   "metadata": {},
   "outputs": [
    {
     "name": "stdout",
     "output_type": "stream",
     "text": [
      "[1, 2, 3]\n",
      "4\n"
     ]
    }
   ],
   "source": [
    "l1 = [1,2,3,4]\n",
    "removed_element = l1.pop()\n",
    "print(l1)\n",
    "print(removed_element)"
   ]
  },
  {
   "cell_type": "code",
   "execution_count": 40,
   "id": "a43cfef5-40cf-4dcb-b229-7e308d31e828",
   "metadata": {},
   "outputs": [
    {
     "name": "stdout",
     "output_type": "stream",
     "text": [
      "['url1']\n",
      "['url1', 'url2', 'url3', 'url4', 'url5']\n"
     ]
    }
   ],
   "source": [
    "# Let us implement URL caching\n",
    "urls = []\n",
    "urls.append(\"url1\") # 10:00\n",
    "print(urls)\n",
    "urls.append(\"url2\") # 11:00\n",
    "urls.append(\"url3\")\n",
    "urls.append(\"url4\")\n",
    "urls.append(\"url5\")\n",
    "urls.append(\"url6\") # \n",
    "urls.pop()\n",
    "print(urls)"
   ]
  },
  {
   "cell_type": "code",
   "execution_count": 41,
   "id": "b5fa391c-39f2-41a8-87d2-7df471dfc8e3",
   "metadata": {},
   "outputs": [
    {
     "name": "stdout",
     "output_type": "stream",
     "text": [
      "['url1']\n",
      "['url6', 'url5', 'url4', 'url3', 'url2']\n"
     ]
    }
   ],
   "source": [
    "# Let us implement URL caching using Queue (LRU)\n",
    "urls = []\n",
    "urls.insert(0, \"url1\") # 10:00\n",
    "print(urls)\n",
    "urls.insert(0, \"url2\") # 11:00\n",
    "urls.insert(0, \"url3\")\n",
    "urls.insert(0, \"url4\")\n",
    "urls.insert(0, \"url5\")\n",
    "urls.insert(0, \"url6\") # \n",
    "urls.pop()\n",
    "print(urls)"
   ]
  },
  {
   "cell_type": "code",
   "execution_count": 43,
   "id": "67cb9517-c7c0-44b3-a30c-43d5863e795a",
   "metadata": {},
   "outputs": [
    {
     "name": "stdout",
     "output_type": "stream",
     "text": [
      "['url1']\n",
      "['url6', 'url5', 'url4', 'url3', 'url2']\n",
      "[]\n",
      "['url7']\n"
     ]
    }
   ],
   "source": [
    "# Let us implement URL caching using Queue (LRU)\n",
    "urls = []\n",
    "urls.insert(0, \"url1\") # 10:00\n",
    "print(urls)\n",
    "urls.insert(0, \"url2\") # 11:00\n",
    "urls.insert(0, \"url3\")\n",
    "urls.insert(0, \"url4\")\n",
    "urls.insert(0, \"url5\")\n",
    "urls.insert(0, \"url6\") # \n",
    "urls.pop()\n",
    "print(urls)\n",
    "urls.clear() # Clean all the elements\n",
    "print(urls)\n",
    "urls.insert(0, \"url7\")\n",
    "print(urls)"
   ]
  },
  {
   "cell_type": "code",
   "execution_count": 44,
   "id": "a0086f8a-d078-4af1-ae51-c298fda7d83d",
   "metadata": {},
   "outputs": [
    {
     "name": "stdout",
     "output_type": "stream",
     "text": [
      "[5, 4, 3, 2, 1]\n"
     ]
    }
   ],
   "source": [
    "l1 = [1, 2, 3, 4, 5]\n",
    "l1.reverse()\n",
    "print(l1)"
   ]
  },
  {
   "cell_type": "code",
   "execution_count": 49,
   "id": "3de0a1ad-7e8c-4dca-ba0a-c4d760081908",
   "metadata": {},
   "outputs": [
    {
     "name": "stdout",
     "output_type": "stream",
     "text": [
      "['url1']\n",
      "Before calling remove: ['url4', 'url6', 'url5', 'url4', 'url3', 'url2', 'url1']\n",
      "After removing all elemet url4: ['url6', 'url5', 'url3', 'url2', 'url1']\n"
     ]
    }
   ],
   "source": [
    "# Let us implement URL caching using Queue (LRU)\n",
    "urls = []\n",
    "urls.insert(0, \"url1\") # 10:00\n",
    "print(urls)\n",
    "urls.insert(0, \"url2\") # 11:00\n",
    "urls.insert(0, \"url3\")\n",
    "urls.insert(0, \"url4\")\n",
    "urls.insert(0, \"url5\")\n",
    "urls.insert(0, \"url6\")\n",
    "urls.insert(0, \"url4\")\n",
    "print(\"Before calling remove:\", urls)\n",
    "\n",
    "while \"url4\" in urls: # checking is \"urls4\" there in urls\n",
    "    urls.remove(\"url4\")\n",
    "print(\"After removing all elemet url4:\", urls)"
   ]
  },
  {
   "cell_type": "code",
   "execution_count": 51,
   "id": "83107bd3-80cf-4a6e-baec-8f26a512037d",
   "metadata": {},
   "outputs": [
    {
     "name": "stdout",
     "output_type": "stream",
     "text": [
      "['apple', 'banana', 'grapes', 'pineapple']\n",
      "['apple', 'banana']\n",
      "['grapes', 'pineapple']\n"
     ]
    }
   ],
   "source": [
    "items1 = [\"apple\", \"banana\"]\n",
    "items2 = [\"grapes\", \"pineapple\"]\n",
    "fruits = items1+items2 # calling operator overloading function __add__ on class list\n",
    "print(fruits)\n",
    "print(items1)\n",
    "print(items2)"
   ]
  },
  {
   "cell_type": "code",
   "execution_count": 52,
   "id": "5451e39d-935d-4776-9baa-f9af67e3382a",
   "metadata": {},
   "outputs": [
    {
     "name": "stdout",
     "output_type": "stream",
     "text": [
      "['apple', 'banana', 'grapes', 'pineapple']\n"
     ]
    }
   ],
   "source": [
    "fruits = [\"apple\", \"banana\"]\n",
    "new_fruits = [\"grapes\", \"pineapple\"]\n",
    "fruits.extend(new_fruits)\n",
    "print(fruits)"
   ]
  },
  {
   "cell_type": "code",
   "execution_count": 56,
   "id": "46b882e1-23ea-4b02-b201-86a56bb95966",
   "metadata": {},
   "outputs": [
    {
     "name": "stdout",
     "output_type": "stream",
     "text": [
      "['url1']\n",
      "['url4', 'url6', 'url5', 'url4', 'url3', 'url2', 'url1']\n",
      "How many times url4 is accessed =  2\n",
      "index of first occurance of url4 is  =  4\n"
     ]
    }
   ],
   "source": [
    "urls = []\n",
    "urls.insert(0, \"url1\") # 10:00\n",
    "print(urls)\n",
    "urls.insert(0, \"url2\") # 11:00\n",
    "urls.insert(0, \"url3\")\n",
    "urls.insert(0, \"url4\")\n",
    "urls.insert(0, \"url5\")\n",
    "urls.insert(0, \"url6\")\n",
    "urls.insert(0, \"url4\")\n",
    "print(urls)\n",
    "print(\"How many times url4 is accessed = \", urls.count(\"url4\"))\n",
    "print(\"index of first occurance of url4 is  = \", urls.index(\"url3\"))\n"
   ]
  },
  {
   "cell_type": "code",
   "execution_count": 57,
   "id": "26820125-3a3a-4f1f-ac1f-cda8be69abcb",
   "metadata": {},
   "outputs": [
    {
     "name": "stdout",
     "output_type": "stream",
     "text": [
      "[1, 2, 3]\n"
     ]
    }
   ],
   "source": [
    "\n",
    "def get_list():\n",
    "    return [1,2,3]\n",
    "\n",
    "l1 = get_list()\n",
    "print(l1)\n"
   ]
  },
  {
   "cell_type": "code",
   "execution_count": 58,
   "id": "32e04fbb-d0b0-447d-a58e-9a3095d77ee8",
   "metadata": {},
   "outputs": [
    {
     "name": "stdout",
     "output_type": "stream",
     "text": [
      "[1, 3]\n"
     ]
    }
   ],
   "source": [
    "urls = [\"url1\", \"url2\", \"url3\", \"url2\"]\n",
    "\n",
    "def get_offsets_url(url_list, url_find):\n",
    "    '''\n",
    "    url_list : list of urls\n",
    "    url_find : url name to search\n",
    "    Return: list of offset when url_find is there\n",
    "    '''\n",
    "    offsets = [] # 1. empty list\n",
    "    \n",
    "    offset = 0 # 0,1, 2\n",
    "    for url in urls:\n",
    "        if url == url_find:\n",
    "            offsets.append(offset) # [1,3]\n",
    "\n",
    "        offset += 1\n",
    "    return offsets\n",
    "    \n",
    "\n",
    "l1 = get_offsets_url(urls, \"url2\")\n",
    "print(l1)"
   ]
  },
  {
   "cell_type": "code",
   "execution_count": 60,
   "id": "dcab16a2-479c-4366-8cd5-54aca8f4aa5b",
   "metadata": {},
   "outputs": [
    {
     "name": "stdout",
     "output_type": "stream",
     "text": [
      "[1, 2, 3]\n",
      "(1, 2, 3)\n"
     ]
    },
    {
     "ename": "TypeError",
     "evalue": "'tuple' object does not support item assignment",
     "output_type": "error",
     "traceback": [
      "\u001b[31m---------------------------------------------------------------------------\u001b[39m",
      "\u001b[31mTypeError\u001b[39m                                 Traceback (most recent call last)",
      "\u001b[36mCell\u001b[39m\u001b[36m \u001b[39m\u001b[32mIn[60]\u001b[39m\u001b[32m, line 8\u001b[39m\n\u001b[32m      5\u001b[39m \u001b[38;5;28mprint\u001b[39m(t1)\n\u001b[32m      7\u001b[39m l1[\u001b[32m0\u001b[39m] = \u001b[32m100\u001b[39m\n\u001b[32m----> \u001b[39m\u001b[32m8\u001b[39m \u001b[43mt1\u001b[49m\u001b[43m[\u001b[49m\u001b[32;43m0\u001b[39;49m\u001b[43m]\u001b[49m = \u001b[32m100\u001b[39m\n",
      "\u001b[31mTypeError\u001b[39m: 'tuple' object does not support item assignment"
     ]
    }
   ],
   "source": [
    "# Tuple\n",
    "l1 = [1,2,3] # list\n",
    "t1 = tuple(l1) # tuple\n",
    "print(l1)\n",
    "print(t1)\n",
    "\n",
    "l1[0] = 100\n",
    "t1[0] = 100"
   ]
  },
  {
   "cell_type": "code",
   "execution_count": 63,
   "id": "f396bc13-8b34-49cc-844c-baee096d80e7",
   "metadata": {},
   "outputs": [
    {
     "name": "stdout",
     "output_type": "stream",
     "text": [
      "60\n",
      "(1, 2, 3, [40, 50, 600])\n"
     ]
    }
   ],
   "source": [
    "t1 = (1,2,3)\n",
    "#t1[0] = 100 # ERROR\n",
    "t2 = (1,2,3, [40,50,60])\n",
    "print(t2[3][2])\n",
    "t2[3][2] = 600 # ????\n",
    "print(t2)"
   ]
  },
  {
   "cell_type": "code",
   "execution_count": 3,
   "id": "623f89d5-bd90-4721-a92c-73815b0aeaa0",
   "metadata": {},
   "outputs": [
    {
     "name": "stdout",
     "output_type": "stream",
     "text": [
      "800\n"
     ]
    },
    {
     "ename": "NameError",
     "evalue": "name 't1' is not defined",
     "output_type": "error",
     "traceback": [
      "\u001b[31m---------------------------------------------------------------------------\u001b[39m",
      "\u001b[31mNameError\u001b[39m                                 Traceback (most recent call last)",
      "\u001b[36mCell\u001b[39m\u001b[36m \u001b[39m\u001b[32mIn[3]\u001b[39m\u001b[32m, line 7\u001b[39m\n\u001b[32m      4\u001b[39m \u001b[38;5;28mprint\u001b[39m(t2[\u001b[32m3\u001b[39m][\u001b[32m3\u001b[39m][\u001b[32m1\u001b[39m])\n\u001b[32m      6\u001b[39m \u001b[38;5;28;01mdel\u001b[39;00m t1 \u001b[38;5;66;03m# Deallocating memory of t1\u001b[39;00m\n\u001b[32m----> \u001b[39m\u001b[32m7\u001b[39m \u001b[38;5;28mprint\u001b[39m(\u001b[43mt1\u001b[49m)\n",
      "\u001b[31mNameError\u001b[39m: name 't1' is not defined"
     ]
    }
   ],
   "source": [
    "t1 = (1,2,3)\n",
    "#t1[0] = 100 # ERROR\n",
    "t2 = (1,2,3, [40,50,60, (700, 800)])\n",
    "print(t2[3][3][1])\n",
    "\n",
    "del t1 # Deallocating memory of t1\n",
    "print(t1)\n",
    "\n",
    "\n",
    "\n",
    "\n"
   ]
  },
  {
   "cell_type": "code",
   "execution_count": 4,
   "id": "3afcad25-9511-48f6-bc39-097f530b27f0",
   "metadata": {},
   "outputs": [
    {
     "name": "stdout",
     "output_type": "stream",
     "text": [
      "Yeh... 1 is there in nums\n"
     ]
    }
   ],
   "source": [
    "\n",
    "\n",
    "nums = (1,2,3)\n",
    "if 1 in nums:\n",
    "    print(\"Yeh... 1 is there in nums\")"
   ]
  },
  {
   "cell_type": "code",
   "execution_count": 5,
   "id": "8130a1a5-bfb6-4eed-b385-fc2cba1d2b7e",
   "metadata": {},
   "outputs": [
    {
     "name": "stdout",
     "output_type": "stream",
     "text": [
      "Yeh... 1 is there in nums\n"
     ]
    }
   ],
   "source": [
    "\n",
    "nums = [1,2,3]\n",
    "if 1 in nums:\n",
    "    print(\"Yeh... 1 is there in nums\")"
   ]
  },
  {
   "cell_type": "code",
   "execution_count": 7,
   "id": "77e8312f-8d38-4970-831b-cbeaf420eeba",
   "metadata": {},
   "outputs": [
    {
     "name": "stdout",
     "output_type": "stream",
     "text": [
      "(4, 8)\n",
      "<class 'tuple'>\n"
     ]
    }
   ],
   "source": [
    "\n",
    "def math(num):\n",
    "    return num**2, num**3 # value1, value2\n",
    "\n",
    "a = 2\n",
    "result = math(a)\n",
    "print(result)\n",
    "print(type(result))\n"
   ]
  },
  {
   "cell_type": "code",
   "execution_count": 8,
   "id": "632a59a7-55c5-4cbd-91f9-248d69c91b54",
   "metadata": {},
   "outputs": [
    {
     "name": "stdout",
     "output_type": "stream",
     "text": [
      " 1 is repeated for 2\n"
     ]
    }
   ],
   "source": [
    "nums = (1,2,3,1)\n",
    "print(f\" 1 is repeated for {nums.count(1)}\")\n",
    "\n",
    "\n"
   ]
  },
  {
   "cell_type": "code",
   "execution_count": 12,
   "id": "87ea5752-5cff-457c-a6ea-380c678f3c2d",
   "metadata": {},
   "outputs": [
    {
     "name": "stdout",
     "output_type": "stream",
     "text": [
      "<class 'tuple'>\n",
      "(1, 2, 3, 4)\n",
      "(1, 2, 3, 4)\n"
     ]
    }
   ],
   "source": [
    "\n",
    "\n",
    "\n",
    "l1 = [1,2,3,4] # Locking data \n",
    "t1 = tuple(l1)\n",
    "del l1\n",
    "print(type(t1))\n",
    "print(t1)\n",
    "\n",
    "l1 = list(t1) # Is it allowed ?\n",
    "print(t1)\n",
    "\n",
    "\n"
   ]
  },
  {
   "cell_type": "code",
   "execution_count": 20,
   "id": "c5596e33-5db8-43b0-84e8-f3815f657858",
   "metadata": {},
   "outputs": [
    {
     "name": "stdout",
     "output_type": "stream",
     "text": [
      "Fun: ops\n",
      "[1, 2, 3, 4]\n",
      "[1, 2, 3, 400]\n"
     ]
    }
   ],
   "source": [
    "# Library\n",
    "def ops(data):\n",
    "    print(\"Fun: ops\")\n",
    "    print(data)\n",
    "    data[3] = 400\n",
    "    \n",
    "\n",
    "# Main application\n",
    "l1 = [1,2,3,4] # Locking data \n",
    "t1 = tuple(l1)\n",
    "\n",
    "# calling third party function and passing tuple\n",
    "ops(l1) # Data: Read+Write\n",
    "print(l1)\n",
    "\n"
   ]
  },
  {
   "cell_type": "code",
   "execution_count": 19,
   "id": "c43ba50c-e3fe-4f15-b250-f8139d2faa93",
   "metadata": {},
   "outputs": [
    {
     "name": "stdout",
     "output_type": "stream",
     "text": [
      "Fun: ops\n",
      "(1, 2, 3, 4)\n",
      "[100, 2, 3, 4]\n",
      "[1, 2, 3, 4]\n"
     ]
    }
   ],
   "source": [
    "# Library\n",
    "def ops(data):\n",
    "    print(\"Fun: ops\")\n",
    "    print(data)    \n",
    "    l1 = list(data)\n",
    "    l1[0] = 100\n",
    "    print(l1)\n",
    "\n",
    "# Main application\n",
    "l1 = [1,2,3,4] # Locking data \n",
    "t1 = tuple(l1)\n",
    "\n",
    "# calling third party function and passing tuple\n",
    "ops(t1) # Data: Readonly\n",
    "print(l1)"
   ]
  },
  {
   "cell_type": "code",
   "execution_count": null,
   "id": "344b1a7f-783b-4df1-a24c-a8000bdcd30b",
   "metadata": {},
   "outputs": [],
   "source": []
  },
  {
   "cell_type": "code",
   "execution_count": null,
   "id": "42ac4f4e-8e54-47f9-ab12-702c35d637d9",
   "metadata": {},
   "outputs": [],
   "source": [
    "'''\n",
    "- Find Longest String\n",
    "- Problem Description:\n",
    "Write a function called find_longest_string(words) that takes a list of strings words as input. The function should find and return the longest string in the list. If the list is empty, return an empty string \"\". If there are multiple strings with the same maximum length, return the first one encountered.\n",
    "\n",
    "- Expected Output:\n",
    "The function should return a string.\n",
    "'''\n",
    "def find_longest_string(words):\n",
    "    # Your code here\n",
    "    pass\n",
    "# Test Cases for Assignment 2\n",
    "assert find_longest_string([\"apple\", \"banana\", \"kiwi\"]) == \"banana\", \"Test Case 1 Failed: Basic longest\"\n",
    "assert find_longest_string([\"cat\", \"dog\", \"elephant\", \"zebra\"]) == \"elephant\", \"Test Case 2 Failed: Longer words\"\n",
    "assert find_longest_string([\"a\", \"bb\", \"ccc\", \"dddd\"]) == \"dddd\", \"Test Case 3 Failed: Increasing length\"\n",
    "assert find_longest_string([]) == \"\", \"Test Case 4 Failed: Empty list\"\n",
    "assert find_longest_string([\"hi\", \"hello\", \"world\", \"max\"]) == \"hello\", \"Test Case 5 Failed: Multiple same length, return first\"\n",
    "assert find_longest_string([\"short\", \"longest\", \"medium\"]) == \"longest\", \"Test Case 6 Failed: Order matters\"\n",
    "print(\"All test cases for Assignment 2 passed!\")\n"
   ]
  },
  {
   "cell_type": "code",
   "execution_count": null,
   "id": "079542d9-e6ca-4230-8860-5acb7eb6de4e",
   "metadata": {},
   "outputs": [],
   "source": [
    "'''\n",
    "- Remove duplicates\n",
    "- Problem Description:\n",
    "Write a function called remove_duplicates(input_list) that takes a list input_list as input. The function should return a new list containing only the unique elements from the input_list, preserving their original order.\n",
    "\n",
    "- Expected Output:\n",
    "The function should return a new list with unique elements in original order.\n",
    "'''\n",
    "\n",
    "def remove_duplicates(input_list):\n",
    "    # Your code here\n",
    "    pass\n",
    "# Test Cases for Assignment 3\n",
    "assert remove_duplicates([1, 2, 2, 3, 1, 4]) == [1, 2, 3, 4], \"Test Case 1 Failed: Basic duplicates\"\n",
    "assert remove_duplicates([\"a\", \"b\", \"a\", \"c\", \"b\"]) == [\"a\", \"b\", \"c\"], \"Test Case 2 Failed: String duplicates\"\n",
    "assert remove_duplicates([1, 1, 1, 1]) == [1], \"Test Case 3 Failed: All duplicates\"\n",
    "assert remove_duplicates([10, 20, 30]) == [10, 20, 30], \"Test Case 4 Failed: No duplicates\"\n",
    "assert remove_duplicates([]) == [], \"Test Case 5 Failed: Empty list\"\n",
    "assert remove_duplicates([True, False, True, False]) == [True, False], \"Test Case 6 Failed: Boolean duplicates\"\n",
    "print(\"All test cases for Assignment 3 passed!\")"
   ]
  },
  {
   "cell_type": "code",
   "execution_count": null,
   "id": "6452dcb3-1aa2-49c9-a5ad-b4de188fac51",
   "metadata": {},
   "outputs": [],
   "source": [
    "'''\n",
    "- Rotate List\n",
    "\n",
    "- Problem Description:\n",
    "Write a function called rotate_list(input_list, k) that takes a list input_list and an integer k as input.\n",
    "The function should rotate the list to the right by k steps. The rotation should be in-place \n",
    "if possible (i.e., modify the original list), but for simplicity, returning a new rotated list is also \n",
    "acceptable.\n",
    "\n",
    "k can be greater than the length of the list.\n",
    "k can be negative (rotate left).\n",
    "- Expected Output:\n",
    "The function should return a new list representing the rotated version of input_list.\n",
    "'''\n",
    "def rotate_list(input_list, k):\n",
    "    # Your code here\n",
    "    pass\n",
    "# Test Cases for Assignment 4\n",
    "assert rotate_list([1, 2, 3, 4, 5], 2) == [4, 5, 1, 2, 3], \"Test Case 1 Failed: Basic right rotation\"\n",
    "assert rotate_list([1, 2, 3], 1) == [3, 1, 2], \"Test Case 2 Failed: Single rotation\"\n",
    "assert rotate_list([1, 2, 3], 3) == [1, 2, 3], \"Test Case 3 Failed: Rotation by list length\"\n",
    "assert rotate_list([1, 2, 3, 4, 5], 7) == [4, 5, 1, 2, 3], \"Test Case 4 Failed: k > list length\"\n",
    "assert rotate_list([], 5) == [], \"Test Case 5 Failed: Empty list\"\n",
    "assert rotate_list([1, 2, 3], -1) == [2, 3, 1], \"Test Case 6 Failed: Negative k (left rotation)\"\n",
    "assert rotate_list([1, 2, 3, 4], -2) == [3, 4, 1, 2], \"Test Case 7 Failed: Negative k (left rotation)\"\n",
    "print(\"All test cases for Assignment 4 passed!\")"
   ]
  },
  {
   "cell_type": "code",
   "execution_count": null,
   "id": "c05e513a-2fc8-4ebf-bf76-229718b7b0fd",
   "metadata": {},
   "outputs": [],
   "source": [
    "'''\n",
    "- Problem Description:\n",
    "Write a function called filter_by_length(words, min_length) that takes a list of strings words and \n",
    "an integer min_length as input. \n",
    "The function should return a new list containing only those words whose length is greater than \n",
    "or equal to min_length.\n",
    "\n",
    "- Expected Output:\n",
    "The function should return a new list of strings.\n",
    "'''\n",
    "\n",
    "def filter_by_length(words, min_length):\n",
    "    # Your code here\n",
    "    pass\n",
    "# Test Cases for Assignment 5\n",
    "assert filter_by_length([\"apple\", \"banana\", \"kiwi\", \"grape\"], 5) == [\"apple\", \"banana\", \"grape\"], \"Test Case 1 Failed: Basic filtering\"\n",
    "assert filter_by_length([\"cat\", \"dog\", \"bird\"], 4) == [], \"Test Case 2 Failed: No words meet criteria\"\n",
    "assert filter_by_length([\"a\", \"bb\", \"ccc\"], 1) == [\"a\", \"bb\", \"ccc\"], \"Test Case 3 Failed: All words meet criteria\"\n",
    "assert filter_by_length([], 3) == [], \"Test Case 4 Failed: Empty word list\"\n",
    "assert filter_by_length([\"hello\", \"world\", \"python\"], 6) == [\"python\"], \"Test Case 5 Failed: Specific min_length\"\n",
    "print(\"All test cases for Assignment 5 passed!\")"
   ]
  }
 ],
 "metadata": {
  "kernelspec": {
   "display_name": "Python3 (DeepCode)",
   "language": "python",
   "name": "deepcode"
  },
  "language_info": {
   "codemirror_mode": {
    "name": "ipython",
    "version": 3
   },
   "file_extension": ".py",
   "mimetype": "text/x-python",
   "name": "python",
   "nbconvert_exporter": "python",
   "pygments_lexer": "ipython3",
   "version": "3.13.3"
  }
 },
 "nbformat": 4,
 "nbformat_minor": 5
}
