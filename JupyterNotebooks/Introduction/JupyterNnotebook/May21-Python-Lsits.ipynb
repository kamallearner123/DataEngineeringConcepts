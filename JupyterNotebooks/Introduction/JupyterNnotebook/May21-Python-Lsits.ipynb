{
 "cells": [
  {
   "cell_type": "markdown",
   "metadata": {},
   "source": [
    "# Chapter 1.4: Python Lists - Concepts and Exercises\n",
    "\n",
    "Welcome to the dedicated session on Python Lists! Lists are one of the most versatile and widely used data structures in Python. They allow you to store collections of items.\n",
    "\n",
    "**Objectives:**\n",
    "* Understand what a list is and its key characteristics.\n",
    "* Learn various ways to create lists.\n",
    "* Master indexing, slicing, and modifying list elements.\n",
    "* Explore common list methods.\n",
    "* Practice list comprehensions for efficient list creation.\n",
    "* Tackle exercises, challenging questions, and a quiz to solidify your understanding."
   ]
  },
  {
   "cell_type": "markdown",
   "metadata": {},
   "source": [
    "## 1. What is a List?\n",
    "\n",
    "A **list** in Python is an ordered, mutable (changeable) collection of items. It can hold items of different data types.\n",
    "\n",
    "**Key Characteristics:**\n",
    "* **Ordered:** The items have a defined order, and that order will not change. New items are appended to the end.\n",
    "* **Mutable:** You can change, add, and remove items after the list has been created.\n",
    "* **Allows Duplicates:** Lists can contain duplicate values.\n",
    "* **Heterogeneous:** Items can be of different data types (e.g., integers, strings, floats, even other lists).\n",
    "\n",
    "Lists are defined by enclosing elements in square brackets `[]`, with each element separated by a comma."
   ]
  },
  {
   "cell_type": "markdown",
   "metadata": {},
   "source": [
    "## 2. Creating Lists"
   ]
  },
  {
   "cell_type": "markdown",
   "metadata": {},
   "source": [
    "### 2.1 Empty List"
   ]
  },
  {
   "cell_type": "code",
   "execution_count": null,
   "metadata": {},
   "outputs": [],
   "source": [
    "# Creating an empty list\n",
    "empty_list = []\n",
    "print(f\"Empty List: {empty_list}\")\n",
    "print(f\"Type of empty_list: {type(empty_list)}\")"
   ]
  },
  {
   "cell_type": "markdown",
   "metadata": {},
   "source": [
    "### 2.2 List with Elements"
   ]
  },
  {
   "cell_type": "code",
   "execution_count": null,
   "metadata": {},
   "outputs": [],
   "source": [
    "# List of integers\n",
    "numbers = [1, 2, 3, 4, 5]\n",
    "print(f\"Numbers List: {numbers}\")\n",
    "\n",
    "# List of strings\n",
    "fruits = [\"apple\", \"banana\", \"cherry\"]\n",
    "print(f\"Fruits List: {fruits}\")\n",
    "\n",
    "# List with mixed data types\n",
    "mixed_list = [1, \"hello\", 3.14, True]\n",
    "print(f\"Mixed List: {mixed_list}\")\n",
    "\n",
    "# List containing other lists (nested list)\n",
    "nested_list = [[1, 2], [3, 4], [5, 6]]\n",
    "print(f\"Nested List: {nested_list}\")\n",
    "\n",
    "# List with duplicate values\n",
    "duplicate_list = [1, 2, 2, 3, 1]\n",
    "print(f\"Duplicate List: {duplicate_list}\")"
   ]
  },
  {
   "cell_type": "markdown",
   "metadata": {},
   "source": [
    "### 2.3 Using the `list()` constructor"
   ]
  },
  {
   "cell_type": "code",
   "execution_count": null,
   "metadata": {},
   "outputs": [],
   "source": [
    "# From a string (iterates over characters)\n",
    "list_from_string = list(\"Python\")\n",
    "print(f\"List from String: {list_from_string}\")\n",
    "\n",
    "# From a tuple\n",
    "list_from_tuple = list((10, 20, 30))\n",
    "print(f\"List from Tuple: {list_from_tuple}\")\n",
    "\n",
    "# From a range\n",
    "list_from_range = list(range(5))\n",
    "print(f\"List from Range: {list_from_range}\")"
   ]
  },
  {
   "cell_type": "markdown",
   "metadata": {},
   "source": [
    "## 3. Accessing List Elements (Indexing and Slicing)\n",
    "\n",
    "Lists are zero-indexed, meaning the first element is at index 0."
   ]
  },
  {
   "cell_type": "markdown",
   "metadata": {},
   "source": [
    "### 3.1 Positive Indexing"
   ]
  },
  {
   "cell_type": "code",
   "execution_count": null,
   "metadata": {},
   "outputs": [],
   "source": [
    "my_list = [10, 20, 30, 40, 50]\n",
    "print(f\"Original List: {my_list}\")\n",
    "\n",
    "# Accessing the first element\n",
    "print(f\"First element: {my_list[0]}\")\n",
    "\n",
    "# Accessing the third element\n",
    "print(f\"Third element: {my_list[2]}\")\n",
    "\n",
    "# Accessing the last element\n",
    "print(f\"Last element: {my_list[4]}\")"
   ]
  },
  {
   "cell_type": "markdown",
   "metadata": {},
   "source": [
    "### 3.2 Negative Indexing"
   ]
  },
  {
   "cell_type": "code",
   "execution_count": null,
   "metadata": {},
   "outputs": [],
   "source": [
    "my_list = [10, 20, 30, 40, 50]\n",
    "\n",
    "# Accessing the last element using negative indexing\n",
    "print(f\"Last element (negative index): {my_list[-1]}\")\n",
    "\n",
    "# Accessing the second to last element\n",
    "print(f\"Second to last element: {my_list[-2]}\")"
   ]
  },
  {
   "cell_type": "markdown",
   "metadata": {},
   "source": [
    "### 3.3 Slicing Lists\n",
    "\n",
    "Slicing allows you to get a sub-list from a larger list. The syntax is `[start:end:step]`."
   ]
  },
  {
   "cell_type": "code",
   "execution_count": null,
   "metadata": {},
   "outputs": [],
   "source": [
    "my_list = ['a', 'b', 'c', 'd', 'e', 'f', 'g']\n",
    "print(f\"Original List: {my_list}\")\n",
    "\n",
    "# Slice from index 2 up to (but not including) index 5\n",
    "print(f\"Slice [2:5]: {my_list[2:5]}\")\n",
    "\n",
    "# Slice from the beginning up to index 3\n",
    "print(f\"Slice [:3]: {my_list[:3]}\")\n",
    "\n",
    "# Slice from index 4 to the end\n",
    "print(f\"Slice [4:]: {my_list[4:]}\")\n",
    "\n",
    "# Slice the entire list (creates a copy)\n",
    "print(f\"Slice [:]: {my_list[:]}\")\n",
    "\n",
    "# Slice with a step (every second element)\n",
    "print(f\"Slice [::2]: {my_list[::2]}\")\n",
    "\n",
    "# Reverse the list using slicing\n",
    "print(f\"Reversed list [::-1]: {my_list[::-1]}\")"
   ]
  },
  {
   "cell_type": "markdown",
   "metadata": {},
   "source": [
    "## 4. Modifying Lists (Mutating Operations)\n",
    "\n",
    "Lists are mutable, meaning you can change their contents."
   ]
  },
  {
   "cell_type": "markdown",
   "metadata": {},
   "source": [
    "### 4.1 Changing an Element"
   ]
  },
  {
   "cell_type": "code",
   "execution_count": null,
   "metadata": {},
   "outputs": [],
   "source": [
    "my_list = [10, 20, 30, 40]\n",
    "print(f\"Original List: {my_list}\")\n",
    "\n",
    "my_list[1] = 25 # Change element at index 1\n",
    "print(f\"List after changing element: {my_list}\")"
   ]
  },
  {
   "cell_type": "markdown",
   "metadata": {},
   "source": [
    "### 4.2 Adding Elements"
   ]
  },
  {
   "cell_type": "code",
   "execution_count": null,
   "metadata": {},
   "outputs": [],
   "source": [
    "my_list = ['apple', 'banana']\n",
    "print(f\"Original List: {my_list}\")\n",
    "\n",
    "# Using append() to add an element to the end\n",
    "my_list.append('cherry')\n",
    "print(f\"After append: {my_list}\")\n",
    "\n",
    "# Using insert() to add an element at a specific index\n",
    "my_list.insert(1, 'orange') # Insert 'orange' at index 1\n",
    "print(f\"After insert: {my_list}\")\n",
    "\n",
    "# Using extend() to add elements from another iterable\n",
    "my_list.extend(['grape', 'kiwi'])\n",
    "print(f\"After extend: {my_list}\")\n",
    "\n",
    "# Concatenating lists using + operator (creates a new list)\n",
    "new_fruits = ['mango', 'pear']\n",
    "combined_list = my_list + new_fruits\n",
    "print(f\"Combined list (using +): {combined_list}\")"
   ]
  },
  {
   "cell_type": "markdown",
   "metadata": {},
   "source": [
    "### 4.3 Removing Elements"
   ]
  },
  {
   "cell_type": "code",
   "execution_count": null,
   "metadata": {},
   "outputs": [],
   "source": [
    "my_list = ['red', 'green', 'blue', 'yellow', 'purple']\n",
    "print(f\"Original List: {my_list}\")\n",
    "\n",
    "# Using remove() to remove the first occurrence of a specified value\n",
    "my_list.remove('green')\n",
    "print(f\"After remove('green'): {my_list}\")\n",
    "\n",
    "# Using pop() to remove an element by index (and return it)\n",
    "popped_element = my_list.pop(2) # Removes 'yellow' (index 2 after 'green' was removed)\n",
    "print(f\"After pop(2): {my_list}, Popped element: {popped_element}\")\n",
    "\n",
    "# Using pop() without an argument removes and returns the last element\n",
    "last_element = my_list.pop()\n",
    "print(f\"After pop(): {my_list}, Last element: {last_element}\")\n",
    "\n",
    "# Using del statement to remove by index or slice\n",
    "my_list = [10, 20, 30, 40, 50]\n",
    "del my_list[1] # Deletes element at index 1 (20)\n",
    "print(f\"After del my_list[1]: {my_list}\")\n",
    "\n",
    "my_list = [10, 20, 30, 40, 50, 60]\n",
    "del my_list[1:4] # Deletes elements from index 1 to 3 (20, 30, 40)\n",
    "print(f\"After del my_list[1:4]: {my_list}\")\n",
    "\n",
    "# Using clear() to remove all elements\n",
    "my_list.clear()\n",
    "print(f\"After clear(): {my_list}\")"
   ]
  },
  {
   "cell_type": "markdown",
   "metadata": {},
   "source": [
    "## 5. Other Useful List Methods"
   ]
  },
  {
   "cell_type": "code",
   "execution_count": null,
   "metadata": {},
   "outputs": [],
   "source": [
    "numbers = [5, 2, 8, 2, 1, 9]\n",
    "fruits = ['orange', 'apple', 'banana', 'cherry']\n",
    "\n",
    "# count(): Returns the number of times a specified value appears in the list\n",
    "print(f\"Count of 2 in numbers: {numbers.count(2)}\")\n",
    "\n",
    "# index(): Returns the index of the first occurrence of a specified value\n",
    "print(f\"Index of 'banana' in fruits: {fruits.index('banana')}\")\n",
    "\n",
    "# sort(): Sorts the list in ascending order in-place\n",
    "numbers.sort()\n",
    "print(f\"Numbers after sort(): {numbers}\")\n",
    "\n",
    "fruits.sort()\n",
    "print(f\"Fruits after sort(): {fruits}\")\n",
    "\n",
    "# reverse(): Reverses the order of the elements in-place\n",
    "numbers.reverse()\n",
    "print(f\"Numbers after reverse(): {numbers}\")\n",
    "\n",
    "# copy(): Returns a shallow copy of the list\n",
    "original = [1, 2, 3]\n",
    "copied = original.copy()\n",
    "print(f\"Original: {original}, Copied: {copied}\")\n",
    "\n",
    "# Changes to copied do not affect original (for simple elements)\n",
    "copied.append(4)\n",
    "print(f\"Original after copied changed: {original}, Copied: {copied}\")\n",
    "\n",
    "# Be careful with nested lists (shallow copy)\n",
    "list_a = [[1, 2], [3, 4]]\n",
    "list_b = list_a.copy() # Shallow copy\n",
    "list_b[0][0] = 99 # Modifies the nested list in both list_a and list_b\n",
    "print(f\"List A after nested change in B: {list_a}\")\n",
    "print(f\"List B after nested change in B: {list_b}\")"
   ]
  },
  {
   "cell_type": "markdown",
   "metadata": {},
   "source": [
    "## 6. List Comprehensions\n",
    "\n",
    "List comprehensions provide a concise way to create lists. They consist of brackets containing an expression followed by a `for` clause, then zero or more `for` or `if` clauses."
   ]
  },
  {
   "cell_type": "code",
   "execution_count": null,
   "metadata": {},
   "outputs": [],
   "source": [
    "# Basic list comprehension: Create a list of squares\n",
    "squares = [x**2 for x in range(10)]\n",
    "print(f\"Squares: {squares}\")\n",
    "\n",
    "# List comprehension with a condition (if clause): Filter even numbers\n",
    "even_numbers = [x for x in range(20) if x % 2 == 0]\n",
    "print(f\"Even numbers: {even_numbers}\")\n",
    "\n",
    "# Nested list comprehension: Flatten a nested list\n",
    "matrix = [[1, 2, 3], [4, 5, 6], [7, 8, 9]]\n",
    "flattened_list = [num for row in matrix for num in row]\n",
    "print(f\"Flattened list: {flattened_list}\")\n",
    "\n",
    "# List comprehension with if-else (conditional expression)\n",
    "categorized_numbers = [\"Even\" if x % 2 == 0 else \"Odd\" for x in range(10)]\n",
    "print(f\"Categorized numbers: {categorized_numbers}\")"
   ]
  },
  {
   "cell_type": "markdown",
   "metadata": {},
   "source": [
    "## 7. Iterating Through Lists"
   ]
  },
  {
   "cell_type": "code",
   "execution_count": null,
   "metadata": {},
   "outputs": [],
   "source": [
    "my_fruits = ['apple', 'banana', 'mango']\n",
    "\n",
    "# Using a for loop\n",
    "print(\"Iterating using for loop:\")\n",
    "for fruit in my_fruits:\n",
    "    print(fruit)\n",
    "\n",
    "# Using enumerate() to get both index and value\n",
    "print(\"\\nIterating using enumerate():\")\n",
    "for index, fruit in enumerate(my_fruits):\n",
    "    print(f\"Index {index}: {fruit}\")"
   ]
  },
  {
   "cell_type": "markdown",
   "metadata": {},
   "source": [
    "## 8. List vs. Tuple vs. Set (Brief Comparison)\n",
    "\n",
    "| Feature        | List (`[]`)                       | Tuple (`()`)                      | Set (`{}`)                         |\n",
    "|----------------|-----------------------------------|-----------------------------------|-----------------------------------|\n",
    "| **Order** | Ordered                           | Ordered                           | Unordered                         |\n",
    "| **Mutability** | Mutable (Changeable)              | Immutable (Unchangeable)          | Mutable                           |\n",
    "| **Duplicates** | Allows duplicates                 | Allows duplicates                 | No duplicates                     |\n",
    | **Syntax** | Square brackets `[]`              | Parentheses `()`                  | Curly braces `{}` (or `set()`)   |\n",
    "| **Use Case** | Collection of changeable items    | Collection of fixed items         | Collection of unique items        |\n",
    "\n",
    "This notebook focuses on Lists. You will cover Tuples and Sets in separate dedicated sessions."
   ]
  },
  {
   "cell_type": "markdown",
   "metadata": {},
   "source": [
    "---",
    "## Exercises"
   ]
  },
  {
   "cell_type": "markdown",
   "metadata": {},
   "source": [
    "### Exercise 1: Basic List Operations\n",
    "\n",
    "1.  Create a list named `colors` with the values: `\"red\", \"green\", \"blue\", \"yellow\", \"purple\"`.\n",
    "2.  Print the list.\n",
    "3.  Print the third element of the list.\n",
    "4.  Print the last element using negative indexing.\n",
    "5.  Change the second element to `\"orange\"`.\n",
    "6.  Add `\"pink\"` to the end of the list.\n",
    "7.  Insert `\"brown\"` at index 1.\n",
    "8.  Remove `\"yellow\"` from the list.\n",
    "9.  Print the final list."
   ]
  },
  {
   "cell_type": "code",
   "execution_count": null,
   "metadata": {},
   "outputs": [],
   "source": [
    "# Your code for Exercise 1 here\n",
    "\n",
    "# 1. Create a list named colors\n",
    "\n",
    "# 2. Print the list\n",
    "\n",
    "# 3. Print the third element\n",
    "\n",
    "# 4. Print the last element using negative indexing\n",
    "\n",
    "# 5. Change the second element\n",
    "\n",
    "# 6. Add \"pink\" to the end\n",
    "\n",
    "# 7. Insert \"brown\" at index 1\n",
    "\n",
    "# 8. Remove \"yellow\"\n",
    "\n",
    "# 9. Print the final list"
   ]
  },
  {
   "cell_type": "markdown",
   "metadata": {},
   "source": [
    "### Exercise 2: List Slicing and Copying\n",
    "\n",
    "Given the list `numbers = [10, 20, 30, 40, 50, 60, 70, 80, 90, 100]`:\n",
    "\n",
    "1.  Create a slice `sub_list1` containing elements from index 2 to 6 (inclusive).\n",
    "2.  Create a slice `sub_list2` containing every third element, starting from the beginning.\n",
    "3.  Create a reversed copy of the list named `reversed_numbers`.\n",
    "4.  Create a shallow copy of `numbers` called `numbers_copy`.\n",
    "5.  Modify `numbers_copy` by changing its first element. Print both `numbers` and `numbers_copy` to observe the effect."
   ]
  },
  {
   "cell_type": "code",
   "execution_count": null,
   "metadata": {},
   "outputs": [],
   "source": [
    "# Your code for Exercise 2 here\n",
    "numbers = [10, 20, 30, 40, 50, 60, 70, 80, 90, 100]\n",
    "\n",
    "# 1. sub_list1\n",
    "\n",
    "# 2. sub_list2\n",
    "\n",
    "# 3. reversed_numbers\n",
    "\n",
    "# 4. numbers_copy\n",
    "\n",
    "# 5. Modify numbers_copy and print both"
   ]
  },
  {
   "cell_type": "markdown",
   "metadata": {},
   "source": [
    "### Exercise 3: List Comprehensions\n",
    "\n",
    "1.  Using a list comprehension, create a list of all numbers from 1 to 20 that are divisible by 4.\n",
    "2.  Given a list of words `words = [\"hello\", \"world\", \"python\", \"programming\", \"lists\"]`, create a new list containing the length of each word.\n",
    "3.  Flatten the nested list `matrix = [[1, 2], [3, 4], [5, 6]]` into a single list using a list comprehension."
   ]
  },
  {
   "cell_type": "code",
   "execution_count": null,
   "metadata": {},
   "outputs": [],
   "source": [
    "# Your code for Exercise 3 here\n",
    "\n",
    "# 1. Divisible by 4\n",
    "\n",
    "# 2. Length of words\n",
    "words = [\"hello\", \"world\", \"python\", \"programming\", \"lists\"]\n",
    "\n",
    "# 3. Flatten matrix\n",
    "matrix = [[1, 2], [3, 4], [5, 6]]"
   ]
  },
  {
   "cell_type": "markdown",
   "metadata": {},
   "source": [
    "---",
    "## Challenging Questions"
   ]
  },
  {
   "cell_type": "markdown",
   "metadata": {},
   "source": [
    "1.  **Deep vs. Shallow Copy:** Explain the difference between `list.copy()` (shallow copy) and `copy.deepcopy()` (deep copy, requires `import copy`) when dealing with nested lists. Provide code examples to illustrate when one might be preferred over the other.\n",
    "\n",
    "2.  **Performance:** When would you choose to use `append()` multiple times versus concatenating lists using the `+` operator? Consider the performance implications.\n",
    "\n",
    "3.  **Mutable Default Arguments:** Discuss the potential pitfalls of using a mutable object (like a list) as a default argument in a Python function. Provide a code example that demonstrates this issue and a way to resolve it."
   ]
  },
  {
   "cell_type": "markdown",
   "metadata": {},
   "source": [
    "---",
    "## Assignment\n",
    "\n",
    "### Assignment 1.4.1: Student Grade Manager\n",
    "\n",
    "Create a Python program that simulates a basic student grade manager. You will use lists to store student names and their corresponding grades. The program should be interactive and allow the user to perform several operations.\n",
    "\n",
    "**Requirements:**\n",
    "\n",
    "1.  **Initialize Data:** Start with two empty lists: `student_names = []` and `student_grades = []`.\n",
    "2.  **Menu System:** Implement a loop that displays a menu to the user with the following options:\n",
    "    * `1. Add Student Grade`\n",
    "    * `2. View All Grades`\n",
    "    * `3. Update Student Grade`\n",
    "    * `4. Calculate Average Grade`\n",
    "    * `5. Remove Student`\n",
    "    * `6. Exit`\n",
    "3.  **Implement Functionality for Each Option:**\n",
    "    * **Add Student Grade:**\n",
    "        * Prompt for student name and grade.\n",
    "        * Add the name to `student_names` and the grade (as a float) to `student_grades`.\n",
    "    * **View All Grades:**\n",
    "        * If no students, print a message.\n",
    "        * Otherwise, iterate through the lists and print each student's name and grade in a readable format (e.g., `\"Alice: 85.5\"`).\n",
    "    * **Update Student Grade:**\n",
    "        * Prompt for the student's name.\n",
    "        * If the student exists, prompt for the new grade and update it. Print a success message.\n",
    "        * If the student does not exist, print an error message.\n",
    "    * **Calculate Average Grade:**\n",
    "        * If no students, print a message.\n",
    "        * Otherwise, calculate and print the average of all grades.\n",
    "    * **Remove Student:**\n",
    "        * Prompt for the student's name.\n",
    "        * If the student exists, remove both their name and grade from the respective lists. Print a success message.\n",
    "        * If the student does not exist, print an error message.\n",
    "    * **Exit:** Break the loop and end the program.\n",
    "\n",
    "**Hints:**\n",
    "* Use `input()` to get user input.\n",
    "* Use `float()` to convert grade input to a number.\n",
    "* Use `in` operator to check if a name exists in `student_names`.\n",
    "* Use `index()` to find the position of a student's name and then use that index to update/remove the corresponding grade.\n",
    "* Handle cases where lists might be empty before performing calculations or viewing data."
   ]
  },
  {
   "cell_type": "code",
   "execution_count": null,
   "metadata": {},
   "outputs": [],
   "source": [
    "# Your code for Assignment 1.4.1 here"
   ]
  },
  {
   "cell_type": "markdown",
   "metadata": {},
   "source": [
    "---",
    "## Multiple Choice Questions (MCQ)\n",
    "\n",
    "Test your theoretical understanding of Python Lists with a quick quiz:\n",
    "\n",
    "[**Attempt the MCQ Quiz on Python Lists**](https://forms.gle/YOUR_MCQ_QUIZ_LINK_HERE) \n",
    "\n",
    "**(Note: Replace `https://forms.gle/YOUR_MCQ_QUIZ_LINK_HERE` with your actual Google Forms or other quiz link)**\n",
    "\n",
    "**Example Quiz Questions:**\n",
    "<ol>\n",
    "    <li>Which of the following is true about Python lists?<br> a) They are immutable. <br> b) They are ordered. <br> c) They cannot contain duplicate elements. <br> d) Elements must be of the same data type.</li>\n",
    "    <li>What does `my_list[-1]` return?<br> a) The first element <br> b) The last element <br> c) An error <br> d) The length of the list</li>\n",
    "    <li>What is the primary purpose of a list comprehension?<br> a) To loop through lists slowly <br> b) To create dictionaries <br> c) To concisely create lists <br> d) To modify elements in place</li>\n",
    "</ol>"
   ]
  }
 ],
 "metadata": {
  "kernelspec": {
   "display_name": "Python 3",
   "language": "python",
   "name": "python3"
  },
  "language_info": {
   "codemirror_mode": {
    "name": "ipython",
    "version": 3
   },
   "file_extension": ".py",
   "mimetype": "text/x-python",
   "name": "python",
   "nbconvert_exporter": "python",
   "pygments_lexer": "ipython3",
   "version": "3.9.7"
  }
 },
 "nbformat": 4,
 "nbformat_minor": 4
}
