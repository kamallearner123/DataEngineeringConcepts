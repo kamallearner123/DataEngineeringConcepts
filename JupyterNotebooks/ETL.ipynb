{
 "cells": [
  {
   "cell_type": "markdown",
   "id": "479b6db5-5670-418b-90b4-6762ef04516e",
   "metadata": {},
   "source": [
    "# Extracting the data"
   ]
  },
  {
   "cell_type": "code",
   "execution_count": 7,
   "id": "d3974a05-ac51-49d8-907b-32e06e45d38e",
   "metadata": {},
   "outputs": [
    {
     "name": "stdout",
     "output_type": "stream",
     "text": [
      "[]\n",
      "None\n"
     ]
    }
   ],
   "source": [
    "# Amazon is detecting that data is getting accessed by a script.\n",
    "\n",
    "import requests\n",
    "from bs4 import BeautifulSoup\n",
    "import re\n",
    "\n",
    "\n",
    "def get_content_from_url(url, keywords=[]):\n",
    "    response = requests.get(url)\n",
    "    #print(response.text.lower())\n",
    "\n",
    "    # GEt list of urls\n",
    "    urls = re.findall(r\".*\\s(https.*\\.com).*\", response.text.lower()[:20000000])\n",
    "    print(urls)\n",
    "\n",
    "    \n",
    "    data = {}\n",
    "    for key in keywords:\n",
    "        data[key] = response.text.count(key)\n",
    "    #return data\n",
    "\n",
    "print(get_content_from_url(url=\"https://www.youtube.com/results?search_query=peanuts\",keywords=[\"india\"]))"
   ]
  },
  {
   "cell_type": "code",
   "execution_count": null,
   "id": "058fb163-60aa-4512-bd50-7f0eb91f5f3f",
   "metadata": {},
   "outputs": [],
   "source": [
    "# DATA Base\n",
    "# 0 - 2_000_000  -- p1\n",
    "# 2_000_000 - 4_000_000 -- p2\n"
   ]
  },
  {
   "cell_type": "code",
   "execution_count": 1,
   "id": "0d6fd824-25b8-416d-b0e0-f85b954f7015",
   "metadata": {},
   "outputs": [
    {
     "name": "stdout",
     "output_type": "stream",
     "text": [
      "A Light in the Attic - Â£51.77\n",
      "Tipping the Velvet - Â£53.74\n",
      "Soumission - Â£50.10\n",
      "Sharp Objects - Â£47.82\n",
      "Sapiens: A Brief History of Humankind - Â£54.23\n",
      "The Requiem Red - Â£22.65\n",
      "The Dirty Little Secrets of Getting Your Dream Job - Â£33.34\n",
      "The Coming Woman: A Novel Based on the Life of the Infamous Feminist, Victoria Woodhull - Â£17.93\n",
      "The Boys in the Boat: Nine Americans and Their Epic Quest for Gold at the 1936 Berlin Olympics - Â£22.60\n",
      "The Black Maria - Â£52.15\n",
      "Starving Hearts (Triangular Trade Trilogy, #1) - Â£13.99\n",
      "Shakespeare's Sonnets - Â£20.66\n",
      "Set Me Free - Â£17.46\n",
      "Scott Pilgrim's Precious Little Life (Scott Pilgrim #1) - Â£52.29\n",
      "Rip it Up and Start Again - Â£35.02\n",
      "Our Band Could Be Your Life: Scenes from the American Indie Underground, 1981-1991 - Â£57.25\n",
      "Olio - Â£23.88\n",
      "Mesaerion: The Best Science Fiction Stories 1800-1849 - Â£37.59\n",
      "Libertarianism for Beginners - Â£51.33\n",
      "It's Only the Himalayas - Â£45.17\n"
     ]
    }
   ],
   "source": [
    "# \n",
    "import requests\n",
    "from bs4 import BeautifulSoup\n",
    "\n",
    "url = \"http://books.toscrape.com/catalogue/page-1.html\"\n",
    "response = requests.get(url)\n",
    "\n",
    "soup = BeautifulSoup(response.text, \"html.parser\")\n",
    "books = soup.select(\"article.product_pod\")\n",
    "\n",
    "for book in books:\n",
    "    title = book.h3.a[\"title\"]\n",
    "    price = book.select_one(\".price_color\").text\n",
    "    print(f\"{title} - {price}\")\n",
    "\n"
   ]
  },
  {
   "cell_type": "code",
   "execution_count": 47,
   "id": "b9ebaf50-2db0-424b-9e47-c1256106bd07",
   "metadata": {},
   "outputs": [
    {
     "name": "stdout",
     "output_type": "stream",
     "text": [
      "5.4787070751190186\n"
     ]
    }
   ],
   "source": [
    "import time\n",
    "from multiprocessing import Pool\n",
    "from multiprocessing import Process\n",
    "import os\n",
    "\n",
    "# CPU-intensive task: calculate square of a number\n",
    "def square(n):\n",
    "    return n * n\n",
    "\n",
    "# Single-process function\n",
    "def single_process(numbers):\n",
    "    start_time = time.time()\n",
    "    results = [square(n) for n in numbers]\n",
    "    end_time = time.time()\n",
    "    return end_time - start_time\n",
    "\n",
    "\n",
    "def bunch_of_cals(list1):\n",
    "    result = [square(n) for n in numbers]\n",
    "\n",
    "def multi_process(numbers, no_of_proccesses):\n",
    "    p1 = Process(task=bunch_of_cals, args(no_of_proccesses[0:no_of_proccesses//4]) \n",
    "\n",
    "    \n",
    "numbers = list(range(1_00_000_000))\n",
    "time = single_process(numbers)\n",
    "print(time)"
   ]
  },
  {
   "cell_type": "code",
   "execution_count": null,
   "id": "f6e9b844-ffbd-45eb-8935-8abea43a7671",
   "metadata": {},
   "outputs": [],
   "source": []
  }
 ],
 "metadata": {
  "kernelspec": {
   "display_name": "Python 3 (ipykernel)",
   "language": "python",
   "name": "python3"
  },
  "language_info": {
   "codemirror_mode": {
    "name": "ipython",
    "version": 3
   },
   "file_extension": ".py",
   "mimetype": "text/x-python",
   "name": "python",
   "nbconvert_exporter": "python",
   "pygments_lexer": "ipython3",
   "version": "3.12.7"
  }
 },
 "nbformat": 4,
 "nbformat_minor": 5
}
