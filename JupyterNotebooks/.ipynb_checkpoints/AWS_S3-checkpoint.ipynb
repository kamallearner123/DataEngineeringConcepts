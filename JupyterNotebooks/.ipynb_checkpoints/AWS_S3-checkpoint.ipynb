{
 "cells": [
  {
   "cell_type": "code",
   "execution_count": 5,
   "id": "c6dbb7c8-d8bb-4da3-a94d-282debde5477",
   "metadata": {},
   "outputs": [
    {
     "name": "stdout",
     "output_type": "stream",
     "text": [
      "kkm-unique-s3-bucket-name-12345\n",
      "kkm-unique-test-bucket-2025-06-26-py\n",
      "kkm2-unique-test-bucket-2025-06-26-py\n",
      "kkm2-unique-test-bucket-2025-06-26-py-1\n",
      "kkms3bucket\n",
      "None\n",
      "None\n"
     ]
    },
    {
     "ename": "KeyboardInterrupt",
     "evalue": "Interrupted by user",
     "output_type": "error",
     "traceback": [
      "\u001b[31m---------------------------------------------------------------------------\u001b[39m",
      "\u001b[31mKeyboardInterrupt\u001b[39m                         Traceback (most recent call last)",
      "\u001b[36mCell\u001b[39m\u001b[36m \u001b[39m\u001b[32mIn[5]\u001b[39m\u001b[32m, line 24\u001b[39m\n\u001b[32m     20\u001b[39m resp = s3_client.download_file(\u001b[33m'\u001b[39m\u001b[33mkkm2-unique-test-bucket-2025-06-26-py-1\u001b[39m\u001b[33m'\u001b[39m,\n\u001b[32m     21\u001b[39m                                REMOTE_FILE_PATH,\n\u001b[32m     22\u001b[39m                                \u001b[33m\"\u001b[39m\u001b[33mS1_Kamal.csv\u001b[39m\u001b[33m\"\u001b[39m)\n\u001b[32m     23\u001b[39m \u001b[38;5;28mprint\u001b[39m(resp)\n\u001b[32m---> \u001b[39m\u001b[32m24\u001b[39m \u001b[38;5;28;43minput\u001b[39;49m\u001b[43m(\u001b[49m\u001b[33;43m\"\u001b[39;49m\u001b[33;43m\"\u001b[39;49m\u001b[43m)\u001b[49m\n\u001b[32m     27\u001b[39m \u001b[38;5;66;03m## Delete file\u001b[39;00m\n\u001b[32m     28\u001b[39m resp = s3_client.delete_object(Bucket=\u001b[33m'\u001b[39m\u001b[33mkkm2-unique-test-bucket-2025-06-26-py-1\u001b[39m\u001b[33m'\u001b[39m,\n\u001b[32m     29\u001b[39m                          Key=REMOTE_FILE_PATH)\n",
      "\u001b[36mFile \u001b[39m\u001b[32m~/Documents/virtualEnvs/DeepCode/lib/python3.13/site-packages/ipykernel/kernelbase.py:1282\u001b[39m, in \u001b[36mKernel.raw_input\u001b[39m\u001b[34m(self, prompt)\u001b[39m\n\u001b[32m   1280\u001b[39m     msg = \u001b[33m\"\u001b[39m\u001b[33mraw_input was called, but this frontend does not support input requests.\u001b[39m\u001b[33m\"\u001b[39m\n\u001b[32m   1281\u001b[39m     \u001b[38;5;28;01mraise\u001b[39;00m StdinNotImplementedError(msg)\n\u001b[32m-> \u001b[39m\u001b[32m1282\u001b[39m \u001b[38;5;28;01mreturn\u001b[39;00m \u001b[38;5;28;43mself\u001b[39;49m\u001b[43m.\u001b[49m\u001b[43m_input_request\u001b[49m\u001b[43m(\u001b[49m\n\u001b[32m   1283\u001b[39m \u001b[43m    \u001b[49m\u001b[38;5;28;43mstr\u001b[39;49m\u001b[43m(\u001b[49m\u001b[43mprompt\u001b[49m\u001b[43m)\u001b[49m\u001b[43m,\u001b[49m\n\u001b[32m   1284\u001b[39m \u001b[43m    \u001b[49m\u001b[38;5;28;43mself\u001b[39;49m\u001b[43m.\u001b[49m\u001b[43m_parent_ident\u001b[49m\u001b[43m[\u001b[49m\u001b[33;43m\"\u001b[39;49m\u001b[33;43mshell\u001b[39;49m\u001b[33;43m\"\u001b[39;49m\u001b[43m]\u001b[49m\u001b[43m,\u001b[49m\n\u001b[32m   1285\u001b[39m \u001b[43m    \u001b[49m\u001b[38;5;28;43mself\u001b[39;49m\u001b[43m.\u001b[49m\u001b[43mget_parent\u001b[49m\u001b[43m(\u001b[49m\u001b[33;43m\"\u001b[39;49m\u001b[33;43mshell\u001b[39;49m\u001b[33;43m\"\u001b[39;49m\u001b[43m)\u001b[49m\u001b[43m,\u001b[49m\n\u001b[32m   1286\u001b[39m \u001b[43m    \u001b[49m\u001b[43mpassword\u001b[49m\u001b[43m=\u001b[49m\u001b[38;5;28;43;01mFalse\u001b[39;49;00m\u001b[43m,\u001b[49m\n\u001b[32m   1287\u001b[39m \u001b[43m\u001b[49m\u001b[43m)\u001b[49m\n",
      "\u001b[36mFile \u001b[39m\u001b[32m~/Documents/virtualEnvs/DeepCode/lib/python3.13/site-packages/ipykernel/kernelbase.py:1325\u001b[39m, in \u001b[36mKernel._input_request\u001b[39m\u001b[34m(self, prompt, ident, parent, password)\u001b[39m\n\u001b[32m   1322\u001b[39m \u001b[38;5;28;01mexcept\u001b[39;00m \u001b[38;5;167;01mKeyboardInterrupt\u001b[39;00m:\n\u001b[32m   1323\u001b[39m     \u001b[38;5;66;03m# re-raise KeyboardInterrupt, to truncate traceback\u001b[39;00m\n\u001b[32m   1324\u001b[39m     msg = \u001b[33m\"\u001b[39m\u001b[33mInterrupted by user\u001b[39m\u001b[33m\"\u001b[39m\n\u001b[32m-> \u001b[39m\u001b[32m1325\u001b[39m     \u001b[38;5;28;01mraise\u001b[39;00m \u001b[38;5;167;01mKeyboardInterrupt\u001b[39;00m(msg) \u001b[38;5;28;01mfrom\u001b[39;00m\u001b[38;5;250m \u001b[39m\u001b[38;5;28;01mNone\u001b[39;00m\n\u001b[32m   1326\u001b[39m \u001b[38;5;28;01mexcept\u001b[39;00m \u001b[38;5;167;01mException\u001b[39;00m:\n\u001b[32m   1327\u001b[39m     \u001b[38;5;28mself\u001b[39m.log.warning(\u001b[33m\"\u001b[39m\u001b[33mInvalid Message:\u001b[39m\u001b[33m\"\u001b[39m, exc_info=\u001b[38;5;28;01mTrue\u001b[39;00m)\n",
      "\u001b[31mKeyboardInterrupt\u001b[39m: Interrupted by user"
     ]
    }
   ],
   "source": [
    "import boto3\n",
    "s3_client = boto3.client('s3') # Service name\n",
    "def print_bucket_names(s3_client):\n",
    "    response = s3_client.list_buckets()\n",
    "    for b in response[\"Buckets\"]:\n",
    "        print(b[\"Name\"])\n",
    "\n",
    "LOCAL_FILE = \"Sample.txt\"\n",
    "REMOTE_FILE_PATH = \"daniel/Sample.txt\"\n",
    "\n",
    "print_bucket_names(s3_client)\n",
    "\n",
    "resp = s3_client.upload_file(LOCAL_FILE, \n",
    "                             'kkm2-unique-test-bucket-2025-06-26-py-1',\n",
    "                             REMOTE_FILE_PATH)\n",
    "print(resp)\n",
    "\n",
    "\n",
    "## Reading file\n",
    "resp = s3_client.download_file('kkm2-unique-test-bucket-2025-06-26-py-1',\n",
    "                               REMOTE_FILE_PATH,\n",
    "                               \"S1_Kamal.csv\")\n",
    "print(resp)\n",
    "input(\"\")\n",
    "\n",
    "\n",
    "## Delete file\n",
    "resp = s3_client.delete_object(Bucket='kkm2-unique-test-bucket-2025-06-26-py-1',\n",
    "                         Key=REMOTE_FILE_PATH)\n",
    "print(resp)"
   ]
  },
  {
   "cell_type": "code",
   "execution_count": 9,
   "id": "746a8a5c-14af-41d4-a90e-583f5b702571",
   "metadata": {},
   "outputs": [
    {
     "name": "stdout",
     "output_type": "stream",
     "text": [
      "kkm-unique-s3-bucket-name-12345\n",
      "kkm-unique-test-bucket-2025-06-26-py\n",
      "kkm2-unique-test-bucket-2025-06-26-py\n",
      "kkm2-unique-test-bucket-2025-06-26-py-1\n",
      "kkmjuly01\n",
      "kkms3bucket\n"
     ]
    }
   ],
   "source": [
    "import boto3\n",
    "s3_client = boto3.client('s3') # Service name\n",
    "def print_bucket_names(s3_client):\n",
    "    response = s3_client.list_buckets()\n",
    "    for b in response[\"Buckets\"]:\n",
    "        print(b[\"Name\"])\n",
    "\n",
    "print_bucket_names(s3_client)"
   ]
  },
  {
   "cell_type": "code",
   "execution_count": 10,
   "id": "33ceeaad-0177-4076-a0c3-01fd7d070b90",
   "metadata": {},
   "outputs": [
    {
     "name": "stdout",
     "output_type": "stream",
     "text": [
      "Response:  None\n"
     ]
    }
   ],
   "source": [
    "# Download file\n",
    "REMOTE_FILE_PATH = \"daniel/flights.csv\"\n",
    "resp = s3_client.download_file('kkm2-unique-test-bucket-2025-06-26-py-1',\n",
    "                               REMOTE_FILE_PATH,\n",
    "                               \"flights.csv\")\n",
    "print(\"Response: \",resp) "
   ]
  },
  {
   "cell_type": "code",
   "execution_count": 12,
   "id": "67f13754-a729-410d-92e3-ec525f9461c5",
   "metadata": {},
   "outputs": [
    {
     "name": "stdout",
     "output_type": "stream",
     "text": [
      "   year month  passengers\n",
      "0  1949   Jan         112\n",
      "1  1949   Feb         118\n",
      "2  1949   Mar         132\n",
      "3  1949   Apr         129\n",
      "4  1949   May         121\n"
     ]
    }
   ],
   "source": [
    "import pandas as pd\n",
    "df = pd.read_csv(\"flights.csv\")\n",
    "print(df.head())"
   ]
  },
  {
   "cell_type": "code",
   "execution_count": 15,
   "id": "8e08cf0f-e266-471f-b7a2-343de32b306f",
   "metadata": {},
   "outputs": [
    {
     "name": "stdout",
     "output_type": "stream",
     "text": [
      "Successfully connected to Amazon RDS (PostgreSQL)!\n"
     ]
    }
   ],
   "source": [
    "import psycopg2\n",
    "from psycopg2 import Error\n",
    "\n",
    "#psql -h database-1.c9amumuwgcoq.ap-south-1.rds.amazonaws.com -U postgres -d postgres \n",
    "\n",
    "# --- RDS Connection Details (REPLACE WITH YOURS) ---\n",
    "DB_HOST = \"database-2.csh8u844oq3t.us-east-1.rds.amazonaws.com\" # e.g., my-python-db-instance.xxxx.ap-south-1.rds.amazonaws.com\n",
    "#arn:aws:rds:us-east-1:310879042055:db:database-2\n",
    "DB_PORT = 5432 # Default for PostgreSQL\n",
    "DB_NAME = \"kamal\" # The initial database name you set (or 'postgres' if you didn't)\n",
    "DB_USER = \"postgres\" # Your master username\n",
    "DB_PASSWORD = \"postgres\" # Your master password\n",
    "\n",
    "def connect_to_rds_postgres(df):\n",
    "    conn = None\n",
    "    try:\n",
    "        conn = psycopg2.connect(\n",
    "            host=DB_HOST,\n",
    "            port=DB_PORT,\n",
    "            database=DB_NAME,\n",
    "            user=DB_USER,\n",
    "            password=DB_PASSWORD\n",
    "        )\n",
    "        print(\"Successfully connected to Amazon RDS (PostgreSQL)!\")\n",
    "\n",
    "        # Example: Create a table\n",
    "        cursor = conn.cursor()\n",
    "\n",
    "        TARGET_TABLE_NAME = \"FlightsDB\"\n",
    "        create_table_sql = f\"\"\"\n",
    "        CREATE TABLE IF NOT EXISTS {TARGET_TABLE_NAME} (\n",
    "            year INT,\n",
    "            month VARCHAR(255),\n",
    "            passnum INT\n",
    "        );\"\"\"\n",
    "        \n",
    "        # Create table \n",
    "        cursor.execute(create_table_sql)\n",
    "        conn.commit()\n",
    "\n",
    "        # Sending data from DF to sql\n",
    "        \n",
    "\n",
    "        \n",
    "    except:\n",
    "        print(\"#### There is error\")\n",
    "\n",
    "df = pd.read_csv(\"flights.csv\")\n",
    "connect_to_rds_postgres(df)"
   ]
  },
  {
   "cell_type": "code",
   "execution_count": null,
   "id": "723b4428-2f54-43e7-b682-f2d9d48d4b2f",
   "metadata": {},
   "outputs": [],
   "source": []
  }
 ],
 "metadata": {
  "kernelspec": {
   "display_name": "Python (DeepCode)",
   "language": "python",
   "name": "my_env"
  },
  "language_info": {
   "codemirror_mode": {
    "name": "ipython",
    "version": 3
   },
   "file_extension": ".py",
   "mimetype": "text/x-python",
   "name": "python",
   "nbconvert_exporter": "python",
   "pygments_lexer": "ipython3",
   "version": "3.13.5"
  }
 },
 "nbformat": 4,
 "nbformat_minor": 5
}
