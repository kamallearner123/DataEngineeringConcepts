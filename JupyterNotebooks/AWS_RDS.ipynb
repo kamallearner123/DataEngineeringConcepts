{
 "cells": [
  {
   "cell_type": "code",
   "execution_count": 14,
   "id": "2696aba8-cdd9-43da-9b8e-436a254ad9c8",
   "metadata": {},
   "outputs": [
    {
     "name": "stdout",
     "output_type": "stream",
     "text": [
      "Successfully connected to Amazon RDS (PostgreSQL)!\n",
      "Table 'users' checked/created successfully.\n",
      "Data inserted/updated successfully.\n",
      "\n",
      "--- Current Users ---\n",
      "ID: 1, Name: Alice Smith, Email: alice@example.com\n",
      "ID: 2, Name: Bob Johnson, Email: bob@example.com\n",
      "RDS (PostgreSQL) connection closed.\n"
     ]
    }
   ],
   "source": [
    "import psycopg2\n",
    "from psycopg2 import Error\n",
    "\n",
    "#psql -h database-1.c9amumuwgcoq.ap-south-1.rds.amazonaws.com -U postgres -d postgres \n",
    "\n",
    "# --- RDS Connection Details (REPLACE WITH YOURS) ---\n",
    "DB_HOST = \"database-2.csh8u844oq3t.us-east-1.rds.amazonaws.com\" # e.g., my-python-db-instance.xxxx.ap-south-1.rds.amazonaws.com\n",
    "DB_PORT = 5432 # Default for PostgreSQL\n",
    "DB_NAME = \"kamal\" # The initial database name you set (or 'postgres' if you didn't)\n",
    "DB_USER = \"postgres\" # Your master username\n",
    "DB_PASSWORD = \"postgres\" # Your master password\n",
    "\n",
    "def connect_to_rds_postgres():\n",
    "    conn = None\n",
    "    try:\n",
    "        conn = psycopg2.connect(\n",
    "            host=DB_HOST,\n",
    "            port=DB_PORT,\n",
    "            database=DB_NAME,\n",
    "            user=DB_USER,\n",
    "            password=DB_PASSWORD\n",
    "        )\n",
    "        print(\"Successfully connected to Amazon RDS (PostgreSQL)!\")\n",
    "\n",
    "        # Example: Create a table\n",
    "        cursor = conn.cursor()\n",
    "        cursor.execute(\"\"\"\n",
    "            CREATE TABLE IF NOT EXISTS users (\n",
    "                id SERIAL PRIMARY KEY,\n",
    "                name VARCHAR(100) NOT NULL,\n",
    "                email VARCHAR(100) UNIQUE\n",
    "            )\n",
    "        \"\"\")\n",
    "        conn.commit()\n",
    "        print(\"Table 'users' checked/created successfully.\")\n",
    "\n",
    "        # Example: Insert data\n",
    "        cursor.execute(\"INSERT INTO users (name, email) VALUES (%s, %s) ON CONFLICT (email) DO NOTHING\",\n",
    "                       ('Alice Smith', 'alice@example.com'))\n",
    "        cursor.execute(\"INSERT INTO users (name, email) VALUES (%s, %s) ON CONFLICT (email) DO NOTHING\",\n",
    "                       ('Bob Johnson', 'bob@example.com'))\n",
    "        conn.commit()\n",
    "        print(\"Data inserted/updated successfully.\")\n",
    "\n",
    "        # Example: Query data\n",
    "        cursor.execute(\"SELECT id, name, email FROM users ORDER BY id\")\n",
    "        print(\"\\n--- Current Users ---\")\n",
    "        for row in cursor.fetchall():\n",
    "            print(f\"ID: {row[0]}, Name: {row[1]}, Email: {row[2]}\")\n",
    "\n",
    "    except Error as e:\n",
    "        print(f\"Error connecting to PostgreSQL RDS: {e}\")\n",
    "        if conn:\n",
    "            conn.rollback() # Rollback in case of error\n",
    "    finally:\n",
    "        if conn:\n",
    "            conn.close()\n",
    "            print(\"RDS (PostgreSQL) connection closed.\")\n",
    "\n",
    "if __name__ == \"__main__\":\n",
    "    connect_to_rds_postgres()"
   ]
  },
  {
   "cell_type": "code",
   "execution_count": 6,
   "id": "83bee574-e6d4-46cc-b8a4-3176e2cba874",
   "metadata": {},
   "outputs": [],
   "source": [
    "import boto3\n",
    "from psycopg2 import Error\n",
    "\n",
    "rds_client = boto3.client('rds')"
   ]
  },
  {
   "cell_type": "code",
   "execution_count": 7,
   "id": "328a3050-0940-4fc5-99d4-de3acb3e0d7e",
   "metadata": {},
   "outputs": [],
   "source": [
    "RDS_ENDPOINT = \"your-rds-endpoint.REGION.rds.amazonaws.com\"\n",
    "RDS_PORT = 5432  # 5432 for PostgreSQL, 3306 for MySQL\n",
    "RDS_DB_NAME = \"mydb\"\n",
    "RDS_IAM_DB_USER = \"postgres\" # The database user name created with AWSAuthenticationPlugin/rds_iam\n",
    "AWS_REGION = \"ap-south-1\" # Your RDS instance's region"
   ]
  },
  {
   "cell_type": "code",
   "execution_count": null,
   "id": "4e9b1a18-c827-4416-a06a-4483026c3197",
   "metadata": {},
   "outputs": [],
   "source": [
    "# Endpoit: database-1.csh8u844oq3t.us-east-1.rds.amazonaws.com\n"
   ]
  },
  {
   "cell_type": "code",
   "execution_count": 8,
   "id": "b3ca954b-8a06-477f-9638-1c5b25ead902",
   "metadata": {},
   "outputs": [
    {
     "name": "stdout",
     "output_type": "stream",
     "text": [
      "psql: error: connection to server at \"database-1.csh8u844oq3t.us-east-1.rds.amazonaws.com\" (172.31.16.147), port 5432 failed: Operation timed out\n",
      "\tIs the server running on that host and accepting TCP/IP connections?\n"
     ]
    }
   ],
   "source": [
    "!psql -h database-1.csh8u844oq3t.us-east-1.rds.amazonaws.com -U postgress -d postgres"
   ]
  },
  {
   "cell_type": "code",
   "execution_count": 11,
   "id": "2d969c41-24cd-4710-8362-731bcf1b25db",
   "metadata": {},
   "outputs": [
    {
     "name": "stdout",
     "output_type": "stream",
     "text": [
      "Successfully connected to Amazon RDS (PostgreSQL)!\n"
     ]
    }
   ],
   "source": [
    "import psycopg2\n",
    "\n",
    "# --- RDS Connection Details (REPLACE WITH YOURS) ---\n",
    "DB_HOST = \"database-2.csh8u844oq3t.us-east-1.rds.amazonaws.com\" # e.g., my-python-db-instance.xxxx.ap-south-1.rds.amazonaws.com\n",
    "DB_PORT = 5432 # Default for PostgreSQL\n",
    "DB_NAME = \"mydb\" # The initial database name you set (or 'postgres' if you didn't)\n",
    "DB_USER = \"postgres\" # Your master username\n",
    "DB_PASSWORD = \"postgres\" # Your master password\n",
    "\n",
    "def connect_to_rds_postgres():\n",
    "    conn = None\n",
    "    try:\n",
    "        conn = psycopg2.connect(\n",
    "            host=DB_HOST,\n",
    "            port=DB_PORT,\n",
    "            database=DB_NAME,\n",
    "            user=DB_USER,\n",
    "            password=DB_PASSWORD\n",
    "        )\n",
    "        print(\"Successfully connected to Amazon RDS (PostgreSQL)!\")\n",
    "    except:\n",
    "        print(\"Issue!!!!!\")\n",
    "connect_to_rds_postgres()"
   ]
  },
  {
   "cell_type": "code",
   "execution_count": null,
   "id": "1f7df16e-f25c-4862-9b9d-ba1f6162dec3",
   "metadata": {},
   "outputs": [],
   "source": []
  }
 ],
 "metadata": {
  "kernelspec": {
   "display_name": "Python 3 (ipykernel)",
   "language": "python",
   "name": "python3"
  },
  "language_info": {
   "codemirror_mode": {
    "name": "ipython",
    "version": 3
   },
   "file_extension": ".py",
   "mimetype": "text/x-python",
   "name": "python",
   "nbconvert_exporter": "python",
   "pygments_lexer": "ipython3",
   "version": "3.13.5"
  }
 },
 "nbformat": 4,
 "nbformat_minor": 5
}
