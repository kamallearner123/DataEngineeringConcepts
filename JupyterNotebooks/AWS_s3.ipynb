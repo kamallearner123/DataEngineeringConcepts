{
 "cells": [
  {
   "cell_type": "code",
   "execution_count": 27,
   "id": "c38e76c8-b77c-4e85-a5e8-c7b5a5f3cf85",
   "metadata": {},
   "outputs": [
    {
     "name": "stdout",
     "output_type": "stream",
     "text": [
      "kkm-unique-s3-bucket-name-12345\n",
      "kkm-unique-test-bucket-2025-06-26-py\n",
      "kkm2-unique-test-bucket-2025-06-26-py\n",
      "kkm2-unique-test-bucket-2025-06-26-py-1\n",
      "kkms3bucket\n",
      "{'ResponseMetadata': {'RequestId': '4J78RX4KEN3C4TBW', 'HostId': '2EH8p85WDzD7LnY/C/yVEh2f3rnHEacUp0u+jVx4Flx0bK5dWm/V648XVoD68cEDHu+enygYiNg=', 'HTTPStatusCode': 204, 'HTTPHeaders': {'x-amz-id-2': '2EH8p85WDzD7LnY/C/yVEh2f3rnHEacUp0u+jVx4Flx0bK5dWm/V648XVoD68cEDHu+enygYiNg=', 'x-amz-request-id': '4J78RX4KEN3C4TBW', 'date': 'Thu, 26 Jun 2025 15:37:40 GMT', 'server': 'AmazonS3'}, 'RetryAttempts': 1}}\n"
     ]
    }
   ],
   "source": [
    "import boto3\n",
    "s3_client = boto3.client('s3') # Service name\n",
    "def print_bucket_names(s3_client):\n",
    "    response = s3_client.list_buckets()\n",
    "    for b in response[\"Buckets\"]:\n",
    "        print(b[\"Name\"])\n",
    "\n",
    "LOCAL_FILE = \"Sample.txt\"\n",
    "REMOTE_FILE_PATH = \"daniel/Sample.txt\"\n",
    "\n",
    "print_bucket_names(s3_client)\n",
    "\n",
    "# resp = s3_client.upload_file(LOCAL_FILE, \n",
    "#                              'kkm2-unique-test-bucket-2025-06-26-py-1',\n",
    "#                              REMOTE_FILE_PATH)\n",
    "# print(resp)\n",
    "\n",
    "\n",
    "### Reading file\n",
    "# resp = s3_client.download_file('kkm2-unique-test-bucket-2025-06-26-py-1',\n",
    "#                                \"S1.csv\",\n",
    "#                                \"S1_Kamal.csv\")\n",
    "# print(resp)\n",
    "\n",
    "\n",
    "## Delete file\n",
    "resp = s3_client.delete_object(Bucket='kkm2-unique-test-bucket-2025-06-26-py-1',\n",
    "                         Key=\"S1.csv\")\n",
    "print(resp)"
   ]
  },
  {
   "cell_type": "code",
   "execution_count": null,
   "id": "00734782-d12f-43b0-972b-17b4cd6c70dc",
   "metadata": {},
   "outputs": [],
   "source": []
  },
  {
   "cell_type": "code",
   "execution_count": null,
   "id": "3dc112f0-0f17-435d-87da-eefb052c7bfe",
   "metadata": {},
   "outputs": [],
   "source": []
  },
  {
   "cell_type": "code",
   "execution_count": null,
   "id": "84a5285f-6b07-4c79-bb87-7bdced5f3d76",
   "metadata": {},
   "outputs": [],
   "source": []
  },
  {
   "cell_type": "code",
   "execution_count": null,
   "id": "132b35e5-64d5-4dfd-a33e-ba973cdbb4fe",
   "metadata": {},
   "outputs": [],
   "source": []
  },
  {
   "cell_type": "code",
   "execution_count": null,
   "id": "037a462b-63b5-4bd0-ae8e-7ad41711d33e",
   "metadata": {},
   "outputs": [],
   "source": []
  },
  {
   "cell_type": "code",
   "execution_count": null,
   "id": "0cf6b20c-d630-4ec4-9290-8d37bde7a520",
   "metadata": {},
   "outputs": [],
   "source": []
  },
  {
   "cell_type": "code",
   "execution_count": null,
   "id": "7a26341f-d8bd-48ec-a0da-4a1fd8afe06b",
   "metadata": {},
   "outputs": [],
   "source": []
  },
  {
   "cell_type": "code",
   "execution_count": null,
   "id": "b5a54eaa-928f-42e1-ad8a-a7971b8762d4",
   "metadata": {},
   "outputs": [],
   "source": []
  },
  {
   "cell_type": "code",
   "execution_count": null,
   "id": "eb20f22f-db87-4b63-90f5-904a82400814",
   "metadata": {},
   "outputs": [],
   "source": []
  },
  {
   "cell_type": "code",
   "execution_count": null,
   "id": "2aea6560-9900-41cc-a89e-a86cfccc62ea",
   "metadata": {},
   "outputs": [],
   "source": [
    "import sys\n"
   ]
  },
  {
   "cell_type": "code",
   "execution_count": 23,
   "id": "4371cbf0-6e24-438a-bd48-fb0f2389f0f9",
   "metadata": {},
   "outputs": [
    {
     "name": "stdout",
     "output_type": "stream",
     "text": [
      "None\n"
     ]
    }
   ],
   "source": [
    "# Creating a bucket\n",
    "# NEW_BUCKET_NAME = 'kkm2-unique-test-bucket-2025-06-26-py-1'\n",
    "\n",
    "# resp = s3_client.create_bucket(Bucket=NEW_BUCKET_NAME,\n",
    "#                         CreateBucketConfiguration={\n",
    "#                 'LocationConstraint': AWS_REGION\n",
    "#             })\n",
    "\n",
    "# print(resp)\n",
    "resp = s3_client.upload_file(\"AWS_RDS.ipynb\", \n",
    "                             'kkm2-unique-test-bucket-2025-06-26-py-1',\n",
    "                             \"pythonscripts/AWS_RDS.ipynb\")\n",
    "print(resp)\n"
   ]
  },
  {
   "cell_type": "code",
   "execution_count": 20,
   "id": "07500d9f-1109-4ae0-8cdb-1a1781139c5f",
   "metadata": {},
   "outputs": [
    {
     "name": "stdout",
     "output_type": "stream",
     "text": [
      "AWS_RDS.ipynb AWS_s3.ipynb\n"
     ]
    }
   ],
   "source": [
    "!ls"
   ]
  },
  {
   "cell_type": "code",
   "execution_count": null,
   "id": "246425e3-795c-409a-9b95-06dfc206e2fe",
   "metadata": {},
   "outputs": [],
   "source": []
  },
  {
   "cell_type": "code",
   "execution_count": 16,
   "id": "122a9805-5d7b-4bef-8595-8db58006f363",
   "metadata": {},
   "outputs": [
    {
     "ename": "BucketAlreadyOwnedByYou",
     "evalue": "An error occurred (BucketAlreadyOwnedByYou) when calling the CreateBucket operation: Your previous request to create the named bucket succeeded and you already own it.",
     "output_type": "error",
     "traceback": [
      "\u001b[31m---------------------------------------------------------------------------\u001b[39m",
      "\u001b[31mBucketAlreadyOwnedByYou\u001b[39m                   Traceback (most recent call last)",
      "\u001b[36mCell\u001b[39m\u001b[36m \u001b[39m\u001b[32mIn[16]\u001b[39m\u001b[32m, line 3\u001b[39m\n\u001b[32m      1\u001b[39m NEW_BUCKET_NAME = \u001b[33m'\u001b[39m\u001b[33mkkm2-unique-test-bucket-2025-06-26-py\u001b[39m\u001b[33m'\u001b[39m\n\u001b[32m      2\u001b[39m AWS_REGION = \u001b[33m'\u001b[39m\u001b[33map-south-1\u001b[39m\u001b[33m'\u001b[39m\n\u001b[32m----> \u001b[39m\u001b[32m3\u001b[39m \u001b[43ms3_client\u001b[49m\u001b[43m.\u001b[49m\u001b[43mcreate_bucket\u001b[49m\u001b[43m(\u001b[49m\n\u001b[32m      4\u001b[39m \u001b[43m            \u001b[49m\u001b[43mBucket\u001b[49m\u001b[43m=\u001b[49m\u001b[43mNEW_BUCKET_NAME\u001b[49m\u001b[43m,\u001b[49m\n\u001b[32m      5\u001b[39m \u001b[43m            \u001b[49m\u001b[43mCreateBucketConfiguration\u001b[49m\u001b[43m=\u001b[49m\u001b[43m{\u001b[49m\n\u001b[32m      6\u001b[39m \u001b[43m                \u001b[49m\u001b[33;43m'\u001b[39;49m\u001b[33;43mLocationConstraint\u001b[39;49m\u001b[33;43m'\u001b[39;49m\u001b[43m:\u001b[49m\u001b[43m \u001b[49m\u001b[43mAWS_REGION\u001b[49m\n\u001b[32m      7\u001b[39m \u001b[43m            \u001b[49m\u001b[43m}\u001b[49m\n\u001b[32m      8\u001b[39m \u001b[43m        \u001b[49m\u001b[43m)\u001b[49m\n\u001b[32m      9\u001b[39m print_bucket_names(s3_client)\n",
      "\u001b[36mFile \u001b[39m\u001b[32m~/Documents/virtualEnvs/DeepCode/lib/python3.13/site-packages/botocore/client.py:595\u001b[39m, in \u001b[36mClientCreator._create_api_method.<locals>._api_call\u001b[39m\u001b[34m(self, *args, **kwargs)\u001b[39m\n\u001b[32m    591\u001b[39m     \u001b[38;5;28;01mraise\u001b[39;00m \u001b[38;5;167;01mTypeError\u001b[39;00m(\n\u001b[32m    592\u001b[39m         \u001b[33mf\u001b[39m\u001b[33m\"\u001b[39m\u001b[38;5;132;01m{\u001b[39;00mpy_operation_name\u001b[38;5;132;01m}\u001b[39;00m\u001b[33m() only accepts keyword arguments.\u001b[39m\u001b[33m\"\u001b[39m\n\u001b[32m    593\u001b[39m     )\n\u001b[32m    594\u001b[39m \u001b[38;5;66;03m# The \"self\" in this scope is referring to the BaseClient.\u001b[39;00m\n\u001b[32m--> \u001b[39m\u001b[32m595\u001b[39m \u001b[38;5;28;01mreturn\u001b[39;00m \u001b[38;5;28;43mself\u001b[39;49m\u001b[43m.\u001b[49m\u001b[43m_make_api_call\u001b[49m\u001b[43m(\u001b[49m\u001b[43moperation_name\u001b[49m\u001b[43m,\u001b[49m\u001b[43m \u001b[49m\u001b[43mkwargs\u001b[49m\u001b[43m)\u001b[49m\n",
      "\u001b[36mFile \u001b[39m\u001b[32m~/Documents/virtualEnvs/DeepCode/lib/python3.13/site-packages/botocore/context.py:123\u001b[39m, in \u001b[36mwith_current_context.<locals>.decorator.<locals>.wrapper\u001b[39m\u001b[34m(*args, **kwargs)\u001b[39m\n\u001b[32m    121\u001b[39m \u001b[38;5;28;01mif\u001b[39;00m hook:\n\u001b[32m    122\u001b[39m     hook()\n\u001b[32m--> \u001b[39m\u001b[32m123\u001b[39m \u001b[38;5;28;01mreturn\u001b[39;00m \u001b[43mfunc\u001b[49m\u001b[43m(\u001b[49m\u001b[43m*\u001b[49m\u001b[43margs\u001b[49m\u001b[43m,\u001b[49m\u001b[43m \u001b[49m\u001b[43m*\u001b[49m\u001b[43m*\u001b[49m\u001b[43mkwargs\u001b[49m\u001b[43m)\u001b[49m\n",
      "\u001b[36mFile \u001b[39m\u001b[32m~/Documents/virtualEnvs/DeepCode/lib/python3.13/site-packages/botocore/client.py:1058\u001b[39m, in \u001b[36mBaseClient._make_api_call\u001b[39m\u001b[34m(self, operation_name, api_params)\u001b[39m\n\u001b[32m   1054\u001b[39m     error_code = error_info.get(\u001b[33m\"\u001b[39m\u001b[33mQueryErrorCode\u001b[39m\u001b[33m\"\u001b[39m) \u001b[38;5;129;01mor\u001b[39;00m error_info.get(\n\u001b[32m   1055\u001b[39m         \u001b[33m\"\u001b[39m\u001b[33mCode\u001b[39m\u001b[33m\"\u001b[39m\n\u001b[32m   1056\u001b[39m     )\n\u001b[32m   1057\u001b[39m     error_class = \u001b[38;5;28mself\u001b[39m.exceptions.from_code(error_code)\n\u001b[32m-> \u001b[39m\u001b[32m1058\u001b[39m     \u001b[38;5;28;01mraise\u001b[39;00m error_class(parsed_response, operation_name)\n\u001b[32m   1059\u001b[39m \u001b[38;5;28;01melse\u001b[39;00m:\n\u001b[32m   1060\u001b[39m     \u001b[38;5;28;01mreturn\u001b[39;00m parsed_response\n",
      "\u001b[31mBucketAlreadyOwnedByYou\u001b[39m: An error occurred (BucketAlreadyOwnedByYou) when calling the CreateBucket operation: Your previous request to create the named bucket succeeded and you already own it."
     ]
    }
   ],
   "source": [
    "NEW_BUCKET_NAME = 'kkm2-unique-test-bucket-2025-06-26-py'\n",
    "AWS_REGION = 'ap-south-1'\n",
    "s3_client.create_bucket(\n",
    "            Bucket=NEW_BUCKET_NAME,\n",
    "            CreateBucketConfiguration={\n",
    "                'LocationConstraint': AWS_REGION\n",
    "            }\n",
    "        )\n",
    "print_bucket_names(s3_client)"
   ]
  },
  {
   "cell_type": "code",
   "execution_count": null,
   "id": "e922adbf-8008-4ea4-91ad-c30c87a28f09",
   "metadata": {},
   "outputs": [],
   "source": []
  },
  {
   "cell_type": "code",
   "execution_count": null,
   "id": "c52c4d3c-25a8-4015-8a49-76824f207f7a",
   "metadata": {},
   "outputs": [],
   "source": []
  }
 ],
 "metadata": {
  "kernelspec": {
   "display_name": "Python 3 (ipykernel)",
   "language": "python",
   "name": "python3"
  },
  "language_info": {
   "codemirror_mode": {
    "name": "ipython",
    "version": 3
   },
   "file_extension": ".py",
   "mimetype": "text/x-python",
   "name": "python",
   "nbconvert_exporter": "python",
   "pygments_lexer": "ipython3",
   "version": "3.13.5"
  }
 },
 "nbformat": 4,
 "nbformat_minor": 5
}
