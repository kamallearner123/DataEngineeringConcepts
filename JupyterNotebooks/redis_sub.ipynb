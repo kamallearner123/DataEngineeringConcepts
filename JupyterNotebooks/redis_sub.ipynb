{
 "cells": [
  {
   "cell_type": "code",
   "execution_count": null,
   "id": "ee5b3a5f",
   "metadata": {},
   "outputs": [
    {
     "name": "stdout",
     "output_type": "stream",
     "text": [
      "Starting subscriber for channel: test_channel\n",
      "Subscribed to channel: test_channel\n",
      "Received message: Hello, Redis! 0 from channel: test_channel\n",
      "Received message: Hello, Redis! 1 from channel: test_channel\n",
      "Received message: Hello, Redis! 2 from channel: test_channel\n",
      "Received message: Hello, Redis! 3 from channel: test_channel\n",
      "Received message: Hello, Redis! 4 from channel: test_channel\n",
      "Received message: Hello, Redis! 0 from channel: test_channel\n",
      "Received message: Hello, Redis! 1 from channel: test_channel\n",
      "Received message: Hello, Redis! 2 from channel: test_channel\n",
      "Received message: Hello, Redis! 3 from channel: test_channel\n",
      "Received message: Hello, Redis! 4 from channel: test_channel\n",
      "Received message: Hello, Redis! 0 from channel: test_channel\n"
     ]
    }
   ],
   "source": [
    "import redis\n",
    "import time\n",
    "\n",
    "rd = redis.Redis(host='localhost', port=6379, db=0)\n",
    "\n",
    "def subscribe_message(channel):\n",
    "    \"\"\"Subscribe to a Redis channel and listen for messages.\"\"\"\n",
    "    pubsub = rd.pubsub()\n",
    "    pubsub.subscribe(channel)\n",
    "    print(f\"Subscribed to channel: {channel}\")\n",
    "\n",
    "    while True:\n",
    "        time.sleep(1)\n",
    "        for message in pubsub.listen():\n",
    "            if message['type'] == 'message':\n",
    "                print(f\"Received message: {message['data'].decode('utf-8')} from channel: {channel}\")\n",
    "                break  # Exit after receiving the first message\n",
    "\n",
    "\n",
    "def main():\n",
    "    channel = 'test_channel'\n",
    "    print(f\"Starting subscriber for channel: {channel}\")\n",
    "    subscribe_message(channel)\n",
    "\n",
    "if __name__ == \"__main__\":\n",
    "    main()"
   ]
  },
  {
   "cell_type": "code",
   "execution_count": null,
   "id": "2cbb9234",
   "metadata": {},
   "outputs": [],
   "source": []
  }
 ],
 "metadata": {
  "kernelspec": {
   "display_name": "DeepCode",
   "language": "python",
   "name": "python3"
  },
  "language_info": {
   "codemirror_mode": {
    "name": "ipython",
    "version": 3
   },
   "file_extension": ".py",
   "mimetype": "text/x-python",
   "name": "python",
   "nbconvert_exporter": "python",
   "pygments_lexer": "ipython3",
   "version": "3.13.2"
  }
 },
 "nbformat": 4,
 "nbformat_minor": 5
}
